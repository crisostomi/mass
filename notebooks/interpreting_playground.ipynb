{
 "cells": [
  {
   "cell_type": "markdown",
   "metadata": {},
   "source": [
    "## Imports"
   ]
  },
  {
   "cell_type": "code",
   "execution_count": 14,
   "metadata": {},
   "outputs": [],
   "source": [
    "import hydra\n",
    "from omegaconf import DictConfig, OmegaConf\n",
    "import logging\n",
    "import wandb\n",
    "import os\n",
    "\n",
    "# Import boilerplate dependencies from your training framework\n",
    "from nn_core.common.utils import enforce_tags, seed_index_everything\n",
    "from nn_core.callbacks import NNTemplateCore\n",
    "from nn_core.common import PROJECT_ROOT\n",
    "from nn_core.model_logging import NNLogger\n",
    "\n",
    "# Import the functions from your modified files.\n",
    "from mass.clip_interpret.compute_complete_text_set import run_completeness\n",
    "from mass.clip_interpret.compute_text_set_projection import run_text_features\n",
    "\n",
    "import time\n",
    "import numpy as np\n",
    "import torch\n",
    "import os\n",
    "import einops\n",
    "import tqdm\n",
    "import open_clip\n",
    "import wandb\n",
    "import logging\n",
    "from pathlib import Path\n",
    "\n",
    "from mass.utils.io_utils import load_model_from_disk\n",
    "from mass.utils.utils import compute_task_dict\n",
    "from mass.task_vectors.task_singular_vectors import get_svd_dict\n",
    "\n",
    "pylogger = logging.getLogger(__name__)"
   ]
  },
  {
   "cell_type": "code",
   "execution_count": 15,
   "metadata": {},
   "outputs": [
    {
     "name": "stdout",
     "output_type": "stream",
     "text": [
      "The autoreload extension is already loaded. To reload it, use:\n",
      "  %reload_ext autoreload\n"
     ]
    }
   ],
   "source": [
    "%load_ext autoreload\n",
    "%autoreload 2"
   ]
  },
  {
   "cell_type": "code",
   "execution_count": 16,
   "metadata": {},
   "outputs": [],
   "source": [
    "import hydra\n",
    "from hydra import initialize, compose\n",
    "from typing import Dict, List\n",
    "\n",
    "hydra.core.global_hydra.GlobalHydra.instance().clear()\n",
    "initialize(version_base=None, config_path=str(\"../conf\"), job_name=\"clip_interpret\")\n",
    "cfg = compose(config_name=\"clip_interpret\")"
   ]
  },
  {
   "cell_type": "code",
   "execution_count": 17,
   "metadata": {},
   "outputs": [],
   "source": [
    "def boilerplate(cfg: DictConfig):\n",
    "    \"\"\"\n",
    "    Full boilerplate initialization mimicking your larger script.\n",
    "    This sets up tags, restores any checkpoints, and initializes the advanced logger.\n",
    "    \"\"\"\n",
    "    cfg.core.tags.append(f\"clip_interpret\")\n",
    "\n",
    "    # Initialize template core for resuming experiments\n",
    "    template_core = NNTemplateCore(restore_cfg=cfg.train.get(\"restore\", None))\n",
    "    # Initialize the NNLogger with advanced logging configuration\n",
    "    logger = NNLogger(\n",
    "        logging_cfg=cfg.train.logging, cfg=cfg, resume_id=template_core.resume_id\n",
    "    )\n",
    "    logger.upload_source()\n",
    "    return logger, template_core"
   ]
  },
  {
   "cell_type": "code",
   "execution_count": 18,
   "metadata": {},
   "outputs": [
    {
     "data": {
      "text/html": [
       "<pre style=\"white-space:pre;overflow-x:auto;line-height:normal;font-family:Menlo,'DejaVu Sans Mono',consolas,'Courier New',monospace\"><span style=\"color: #7fbfbf; text-decoration-color: #7fbfbf\">2025-03-17 12:02:34 </span><span style=\"color: #000080; text-decoration-color: #000080\">INFO    </span> Restoring with mode: <span style=\"font-weight: bold\">&lt;</span><span style=\"color: #800080; text-decoration-color: #800080; font-weight: bold; font-style: italic\">None</span><span style=\"font-weight: bold\">&gt;</span>                                         <a href=\"file:///media/donato/Extra-storage/Code/model-merging/mass/.venv/lib/python3.11/site-packages/nn_core/resume.py\" target=\"_blank\"><span style=\"color: #7f7f7f; text-decoration-color: #7f7f7f\">nn_core.resume</span></a><span style=\"color: #7f7f7f; text-decoration-color: #7f7f7f\">:</span><a href=\"file:///media/donato/Extra-storage/Code/model-merging/mass/.venv/lib/python3.11/site-packages/nn_core/resume.py#122\" target=\"_blank\"><span style=\"color: #7f7f7f; text-decoration-color: #7f7f7f\">122</span></a>\n",
       "</pre>\n"
      ],
      "text/plain": [
       "\u001b[2;36m2025-03-17 12:02:34\u001b[0m\u001b[2;36m \u001b[0m\u001b[34mINFO    \u001b[0m Restoring with mode: \u001b[1m<\u001b[0m\u001b[1;3;35mNone\u001b[0m\u001b[1m>\u001b[0m                                         \u001b]8;id=848647;file:///media/donato/Extra-storage/Code/model-merging/mass/.venv/lib/python3.11/site-packages/nn_core/resume.py\u001b\\\u001b[2mnn_core.resume\u001b[0m\u001b]8;;\u001b\\\u001b[2m:\u001b[0m\u001b]8;id=770386;file:///media/donato/Extra-storage/Code/model-merging/mass/.venv/lib/python3.11/site-packages/nn_core/resume.py#122\u001b\\\u001b[2m122\u001b[0m\u001b]8;;\u001b\\\n"
      ]
     },
     "metadata": {},
     "output_type": "display_data"
    },
    {
     "data": {
      "text/html": [
       "<pre style=\"white-space:pre;overflow-x:auto;line-height:normal;font-family:Menlo,'DejaVu Sans Mono',consolas,'Courier New',monospace\"><span style=\"color: #7fbfbf; text-decoration-color: #7fbfbf\">                    </span><span style=\"color: #000080; text-decoration-color: #000080\">INFO    </span> Instantiating <span style=\"font-weight: bold\">&lt;</span><span style=\"color: #ff00ff; text-decoration-color: #ff00ff; font-weight: bold\">WandbLogger</span><span style=\"font-weight: bold\">&gt;</span>                                   <a href=\"file:///media/donato/Extra-storage/Code/model-merging/mass/.venv/lib/python3.11/site-packages/nn_core/model_logging.py\" target=\"_blank\"><span style=\"color: #7f7f7f; text-decoration-color: #7f7f7f\">nn_core.model_logging</span></a><span style=\"color: #7f7f7f; text-decoration-color: #7f7f7f\">:</span><a href=\"file:///media/donato/Extra-storage/Code/model-merging/mass/.venv/lib/python3.11/site-packages/nn_core/model_logging.py#41\" target=\"_blank\"><span style=\"color: #7f7f7f; text-decoration-color: #7f7f7f\">41</span></a>\n",
       "</pre>\n"
      ],
      "text/plain": [
       "\u001b[2;36m                   \u001b[0m\u001b[2;36m \u001b[0m\u001b[34mINFO    \u001b[0m Instantiating \u001b[1m<\u001b[0m\u001b[1;95mWandbLogger\u001b[0m\u001b[1m>\u001b[0m                                   \u001b]8;id=894215;file:///media/donato/Extra-storage/Code/model-merging/mass/.venv/lib/python3.11/site-packages/nn_core/model_logging.py\u001b\\\u001b[2mnn_core.model_logging\u001b[0m\u001b]8;;\u001b\\\u001b[2m:\u001b[0m\u001b]8;id=161055;file:///media/donato/Extra-storage/Code/model-merging/mass/.venv/lib/python3.11/site-packages/nn_core/model_logging.py#41\u001b\\\u001b[2m41\u001b[0m\u001b]8;;\u001b\\\n"
      ]
     },
     "metadata": {},
     "output_type": "display_data"
    },
    {
     "name": "stderr",
     "output_type": "stream",
     "text": [
      "/media/donato/Extra-storage/Code/model-merging/mass/.venv/lib/python3.11/site-packages/lightning/pytorch/loggers/wandb.py:395: UserWarning: There is a wandb run already in progress and newly created instances of `WandbLogger` will reuse this run. If this is not desired, call `wandb.finish()` before instantiating `WandbLogger`.\n",
      "  rank_zero_warn(\n"
     ]
    },
    {
     "data": {
      "text/html": [
       "<pre style=\"white-space:pre;overflow-x:auto;line-height:normal;font-family:Menlo,'DejaVu Sans Mono',consolas,'Courier New',monospace\"><span style=\"color: #7fbfbf; text-decoration-color: #7fbfbf\">                    </span><span style=\"color: #000080; text-decoration-color: #000080\">INFO    </span> Uploading source code to W&amp;B                                  <a href=\"file:///media/donato/Extra-storage/Code/model-merging/mass/.venv/lib/python3.11/site-packages/nn_core/model_logging.py\" target=\"_blank\"><span style=\"color: #7f7f7f; text-decoration-color: #7f7f7f\">nn_core.model_logging</span></a><span style=\"color: #7f7f7f; text-decoration-color: #7f7f7f\">:</span><a href=\"file:///media/donato/Extra-storage/Code/model-merging/mass/.venv/lib/python3.11/site-packages/nn_core/model_logging.py#63\" target=\"_blank\"><span style=\"color: #7f7f7f; text-decoration-color: #7f7f7f\">63</span></a>\n",
       "</pre>\n"
      ],
      "text/plain": [
       "\u001b[2;36m                   \u001b[0m\u001b[2;36m \u001b[0m\u001b[34mINFO    \u001b[0m Uploading source code to W&B                                  \u001b]8;id=880152;file:///media/donato/Extra-storage/Code/model-merging/mass/.venv/lib/python3.11/site-packages/nn_core/model_logging.py\u001b\\\u001b[2mnn_core.model_logging\u001b[0m\u001b]8;;\u001b\\\u001b[2m:\u001b[0m\u001b]8;id=841803;file:///media/donato/Extra-storage/Code/model-merging/mass/.venv/lib/python3.11/site-packages/nn_core/model_logging.py#63\u001b\\\u001b[2m63\u001b[0m\u001b]8;;\u001b\\\n"
      ]
     },
     "metadata": {},
     "output_type": "display_data"
    }
   ],
   "source": [
    "# Initialize boilerplate (advanced logging, tags, etc.)\n",
    "logger, template_core = boilerplate(cfg)"
   ]
  },
  {
   "cell_type": "code",
   "execution_count": 19,
   "metadata": {},
   "outputs": [
    {
     "data": {
      "text/html": [
       "<pre style=\"white-space:pre;overflow-x:auto;line-height:normal;font-family:Menlo,'DejaVu Sans Mono',consolas,'Courier New',monospace\"><span style=\"color: #7fbfbf; text-decoration-color: #7fbfbf\">2025-03-17 12:02:42 </span><span style=\"color: #000080; text-decoration-color: #000080\">INFO    </span> Output file already exists:                                                 <a href=\"file:///tmp/ipykernel_108035/4104344879.py\" target=\"_blank\"><span style=\"color: #7f7f7f; text-decoration-color: #7f7f7f\">__main__</span></a><span style=\"color: #7f7f7f; text-decoration-color: #7f7f7f\">:</span><a href=\"file:///tmp/ipykernel_108035/4104344879.py#5\" target=\"_blank\"><span style=\"color: #7f7f7f; text-decoration-color: #7f7f7f\">5</span></a>\n",
       "<span style=\"color: #7fbfbf; text-decoration-color: #7fbfbf\">                    </span>         <span style=\"color: #800080; text-decoration-color: #800080\">/media/donato/Extra-storage/Code/model-merging/mass/results/interpret/ViT-B</span> <span style=\"color: #7f7f7f; text-decoration-color: #7f7f7f\">          </span>\n",
       "<span style=\"color: #7fbfbf; text-decoration-color: #7fbfbf\">                    </span>         <span style=\"color: #800080; text-decoration-color: #800080\">-16/</span><span style=\"color: #ff00ff; text-decoration-color: #ff00ff\">image_descriptions_general_ViT-B-16.npy.</span> Skipping computation.          <span style=\"color: #7f7f7f; text-decoration-color: #7f7f7f\">          </span>\n",
       "</pre>\n"
      ],
      "text/plain": [
       "\u001b[2;36m2025-03-17 12:02:42\u001b[0m\u001b[2;36m \u001b[0m\u001b[34mINFO    \u001b[0m Output file already exists:                                                 \u001b]8;id=616709;file:///tmp/ipykernel_108035/4104344879.py\u001b\\\u001b[2m__main__\u001b[0m\u001b]8;;\u001b\\\u001b[2m:\u001b[0m\u001b]8;id=151195;file:///tmp/ipykernel_108035/4104344879.py#5\u001b\\\u001b[2m5\u001b[0m\u001b]8;;\u001b\\\n",
       "\u001b[2;36m                    \u001b[0m         \u001b[35m/media/donato/Extra-storage/Code/model-merging/mass/results/interpret/ViT-B\u001b[0m \u001b[2m          \u001b[0m\n",
       "\u001b[2;36m                    \u001b[0m         \u001b[35m-16/\u001b[0m\u001b[95mimage_descriptions_general_ViT-B-16.npy.\u001b[0m Skipping computation.          \u001b[2m          \u001b[0m\n"
      ]
     },
     "metadata": {},
     "output_type": "display_data"
    }
   ],
   "source": [
    "name = cfg.text_descriptions.replace(\".txt\", \"\")\n",
    "output_path = os.path.join(cfg.misc.output_dir, f\"{name}_{cfg.model}.npy\")\n",
    "\n",
    "if os.path.exists(output_path):\n",
    "    pylogger.info(\n",
    "        f\"Output file already exists: {output_path}. Skipping computation.\"\n",
    "    )\n",
    "else:\n",
    "    pylogger.info(\"Running text feature extraction...\")\n",
    "    run_text_features(cfg)"
   ]
  },
  {
   "cell_type": "code",
   "execution_count": 20,
   "metadata": {},
   "outputs": [
    {
     "data": {
      "text/html": [
       "<pre style=\"white-space:pre;overflow-x:auto;line-height:normal;font-family:Menlo,'DejaVu Sans Mono',consolas,'Courier New',monospace\"><span style=\"color: #7fbfbf; text-decoration-color: #7fbfbf\">2025-03-17 12:02:53 </span><span style=\"color: #000080; text-decoration-color: #000080\">INFO    </span> Using compression ratio: <span style=\"color: #008080; text-decoration-color: #008080; font-weight: bold\">0.0500</span>            <a href=\"file:///media/donato/Extra-storage/Code/model-merging/mass/src/mass/task_vectors/task_singular_vectors.py\" target=\"_blank\"><span style=\"color: #7f7f7f; text-decoration-color: #7f7f7f\">mass.task_vectors.task_singular_vectors</span></a><span style=\"color: #7f7f7f; text-decoration-color: #7f7f7f\">:</span><a href=\"file:///media/donato/Extra-storage/Code/model-merging/mass/src/mass/task_vectors/task_singular_vectors.py#292\" target=\"_blank\"><span style=\"color: #7f7f7f; text-decoration-color: #7f7f7f\">292</span></a>\n",
       "</pre>\n"
      ],
      "text/plain": [
       "\u001b[2;36m2025-03-17 12:02:53\u001b[0m\u001b[2;36m \u001b[0m\u001b[34mINFO    \u001b[0m Using compression ratio: \u001b[1;36m0.0500\u001b[0m            \u001b]8;id=216323;file:///media/donato/Extra-storage/Code/model-merging/mass/src/mass/task_vectors/task_singular_vectors.py\u001b\\\u001b[2mmass.task_vectors.task_singular_vectors\u001b[0m\u001b]8;;\u001b\\\u001b[2m:\u001b[0m\u001b]8;id=659968;file:///media/donato/Extra-storage/Code/model-merging/mass/src/mass/task_vectors/task_singular_vectors.py#292\u001b\\\u001b[2m292\u001b[0m\u001b]8;;\u001b\\\n"
      ]
     },
     "metadata": {},
     "output_type": "display_data"
    },
    {
     "data": {
      "text/html": [
       "<pre style=\"white-space:pre;overflow-x:auto;line-height:normal;font-family:Menlo,'DejaVu Sans Mono',consolas,'Courier New',monospace\"><span style=\"color: #7fbfbf; text-decoration-color: #7fbfbf\">                    </span><span style=\"color: #000080; text-decoration-color: #000080\">INFO    </span> Loading precomputed SVD dictionary from:   <a href=\"file:///media/donato/Extra-storage/Code/model-merging/mass/src/mass/task_vectors/task_singular_vectors.py\" target=\"_blank\"><span style=\"color: #7f7f7f; text-decoration-color: #7f7f7f\">mass.task_vectors.task_singular_vectors</span></a><span style=\"color: #7f7f7f; text-decoration-color: #7f7f7f\">:</span><a href=\"file:///media/donato/Extra-storage/Code/model-merging/mass/src/mass/task_vectors/task_singular_vectors.py#299\" target=\"_blank\"><span style=\"color: #7f7f7f; text-decoration-color: #7f7f7f\">299</span></a>\n",
       "<span style=\"color: #7fbfbf; text-decoration-color: #7fbfbf\">                    </span>         <span style=\"color: #800080; text-decoration-color: #800080\">/media/donato/Extra-storage/Code/model-mer</span> <span style=\"color: #7f7f7f; text-decoration-color: #7f7f7f\">                                           </span>\n",
       "<span style=\"color: #7fbfbf; text-decoration-color: #7fbfbf\">                    </span>         <span style=\"color: #800080; text-decoration-color: #800080\">ging/mass/checkpoints/</span><span style=\"color: #ff00ff; text-decoration-color: #ff00ff\">svd_dict_ViT-B-16_co</span> <span style=\"color: #7f7f7f; text-decoration-color: #7f7f7f\">                                           </span>\n",
       "<span style=\"color: #7fbfbf; text-decoration-color: #7fbfbf\">                    </span>         <span style=\"color: #ff00ff; text-decoration-color: #ff00ff\">mpress_20.pt</span>                               <span style=\"color: #7f7f7f; text-decoration-color: #7f7f7f\">                                           </span>\n",
       "</pre>\n"
      ],
      "text/plain": [
       "\u001b[2;36m                   \u001b[0m\u001b[2;36m \u001b[0m\u001b[34mINFO    \u001b[0m Loading precomputed SVD dictionary from:   \u001b]8;id=18383;file:///media/donato/Extra-storage/Code/model-merging/mass/src/mass/task_vectors/task_singular_vectors.py\u001b\\\u001b[2mmass.task_vectors.task_singular_vectors\u001b[0m\u001b]8;;\u001b\\\u001b[2m:\u001b[0m\u001b]8;id=976865;file:///media/donato/Extra-storage/Code/model-merging/mass/src/mass/task_vectors/task_singular_vectors.py#299\u001b\\\u001b[2m299\u001b[0m\u001b]8;;\u001b\\\n",
       "\u001b[2;36m                    \u001b[0m         \u001b[35m/media/donato/Extra-storage/Code/model-mer\u001b[0m \u001b[2m                                           \u001b[0m\n",
       "\u001b[2;36m                    \u001b[0m         \u001b[35mging/mass/checkpoints/\u001b[0m\u001b[95msvd_dict_ViT-B-16_co\u001b[0m \u001b[2m                                           \u001b[0m\n",
       "\u001b[2;36m                    \u001b[0m         \u001b[95mmpress_20.pt\u001b[0m                               \u001b[2m                                           \u001b[0m\n"
      ]
     },
     "metadata": {},
     "output_type": "display_data"
    },
    {
     "data": {
      "text/html": [
       "<pre style=\"white-space:pre;overflow-x:auto;line-height:normal;font-family:Menlo,'DejaVu Sans Mono',consolas,'Courier New',monospace\"><span style=\"color: #7fbfbf; text-decoration-color: #7fbfbf\">2025-03-17 12:02:54 </span><span style=\"color: #000080; text-decoration-color: #000080\">INFO    </span> Loading pretrained ViT-B-<span style=\"color: #008080; text-decoration-color: #008080; font-weight: bold\">16</span> from OpenAI.                                       <a href=\"file:///media/donato/Extra-storage/Code/model-merging/mass/.venv/lib/python3.11/site-packages/open_clip/factory.py\" target=\"_blank\"><span style=\"color: #7f7f7f; text-decoration-color: #7f7f7f\">root</span></a><span style=\"color: #7f7f7f; text-decoration-color: #7f7f7f\">:</span><a href=\"file:///media/donato/Extra-storage/Code/model-merging/mass/.venv/lib/python3.11/site-packages/open_clip/factory.py#82\" target=\"_blank\"><span style=\"color: #7f7f7f; text-decoration-color: #7f7f7f\">82</span></a>\n",
       "</pre>\n"
      ],
      "text/plain": [
       "\u001b[2;36m2025-03-17 12:02:54\u001b[0m\u001b[2;36m \u001b[0m\u001b[34mINFO    \u001b[0m Loading pretrained ViT-B-\u001b[1;36m16\u001b[0m from OpenAI.                                       \u001b]8;id=864248;file:///media/donato/Extra-storage/Code/model-merging/mass/.venv/lib/python3.11/site-packages/open_clip/factory.py\u001b\\\u001b[2mroot\u001b[0m\u001b]8;;\u001b\\\u001b[2m:\u001b[0m\u001b]8;id=471635;file:///media/donato/Extra-storage/Code/model-merging/mass/.venv/lib/python3.11/site-packages/open_clip/factory.py#82\u001b\\\u001b[2m82\u001b[0m\u001b]8;;\u001b\\\n"
      ]
     },
     "metadata": {},
     "output_type": "display_data"
    },
    {
     "data": {
      "text/html": [
       "<pre style=\"white-space:pre;overflow-x:auto;line-height:normal;font-family:Menlo,'DejaVu Sans Mono',consolas,'Courier New',monospace\"><span style=\"color: #7fbfbf; text-decoration-color: #7fbfbf\">2025-03-17 12:02:55 </span><span style=\"color: #000080; text-decoration-color: #000080\">INFO    </span> Loaded text features from                                                  <a href=\"file:///tmp/ipykernel_108035/3989036501.py\" target=\"_blank\"><span style=\"color: #7f7f7f; text-decoration-color: #7f7f7f\">__main__</span></a><span style=\"color: #7f7f7f; text-decoration-color: #7f7f7f\">:</span><a href=\"file:///tmp/ipykernel_108035/3989036501.py#35\" target=\"_blank\"><span style=\"color: #7f7f7f; text-decoration-color: #7f7f7f\">35</span></a>\n",
       "<span style=\"color: #7fbfbf; text-decoration-color: #7fbfbf\">                    </span>         <span style=\"color: #800080; text-decoration-color: #800080\">/media/donato/Extra-storage/Code/model-merging/mass/results/interpret/ViT-</span> <span style=\"color: #7f7f7f; text-decoration-color: #7f7f7f\">           </span>\n",
       "<span style=\"color: #7fbfbf; text-decoration-color: #7fbfbf\">                    </span>         <span style=\"color: #800080; text-decoration-color: #800080\">B-16/</span><span style=\"color: #ff00ff; text-decoration-color: #ff00ff\">image_descriptions_general_ViT-B-16.npy</span>                               <span style=\"color: #7f7f7f; text-decoration-color: #7f7f7f\">           </span>\n",
       "</pre>\n"
      ],
      "text/plain": [
       "\u001b[2;36m2025-03-17 12:02:55\u001b[0m\u001b[2;36m \u001b[0m\u001b[34mINFO    \u001b[0m Loaded text features from                                                  \u001b]8;id=686208;file:///tmp/ipykernel_108035/3989036501.py\u001b\\\u001b[2m__main__\u001b[0m\u001b]8;;\u001b\\\u001b[2m:\u001b[0m\u001b]8;id=941452;file:///tmp/ipykernel_108035/3989036501.py#35\u001b\\\u001b[2m35\u001b[0m\u001b]8;;\u001b\\\n",
       "\u001b[2;36m                    \u001b[0m         \u001b[35m/media/donato/Extra-storage/Code/model-merging/mass/results/interpret/ViT-\u001b[0m \u001b[2m           \u001b[0m\n",
       "\u001b[2;36m                    \u001b[0m         \u001b[35mB-16/\u001b[0m\u001b[95mimage_descriptions_general_ViT-B-16.npy\u001b[0m                               \u001b[2m           \u001b[0m\n"
      ]
     },
     "metadata": {},
     "output_type": "display_data"
    },
    {
     "data": {
      "text/html": [
       "<pre style=\"white-space:pre;overflow-x:auto;line-height:normal;font-family:Menlo,'DejaVu Sans Mono',consolas,'Courier New',monospace\"><span style=\"color: #7fbfbf; text-decoration-color: #7fbfbf\">                    </span><span style=\"color: #000080; text-decoration-color: #000080\">INFO    </span> Loaded text descriptions from                                              <a href=\"file:///tmp/ipykernel_108035/3989036501.py\" target=\"_blank\"><span style=\"color: #7f7f7f; text-decoration-color: #7f7f7f\">__main__</span></a><span style=\"color: #7f7f7f; text-decoration-color: #7f7f7f\">:</span><a href=\"file:///tmp/ipykernel_108035/3989036501.py#41\" target=\"_blank\"><span style=\"color: #7f7f7f; text-decoration-color: #7f7f7f\">41</span></a>\n",
       "<span style=\"color: #7fbfbf; text-decoration-color: #7fbfbf\">                    </span>         <span style=\"color: #800080; text-decoration-color: #800080\">/media/donato/Extra-storage/Code/model-merging/mass/misc/text_descriptions</span> <span style=\"color: #7f7f7f; text-decoration-color: #7f7f7f\">           </span>\n",
       "<span style=\"color: #7fbfbf; text-decoration-color: #7fbfbf\">                    </span>         <span style=\"color: #800080; text-decoration-color: #800080\">/</span><span style=\"color: #ff00ff; text-decoration-color: #ff00ff\">image_descriptions_general.txt</span>                                            <span style=\"color: #7f7f7f; text-decoration-color: #7f7f7f\">           </span>\n",
       "</pre>\n"
      ],
      "text/plain": [
       "\u001b[2;36m                   \u001b[0m\u001b[2;36m \u001b[0m\u001b[34mINFO    \u001b[0m Loaded text descriptions from                                              \u001b]8;id=463677;file:///tmp/ipykernel_108035/3989036501.py\u001b\\\u001b[2m__main__\u001b[0m\u001b]8;;\u001b\\\u001b[2m:\u001b[0m\u001b]8;id=436979;file:///tmp/ipykernel_108035/3989036501.py#41\u001b\\\u001b[2m41\u001b[0m\u001b]8;;\u001b\\\n",
       "\u001b[2;36m                    \u001b[0m         \u001b[35m/media/donato/Extra-storage/Code/model-merging/mass/misc/text_descriptions\u001b[0m \u001b[2m           \u001b[0m\n",
       "\u001b[2;36m                    \u001b[0m         \u001b[35m/\u001b[0m\u001b[95mimage_descriptions_general.txt\u001b[0m                                            \u001b[2m           \u001b[0m\n"
      ]
     },
     "metadata": {},
     "output_type": "display_data"
    }
   ],
   "source": [
    "zeroshot_encoder_statedict = load_model_from_disk(cfg.misc.pretrained_checkpoint)\n",
    "\n",
    "finetuned_name = (\n",
    "    lambda name: Path(cfg.misc.ckpt_path) / f\"{name}Val\" / \"nonlinear_finetuned.pt\"\n",
    ")\n",
    "finetuned_models = {\n",
    "    dataset: load_model_from_disk(finetuned_name(dataset))\n",
    "    for dataset in cfg.task_vectors.to_apply\n",
    "}\n",
    "\n",
    "task_dicts = {}\n",
    "for dataset in cfg.task_vectors.to_apply:\n",
    "    task_dicts[dataset] = compute_task_dict(\n",
    "        zeroshot_encoder_statedict, finetuned_models[dataset]\n",
    "    )\n",
    "    del finetuned_models[dataset]  # Delete one model at a time\n",
    "    torch.cuda.empty_cache()\n",
    "\n",
    "svd_dict = get_svd_dict(\n",
    "    task_dicts, cfg.eval_datasets, cfg.misc.svd_path, cfg.svd_compress_factor\n",
    ")\n",
    "\n",
    "model, _, preprocess = open_clip.create_model_and_transforms(\n",
    "    cfg.model, pretrained=\"openai\", cache_dir=cfg.misc.openclip_cachedir\n",
    ")\n",
    "model.to(cfg.device)\n",
    "all_images = set()\n",
    "\n",
    "# Load text features from file\n",
    "name = cfg.text_descriptions.replace(\".txt\", \"\")\n",
    "text_features_path = os.path.join(cfg.misc.output_dir, f\"{name}_{cfg.model}.npy\")\n",
    "\n",
    "with open(text_features_path, \"rb\") as f:\n",
    "    text_features = np.load(f)\n",
    "pylogger.info(f\"Loaded text features from {text_features_path}\")\n",
    "\n",
    "# Load text descriptions (each line is one text)\n",
    "text_file = os.path.join(cfg.misc.description_dir, f\"{cfg.text_descriptions}\")\n",
    "with open(text_file, \"r\") as f:\n",
    "    lines = [line.strip() for line in f.readlines()]\n",
    "pylogger.info(f\"Loaded text descriptions from {text_file}\")"
   ]
  },
  {
   "cell_type": "code",
   "execution_count": 21,
   "metadata": {},
   "outputs": [],
   "source": [
    "\n",
    "# Prepare a wandb Table for fancy terminal logging\n",
    "results_table = wandb.Table(columns=[\"Task\", \"Top Texts\"])\n",
    "\n",
    "# Optionally also write the results to a file\n",
    "output_file = os.path.join(\n",
    "    cfg.misc.output_dir,\n",
    "    f\"{cfg.dataset}_completeness_{cfg.text_descriptions}_top_{cfg.texts_per_task}_heads_{cfg.model}.txt\",\n",
    ")"
   ]
  },
  {
   "cell_type": "markdown",
   "metadata": {},
   "source": [
    "## TextSpan"
   ]
  },
  {
   "cell_type": "code",
   "execution_count": 22,
   "metadata": {},
   "outputs": [],
   "source": [
    "@torch.no_grad()\n",
    "def replace_with_iterative_removal(data, text_features, texts, iters, device):\n",
    "    \n",
    "    results = []\n",
    "    vh = data  # in our case we already have \"vectors\"...\n",
    "    text_features = (\n",
    "        vh.T.dot(np.linalg.inv(vh.dot(vh.T)).dot(vh)).dot(text_features.T).T\n",
    "    )  # Project the text to the span of W_OV\n",
    "    \n",
    "    data = torch.from_numpy(data).float().to(device)\n",
    "    mean_data = data.mean(dim=0, keepdim=True)\n",
    "    data = data - mean_data\n",
    "    \n",
    "    reconstruct = einops.repeat(mean_data, \"A B -> (C A) B\", C=data.shape[0])\n",
    "    reconstruct = reconstruct.detach().cpu().numpy()\n",
    "    text_features = torch.from_numpy(text_features).float().to(device)\n",
    "\n",
    "    for i in range(iters):\n",
    "\n",
    "        projection = data @ text_features.T\n",
    "        projection_std = projection.std(axis=0).detach().cpu().numpy()\n",
    "        top_n = np.argmax(projection_std)\n",
    "        results.append(texts[top_n])\n",
    "        text_norm = text_features[top_n] @ text_features[top_n].T\n",
    "        reconstruct += (\n",
    "            (\n",
    "                (data @ text_features[top_n] / text_norm)[:, np.newaxis]\n",
    "                * text_features[top_n][np.newaxis, :]\n",
    "            )\n",
    "            .detach()\n",
    "            .cpu()\n",
    "            .numpy()\n",
    "        )\n",
    "        data = data - (\n",
    "            (data @ text_features[top_n] / text_norm)[:, np.newaxis]\n",
    "            * text_features[top_n][np.newaxis, :]\n",
    "        )\n",
    "        text_features = (\n",
    "            text_features\n",
    "            - (text_features @ text_features[top_n] / text_norm)[:, np.newaxis]\n",
    "            * text_features[top_n][np.newaxis, :]\n",
    "        )\n",
    "    return reconstruct, results"
   ]
  },
  {
   "cell_type": "code",
   "execution_count": 23,
   "metadata": {},
   "outputs": [
    {
     "data": {
      "text/html": [
       "<pre style=\"white-space:pre;overflow-x:auto;line-height:normal;font-family:Menlo,'DejaVu Sans Mono',consolas,'Courier New',monospace\"><span style=\"color: #7fbfbf; text-decoration-color: #7fbfbf\">                    </span><span style=\"color: #000080; text-decoration-color: #000080\">INFO    </span> Processing Task: Cars                                                       <a href=\"file:///tmp/ipykernel_108035/743796930.py\" target=\"_blank\"><span style=\"color: #7f7f7f; text-decoration-color: #7f7f7f\">__main__</span></a><span style=\"color: #7f7f7f; text-decoration-color: #7f7f7f\">:</span><a href=\"file:///tmp/ipykernel_108035/743796930.py#5\" target=\"_blank\"><span style=\"color: #7f7f7f; text-decoration-color: #7f7f7f\">5</span></a>\n",
       "</pre>\n"
      ],
      "text/plain": [
       "\u001b[2;36m                   \u001b[0m\u001b[2;36m \u001b[0m\u001b[34mINFO    \u001b[0m Processing Task: Cars                                                       \u001b]8;id=677806;file:///tmp/ipykernel_108035/743796930.py\u001b\\\u001b[2m__main__\u001b[0m\u001b]8;;\u001b\\\u001b[2m:\u001b[0m\u001b]8;id=93015;file:///tmp/ipykernel_108035/743796930.py#5\u001b\\\u001b[2m5\u001b[0m\u001b]8;;\u001b\\\n"
      ]
     },
     "metadata": {},
     "output_type": "display_data"
    },
    {
     "data": {
      "text/html": [
       "<pre style=\"white-space:pre;overflow-x:auto;line-height:normal;font-family:Menlo,'DejaVu Sans Mono',consolas,'Courier New',monospace\"><span style=\"color: #7fbfbf; text-decoration-color: #7fbfbf\">                    </span><span style=\"color: #000080; text-decoration-color: #000080\">INFO    </span> Task Cars: <span style=\"font-weight: bold\">[</span><span style=\"color: #008000; text-decoration-color: #008000\">'Image of a car'</span>, <span style=\"color: #008000; text-decoration-color: #008000\">'Nostalgic expressions'</span>, <span style=\"color: #008000; text-decoration-color: #008000\">'Artwork featuring </span> <a href=\"file:///tmp/ipykernel_108035/743796930.py\" target=\"_blank\"><span style=\"color: #7f7f7f; text-decoration-color: #7f7f7f\">__main__</span></a><span style=\"color: #7f7f7f; text-decoration-color: #7f7f7f\">:</span><a href=\"file:///tmp/ipykernel_108035/743796930.py#33\" target=\"_blank\"><span style=\"color: #7f7f7f; text-decoration-color: #7f7f7f\">33</span></a>\n",
       "<span style=\"color: #7fbfbf; text-decoration-color: #7fbfbf\">                    </span>         <span style=\"color: #008000; text-decoration-color: #008000\">Morse code typography'</span>, <span style=\"color: #008000; text-decoration-color: #008000\">'Image of a delivery van'</span>, <span style=\"color: #008000; text-decoration-color: #008000\">'Image snapped in the </span>  <span style=\"color: #7f7f7f; text-decoration-color: #7f7f7f\">           </span>\n",
       "<span style=\"color: #7fbfbf; text-decoration-color: #7fbfbf\">                    </span>         <span style=\"color: #008000; text-decoration-color: #008000\">Swiss chocolate factories'</span><span style=\"font-weight: bold\">]</span>                                                <span style=\"color: #7f7f7f; text-decoration-color: #7f7f7f\">           </span>\n",
       "</pre>\n"
      ],
      "text/plain": [
       "\u001b[2;36m                   \u001b[0m\u001b[2;36m \u001b[0m\u001b[34mINFO    \u001b[0m Task Cars: \u001b[1m[\u001b[0m\u001b[32m'Image of a car'\u001b[0m, \u001b[32m'Nostalgic expressions'\u001b[0m, \u001b[32m'Artwork featuring \u001b[0m \u001b]8;id=906931;file:///tmp/ipykernel_108035/743796930.py\u001b\\\u001b[2m__main__\u001b[0m\u001b]8;;\u001b\\\u001b[2m:\u001b[0m\u001b]8;id=148371;file:///tmp/ipykernel_108035/743796930.py#33\u001b\\\u001b[2m33\u001b[0m\u001b]8;;\u001b\\\n",
       "\u001b[2;36m                    \u001b[0m         \u001b[32mMorse code typography'\u001b[0m, \u001b[32m'Image of a delivery van'\u001b[0m, \u001b[32m'Image snapped in the \u001b[0m  \u001b[2m           \u001b[0m\n",
       "\u001b[2;36m                    \u001b[0m         \u001b[32mSwiss chocolate factories'\u001b[0m\u001b[1m]\u001b[0m                                                \u001b[2m           \u001b[0m\n"
      ]
     },
     "metadata": {},
     "output_type": "display_data"
    },
    {
     "name": "stdout",
     "output_type": "stream",
     "text": [
      "------------------\n",
      "V for task Cars\n",
      "------------------\n",
      "Image of a car\n",
      "Nostalgic expressions\n",
      "Artwork featuring Morse code typography\n",
      "Image of a delivery van\n",
      "Image snapped in the Swiss chocolate factories\n",
      "\n"
     ]
    }
   ],
   "source": [
    "output_str = ''\n",
    "\n",
    "for task in svd_dict.keys():\n",
    "    \n",
    "    pylogger.info(f\"Processing Task: {task}\")\n",
    "\n",
    "    output_str += f\"------------------\\n\"\n",
    "    output_str += f\"V for task {task}\\n\"\n",
    "    output_str += f\"------------------\\n\"\n",
    "\n",
    "    # Retrieve SVD components for the current task\n",
    "    u = svd_dict[task][cfg.layer][\"u\"].to(cfg.device)\n",
    "    s = torch.diag_embed(svd_dict[task][cfg.layer][\"s\"]).to(cfg.device)\n",
    "    v = svd_dict[task][cfg.layer][\"v\"].to(cfg.device)\n",
    "    # pylogger.info(f\"v shape for task {task}: {v.shape}\")\n",
    "\n",
    "    # Compute the projected matrix\n",
    "    v_proj = s @ v @ model.visual.proj\n",
    "\n",
    "    # Apply the iterative removal procedure\n",
    "    reconstruct, images = replace_with_iterative_removal(\n",
    "        v_proj.detach().cpu().numpy(),\n",
    "        text_features,\n",
    "        lines,\n",
    "        cfg.texts_per_task,\n",
    "        cfg.device,\n",
    "    )\n",
    "\n",
    "    all_images |= set(images)\n",
    "    for text in images:\n",
    "        output_str += f\"{text}\\n\"\n",
    "    results_table.add_data(task, \"\\n\".join(images))\n",
    "    pylogger.info(f\"Task {task}: {images}\")\n",
    "\n",
    "    break \n",
    "\n",
    "print(output_str)"
   ]
  },
  {
   "cell_type": "markdown",
   "metadata": {},
   "source": [
    "## Nearest-neighbor"
   ]
  },
  {
   "cell_type": "code",
   "execution_count": 24,
   "metadata": {},
   "outputs": [],
   "source": [
    "def get_nearest_text_descriptions(data, text_features, texts, device='cuda'):\n",
    "    results = []\n",
    "    vh = data  # in our case we already have \"vectors\"...\n",
    "    text_features = (\n",
    "        vh.T.dot(np.linalg.inv(vh.dot(vh.T)).dot(vh)).dot(text_features.T).T\n",
    "    )  # Project the text to the span of W_OV\n",
    "    \n",
    "    data = torch.from_numpy(data).float().to(device)\n",
    "    \n",
    "    # mean_data = data.mean(dim=0, keepdim=True)\n",
    "    # data = data - mean_data\n",
    "    \n",
    "    text_features = torch.from_numpy(text_features).float().to(device)\n",
    "\n",
    "    projection = data @ text_features.T\n",
    "\n",
    "    # take the top 5 texts\n",
    "    top_1 = torch.argmax(projection)\n",
    "    result = texts[top_1]\n",
    "\n",
    "    return result\n"
   ]
  },
  {
   "cell_type": "code",
   "execution_count": 25,
   "metadata": {},
   "outputs": [
    {
     "data": {
      "text/html": [
       "<pre style=\"white-space:pre;overflow-x:auto;line-height:normal;font-family:Menlo,'DejaVu Sans Mono',consolas,'Courier New',monospace\"><span style=\"color: #7fbfbf; text-decoration-color: #7fbfbf\">                    </span><span style=\"color: #000080; text-decoration-color: #000080\">INFO    </span> Processing Task: Cars                                                       <a href=\"file:///tmp/ipykernel_108035/4266128688.py\" target=\"_blank\"><span style=\"color: #7f7f7f; text-decoration-color: #7f7f7f\">__main__</span></a><span style=\"color: #7f7f7f; text-decoration-color: #7f7f7f\">:</span><a href=\"file:///tmp/ipykernel_108035/4266128688.py#5\" target=\"_blank\"><span style=\"color: #7f7f7f; text-decoration-color: #7f7f7f\">5</span></a>\n",
       "</pre>\n"
      ],
      "text/plain": [
       "\u001b[2;36m                   \u001b[0m\u001b[2;36m \u001b[0m\u001b[34mINFO    \u001b[0m Processing Task: Cars                                                       \u001b]8;id=727797;file:///tmp/ipykernel_108035/4266128688.py\u001b\\\u001b[2m__main__\u001b[0m\u001b]8;;\u001b\\\u001b[2m:\u001b[0m\u001b]8;id=986624;file:///tmp/ipykernel_108035/4266128688.py#5\u001b\\\u001b[2m5\u001b[0m\u001b]8;;\u001b\\\n"
      ]
     },
     "metadata": {},
     "output_type": "display_data"
    },
    {
     "data": {
      "text/html": [
       "<pre style=\"white-space:pre;overflow-x:auto;line-height:normal;font-family:Menlo,'DejaVu Sans Mono',consolas,'Courier New',monospace\"><span style=\"color: #7fbfbf; text-decoration-color: #7fbfbf\">                    </span><span style=\"color: #000080; text-decoration-color: #000080\">INFO    </span> Task Cars: <span style=\"font-weight: bold\">[</span><span style=\"color: #008000; text-decoration-color: #008000\">'Photograph taken in a car'</span>, <span style=\"color: #008000; text-decoration-color: #008000\">'Image snapped in the Swiss </span>      <a href=\"file:///tmp/ipykernel_108035/4266128688.py\" target=\"_blank\"><span style=\"color: #7f7f7f; text-decoration-color: #7f7f7f\">__main__</span></a><span style=\"color: #7f7f7f; text-decoration-color: #7f7f7f\">:</span><a href=\"file:///tmp/ipykernel_108035/4266128688.py#35\" target=\"_blank\"><span style=\"color: #7f7f7f; text-decoration-color: #7f7f7f\">35</span></a>\n",
       "<span style=\"color: #7fbfbf; text-decoration-color: #7fbfbf\">                    </span>         <span style=\"color: #008000; text-decoration-color: #008000\">chocolate factories'</span>, <span style=\"color: #008000; text-decoration-color: #008000\">'Image snapped in the Swiss chocolate factories'</span>,    <span style=\"color: #7f7f7f; text-decoration-color: #7f7f7f\">           </span>\n",
       "<span style=\"color: #7fbfbf; text-decoration-color: #7fbfbf\">                    </span>         <span style=\"color: #008000; text-decoration-color: #008000\">'Photo taken in Great Barrier Reef'</span>, <span style=\"color: #008000; text-decoration-color: #008000\">'Caricature of an iconic explorer'</span>,   <span style=\"color: #7f7f7f; text-decoration-color: #7f7f7f\">           </span>\n",
       "<span style=\"color: #7fbfbf; text-decoration-color: #7fbfbf\">                    </span>         <span style=\"color: #008000; text-decoration-color: #008000\">'Illustration of a hidden enchanted castle'</span>, <span style=\"color: #008000; text-decoration-color: #008000\">'Photograph taken in a retro </span> <span style=\"color: #7f7f7f; text-decoration-color: #7f7f7f\">           </span>\n",
       "<span style=\"color: #7fbfbf; text-decoration-color: #7fbfbf\">                    </span>         <span style=\"color: #008000; text-decoration-color: #008000\">diner'</span>, <span style=\"color: #008000; text-decoration-color: #008000\">'A glove'</span>, <span style=\"color: #008000; text-decoration-color: #008000\">'Detailed illustration of a futuristic quantum realm'</span>,  <span style=\"color: #7f7f7f; text-decoration-color: #7f7f7f\">           </span>\n",
       "<span style=\"color: #7fbfbf; text-decoration-color: #7fbfbf\">                    </span>         <span style=\"color: #008000; text-decoration-color: #008000\">'Vintage nostalgia'</span>, <span style=\"color: #008000; text-decoration-color: #008000\">'Ikat design'</span>, <span style=\"color: #008000; text-decoration-color: #008000\">'Close-up of a textured ceramic'</span>,      <span style=\"color: #7f7f7f; text-decoration-color: #7f7f7f\">           </span>\n",
       "<span style=\"color: #7fbfbf; text-decoration-color: #7fbfbf\">                    </span>         <span style=\"color: #008000; text-decoration-color: #008000\">'Mysterious day scene'</span>, <span style=\"color: #008000; text-decoration-color: #008000\">'Nostalgic city pulse'</span>, <span style=\"color: #008000; text-decoration-color: #008000\">'Artwork featuring Morse </span>  <span style=\"color: #7f7f7f; text-decoration-color: #7f7f7f\">           </span>\n",
       "<span style=\"color: #7fbfbf; text-decoration-color: #7fbfbf\">                    </span>         <span style=\"color: #008000; text-decoration-color: #008000\">code typography'</span>, <span style=\"color: #008000; text-decoration-color: #008000\">'a photo of cardiff'</span>, <span style=\"color: #008000; text-decoration-color: #008000\">'Image with holographic retro </span>     <span style=\"color: #7f7f7f; text-decoration-color: #7f7f7f\">           </span>\n",
       "<span style=\"color: #7fbfbf; text-decoration-color: #7fbfbf\">                    </span>         <span style=\"color: #008000; text-decoration-color: #008000\">arcade aesthetics'</span>, <span style=\"color: #008000; text-decoration-color: #008000\">'Image of a delivery van'</span>, <span style=\"color: #008000; text-decoration-color: #008000\">'Picture taken in the </span>      <span style=\"color: #7f7f7f; text-decoration-color: #7f7f7f\">           </span>\n",
       "<span style=\"color: #7fbfbf; text-decoration-color: #7fbfbf\">                    </span>         <span style=\"color: #008000; text-decoration-color: #008000\">Spanish Flamenco festivals'</span>, <span style=\"color: #008000; text-decoration-color: #008000\">'Detailed illustration of a vehicle'</span>, <span style=\"color: #008000; text-decoration-color: #008000\">'A </span>     <span style=\"color: #7f7f7f; text-decoration-color: #7f7f7f\">           </span>\n",
       "<span style=\"color: #7fbfbf; text-decoration-color: #7fbfbf\">                    </span>         <span style=\"color: #008000; text-decoration-color: #008000\">magnolia'</span>, <span style=\"color: #008000; text-decoration-color: #008000\">'Nostalgic city lights'</span>, <span style=\"color: #008000; text-decoration-color: #008000\">'A geyser'</span>, <span style=\"color: #008000; text-decoration-color: #008000\">'A trunk (of a tree or an </span> <span style=\"color: #7f7f7f; text-decoration-color: #7f7f7f\">           </span>\n",
       "<span style=\"color: #7fbfbf; text-decoration-color: #7fbfbf\">                    </span>         <span style=\"color: #008000; text-decoration-color: #008000\">elephant)'</span>, <span style=\"color: #008000; text-decoration-color: #008000\">'Desert sand dunes'</span>, <span style=\"color: #008000; text-decoration-color: #008000\">'Impressionist portrait painting'</span>, <span style=\"color: #008000; text-decoration-color: #008000\">'Photo</span> <span style=\"color: #7f7f7f; text-decoration-color: #7f7f7f\">           </span>\n",
       "<span style=\"color: #7fbfbf; text-decoration-color: #7fbfbf\">                    </span>         <span style=\"color: #008000; text-decoration-color: #008000\">taken in Monument Valley'</span>, <span style=\"color: #008000; text-decoration-color: #008000\">'Aerial view of a vineyard'</span>, <span style=\"color: #008000; text-decoration-color: #008000\">'Picture captured </span> <span style=\"color: #7f7f7f; text-decoration-color: #7f7f7f\">           </span>\n",
       "<span style=\"color: #7fbfbf; text-decoration-color: #7fbfbf\">                    </span>         <span style=\"color: #008000; text-decoration-color: #008000\">in the New York skyline'</span>, <span style=\"color: #008000; text-decoration-color: #008000\">'Image of a bus'</span>, <span style=\"color: #008000; text-decoration-color: #008000\">'Serene countryside sunrise'</span>,  <span style=\"color: #7f7f7f; text-decoration-color: #7f7f7f\">           </span>\n",
       "<span style=\"color: #7fbfbf; text-decoration-color: #7fbfbf\">                    </span>         <span style=\"color: #008000; text-decoration-color: #008000\">'A cracked surface texture'</span>, <span style=\"color: #008000; text-decoration-color: #008000\">'Image with quilted patchwork design'</span>, <span style=\"color: #008000; text-decoration-color: #008000\">'Photo</span> <span style=\"color: #7f7f7f; text-decoration-color: #7f7f7f\">           </span>\n",
       "<span style=\"color: #7fbfbf; text-decoration-color: #7fbfbf\">                    </span>         <span style=\"color: #008000; text-decoration-color: #008000\">taken in the Brazilian carnival'</span>, <span style=\"color: #008000; text-decoration-color: #008000\">'fleeting soap bubble art'</span>, <span style=\"color: #008000; text-decoration-color: #008000\">'Aerial view</span> <span style=\"color: #7f7f7f; text-decoration-color: #7f7f7f\">           </span>\n",
       "<span style=\"color: #7fbfbf; text-decoration-color: #7fbfbf\">                    </span>         <span style=\"color: #008000; text-decoration-color: #008000\">of a serene meadow'</span>, <span style=\"color: #008000; text-decoration-color: #008000\">'A traffic cone'</span>, <span style=\"color: #008000; text-decoration-color: #008000\">'A tulip'</span><span style=\"font-weight: bold\">]</span>                          <span style=\"color: #7f7f7f; text-decoration-color: #7f7f7f\">           </span>\n",
       "</pre>\n"
      ],
      "text/plain": [
       "\u001b[2;36m                   \u001b[0m\u001b[2;36m \u001b[0m\u001b[34mINFO    \u001b[0m Task Cars: \u001b[1m[\u001b[0m\u001b[32m'Photograph taken in a car'\u001b[0m, \u001b[32m'Image snapped in the Swiss \u001b[0m      \u001b]8;id=471171;file:///tmp/ipykernel_108035/4266128688.py\u001b\\\u001b[2m__main__\u001b[0m\u001b]8;;\u001b\\\u001b[2m:\u001b[0m\u001b]8;id=699095;file:///tmp/ipykernel_108035/4266128688.py#35\u001b\\\u001b[2m35\u001b[0m\u001b]8;;\u001b\\\n",
       "\u001b[2;36m                    \u001b[0m         \u001b[32mchocolate factories'\u001b[0m, \u001b[32m'Image snapped in the Swiss chocolate factories'\u001b[0m,    \u001b[2m           \u001b[0m\n",
       "\u001b[2;36m                    \u001b[0m         \u001b[32m'Photo taken in Great Barrier Reef'\u001b[0m, \u001b[32m'Caricature of an iconic explorer'\u001b[0m,   \u001b[2m           \u001b[0m\n",
       "\u001b[2;36m                    \u001b[0m         \u001b[32m'Illustration of a hidden enchanted castle'\u001b[0m, \u001b[32m'Photograph taken in a retro \u001b[0m \u001b[2m           \u001b[0m\n",
       "\u001b[2;36m                    \u001b[0m         \u001b[32mdiner'\u001b[0m, \u001b[32m'A glove'\u001b[0m, \u001b[32m'Detailed illustration of a futuristic quantum realm'\u001b[0m,  \u001b[2m           \u001b[0m\n",
       "\u001b[2;36m                    \u001b[0m         \u001b[32m'Vintage nostalgia'\u001b[0m, \u001b[32m'Ikat design'\u001b[0m, \u001b[32m'Close-up of a textured ceramic'\u001b[0m,      \u001b[2m           \u001b[0m\n",
       "\u001b[2;36m                    \u001b[0m         \u001b[32m'Mysterious day scene'\u001b[0m, \u001b[32m'Nostalgic city pulse'\u001b[0m, \u001b[32m'Artwork featuring Morse \u001b[0m  \u001b[2m           \u001b[0m\n",
       "\u001b[2;36m                    \u001b[0m         \u001b[32mcode typography'\u001b[0m, \u001b[32m'a photo of cardiff'\u001b[0m, \u001b[32m'Image with holographic retro \u001b[0m     \u001b[2m           \u001b[0m\n",
       "\u001b[2;36m                    \u001b[0m         \u001b[32marcade aesthetics'\u001b[0m, \u001b[32m'Image of a delivery van'\u001b[0m, \u001b[32m'Picture taken in the \u001b[0m      \u001b[2m           \u001b[0m\n",
       "\u001b[2;36m                    \u001b[0m         \u001b[32mSpanish Flamenco festivals'\u001b[0m, \u001b[32m'Detailed illustration of a vehicle'\u001b[0m, \u001b[32m'A \u001b[0m     \u001b[2m           \u001b[0m\n",
       "\u001b[2;36m                    \u001b[0m         \u001b[32mmagnolia'\u001b[0m, \u001b[32m'Nostalgic city lights'\u001b[0m, \u001b[32m'A geyser'\u001b[0m, \u001b[32m'A trunk \u001b[0m\u001b[32m(\u001b[0m\u001b[32mof a tree or an \u001b[0m \u001b[2m           \u001b[0m\n",
       "\u001b[2;36m                    \u001b[0m         \u001b[32melephant\u001b[0m\u001b[32m)\u001b[0m\u001b[32m'\u001b[0m, \u001b[32m'Desert sand dunes'\u001b[0m, \u001b[32m'Impressionist portrait painting'\u001b[0m, \u001b[32m'Photo\u001b[0m \u001b[2m           \u001b[0m\n",
       "\u001b[2;36m                    \u001b[0m         \u001b[32mtaken in Monument Valley'\u001b[0m, \u001b[32m'Aerial view of a vineyard'\u001b[0m, \u001b[32m'Picture captured \u001b[0m \u001b[2m           \u001b[0m\n",
       "\u001b[2;36m                    \u001b[0m         \u001b[32min the New York skyline'\u001b[0m, \u001b[32m'Image of a bus'\u001b[0m, \u001b[32m'Serene countryside sunrise'\u001b[0m,  \u001b[2m           \u001b[0m\n",
       "\u001b[2;36m                    \u001b[0m         \u001b[32m'A cracked surface texture'\u001b[0m, \u001b[32m'Image with quilted patchwork design'\u001b[0m, \u001b[32m'Photo\u001b[0m \u001b[2m           \u001b[0m\n",
       "\u001b[2;36m                    \u001b[0m         \u001b[32mtaken in the Brazilian carnival'\u001b[0m, \u001b[32m'fleeting soap bubble art'\u001b[0m, \u001b[32m'Aerial view\u001b[0m \u001b[2m           \u001b[0m\n",
       "\u001b[2;36m                    \u001b[0m         \u001b[32mof a serene meadow'\u001b[0m, \u001b[32m'A traffic cone'\u001b[0m, \u001b[32m'A tulip'\u001b[0m\u001b[1m]\u001b[0m                          \u001b[2m           \u001b[0m\n"
      ]
     },
     "metadata": {},
     "output_type": "display_data"
    },
    {
     "data": {
      "text/html": [
       "<pre style=\"white-space:pre;overflow-x:auto;line-height:normal;font-family:Menlo,'DejaVu Sans Mono',consolas,'Courier New',monospace\"><span style=\"color: #7fbfbf; text-decoration-color: #7fbfbf\">                    </span><span style=\"color: #000080; text-decoration-color: #000080\">INFO    </span> Processing Task: DTD                                                        <a href=\"file:///tmp/ipykernel_108035/4266128688.py\" target=\"_blank\"><span style=\"color: #7f7f7f; text-decoration-color: #7f7f7f\">__main__</span></a><span style=\"color: #7f7f7f; text-decoration-color: #7f7f7f\">:</span><a href=\"file:///tmp/ipykernel_108035/4266128688.py#5\" target=\"_blank\"><span style=\"color: #7f7f7f; text-decoration-color: #7f7f7f\">5</span></a>\n",
       "</pre>\n"
      ],
      "text/plain": [
       "\u001b[2;36m                   \u001b[0m\u001b[2;36m \u001b[0m\u001b[34mINFO    \u001b[0m Processing Task: DTD                                                        \u001b]8;id=794913;file:///tmp/ipykernel_108035/4266128688.py\u001b\\\u001b[2m__main__\u001b[0m\u001b]8;;\u001b\\\u001b[2m:\u001b[0m\u001b]8;id=296004;file:///tmp/ipykernel_108035/4266128688.py#5\u001b\\\u001b[2m5\u001b[0m\u001b]8;;\u001b\\\n"
      ]
     },
     "metadata": {},
     "output_type": "display_data"
    },
    {
     "data": {
      "text/html": [
       "<pre style=\"white-space:pre;overflow-x:auto;line-height:normal;font-family:Menlo,'DejaVu Sans Mono',consolas,'Courier New',monospace\"><span style=\"color: #7fbfbf; text-decoration-color: #7fbfbf\">2025-03-17 12:02:56 </span><span style=\"color: #000080; text-decoration-color: #000080\">INFO    </span> Task DTD: <span style=\"font-weight: bold\">[</span><span style=\"color: #008000; text-decoration-color: #008000\">'A photo taken at twilight'</span>, <span style=\"color: #008000; text-decoration-color: #008000\">'Cinematic portrait with dramatic </span> <a href=\"file:///tmp/ipykernel_108035/4266128688.py\" target=\"_blank\"><span style=\"color: #7f7f7f; text-decoration-color: #7f7f7f\">__main__</span></a><span style=\"color: #7f7f7f; text-decoration-color: #7f7f7f\">:</span><a href=\"file:///tmp/ipykernel_108035/4266128688.py#35\" target=\"_blank\"><span style=\"color: #7f7f7f; text-decoration-color: #7f7f7f\">35</span></a>\n",
       "<span style=\"color: #7fbfbf; text-decoration-color: #7fbfbf\">                    </span>         <span style=\"color: #008000; text-decoration-color: #008000\">lighting'</span>, <span style=\"color: #008000; text-decoration-color: #008000\">'A lattice design'</span>, <span style=\"color: #008000; text-decoration-color: #008000\">'Burst of colorful confetti'</span>, <span style=\"color: #008000; text-decoration-color: #008000\">'A polka </span>     <span style=\"color: #7f7f7f; text-decoration-color: #7f7f7f\">           </span>\n",
       "<span style=\"color: #7fbfbf; text-decoration-color: #7fbfbf\">                    </span>         <span style=\"color: #008000; text-decoration-color: #008000\">dot'</span>, <span style=\"color: #008000; text-decoration-color: #008000\">'Close-up of a textured bark'</span>, <span style=\"color: #008000; text-decoration-color: #008000\">'Artwork featuring barcode-like </span>      <span style=\"color: #7f7f7f; text-decoration-color: #7f7f7f\">           </span>\n",
       "<span style=\"color: #7fbfbf; text-decoration-color: #7fbfbf\">                    </span>         <span style=\"color: #008000; text-decoration-color: #008000\">lines'</span>, <span style=\"color: #008000; text-decoration-color: #008000\">'Image with a shattered mosaic pattern'</span>, <span style=\"color: #008000; text-decoration-color: #008000\">'Ephemeral soap bubble </span>   <span style=\"color: #7f7f7f; text-decoration-color: #7f7f7f\">           </span>\n",
       "<span style=\"color: #7fbfbf; text-decoration-color: #7fbfbf\">                    </span>         <span style=\"color: #008000; text-decoration-color: #008000\">art'</span>, <span style=\"color: #008000; text-decoration-color: #008000\">'Delicate embroidery'</span>, <span style=\"color: #008000; text-decoration-color: #008000\">'captivating starry night'</span>, <span style=\"color: #008000; text-decoration-color: #008000\">'Artwork with </span>    <span style=\"color: #7f7f7f; text-decoration-color: #7f7f7f\">           </span>\n",
       "<span style=\"color: #7fbfbf; text-decoration-color: #7fbfbf\">                    </span>         <span style=\"color: #008000; text-decoration-color: #008000\">Mondrian-like grids'</span>, <span style=\"color: #008000; text-decoration-color: #008000\">'A pine tree'</span>, <span style=\"color: #008000; text-decoration-color: #008000\">'Close-up of a textured reptile </span>      <span style=\"color: #7f7f7f; text-decoration-color: #7f7f7f\">           </span>\n",
       "<span style=\"color: #7fbfbf; text-decoration-color: #7fbfbf\">                    </span>         <span style=\"color: #008000; text-decoration-color: #008000\">skin'</span>, <span style=\"color: #008000; text-decoration-color: #008000\">'Urban labyrinth'</span>, <span style=\"color: #008000; text-decoration-color: #008000\">'Abstract artwork with splatter paint'</span>, <span style=\"color: #008000; text-decoration-color: #008000\">'Serene </span> <span style=\"color: #7f7f7f; text-decoration-color: #7f7f7f\">           </span>\n",
       "<span style=\"color: #7fbfbf; text-decoration-color: #7fbfbf\">                    </span>         <span style=\"color: #008000; text-decoration-color: #008000\">lakeside retreat'</span>, <span style=\"color: #008000; text-decoration-color: #008000\">'intricate crystal arrangement'</span>, <span style=\"color: #008000; text-decoration-color: #008000\">'Desert sand dunes'</span>,   <span style=\"color: #7f7f7f; text-decoration-color: #7f7f7f\">           </span>\n",
       "<span style=\"color: #7fbfbf; text-decoration-color: #7fbfbf\">                    </span>         <span style=\"color: #008000; text-decoration-color: #008000\">'Photograph taken in a toy store'</span>, <span style=\"color: #008000; text-decoration-color: #008000\">'Art Nouveau-inspired design'</span>, <span style=\"color: #008000; text-decoration-color: #008000\">'A </span>      <span style=\"color: #7f7f7f; text-decoration-color: #7f7f7f\">           </span>\n",
       "<span style=\"color: #7fbfbf; text-decoration-color: #7fbfbf\">                    </span>         <span style=\"color: #008000; text-decoration-color: #008000\">network of veins'</span>, <span style=\"color: #008000; text-decoration-color: #008000\">'Artwork featuring Morse code typography'</span>, <span style=\"color: #008000; text-decoration-color: #008000\">'Close-up of</span> <span style=\"color: #7f7f7f; text-decoration-color: #7f7f7f\">           </span>\n",
       "<span style=\"color: #7fbfbf; text-decoration-color: #7fbfbf\">                    </span>         <span style=\"color: #008000; text-decoration-color: #008000\">a textured seashore'</span>, <span style=\"color: #008000; text-decoration-color: #008000\">'Time-lapse trails'</span>, <span style=\"color: #008000; text-decoration-color: #008000\">'A skirt'</span>, <span style=\"color: #008000; text-decoration-color: #008000\">'Ocean sunset </span>       <span style=\"color: #7f7f7f; text-decoration-color: #7f7f7f\">           </span>\n",
       "<span style=\"color: #7fbfbf; text-decoration-color: #7fbfbf\">                    </span>         <span style=\"color: #008000; text-decoration-color: #008000\">silhouette'</span>, <span style=\"color: #008000; text-decoration-color: #008000\">'Picture taken in the Italian pasta kitchens'</span>, <span style=\"color: #008000; text-decoration-color: #008000\">'Image with </span>   <span style=\"color: #7f7f7f; text-decoration-color: #7f7f7f\">           </span>\n",
       "<span style=\"color: #7fbfbf; text-decoration-color: #7fbfbf\">                    </span>         <span style=\"color: #008000; text-decoration-color: #008000\">harlequin patterns'</span>, <span style=\"color: #008000; text-decoration-color: #008000\">'Aerial view of a marketplace'</span>, <span style=\"color: #008000; text-decoration-color: #008000\">'A parabola'</span>, <span style=\"color: #008000; text-decoration-color: #008000\">'Image </span> <span style=\"color: #7f7f7f; text-decoration-color: #7f7f7f\">           </span>\n",
       "<span style=\"color: #7fbfbf; text-decoration-color: #7fbfbf\">                    </span>         <span style=\"color: #008000; text-decoration-color: #008000\">taken in the Florida Everglades'</span>, <span style=\"color: #008000; text-decoration-color: #008000\">'Image with a single road sign'</span>, <span style=\"color: #008000; text-decoration-color: #008000\">'Image </span> <span style=\"color: #7f7f7f; text-decoration-color: #7f7f7f\">           </span>\n",
       "<span style=\"color: #7fbfbf; text-decoration-color: #7fbfbf\">                    </span>         <span style=\"color: #008000; text-decoration-color: #008000\">with a sand dune landscape'</span>, <span style=\"color: #008000; text-decoration-color: #008000\">'Detailed illustration of a geological </span>       <span style=\"color: #7f7f7f; text-decoration-color: #7f7f7f\">           </span>\n",
       "<span style=\"color: #7fbfbf; text-decoration-color: #7fbfbf\">                    </span>         <span style=\"color: #008000; text-decoration-color: #008000\">formation'</span>, <span style=\"color: #008000; text-decoration-color: #008000\">'Tranquil waterfall scene'</span>, <span style=\"color: #008000; text-decoration-color: #008000\">'Tranquil intersections'</span>, <span style=\"color: #008000; text-decoration-color: #008000\">'Image </span>  <span style=\"color: #7f7f7f; text-decoration-color: #7f7f7f\">           </span>\n",
       "<span style=\"color: #7fbfbf; text-decoration-color: #7fbfbf\">                    </span>         <span style=\"color: #008000; text-decoration-color: #008000\">with shattered glass art installation'</span><span style=\"font-weight: bold\">]</span>                                    <span style=\"color: #7f7f7f; text-decoration-color: #7f7f7f\">           </span>\n",
       "</pre>\n"
      ],
      "text/plain": [
       "\u001b[2;36m2025-03-17 12:02:56\u001b[0m\u001b[2;36m \u001b[0m\u001b[34mINFO    \u001b[0m Task DTD: \u001b[1m[\u001b[0m\u001b[32m'A photo taken at twilight'\u001b[0m, \u001b[32m'Cinematic portrait with dramatic \u001b[0m \u001b]8;id=432617;file:///tmp/ipykernel_108035/4266128688.py\u001b\\\u001b[2m__main__\u001b[0m\u001b]8;;\u001b\\\u001b[2m:\u001b[0m\u001b]8;id=748679;file:///tmp/ipykernel_108035/4266128688.py#35\u001b\\\u001b[2m35\u001b[0m\u001b]8;;\u001b\\\n",
       "\u001b[2;36m                    \u001b[0m         \u001b[32mlighting'\u001b[0m, \u001b[32m'A lattice design'\u001b[0m, \u001b[32m'Burst of colorful confetti'\u001b[0m, \u001b[32m'A polka \u001b[0m     \u001b[2m           \u001b[0m\n",
       "\u001b[2;36m                    \u001b[0m         \u001b[32mdot'\u001b[0m, \u001b[32m'Close-up of a textured bark'\u001b[0m, \u001b[32m'Artwork featuring barcode-like \u001b[0m      \u001b[2m           \u001b[0m\n",
       "\u001b[2;36m                    \u001b[0m         \u001b[32mlines'\u001b[0m, \u001b[32m'Image with a shattered mosaic pattern'\u001b[0m, \u001b[32m'Ephemeral soap bubble \u001b[0m   \u001b[2m           \u001b[0m\n",
       "\u001b[2;36m                    \u001b[0m         \u001b[32mart'\u001b[0m, \u001b[32m'Delicate embroidery'\u001b[0m, \u001b[32m'captivating starry night'\u001b[0m, \u001b[32m'Artwork with \u001b[0m    \u001b[2m           \u001b[0m\n",
       "\u001b[2;36m                    \u001b[0m         \u001b[32mMondrian-like grids'\u001b[0m, \u001b[32m'A pine tree'\u001b[0m, \u001b[32m'Close-up of a textured reptile \u001b[0m      \u001b[2m           \u001b[0m\n",
       "\u001b[2;36m                    \u001b[0m         \u001b[32mskin'\u001b[0m, \u001b[32m'Urban labyrinth'\u001b[0m, \u001b[32m'Abstract artwork with splatter paint'\u001b[0m, \u001b[32m'Serene \u001b[0m \u001b[2m           \u001b[0m\n",
       "\u001b[2;36m                    \u001b[0m         \u001b[32mlakeside retreat'\u001b[0m, \u001b[32m'intricate crystal arrangement'\u001b[0m, \u001b[32m'Desert sand dunes'\u001b[0m,   \u001b[2m           \u001b[0m\n",
       "\u001b[2;36m                    \u001b[0m         \u001b[32m'Photograph taken in a toy store'\u001b[0m, \u001b[32m'Art Nouveau-inspired design'\u001b[0m, \u001b[32m'A \u001b[0m      \u001b[2m           \u001b[0m\n",
       "\u001b[2;36m                    \u001b[0m         \u001b[32mnetwork of veins'\u001b[0m, \u001b[32m'Artwork featuring Morse code typography'\u001b[0m, \u001b[32m'Close-up of\u001b[0m \u001b[2m           \u001b[0m\n",
       "\u001b[2;36m                    \u001b[0m         \u001b[32ma textured seashore'\u001b[0m, \u001b[32m'Time-lapse trails'\u001b[0m, \u001b[32m'A skirt'\u001b[0m, \u001b[32m'Ocean sunset \u001b[0m       \u001b[2m           \u001b[0m\n",
       "\u001b[2;36m                    \u001b[0m         \u001b[32msilhouette'\u001b[0m, \u001b[32m'Picture taken in the Italian pasta kitchens'\u001b[0m, \u001b[32m'Image with \u001b[0m   \u001b[2m           \u001b[0m\n",
       "\u001b[2;36m                    \u001b[0m         \u001b[32mharlequin patterns'\u001b[0m, \u001b[32m'Aerial view of a marketplace'\u001b[0m, \u001b[32m'A parabola'\u001b[0m, \u001b[32m'Image \u001b[0m \u001b[2m           \u001b[0m\n",
       "\u001b[2;36m                    \u001b[0m         \u001b[32mtaken in the Florida Everglades'\u001b[0m, \u001b[32m'Image with a single road sign'\u001b[0m, \u001b[32m'Image \u001b[0m \u001b[2m           \u001b[0m\n",
       "\u001b[2;36m                    \u001b[0m         \u001b[32mwith a sand dune landscape'\u001b[0m, \u001b[32m'Detailed illustration of a geological \u001b[0m       \u001b[2m           \u001b[0m\n",
       "\u001b[2;36m                    \u001b[0m         \u001b[32mformation'\u001b[0m, \u001b[32m'Tranquil waterfall scene'\u001b[0m, \u001b[32m'Tranquil intersections'\u001b[0m, \u001b[32m'Image \u001b[0m  \u001b[2m           \u001b[0m\n",
       "\u001b[2;36m                    \u001b[0m         \u001b[32mwith shattered glass art installation'\u001b[0m\u001b[1m]\u001b[0m                                    \u001b[2m           \u001b[0m\n"
      ]
     },
     "metadata": {},
     "output_type": "display_data"
    },
    {
     "data": {
      "text/html": [
       "<pre style=\"white-space:pre;overflow-x:auto;line-height:normal;font-family:Menlo,'DejaVu Sans Mono',consolas,'Courier New',monospace\"><span style=\"color: #7fbfbf; text-decoration-color: #7fbfbf\">                    </span><span style=\"color: #000080; text-decoration-color: #000080\">INFO    </span> Processing Task: EuroSAT                                                    <a href=\"file:///tmp/ipykernel_108035/4266128688.py\" target=\"_blank\"><span style=\"color: #7f7f7f; text-decoration-color: #7f7f7f\">__main__</span></a><span style=\"color: #7f7f7f; text-decoration-color: #7f7f7f\">:</span><a href=\"file:///tmp/ipykernel_108035/4266128688.py#5\" target=\"_blank\"><span style=\"color: #7f7f7f; text-decoration-color: #7f7f7f\">5</span></a>\n",
       "</pre>\n"
      ],
      "text/plain": [
       "\u001b[2;36m                   \u001b[0m\u001b[2;36m \u001b[0m\u001b[34mINFO    \u001b[0m Processing Task: EuroSAT                                                    \u001b]8;id=539383;file:///tmp/ipykernel_108035/4266128688.py\u001b\\\u001b[2m__main__\u001b[0m\u001b]8;;\u001b\\\u001b[2m:\u001b[0m\u001b]8;id=715338;file:///tmp/ipykernel_108035/4266128688.py#5\u001b\\\u001b[2m5\u001b[0m\u001b]8;;\u001b\\\n"
      ]
     },
     "metadata": {},
     "output_type": "display_data"
    },
    {
     "data": {
      "text/html": [
       "<pre style=\"white-space:pre;overflow-x:auto;line-height:normal;font-family:Menlo,'DejaVu Sans Mono',consolas,'Courier New',monospace\"><span style=\"color: #7fbfbf; text-decoration-color: #7fbfbf\">                    </span><span style=\"color: #000080; text-decoration-color: #000080\">INFO    </span> Task EuroSAT: <span style=\"font-weight: bold\">[</span><span style=\"color: #008000; text-decoration-color: #008000\">'A canopy'</span>, <span style=\"color: #008000; text-decoration-color: #008000\">'Aerial view of an agricultural field'</span>,         <a href=\"file:///tmp/ipykernel_108035/4266128688.py\" target=\"_blank\"><span style=\"color: #7f7f7f; text-decoration-color: #7f7f7f\">__main__</span></a><span style=\"color: #7f7f7f; text-decoration-color: #7f7f7f\">:</span><a href=\"file:///tmp/ipykernel_108035/4266128688.py#35\" target=\"_blank\"><span style=\"color: #7f7f7f; text-decoration-color: #7f7f7f\">35</span></a>\n",
       "<span style=\"color: #7fbfbf; text-decoration-color: #7fbfbf\">                    </span>         <span style=\"color: #008000; text-decoration-color: #008000\">'Abandoned factory space'</span>, <span style=\"color: #008000; text-decoration-color: #008000\">'Aerial view of a promenade'</span>, <span style=\"color: #008000; text-decoration-color: #008000\">'Photograph with </span> <span style=\"color: #7f7f7f; text-decoration-color: #7f7f7f\">           </span>\n",
       "<span style=\"color: #7fbfbf; text-decoration-color: #7fbfbf\">                    </span>         <span style=\"color: #008000; text-decoration-color: #008000\">the artistic style of light painting'</span>, <span style=\"color: #008000; text-decoration-color: #008000\">'Rural windmill silhouette'</span>,        <span style=\"color: #7f7f7f; text-decoration-color: #7f7f7f\">           </span>\n",
       "<span style=\"color: #7fbfbf; text-decoration-color: #7fbfbf\">                    </span>         <span style=\"color: #008000; text-decoration-color: #008000\">'Desert sandstorm'</span>, <span style=\"color: #008000; text-decoration-color: #008000\">'Aerial view of a coral reef'</span>, <span style=\"color: #008000; text-decoration-color: #008000\">'Lush rainforest </span>       <span style=\"color: #7f7f7f; text-decoration-color: #7f7f7f\">           </span>\n",
       "<span style=\"color: #7fbfbf; text-decoration-color: #7fbfbf\">                    </span>         <span style=\"color: #008000; text-decoration-color: #008000\">canopy'</span>, <span style=\"color: #008000; text-decoration-color: #008000\">'Serene lakeside retreat'</span>, <span style=\"color: #008000; text-decoration-color: #008000\">'Silhouette'</span>, <span style=\"color: #008000; text-decoration-color: #008000\">'Image taken in the </span>     <span style=\"color: #7f7f7f; text-decoration-color: #7f7f7f\">           </span>\n",
       "<span style=\"color: #7fbfbf; text-decoration-color: #7fbfbf\">                    </span>         <span style=\"color: #008000; text-decoration-color: #008000\">Namibian desert'</span>, <span style=\"color: #008000; text-decoration-color: #008000\">'Aerial view of a construction site'</span>, <span style=\"color: #008000; text-decoration-color: #008000\">'Photo taken in </span>   <span style=\"color: #7f7f7f; text-decoration-color: #7f7f7f\">           </span>\n",
       "<span style=\"color: #7fbfbf; text-decoration-color: #7fbfbf\">                    </span>         <span style=\"color: #008000; text-decoration-color: #008000\">Namib Desert'</span>, <span style=\"color: #008000; text-decoration-color: #008000\">'Photo taken in Sahara Desert'</span>, <span style=\"color: #008000; text-decoration-color: #008000\">'Herringbone pattern'</span>,      <span style=\"color: #7f7f7f; text-decoration-color: #7f7f7f\">           </span>\n",
       "<span style=\"color: #7fbfbf; text-decoration-color: #7fbfbf\">                    </span>         <span style=\"color: #008000; text-decoration-color: #008000\">'Image showing prairie grouse'</span>, <span style=\"color: #008000; text-decoration-color: #008000\">'Picture taken in Rwanda'</span>, <span style=\"color: #008000; text-decoration-color: #008000\">'Aerial view of</span> <span style=\"color: #7f7f7f; text-decoration-color: #7f7f7f\">           </span>\n",
       "<span style=\"color: #7fbfbf; text-decoration-color: #7fbfbf\">                    </span>         <span style=\"color: #008000; text-decoration-color: #008000\">a coral reef'</span>, <span style=\"color: #008000; text-decoration-color: #008000\">'Photo taken in the Serengeti National Park'</span>, <span style=\"color: #008000; text-decoration-color: #008000\">'Rural </span>       <span style=\"color: #7f7f7f; text-decoration-color: #7f7f7f\">           </span>\n",
       "<span style=\"color: #7fbfbf; text-decoration-color: #7fbfbf\">                    </span>         <span style=\"color: #008000; text-decoration-color: #008000\">windmill silhouette'</span>, <span style=\"color: #008000; text-decoration-color: #008000\">'Picture taken in the Scotland countryside'</span>, <span style=\"color: #008000; text-decoration-color: #008000\">'Image </span> <span style=\"color: #7f7f7f; text-decoration-color: #7f7f7f\">           </span>\n",
       "<span style=\"color: #7fbfbf; text-decoration-color: #7fbfbf\">                    </span>         <span style=\"color: #008000; text-decoration-color: #008000\">captured in the Egyptian pyramids'</span>, <span style=\"color: #008000; text-decoration-color: #008000\">'Picture captured in the Dutch tulip </span>  <span style=\"color: #7f7f7f; text-decoration-color: #7f7f7f\">           </span>\n",
       "<span style=\"color: #7fbfbf; text-decoration-color: #7fbfbf\">                    </span>         <span style=\"color: #008000; text-decoration-color: #008000\">fields'</span>, <span style=\"color: #008000; text-decoration-color: #008000\">\"Photo taken in the Rub' al Khali (Empty Quarter)\"</span>, <span style=\"color: #008000; text-decoration-color: #008000\">'Image taken </span> <span style=\"color: #7f7f7f; text-decoration-color: #7f7f7f\">           </span>\n",
       "<span style=\"color: #7fbfbf; text-decoration-color: #7fbfbf\">                    </span>         <span style=\"color: #008000; text-decoration-color: #008000\">in Machu Picchu'</span>, <span style=\"color: #008000; text-decoration-color: #008000\">'Tranquil waterfall scene'</span>, <span style=\"color: #008000; text-decoration-color: #008000\">'Weathered cityscapes'</span>,      <span style=\"color: #7f7f7f; text-decoration-color: #7f7f7f\">           </span>\n",
       "<span style=\"color: #7fbfbf; text-decoration-color: #7fbfbf\">                    </span>         <span style=\"color: #008000; text-decoration-color: #008000\">'Picture taken in Bhutan'</span>, <span style=\"color: #008000; text-decoration-color: #008000\">'Inviting coffee shop'</span>, <span style=\"color: #008000; text-decoration-color: #008000\">'Photograph with the </span>   <span style=\"color: #7f7f7f; text-decoration-color: #7f7f7f\">           </span>\n",
       "<span style=\"color: #7fbfbf; text-decoration-color: #7fbfbf\">                    </span>         <span style=\"color: #008000; text-decoration-color: #008000\">artistic style of fisheye lens'</span>, <span style=\"color: #008000; text-decoration-color: #008000\">'An image with boats'</span>, <span style=\"color: #008000; text-decoration-color: #008000\">'Desert </span>           <span style=\"color: #7f7f7f; text-decoration-color: #7f7f7f\">           </span>\n",
       "<span style=\"color: #7fbfbf; text-decoration-color: #7fbfbf\">                    </span>         <span style=\"color: #008000; text-decoration-color: #008000\">sandstorm'</span>, <span style=\"color: #008000; text-decoration-color: #008000\">'Tranquil forest waterfall'</span>, <span style=\"color: #008000; text-decoration-color: #008000\">'Secluded forest cabin'</span>, <span style=\"color: #008000; text-decoration-color: #008000\">'A </span>      <span style=\"color: #7f7f7f; text-decoration-color: #7f7f7f\">           </span>\n",
       "<span style=\"color: #7fbfbf; text-decoration-color: #7fbfbf\">                    </span>         <span style=\"color: #008000; text-decoration-color: #008000\">glove'</span>, <span style=\"color: #008000; text-decoration-color: #008000\">'A barbed wire design'</span>, <span style=\"color: #008000; text-decoration-color: #008000\">'A charcoal gray color'</span><span style=\"font-weight: bold\">]</span>                   <span style=\"color: #7f7f7f; text-decoration-color: #7f7f7f\">           </span>\n",
       "</pre>\n"
      ],
      "text/plain": [
       "\u001b[2;36m                   \u001b[0m\u001b[2;36m \u001b[0m\u001b[34mINFO    \u001b[0m Task EuroSAT: \u001b[1m[\u001b[0m\u001b[32m'A canopy'\u001b[0m, \u001b[32m'Aerial view of an agricultural field'\u001b[0m,         \u001b]8;id=931173;file:///tmp/ipykernel_108035/4266128688.py\u001b\\\u001b[2m__main__\u001b[0m\u001b]8;;\u001b\\\u001b[2m:\u001b[0m\u001b]8;id=820834;file:///tmp/ipykernel_108035/4266128688.py#35\u001b\\\u001b[2m35\u001b[0m\u001b]8;;\u001b\\\n",
       "\u001b[2;36m                    \u001b[0m         \u001b[32m'Abandoned factory space'\u001b[0m, \u001b[32m'Aerial view of a promenade'\u001b[0m, \u001b[32m'Photograph with \u001b[0m \u001b[2m           \u001b[0m\n",
       "\u001b[2;36m                    \u001b[0m         \u001b[32mthe artistic style of light painting'\u001b[0m, \u001b[32m'Rural windmill silhouette'\u001b[0m,        \u001b[2m           \u001b[0m\n",
       "\u001b[2;36m                    \u001b[0m         \u001b[32m'Desert sandstorm'\u001b[0m, \u001b[32m'Aerial view of a coral reef'\u001b[0m, \u001b[32m'Lush rainforest \u001b[0m       \u001b[2m           \u001b[0m\n",
       "\u001b[2;36m                    \u001b[0m         \u001b[32mcanopy'\u001b[0m, \u001b[32m'Serene lakeside retreat'\u001b[0m, \u001b[32m'Silhouette'\u001b[0m, \u001b[32m'Image taken in the \u001b[0m     \u001b[2m           \u001b[0m\n",
       "\u001b[2;36m                    \u001b[0m         \u001b[32mNamibian desert'\u001b[0m, \u001b[32m'Aerial view of a construction site'\u001b[0m, \u001b[32m'Photo taken in \u001b[0m   \u001b[2m           \u001b[0m\n",
       "\u001b[2;36m                    \u001b[0m         \u001b[32mNamib Desert'\u001b[0m, \u001b[32m'Photo taken in Sahara Desert'\u001b[0m, \u001b[32m'Herringbone pattern'\u001b[0m,      \u001b[2m           \u001b[0m\n",
       "\u001b[2;36m                    \u001b[0m         \u001b[32m'Image showing prairie grouse'\u001b[0m, \u001b[32m'Picture taken in Rwanda'\u001b[0m, \u001b[32m'Aerial view of\u001b[0m \u001b[2m           \u001b[0m\n",
       "\u001b[2;36m                    \u001b[0m         \u001b[32ma coral reef'\u001b[0m, \u001b[32m'Photo taken in the Serengeti National Park'\u001b[0m, \u001b[32m'Rural \u001b[0m       \u001b[2m           \u001b[0m\n",
       "\u001b[2;36m                    \u001b[0m         \u001b[32mwindmill silhouette'\u001b[0m, \u001b[32m'Picture taken in the Scotland countryside'\u001b[0m, \u001b[32m'Image \u001b[0m \u001b[2m           \u001b[0m\n",
       "\u001b[2;36m                    \u001b[0m         \u001b[32mcaptured in the Egyptian pyramids'\u001b[0m, \u001b[32m'Picture captured in the Dutch tulip \u001b[0m  \u001b[2m           \u001b[0m\n",
       "\u001b[2;36m                    \u001b[0m         \u001b[32mfields'\u001b[0m, \u001b[32m\"Photo taken in the Rub' al Khali \u001b[0m\u001b[32m(\u001b[0m\u001b[32mEmpty Quarter\u001b[0m\u001b[32m)\u001b[0m\u001b[32m\"\u001b[0m, \u001b[32m'Image taken \u001b[0m \u001b[2m           \u001b[0m\n",
       "\u001b[2;36m                    \u001b[0m         \u001b[32min Machu Picchu'\u001b[0m, \u001b[32m'Tranquil waterfall scene'\u001b[0m, \u001b[32m'Weathered cityscapes'\u001b[0m,      \u001b[2m           \u001b[0m\n",
       "\u001b[2;36m                    \u001b[0m         \u001b[32m'Picture taken in Bhutan'\u001b[0m, \u001b[32m'Inviting coffee shop'\u001b[0m, \u001b[32m'Photograph with the \u001b[0m   \u001b[2m           \u001b[0m\n",
       "\u001b[2;36m                    \u001b[0m         \u001b[32martistic style of fisheye lens'\u001b[0m, \u001b[32m'An image with boats'\u001b[0m, \u001b[32m'Desert \u001b[0m           \u001b[2m           \u001b[0m\n",
       "\u001b[2;36m                    \u001b[0m         \u001b[32msandstorm'\u001b[0m, \u001b[32m'Tranquil forest waterfall'\u001b[0m, \u001b[32m'Secluded forest cabin'\u001b[0m, \u001b[32m'A \u001b[0m      \u001b[2m           \u001b[0m\n",
       "\u001b[2;36m                    \u001b[0m         \u001b[32mglove'\u001b[0m, \u001b[32m'A barbed wire design'\u001b[0m, \u001b[32m'A charcoal gray color'\u001b[0m\u001b[1m]\u001b[0m                   \u001b[2m           \u001b[0m\n"
      ]
     },
     "metadata": {},
     "output_type": "display_data"
    },
    {
     "data": {
      "text/html": [
       "<pre style=\"white-space:pre;overflow-x:auto;line-height:normal;font-family:Menlo,'DejaVu Sans Mono',consolas,'Courier New',monospace\"><span style=\"color: #7fbfbf; text-decoration-color: #7fbfbf\">                    </span><span style=\"color: #000080; text-decoration-color: #000080\">INFO    </span> Processing Task: GTSRB                                                      <a href=\"file:///tmp/ipykernel_108035/4266128688.py\" target=\"_blank\"><span style=\"color: #7f7f7f; text-decoration-color: #7f7f7f\">__main__</span></a><span style=\"color: #7f7f7f; text-decoration-color: #7f7f7f\">:</span><a href=\"file:///tmp/ipykernel_108035/4266128688.py#5\" target=\"_blank\"><span style=\"color: #7f7f7f; text-decoration-color: #7f7f7f\">5</span></a>\n",
       "</pre>\n"
      ],
      "text/plain": [
       "\u001b[2;36m                   \u001b[0m\u001b[2;36m \u001b[0m\u001b[34mINFO    \u001b[0m Processing Task: GTSRB                                                      \u001b]8;id=828336;file:///tmp/ipykernel_108035/4266128688.py\u001b\\\u001b[2m__main__\u001b[0m\u001b]8;;\u001b\\\u001b[2m:\u001b[0m\u001b]8;id=698403;file:///tmp/ipykernel_108035/4266128688.py#5\u001b\\\u001b[2m5\u001b[0m\u001b]8;;\u001b\\\n"
      ]
     },
     "metadata": {},
     "output_type": "display_data"
    },
    {
     "data": {
      "text/html": [
       "<pre style=\"white-space:pre;overflow-x:auto;line-height:normal;font-family:Menlo,'DejaVu Sans Mono',consolas,'Courier New',monospace\"><span style=\"color: #7fbfbf; text-decoration-color: #7fbfbf\">                    </span><span style=\"color: #000080; text-decoration-color: #000080\">INFO    </span> Task GTSRB: <span style=\"font-weight: bold\">[</span><span style=\"color: #008000; text-decoration-color: #008000\">'Delicate flower petals'</span>, <span style=\"color: #008000; text-decoration-color: #008000\">'Ethereal double exposure </span>          <a href=\"file:///tmp/ipykernel_108035/4266128688.py\" target=\"_blank\"><span style=\"color: #7f7f7f; text-decoration-color: #7f7f7f\">__main__</span></a><span style=\"color: #7f7f7f; text-decoration-color: #7f7f7f\">:</span><a href=\"file:///tmp/ipykernel_108035/4266128688.py#35\" target=\"_blank\"><span style=\"color: #7f7f7f; text-decoration-color: #7f7f7f\">35</span></a>\n",
       "<span style=\"color: #7fbfbf; text-decoration-color: #7fbfbf\">                    </span>         <span style=\"color: #008000; text-decoration-color: #008000\">photography'</span>, <span style=\"color: #008000; text-decoration-color: #008000\">'The number thirty'</span>, <span style=\"color: #008000; text-decoration-color: #008000\">'Striking and vibrant fashion </span>          <span style=\"color: #7f7f7f; text-decoration-color: #7f7f7f\">           </span>\n",
       "<span style=\"color: #7fbfbf; text-decoration-color: #7fbfbf\">                    </span>         <span style=\"color: #008000; text-decoration-color: #008000\">portrait'</span>, <span style=\"color: #008000; text-decoration-color: #008000\">'The number twelve'</span>, <span style=\"color: #008000; text-decoration-color: #008000\">'A belt'</span>, <span style=\"color: #008000; text-decoration-color: #008000\">'colorful underwater world'</span>,     <span style=\"color: #7f7f7f; text-decoration-color: #7f7f7f\">           </span>\n",
       "<span style=\"color: #7fbfbf; text-decoration-color: #7fbfbf\">                    </span>         <span style=\"color: #008000; text-decoration-color: #008000\">'Image with ancient hieroglyphic motifs'</span>, <span style=\"color: #008000; text-decoration-color: #008000\">'Image taken in Arizona, USA'</span>,   <span style=\"color: #7f7f7f; text-decoration-color: #7f7f7f\">           </span>\n",
       "<span style=\"color: #7fbfbf; text-decoration-color: #7fbfbf\">                    </span>         <span style=\"color: #008000; text-decoration-color: #008000\">'Urban labyrinth'</span>, <span style=\"color: #008000; text-decoration-color: #008000\">'Captivating silhouettes'</span>, <span style=\"color: #008000; text-decoration-color: #008000\">'Abandoned factory space'</span>,   <span style=\"color: #7f7f7f; text-decoration-color: #7f7f7f\">           </span>\n",
       "<span style=\"color: #7fbfbf; text-decoration-color: #7fbfbf\">                    </span>         <span style=\"color: #008000; text-decoration-color: #008000\">'cozy cabin interior'</span>, <span style=\"color: #008000; text-decoration-color: #008000\">'A cone'</span>, <span style=\"color: #008000; text-decoration-color: #008000\">'Coastal lighthouse beacon'</span>, <span style=\"color: #008000; text-decoration-color: #008000\">'Historic </span>   <span style=\"color: #7f7f7f; text-decoration-color: #7f7f7f\">           </span>\n",
       "<span style=\"color: #7fbfbf; text-decoration-color: #7fbfbf\">                    </span>         <span style=\"color: #008000; text-decoration-color: #008000\">cobblestone streets'</span>, <span style=\"color: #008000; text-decoration-color: #008000\">'Image with a whirlpool in the ocean'</span>, <span style=\"color: #008000; text-decoration-color: #008000\">'An image of </span> <span style=\"color: #7f7f7f; text-decoration-color: #7f7f7f\">           </span>\n",
       "<span style=\"color: #7fbfbf; text-decoration-color: #7fbfbf\">                    </span>         <span style=\"color: #008000; text-decoration-color: #008000\">the number 10'</span>, <span style=\"color: #008000; text-decoration-color: #008000\">'weathered religious icon'</span>, <span style=\"color: #008000; text-decoration-color: #008000\">'delicate soap bubble </span>         <span style=\"color: #7f7f7f; text-decoration-color: #7f7f7f\">           </span>\n",
       "<span style=\"color: #7fbfbf; text-decoration-color: #7fbfbf\">                    </span>         <span style=\"color: #008000; text-decoration-color: #008000\">display'</span>, <span style=\"color: #008000; text-decoration-color: #008000\">'A picture of liechtenstein'</span>, <span style=\"color: #008000; text-decoration-color: #008000\">'Vast desert dunes'</span>, <span style=\"color: #008000; text-decoration-color: #008000\">'Intriguing </span>  <span style=\"color: #7f7f7f; text-decoration-color: #7f7f7f\">           </span>\n",
       "<span style=\"color: #7fbfbf; text-decoration-color: #7fbfbf\">                    </span>         <span style=\"color: #008000; text-decoration-color: #008000\">and mysterious pathway'</span>, <span style=\"color: #008000; text-decoration-color: #008000\">'Detailed illustration of a futuristic energy </span>    <span style=\"color: #7f7f7f; text-decoration-color: #7f7f7f\">           </span>\n",
       "<span style=\"color: #7fbfbf; text-decoration-color: #7fbfbf\">                    </span>         <span style=\"color: #008000; text-decoration-color: #008000\">generator'</span>, <span style=\"color: #008000; text-decoration-color: #008000\">'Majestic soaring birds'</span>, <span style=\"color: #008000; text-decoration-color: #008000\">'Warm and cozy indoor scene'</span>, <span style=\"color: #008000; text-decoration-color: #008000\">'The </span>  <span style=\"color: #7f7f7f; text-decoration-color: #7f7f7f\">           </span>\n",
       "<span style=\"color: #7fbfbf; text-decoration-color: #7fbfbf\">                    </span>         <span style=\"color: #008000; text-decoration-color: #008000\">number seven'</span>, <span style=\"color: #008000; text-decoration-color: #008000\">'Photo taken in Okavango Delta'</span>, <span style=\"color: #008000; text-decoration-color: #008000\">'An image of a </span>            <span style=\"color: #7f7f7f; text-decoration-color: #7f7f7f\">           </span>\n",
       "<span style=\"color: #7fbfbf; text-decoration-color: #7fbfbf\">                    </span>         <span style=\"color: #008000; text-decoration-color: #008000\">Firefighter'</span>, <span style=\"color: #008000; text-decoration-color: #008000\">'Photograph taken in a toy store'</span>, <span style=\"color: #008000; text-decoration-color: #008000\">'Soothing beach sunset'</span>,  <span style=\"color: #7f7f7f; text-decoration-color: #7f7f7f\">           </span>\n",
       "<span style=\"color: #7fbfbf; text-decoration-color: #7fbfbf\">                    </span>         <span style=\"color: #008000; text-decoration-color: #008000\">'detailed arachnid close-up'</span>, <span style=\"color: #008000; text-decoration-color: #008000\">'Urban labyrinth'</span>, <span style=\"color: #008000; text-decoration-color: #008000\">'Image with a single road</span> <span style=\"color: #7f7f7f; text-decoration-color: #7f7f7f\">           </span>\n",
       "<span style=\"color: #7fbfbf; text-decoration-color: #7fbfbf\">                    </span>         <span style=\"color: #008000; text-decoration-color: #008000\">sign'</span>, <span style=\"color: #008000; text-decoration-color: #008000\">'Vibrant watercolor painting'</span>, <span style=\"color: #008000; text-decoration-color: #008000\">'Photograph with the artistic style </span> <span style=\"color: #7f7f7f; text-decoration-color: #7f7f7f\">           </span>\n",
       "<span style=\"color: #7fbfbf; text-decoration-color: #7fbfbf\">                    </span>         <span style=\"color: #008000; text-decoration-color: #008000\">of light painting'</span>, <span style=\"color: #008000; text-decoration-color: #008000\">'Tranquil temple courtyard'</span>, <span style=\"color: #008000; text-decoration-color: #008000\">'Image with a futuristic </span> <span style=\"color: #7f7f7f; text-decoration-color: #7f7f7f\">           </span>\n",
       "<span style=\"color: #7fbfbf; text-decoration-color: #7fbfbf\">                    </span>         <span style=\"color: #008000; text-decoration-color: #008000\">space station'</span><span style=\"font-weight: bold\">]</span>                                                            <span style=\"color: #7f7f7f; text-decoration-color: #7f7f7f\">           </span>\n",
       "</pre>\n"
      ],
      "text/plain": [
       "\u001b[2;36m                   \u001b[0m\u001b[2;36m \u001b[0m\u001b[34mINFO    \u001b[0m Task GTSRB: \u001b[1m[\u001b[0m\u001b[32m'Delicate flower petals'\u001b[0m, \u001b[32m'Ethereal double exposure \u001b[0m          \u001b]8;id=716949;file:///tmp/ipykernel_108035/4266128688.py\u001b\\\u001b[2m__main__\u001b[0m\u001b]8;;\u001b\\\u001b[2m:\u001b[0m\u001b]8;id=26634;file:///tmp/ipykernel_108035/4266128688.py#35\u001b\\\u001b[2m35\u001b[0m\u001b]8;;\u001b\\\n",
       "\u001b[2;36m                    \u001b[0m         \u001b[32mphotography'\u001b[0m, \u001b[32m'The number thirty'\u001b[0m, \u001b[32m'Striking and vibrant fashion \u001b[0m          \u001b[2m           \u001b[0m\n",
       "\u001b[2;36m                    \u001b[0m         \u001b[32mportrait'\u001b[0m, \u001b[32m'The number twelve'\u001b[0m, \u001b[32m'A belt'\u001b[0m, \u001b[32m'colorful underwater world'\u001b[0m,     \u001b[2m           \u001b[0m\n",
       "\u001b[2;36m                    \u001b[0m         \u001b[32m'Image with ancient hieroglyphic motifs'\u001b[0m, \u001b[32m'Image taken in Arizona, USA'\u001b[0m,   \u001b[2m           \u001b[0m\n",
       "\u001b[2;36m                    \u001b[0m         \u001b[32m'Urban labyrinth'\u001b[0m, \u001b[32m'Captivating silhouettes'\u001b[0m, \u001b[32m'Abandoned factory space'\u001b[0m,   \u001b[2m           \u001b[0m\n",
       "\u001b[2;36m                    \u001b[0m         \u001b[32m'cozy cabin interior'\u001b[0m, \u001b[32m'A cone'\u001b[0m, \u001b[32m'Coastal lighthouse beacon'\u001b[0m, \u001b[32m'Historic \u001b[0m   \u001b[2m           \u001b[0m\n",
       "\u001b[2;36m                    \u001b[0m         \u001b[32mcobblestone streets'\u001b[0m, \u001b[32m'Image with a whirlpool in the ocean'\u001b[0m, \u001b[32m'An image of \u001b[0m \u001b[2m           \u001b[0m\n",
       "\u001b[2;36m                    \u001b[0m         \u001b[32mthe number 10'\u001b[0m, \u001b[32m'weathered religious icon'\u001b[0m, \u001b[32m'delicate soap bubble \u001b[0m         \u001b[2m           \u001b[0m\n",
       "\u001b[2;36m                    \u001b[0m         \u001b[32mdisplay'\u001b[0m, \u001b[32m'A picture of liechtenstein'\u001b[0m, \u001b[32m'Vast desert dunes'\u001b[0m, \u001b[32m'Intriguing \u001b[0m  \u001b[2m           \u001b[0m\n",
       "\u001b[2;36m                    \u001b[0m         \u001b[32mand mysterious pathway'\u001b[0m, \u001b[32m'Detailed illustration of a futuristic energy \u001b[0m    \u001b[2m           \u001b[0m\n",
       "\u001b[2;36m                    \u001b[0m         \u001b[32mgenerator'\u001b[0m, \u001b[32m'Majestic soaring birds'\u001b[0m, \u001b[32m'Warm and cozy indoor scene'\u001b[0m, \u001b[32m'The \u001b[0m  \u001b[2m           \u001b[0m\n",
       "\u001b[2;36m                    \u001b[0m         \u001b[32mnumber seven'\u001b[0m, \u001b[32m'Photo taken in Okavango Delta'\u001b[0m, \u001b[32m'An image of a \u001b[0m            \u001b[2m           \u001b[0m\n",
       "\u001b[2;36m                    \u001b[0m         \u001b[32mFirefighter'\u001b[0m, \u001b[32m'Photograph taken in a toy store'\u001b[0m, \u001b[32m'Soothing beach sunset'\u001b[0m,  \u001b[2m           \u001b[0m\n",
       "\u001b[2;36m                    \u001b[0m         \u001b[32m'detailed arachnid close-up'\u001b[0m, \u001b[32m'Urban labyrinth'\u001b[0m, \u001b[32m'Image with a single road\u001b[0m \u001b[2m           \u001b[0m\n",
       "\u001b[2;36m                    \u001b[0m         \u001b[32msign'\u001b[0m, \u001b[32m'Vibrant watercolor painting'\u001b[0m, \u001b[32m'Photograph with the artistic style \u001b[0m \u001b[2m           \u001b[0m\n",
       "\u001b[2;36m                    \u001b[0m         \u001b[32mof light painting'\u001b[0m, \u001b[32m'Tranquil temple courtyard'\u001b[0m, \u001b[32m'Image with a futuristic \u001b[0m \u001b[2m           \u001b[0m\n",
       "\u001b[2;36m                    \u001b[0m         \u001b[32mspace station'\u001b[0m\u001b[1m]\u001b[0m                                                            \u001b[2m           \u001b[0m\n"
      ]
     },
     "metadata": {},
     "output_type": "display_data"
    },
    {
     "data": {
      "text/html": [
       "<pre style=\"white-space:pre;overflow-x:auto;line-height:normal;font-family:Menlo,'DejaVu Sans Mono',consolas,'Courier New',monospace\"><span style=\"color: #7fbfbf; text-decoration-color: #7fbfbf\">                    </span><span style=\"color: #000080; text-decoration-color: #000080\">INFO    </span> Processing Task: MNIST                                                      <a href=\"file:///tmp/ipykernel_108035/4266128688.py\" target=\"_blank\"><span style=\"color: #7f7f7f; text-decoration-color: #7f7f7f\">__main__</span></a><span style=\"color: #7f7f7f; text-decoration-color: #7f7f7f\">:</span><a href=\"file:///tmp/ipykernel_108035/4266128688.py#5\" target=\"_blank\"><span style=\"color: #7f7f7f; text-decoration-color: #7f7f7f\">5</span></a>\n",
       "</pre>\n"
      ],
      "text/plain": [
       "\u001b[2;36m                   \u001b[0m\u001b[2;36m \u001b[0m\u001b[34mINFO    \u001b[0m Processing Task: MNIST                                                      \u001b]8;id=652780;file:///tmp/ipykernel_108035/4266128688.py\u001b\\\u001b[2m__main__\u001b[0m\u001b]8;;\u001b\\\u001b[2m:\u001b[0m\u001b]8;id=843361;file:///tmp/ipykernel_108035/4266128688.py#5\u001b\\\u001b[2m5\u001b[0m\u001b]8;;\u001b\\\n"
      ]
     },
     "metadata": {},
     "output_type": "display_data"
    },
    {
     "data": {
      "text/html": [
       "<pre style=\"white-space:pre;overflow-x:auto;line-height:normal;font-family:Menlo,'DejaVu Sans Mono',consolas,'Courier New',monospace\"><span style=\"color: #7fbfbf; text-decoration-color: #7fbfbf\">                    </span><span style=\"color: #000080; text-decoration-color: #000080\">INFO    </span> Task MNIST: <span style=\"font-weight: bold\">[</span><span style=\"color: #008000; text-decoration-color: #008000\">'Photo with soft, muted tones'</span>, <span style=\"color: #008000; text-decoration-color: #008000\">'The number fifteen'</span>,         <a href=\"file:///tmp/ipykernel_108035/4266128688.py\" target=\"_blank\"><span style=\"color: #7f7f7f; text-decoration-color: #7f7f7f\">__main__</span></a><span style=\"color: #7f7f7f; text-decoration-color: #7f7f7f\">:</span><a href=\"file:///tmp/ipykernel_108035/4266128688.py#35\" target=\"_blank\"><span style=\"color: #7f7f7f; text-decoration-color: #7f7f7f\">35</span></a>\n",
       "<span style=\"color: #7fbfbf; text-decoration-color: #7fbfbf\">                    </span>         <span style=\"color: #008000; text-decoration-color: #008000\">'Photograph taken in a bookstore'</span>, <span style=\"color: #008000; text-decoration-color: #008000\">'Reflective modern glass facade'</span>, <span style=\"color: #008000; text-decoration-color: #008000\">'An </span>  <span style=\"color: #7f7f7f; text-decoration-color: #7f7f7f\">           </span>\n",
       "<span style=\"color: #7fbfbf; text-decoration-color: #7fbfbf\">                    </span>         <span style=\"color: #008000; text-decoration-color: #008000\">image of the number 4'</span>, <span style=\"color: #008000; text-decoration-color: #008000\">'delicate soap bubble creation'</span>, <span style=\"color: #008000; text-decoration-color: #008000\">'An image of the </span> <span style=\"color: #7f7f7f; text-decoration-color: #7f7f7f\">           </span>\n",
       "<span style=\"color: #7fbfbf; text-decoration-color: #7fbfbf\">                    </span>         <span style=\"color: #008000; text-decoration-color: #008000\">number 4'</span>, <span style=\"color: #008000; text-decoration-color: #008000\">'Photograph taken in a cozy cabin'</span>, <span style=\"color: #008000; text-decoration-color: #008000\">'A swirling eddy'</span>, <span style=\"color: #008000; text-decoration-color: #008000\">'a </span>      <span style=\"color: #7f7f7f; text-decoration-color: #7f7f7f\">           </span>\n",
       "<span style=\"color: #7fbfbf; text-decoration-color: #7fbfbf\">                    </span>         <span style=\"color: #008000; text-decoration-color: #008000\">picture of illinois'</span>, <span style=\"color: #008000; text-decoration-color: #008000\">'Aerial view of a promenade'</span>, <span style=\"color: #008000; text-decoration-color: #008000\">'Minimal color </span>        <span style=\"color: #7f7f7f; text-decoration-color: #7f7f7f\">           </span>\n",
       "<span style=\"color: #7fbfbf; text-decoration-color: #7fbfbf\">                    </span>         <span style=\"color: #008000; text-decoration-color: #008000\">palette'</span>, <span style=\"color: #008000; text-decoration-color: #008000\">'Graceful swimming fish'</span>, <span style=\"color: #008000; text-decoration-color: #008000\">'Cubist still life painting'</span>, <span style=\"color: #008000; text-decoration-color: #008000\">'A photo</span> <span style=\"color: #7f7f7f; text-decoration-color: #7f7f7f\">           </span>\n",
       "<span style=\"color: #7fbfbf; text-decoration-color: #7fbfbf\">                    </span>         <span style=\"color: #008000; text-decoration-color: #008000\">with the letter D'</span>, <span style=\"color: #008000; text-decoration-color: #008000\">'Glistening dew-covered foliage'</span>, <span style=\"color: #008000; text-decoration-color: #008000\">'Image with </span>         <span style=\"color: #7f7f7f; text-decoration-color: #7f7f7f\">           </span>\n",
       "<span style=\"color: #7fbfbf; text-decoration-color: #7fbfbf\">                    </span>         <span style=\"color: #008000; text-decoration-color: #008000\">shattered crystal shards'</span>, <span style=\"color: #008000; text-decoration-color: #008000\">'Photograph with the artistic style of long </span>    <span style=\"color: #7f7f7f; text-decoration-color: #7f7f7f\">           </span>\n",
       "<span style=\"color: #7fbfbf; text-decoration-color: #7fbfbf\">                    </span>         <span style=\"color: #008000; text-decoration-color: #008000\">exposure'</span>, <span style=\"color: #008000; text-decoration-color: #008000\">'Dappled sunlight'</span>, <span style=\"color: #008000; text-decoration-color: #008000\">'Artwork featuring retro TV test patterns'</span>, <span style=\"color: #7f7f7f; text-decoration-color: #7f7f7f\">           </span>\n",
       "<span style=\"color: #7fbfbf; text-decoration-color: #7fbfbf\">                    </span>         <span style=\"color: #008000; text-decoration-color: #008000\">'Photo taken in Bora Bora, French Polynesia'</span>, <span style=\"color: #008000; text-decoration-color: #008000\">'A photo with high </span>          <span style=\"color: #7f7f7f; text-decoration-color: #7f7f7f\">           </span>\n",
       "<span style=\"color: #7fbfbf; text-decoration-color: #7fbfbf\">                    </span>         <span style=\"color: #008000; text-decoration-color: #008000\">contrast'</span>, <span style=\"color: #008000; text-decoration-color: #008000\">'Classic black and white cityscape'</span>, <span style=\"color: #008000; text-decoration-color: #008000\">'Weathered facades'</span>,       <span style=\"color: #7f7f7f; text-decoration-color: #7f7f7f\">           </span>\n",
       "<span style=\"color: #7fbfbf; text-decoration-color: #7fbfbf\">                    </span>         <span style=\"color: #008000; text-decoration-color: #008000\">'Rustic marketplace'</span>, <span style=\"color: #008000; text-decoration-color: #008000\">'Photo taken in Patagonia'</span>, <span style=\"color: #008000; text-decoration-color: #008000\">'intricate pocket </span>       <span style=\"color: #7f7f7f; text-decoration-color: #7f7f7f\">           </span>\n",
       "<span style=\"color: #7fbfbf; text-decoration-color: #7fbfbf\">                    </span>         <span style=\"color: #008000; text-decoration-color: #008000\">watch'</span>, <span style=\"color: #008000; text-decoration-color: #008000\">'A prism'</span>, <span style=\"color: #008000; text-decoration-color: #008000\">'Colorful hot air balloons'</span>, <span style=\"color: #008000; text-decoration-color: #008000\">'Image with quilted </span>       <span style=\"color: #7f7f7f; text-decoration-color: #7f7f7f\">           </span>\n",
       "<span style=\"color: #7fbfbf; text-decoration-color: #7fbfbf\">                    </span>         <span style=\"color: #008000; text-decoration-color: #008000\">patchwork design'</span>, <span style=\"color: #008000; text-decoration-color: #008000\">'Coastal lighthouse beacon'</span>, <span style=\"color: #008000; text-decoration-color: #008000\">'Rural windmill </span>           <span style=\"color: #7f7f7f; text-decoration-color: #7f7f7f\">           </span>\n",
       "<span style=\"color: #7fbfbf; text-decoration-color: #7fbfbf\">                    </span>         <span style=\"color: #008000; text-decoration-color: #008000\">silhouette'</span>, <span style=\"color: #008000; text-decoration-color: #008000\">'A scalene quadrilateral'</span>, <span style=\"color: #008000; text-decoration-color: #008000\">'Antique architectural element'</span>,   <span style=\"color: #7f7f7f; text-decoration-color: #7f7f7f\">           </span>\n",
       "<span style=\"color: #7fbfbf; text-decoration-color: #7fbfbf\">                    </span>         <span style=\"color: #008000; text-decoration-color: #008000\">'cozy café ambiance'</span>, <span style=\"color: #008000; text-decoration-color: #008000\">'A pine tree'</span>, <span style=\"color: #008000; text-decoration-color: #008000\">'A bookmark'</span>, <span style=\"color: #008000; text-decoration-color: #008000\">'Intricate pencil </span>      <span style=\"color: #7f7f7f; text-decoration-color: #7f7f7f\">           </span>\n",
       "<span style=\"color: #7fbfbf; text-decoration-color: #7fbfbf\">                    </span>         <span style=\"color: #008000; text-decoration-color: #008000\">drawing'</span><span style=\"font-weight: bold\">]</span>                                                                  <span style=\"color: #7f7f7f; text-decoration-color: #7f7f7f\">           </span>\n",
       "</pre>\n"
      ],
      "text/plain": [
       "\u001b[2;36m                   \u001b[0m\u001b[2;36m \u001b[0m\u001b[34mINFO    \u001b[0m Task MNIST: \u001b[1m[\u001b[0m\u001b[32m'Photo with soft, muted tones'\u001b[0m, \u001b[32m'The number fifteen'\u001b[0m,         \u001b]8;id=323384;file:///tmp/ipykernel_108035/4266128688.py\u001b\\\u001b[2m__main__\u001b[0m\u001b]8;;\u001b\\\u001b[2m:\u001b[0m\u001b]8;id=299053;file:///tmp/ipykernel_108035/4266128688.py#35\u001b\\\u001b[2m35\u001b[0m\u001b]8;;\u001b\\\n",
       "\u001b[2;36m                    \u001b[0m         \u001b[32m'Photograph taken in a bookstore'\u001b[0m, \u001b[32m'Reflective modern glass facade'\u001b[0m, \u001b[32m'An \u001b[0m  \u001b[2m           \u001b[0m\n",
       "\u001b[2;36m                    \u001b[0m         \u001b[32mimage of the number 4'\u001b[0m, \u001b[32m'delicate soap bubble creation'\u001b[0m, \u001b[32m'An image of the \u001b[0m \u001b[2m           \u001b[0m\n",
       "\u001b[2;36m                    \u001b[0m         \u001b[32mnumber 4'\u001b[0m, \u001b[32m'Photograph taken in a cozy cabin'\u001b[0m, \u001b[32m'A swirling eddy'\u001b[0m, \u001b[32m'a \u001b[0m      \u001b[2m           \u001b[0m\n",
       "\u001b[2;36m                    \u001b[0m         \u001b[32mpicture of illinois'\u001b[0m, \u001b[32m'Aerial view of a promenade'\u001b[0m, \u001b[32m'Minimal color \u001b[0m        \u001b[2m           \u001b[0m\n",
       "\u001b[2;36m                    \u001b[0m         \u001b[32mpalette'\u001b[0m, \u001b[32m'Graceful swimming fish'\u001b[0m, \u001b[32m'Cubist still life painting'\u001b[0m, \u001b[32m'A photo\u001b[0m \u001b[2m           \u001b[0m\n",
       "\u001b[2;36m                    \u001b[0m         \u001b[32mwith the letter D'\u001b[0m, \u001b[32m'Glistening dew-covered foliage'\u001b[0m, \u001b[32m'Image with \u001b[0m         \u001b[2m           \u001b[0m\n",
       "\u001b[2;36m                    \u001b[0m         \u001b[32mshattered crystal shards'\u001b[0m, \u001b[32m'Photograph with the artistic style of long \u001b[0m    \u001b[2m           \u001b[0m\n",
       "\u001b[2;36m                    \u001b[0m         \u001b[32mexposure'\u001b[0m, \u001b[32m'Dappled sunlight'\u001b[0m, \u001b[32m'Artwork featuring retro TV test patterns'\u001b[0m, \u001b[2m           \u001b[0m\n",
       "\u001b[2;36m                    \u001b[0m         \u001b[32m'Photo taken in Bora Bora, French Polynesia'\u001b[0m, \u001b[32m'A photo with high \u001b[0m          \u001b[2m           \u001b[0m\n",
       "\u001b[2;36m                    \u001b[0m         \u001b[32mcontrast'\u001b[0m, \u001b[32m'Classic black and white cityscape'\u001b[0m, \u001b[32m'Weathered facades'\u001b[0m,       \u001b[2m           \u001b[0m\n",
       "\u001b[2;36m                    \u001b[0m         \u001b[32m'Rustic marketplace'\u001b[0m, \u001b[32m'Photo taken in Patagonia'\u001b[0m, \u001b[32m'intricate pocket \u001b[0m       \u001b[2m           \u001b[0m\n",
       "\u001b[2;36m                    \u001b[0m         \u001b[32mwatch'\u001b[0m, \u001b[32m'A prism'\u001b[0m, \u001b[32m'Colorful hot air balloons'\u001b[0m, \u001b[32m'Image with quilted \u001b[0m       \u001b[2m           \u001b[0m\n",
       "\u001b[2;36m                    \u001b[0m         \u001b[32mpatchwork design'\u001b[0m, \u001b[32m'Coastal lighthouse beacon'\u001b[0m, \u001b[32m'Rural windmill \u001b[0m           \u001b[2m           \u001b[0m\n",
       "\u001b[2;36m                    \u001b[0m         \u001b[32msilhouette'\u001b[0m, \u001b[32m'A scalene quadrilateral'\u001b[0m, \u001b[32m'Antique architectural element'\u001b[0m,   \u001b[2m           \u001b[0m\n",
       "\u001b[2;36m                    \u001b[0m         \u001b[32m'cozy café ambiance'\u001b[0m, \u001b[32m'A pine tree'\u001b[0m, \u001b[32m'A bookmark'\u001b[0m, \u001b[32m'Intricate pencil \u001b[0m      \u001b[2m           \u001b[0m\n",
       "\u001b[2;36m                    \u001b[0m         \u001b[32mdrawing'\u001b[0m\u001b[1m]\u001b[0m                                                                  \u001b[2m           \u001b[0m\n"
      ]
     },
     "metadata": {},
     "output_type": "display_data"
    },
    {
     "data": {
      "text/html": [
       "<pre style=\"white-space:pre;overflow-x:auto;line-height:normal;font-family:Menlo,'DejaVu Sans Mono',consolas,'Courier New',monospace\"><span style=\"color: #7fbfbf; text-decoration-color: #7fbfbf\">                    </span><span style=\"color: #000080; text-decoration-color: #000080\">INFO    </span> Processing Task: RESISC45                                                   <a href=\"file:///tmp/ipykernel_108035/4266128688.py\" target=\"_blank\"><span style=\"color: #7f7f7f; text-decoration-color: #7f7f7f\">__main__</span></a><span style=\"color: #7f7f7f; text-decoration-color: #7f7f7f\">:</span><a href=\"file:///tmp/ipykernel_108035/4266128688.py#5\" target=\"_blank\"><span style=\"color: #7f7f7f; text-decoration-color: #7f7f7f\">5</span></a>\n",
       "</pre>\n"
      ],
      "text/plain": [
       "\u001b[2;36m                   \u001b[0m\u001b[2;36m \u001b[0m\u001b[34mINFO    \u001b[0m Processing Task: RESISC45                                                   \u001b]8;id=90353;file:///tmp/ipykernel_108035/4266128688.py\u001b\\\u001b[2m__main__\u001b[0m\u001b]8;;\u001b\\\u001b[2m:\u001b[0m\u001b]8;id=739386;file:///tmp/ipykernel_108035/4266128688.py#5\u001b\\\u001b[2m5\u001b[0m\u001b]8;;\u001b\\\n"
      ]
     },
     "metadata": {},
     "output_type": "display_data"
    },
    {
     "data": {
      "text/html": [
       "<pre style=\"white-space:pre;overflow-x:auto;line-height:normal;font-family:Menlo,'DejaVu Sans Mono',consolas,'Courier New',monospace\"><span style=\"color: #7fbfbf; text-decoration-color: #7fbfbf\">                    </span><span style=\"color: #000080; text-decoration-color: #000080\">INFO    </span> Task RESISC45: <span style=\"font-weight: bold\">[</span><span style=\"color: #008000; text-decoration-color: #008000\">'Aerial view of a natural landscape'</span>, <span style=\"color: #008000; text-decoration-color: #008000\">'Ocean sunset </span>       <a href=\"file:///tmp/ipykernel_108035/4266128688.py\" target=\"_blank\"><span style=\"color: #7f7f7f; text-decoration-color: #7f7f7f\">__main__</span></a><span style=\"color: #7f7f7f; text-decoration-color: #7f7f7f\">:</span><a href=\"file:///tmp/ipykernel_108035/4266128688.py#35\" target=\"_blank\"><span style=\"color: #7f7f7f; text-decoration-color: #7f7f7f\">35</span></a>\n",
       "<span style=\"color: #7fbfbf; text-decoration-color: #7fbfbf\">                    </span>         <span style=\"color: #008000; text-decoration-color: #008000\">silhouette'</span>, <span style=\"color: #008000; text-decoration-color: #008000\">'Colorful hot air balloons'</span>, <span style=\"color: #008000; text-decoration-color: #008000\">'Image with cracked earth </span>       <span style=\"color: #7f7f7f; text-decoration-color: #7f7f7f\">           </span>\n",
       "<span style=\"color: #7fbfbf; text-decoration-color: #7fbfbf\">                    </span>         <span style=\"color: #008000; text-decoration-color: #008000\">textures'</span>, <span style=\"color: #008000; text-decoration-color: #008000\">'Vibrant city alley'</span>, <span style=\"color: #008000; text-decoration-color: #008000\">'Image with a snowy mountain peak'</span>,       <span style=\"color: #7f7f7f; text-decoration-color: #7f7f7f\">           </span>\n",
       "<span style=\"color: #7fbfbf; text-decoration-color: #7fbfbf\">                    </span>         <span style=\"color: #008000; text-decoration-color: #008000\">'Vibrant and bustling city market'</span>, <span style=\"color: #008000; text-decoration-color: #008000\">'Photograph taken in a rustic barn'</span>,   <span style=\"color: #7f7f7f; text-decoration-color: #7f7f7f\">           </span>\n",
       "<span style=\"color: #7fbfbf; text-decoration-color: #7fbfbf\">                    </span>         <span style=\"color: #008000; text-decoration-color: #008000\">'Intriguing and mysterious forest pathway'</span>, <span style=\"color: #008000; text-decoration-color: #008000\">'Classic black and white </span>      <span style=\"color: #7f7f7f; text-decoration-color: #7f7f7f\">           </span>\n",
       "<span style=\"color: #7fbfbf; text-decoration-color: #7fbfbf\">                    </span>         <span style=\"color: #008000; text-decoration-color: #008000\">cityscape'</span>, <span style=\"color: #008000; text-decoration-color: #008000\">'Tranquil village pond'</span>, <span style=\"color: #008000; text-decoration-color: #008000\">'Bustling cityscape at night'</span>, <span style=\"color: #008000; text-decoration-color: #008000\">'Photo</span> <span style=\"color: #7f7f7f; text-decoration-color: #7f7f7f\">           </span>\n",
       "<span style=\"color: #7fbfbf; text-decoration-color: #7fbfbf\">                    </span>         <span style=\"color: #008000; text-decoration-color: #008000\">taken in Beijing, China'</span>, <span style=\"color: #008000; text-decoration-color: #008000\">'Dynamic tension'</span>, <span style=\"color: #008000; text-decoration-color: #008000\">'An image of Dublin'</span>,         <span style=\"color: #7f7f7f; text-decoration-color: #7f7f7f\">           </span>\n",
       "<span style=\"color: #7fbfbf; text-decoration-color: #7fbfbf\">                    </span>         <span style=\"color: #008000; text-decoration-color: #008000\">'Bustling city intersection'</span>, <span style=\"color: #008000; text-decoration-color: #008000\">'Enchanting forest nymph aesthetic'</span>,         <span style=\"color: #7f7f7f; text-decoration-color: #7f7f7f\">           </span>\n",
       "<span style=\"color: #7fbfbf; text-decoration-color: #7fbfbf\">                    </span>         <span style=\"color: #008000; text-decoration-color: #008000\">'Ancient and weathered stone carving'</span>, <span style=\"color: #008000; text-decoration-color: #008000\">'Photo taken in Okavango Delta'</span>,    <span style=\"color: #7f7f7f; text-decoration-color: #7f7f7f\">           </span>\n",
       "<span style=\"color: #7fbfbf; text-decoration-color: #7fbfbf\">                    </span>         <span style=\"color: #008000; text-decoration-color: #008000\">'Tranquil Asian temple'</span>, <span style=\"color: #008000; text-decoration-color: #008000\">'A picture of Wisconsin'</span>, <span style=\"color: #008000; text-decoration-color: #008000\">\"Photo taken in the </span>    <span style=\"color: #7f7f7f; text-decoration-color: #7f7f7f\">           </span>\n",
       "<span style=\"color: #7fbfbf; text-decoration-color: #7fbfbf\">                    </span>         <span style=\"color: #008000; text-decoration-color: #008000\">Rub' al Khali (Empty Quarter)\"</span>, <span style=\"color: #008000; text-decoration-color: #008000\">'Image with a whirlpool in the sky'</span>,       <span style=\"color: #7f7f7f; text-decoration-color: #7f7f7f\">           </span>\n",
       "<span style=\"color: #7fbfbf; text-decoration-color: #7fbfbf\">                    </span>         <span style=\"color: #008000; text-decoration-color: #008000\">'Photo taken in Santander, Spain'</span>, <span style=\"color: #008000; text-decoration-color: #008000\">'Photo taken in Namib Desert'</span>, <span style=\"color: #008000; text-decoration-color: #008000\">'Urban </span>  <span style=\"color: #7f7f7f; text-decoration-color: #7f7f7f\">           </span>\n",
       "<span style=\"color: #7fbfbf; text-decoration-color: #7fbfbf\">                    </span>         <span style=\"color: #008000; text-decoration-color: #008000\">alleyway'</span>, <span style=\"color: #008000; text-decoration-color: #008000\">'Architectural reflections'</span>, <span style=\"color: #008000; text-decoration-color: #008000\">'Photograph taken in a record </span>     <span style=\"color: #7f7f7f; text-decoration-color: #7f7f7f\">           </span>\n",
       "<span style=\"color: #7fbfbf; text-decoration-color: #7fbfbf\">                    </span>         <span style=\"color: #008000; text-decoration-color: #008000\">store'</span>, <span style=\"color: #008000; text-decoration-color: #008000\">'Picture with trains'</span>, <span style=\"color: #008000; text-decoration-color: #008000\">'An octagon'</span>, <span style=\"color: #008000; text-decoration-color: #008000\">'Surrealist collage artwork'</span>, <span style=\"color: #7f7f7f; text-decoration-color: #7f7f7f\">           </span>\n",
       "<span style=\"color: #7fbfbf; text-decoration-color: #7fbfbf\">                    </span>         <span style=\"color: #008000; text-decoration-color: #008000\">'Skyscrapers touching clouds'</span>, <span style=\"color: #008000; text-decoration-color: #008000\">'Crumbling ancient ruins'</span>, <span style=\"color: #008000; text-decoration-color: #008000\">'Collage of </span>     <span style=\"color: #7f7f7f; text-decoration-color: #7f7f7f\">           </span>\n",
       "<span style=\"color: #7fbfbf; text-decoration-color: #7fbfbf\">                    </span>         <span style=\"color: #008000; text-decoration-color: #008000\">vintage magazine clippings'</span>, <span style=\"color: #008000; text-decoration-color: #008000\">'Serene beach sunset'</span>, <span style=\"color: #008000; text-decoration-color: #008000\">'Image taken in the </span>   <span style=\"color: #7f7f7f; text-decoration-color: #7f7f7f\">           </span>\n",
       "<span style=\"color: #7fbfbf; text-decoration-color: #7fbfbf\">                    </span>         <span style=\"color: #008000; text-decoration-color: #008000\">Namibian desert'</span>, <span style=\"color: #008000; text-decoration-color: #008000\">'Aerial view of a serene meadow'</span>, <span style=\"color: #008000; text-decoration-color: #008000\">'Image with a </span>         <span style=\"color: #7f7f7f; text-decoration-color: #7f7f7f\">           </span>\n",
       "<span style=\"color: #7fbfbf; text-decoration-color: #7fbfbf\">                    </span>         <span style=\"color: #008000; text-decoration-color: #008000\">whirlpool in the ocean'</span><span style=\"font-weight: bold\">]</span>                                                   <span style=\"color: #7f7f7f; text-decoration-color: #7f7f7f\">           </span>\n",
       "</pre>\n"
      ],
      "text/plain": [
       "\u001b[2;36m                   \u001b[0m\u001b[2;36m \u001b[0m\u001b[34mINFO    \u001b[0m Task RESISC45: \u001b[1m[\u001b[0m\u001b[32m'Aerial view of a natural landscape'\u001b[0m, \u001b[32m'Ocean sunset \u001b[0m       \u001b]8;id=763726;file:///tmp/ipykernel_108035/4266128688.py\u001b\\\u001b[2m__main__\u001b[0m\u001b]8;;\u001b\\\u001b[2m:\u001b[0m\u001b]8;id=950756;file:///tmp/ipykernel_108035/4266128688.py#35\u001b\\\u001b[2m35\u001b[0m\u001b]8;;\u001b\\\n",
       "\u001b[2;36m                    \u001b[0m         \u001b[32msilhouette'\u001b[0m, \u001b[32m'Colorful hot air balloons'\u001b[0m, \u001b[32m'Image with cracked earth \u001b[0m       \u001b[2m           \u001b[0m\n",
       "\u001b[2;36m                    \u001b[0m         \u001b[32mtextures'\u001b[0m, \u001b[32m'Vibrant city alley'\u001b[0m, \u001b[32m'Image with a snowy mountain peak'\u001b[0m,       \u001b[2m           \u001b[0m\n",
       "\u001b[2;36m                    \u001b[0m         \u001b[32m'Vibrant and bustling city market'\u001b[0m, \u001b[32m'Photograph taken in a rustic barn'\u001b[0m,   \u001b[2m           \u001b[0m\n",
       "\u001b[2;36m                    \u001b[0m         \u001b[32m'Intriguing and mysterious forest pathway'\u001b[0m, \u001b[32m'Classic black and white \u001b[0m      \u001b[2m           \u001b[0m\n",
       "\u001b[2;36m                    \u001b[0m         \u001b[32mcityscape'\u001b[0m, \u001b[32m'Tranquil village pond'\u001b[0m, \u001b[32m'Bustling cityscape at night'\u001b[0m, \u001b[32m'Photo\u001b[0m \u001b[2m           \u001b[0m\n",
       "\u001b[2;36m                    \u001b[0m         \u001b[32mtaken in Beijing, China'\u001b[0m, \u001b[32m'Dynamic tension'\u001b[0m, \u001b[32m'An image of Dublin'\u001b[0m,         \u001b[2m           \u001b[0m\n",
       "\u001b[2;36m                    \u001b[0m         \u001b[32m'Bustling city intersection'\u001b[0m, \u001b[32m'Enchanting forest nymph aesthetic'\u001b[0m,         \u001b[2m           \u001b[0m\n",
       "\u001b[2;36m                    \u001b[0m         \u001b[32m'Ancient and weathered stone carving'\u001b[0m, \u001b[32m'Photo taken in Okavango Delta'\u001b[0m,    \u001b[2m           \u001b[0m\n",
       "\u001b[2;36m                    \u001b[0m         \u001b[32m'Tranquil Asian temple'\u001b[0m, \u001b[32m'A picture of Wisconsin'\u001b[0m, \u001b[32m\"Photo taken in the \u001b[0m    \u001b[2m           \u001b[0m\n",
       "\u001b[2;36m                    \u001b[0m         \u001b[32mRub' al Khali \u001b[0m\u001b[32m(\u001b[0m\u001b[32mEmpty Quarter\u001b[0m\u001b[32m)\u001b[0m\u001b[32m\"\u001b[0m, \u001b[32m'Image with a whirlpool in the sky'\u001b[0m,       \u001b[2m           \u001b[0m\n",
       "\u001b[2;36m                    \u001b[0m         \u001b[32m'Photo taken in Santander, Spain'\u001b[0m, \u001b[32m'Photo taken in Namib Desert'\u001b[0m, \u001b[32m'Urban \u001b[0m  \u001b[2m           \u001b[0m\n",
       "\u001b[2;36m                    \u001b[0m         \u001b[32malleyway'\u001b[0m, \u001b[32m'Architectural reflections'\u001b[0m, \u001b[32m'Photograph taken in a record \u001b[0m     \u001b[2m           \u001b[0m\n",
       "\u001b[2;36m                    \u001b[0m         \u001b[32mstore'\u001b[0m, \u001b[32m'Picture with trains'\u001b[0m, \u001b[32m'An octagon'\u001b[0m, \u001b[32m'Surrealist collage artwork'\u001b[0m, \u001b[2m           \u001b[0m\n",
       "\u001b[2;36m                    \u001b[0m         \u001b[32m'Skyscrapers touching clouds'\u001b[0m, \u001b[32m'Crumbling ancient ruins'\u001b[0m, \u001b[32m'Collage of \u001b[0m     \u001b[2m           \u001b[0m\n",
       "\u001b[2;36m                    \u001b[0m         \u001b[32mvintage magazine clippings'\u001b[0m, \u001b[32m'Serene beach sunset'\u001b[0m, \u001b[32m'Image taken in the \u001b[0m   \u001b[2m           \u001b[0m\n",
       "\u001b[2;36m                    \u001b[0m         \u001b[32mNamibian desert'\u001b[0m, \u001b[32m'Aerial view of a serene meadow'\u001b[0m, \u001b[32m'Image with a \u001b[0m         \u001b[2m           \u001b[0m\n",
       "\u001b[2;36m                    \u001b[0m         \u001b[32mwhirlpool in the ocean'\u001b[0m\u001b[1m]\u001b[0m                                                   \u001b[2m           \u001b[0m\n"
      ]
     },
     "metadata": {},
     "output_type": "display_data"
    },
    {
     "data": {
      "text/html": [
       "<pre style=\"white-space:pre;overflow-x:auto;line-height:normal;font-family:Menlo,'DejaVu Sans Mono',consolas,'Courier New',monospace\"><span style=\"color: #7fbfbf; text-decoration-color: #7fbfbf\">                    </span><span style=\"color: #000080; text-decoration-color: #000080\">INFO    </span> Processing Task: SUN397                                                     <a href=\"file:///tmp/ipykernel_108035/4266128688.py\" target=\"_blank\"><span style=\"color: #7f7f7f; text-decoration-color: #7f7f7f\">__main__</span></a><span style=\"color: #7f7f7f; text-decoration-color: #7f7f7f\">:</span><a href=\"file:///tmp/ipykernel_108035/4266128688.py#5\" target=\"_blank\"><span style=\"color: #7f7f7f; text-decoration-color: #7f7f7f\">5</span></a>\n",
       "</pre>\n"
      ],
      "text/plain": [
       "\u001b[2;36m                   \u001b[0m\u001b[2;36m \u001b[0m\u001b[34mINFO    \u001b[0m Processing Task: SUN397                                                     \u001b]8;id=373344;file:///tmp/ipykernel_108035/4266128688.py\u001b\\\u001b[2m__main__\u001b[0m\u001b]8;;\u001b\\\u001b[2m:\u001b[0m\u001b]8;id=20892;file:///tmp/ipykernel_108035/4266128688.py#5\u001b\\\u001b[2m5\u001b[0m\u001b]8;;\u001b\\\n"
      ]
     },
     "metadata": {},
     "output_type": "display_data"
    },
    {
     "data": {
      "text/html": [
       "<pre style=\"white-space:pre;overflow-x:auto;line-height:normal;font-family:Menlo,'DejaVu Sans Mono',consolas,'Courier New',monospace\"><span style=\"color: #7fbfbf; text-decoration-color: #7fbfbf\">2025-03-17 12:02:57 </span><span style=\"color: #000080; text-decoration-color: #000080\">INFO    </span> Task SUN397: <span style=\"font-weight: bold\">[</span><span style=\"color: #008000; text-decoration-color: #008000\">'Artwork featuring Morse code typography'</span>, <span style=\"color: #008000; text-decoration-color: #008000\">'An image of an </span>  <a href=\"file:///tmp/ipykernel_108035/4266128688.py\" target=\"_blank\"><span style=\"color: #7f7f7f; text-decoration-color: #7f7f7f\">__main__</span></a><span style=\"color: #7f7f7f; text-decoration-color: #7f7f7f\">:</span><a href=\"file:///tmp/ipykernel_108035/4266128688.py#35\" target=\"_blank\"><span style=\"color: #7f7f7f; text-decoration-color: #7f7f7f\">35</span></a>\n",
       "<span style=\"color: #7fbfbf; text-decoration-color: #7fbfbf\">                    </span>         <span style=\"color: #008000; text-decoration-color: #008000\">interior of a room'</span>, <span style=\"color: #008000; text-decoration-color: #008000\">'Weathered beauty'</span>, <span style=\"color: #008000; text-decoration-color: #008000\">'Architectural ink sketch'</span>,       <span style=\"color: #7f7f7f; text-decoration-color: #7f7f7f\">           </span>\n",
       "<span style=\"color: #7fbfbf; text-decoration-color: #7fbfbf\">                    </span>         <span style=\"color: #008000; text-decoration-color: #008000\">'Photo featuring a bustling food market'</span>, <span style=\"color: #008000; text-decoration-color: #008000\">'Whirling carousel at a fair'</span>,   <span style=\"color: #7f7f7f; text-decoration-color: #7f7f7f\">           </span>\n",
       "<span style=\"color: #7fbfbf; text-decoration-color: #7fbfbf\">                    </span>         <span style=\"color: #008000; text-decoration-color: #008000\">'cozy coffee shop'</span>, <span style=\"color: #008000; text-decoration-color: #008000\">'cozy cabin interior'</span>, <span style=\"color: #008000; text-decoration-color: #008000\">'Picture snapped in the </span>        <span style=\"color: #7f7f7f; text-decoration-color: #7f7f7f\">           </span>\n",
       "<span style=\"color: #7fbfbf; text-decoration-color: #7fbfbf\">                    </span>         <span style=\"color: #008000; text-decoration-color: #008000\">Canadian maple forests'</span>, <span style=\"color: #008000; text-decoration-color: #008000\">'Close-up of a textured synthetic ceramic'</span>,       <span style=\"color: #7f7f7f; text-decoration-color: #7f7f7f\">           </span>\n",
       "<span style=\"color: #7fbfbf; text-decoration-color: #7fbfbf\">                    </span>         <span style=\"color: #008000; text-decoration-color: #008000\">'Image with a spiral staircase'</span>, <span style=\"color: #008000; text-decoration-color: #008000\">'Photograph taken in a bakery'</span>,           <span style=\"color: #7f7f7f; text-decoration-color: #7f7f7f\">           </span>\n",
       "<span style=\"color: #7fbfbf; text-decoration-color: #7fbfbf\">                    </span>         <span style=\"color: #008000; text-decoration-color: #008000\">'Photograph taken in a retro diner'</span>, <span style=\"color: #008000; text-decoration-color: #008000\">'Bustling and colorful food market'</span>,  <span style=\"color: #7f7f7f; text-decoration-color: #7f7f7f\">           </span>\n",
       "<span style=\"color: #7fbfbf; text-decoration-color: #7fbfbf\">                    </span>         <span style=\"color: #008000; text-decoration-color: #008000\">'Contemplative monochrome portrait'</span>, <span style=\"color: #008000; text-decoration-color: #008000\">'Rural windmill silhouette'</span>, <span style=\"color: #008000; text-decoration-color: #008000\">'Photo </span>  <span style=\"color: #7f7f7f; text-decoration-color: #7f7f7f\">           </span>\n",
       "<span style=\"color: #7fbfbf; text-decoration-color: #7fbfbf\">                    </span>         <span style=\"color: #008000; text-decoration-color: #008000\">featuring a bustling city street'</span>, <span style=\"color: #008000; text-decoration-color: #008000\">'Abstract artwork with concentric </span>      <span style=\"color: #7f7f7f; text-decoration-color: #7f7f7f\">           </span>\n",
       "<span style=\"color: #7fbfbf; text-decoration-color: #7fbfbf\">                    </span>         <span style=\"color: #008000; text-decoration-color: #008000\">circles'</span>, <span style=\"color: #008000; text-decoration-color: #008000\">'Intriguing and enigmatic passageway'</span>, <span style=\"color: #008000; text-decoration-color: #008000\">'Quaint countryside </span>      <span style=\"color: #7f7f7f; text-decoration-color: #7f7f7f\">           </span>\n",
       "<span style=\"color: #7fbfbf; text-decoration-color: #7fbfbf\">                    </span>         <span style=\"color: #008000; text-decoration-color: #008000\">barn'</span>, <span style=\"color: #008000; text-decoration-color: #008000\">'cozy outdoor seating'</span>, <span style=\"color: #008000; text-decoration-color: #008000\">'Picture taken in the Indonesian rice </span>      <span style=\"color: #7f7f7f; text-decoration-color: #7f7f7f\">           </span>\n",
       "<span style=\"color: #7fbfbf; text-decoration-color: #7fbfbf\">                    </span>         <span style=\"color: #008000; text-decoration-color: #008000\">fields'</span>, <span style=\"color: #008000; text-decoration-color: #008000\">'Image showing prairie grouse'</span>, <span style=\"color: #008000; text-decoration-color: #008000\">'Bustling city square'</span>, <span style=\"color: #008000; text-decoration-color: #008000\">'Detailed</span> <span style=\"color: #7f7f7f; text-decoration-color: #7f7f7f\">           </span>\n",
       "<span style=\"color: #7fbfbf; text-decoration-color: #7fbfbf\">                    </span>         <span style=\"color: #008000; text-decoration-color: #008000\">illustration of a futuristic bioreactor'</span>, <span style=\"color: #008000; text-decoration-color: #008000\">'Aerial view of a mountain </span>      <span style=\"color: #7f7f7f; text-decoration-color: #7f7f7f\">           </span>\n",
       "<span style=\"color: #7fbfbf; text-decoration-color: #7fbfbf\">                    </span>         <span style=\"color: #008000; text-decoration-color: #008000\">range'</span>, <span style=\"color: #008000; text-decoration-color: #008000\">'Detailed illustration of a futuristic computer'</span>, <span style=\"color: #008000; text-decoration-color: #008000\">'cozy coffee </span>    <span style=\"color: #7f7f7f; text-decoration-color: #7f7f7f\">           </span>\n",
       "<span style=\"color: #7fbfbf; text-decoration-color: #7fbfbf\">                    </span>         <span style=\"color: #008000; text-decoration-color: #008000\">shop'</span>, <span style=\"color: #008000; text-decoration-color: #008000\">'calming garden retreat'</span>, <span style=\"color: #008000; text-decoration-color: #008000\">'Artwork with Mondrian-like grids'</span>,       <span style=\"color: #7f7f7f; text-decoration-color: #7f7f7f\">           </span>\n",
       "<span style=\"color: #7fbfbf; text-decoration-color: #7fbfbf\">                    </span>         <span style=\"color: #008000; text-decoration-color: #008000\">'intricate mosaic artwork'</span>, <span style=\"color: #008000; text-decoration-color: #008000\">'Image snapped in the Swiss chocolate </span>         <span style=\"color: #7f7f7f; text-decoration-color: #7f7f7f\">           </span>\n",
       "<span style=\"color: #7fbfbf; text-decoration-color: #7fbfbf\">                    </span>         <span style=\"color: #008000; text-decoration-color: #008000\">factories'</span>, <span style=\"color: #008000; text-decoration-color: #008000\">'Photograph taken in a music store'</span>, <span style=\"color: #008000; text-decoration-color: #008000\">'Image of a skateboard'</span>,  <span style=\"color: #7f7f7f; text-decoration-color: #7f7f7f\">           </span>\n",
       "<span style=\"color: #7fbfbf; text-decoration-color: #7fbfbf\">                    </span>         <span style=\"color: #008000; text-decoration-color: #008000\">'serene riverside scene'</span>, <span style=\"color: #008000; text-decoration-color: #008000\">'Image with gingham patterns'</span>, <span style=\"color: #008000; text-decoration-color: #008000\">'misty forest </span>    <span style=\"color: #7f7f7f; text-decoration-color: #7f7f7f\">           </span>\n",
       "<span style=\"color: #7fbfbf; text-decoration-color: #7fbfbf\">                    </span>         <span style=\"color: #008000; text-decoration-color: #008000\">path'</span>, <span style=\"color: #008000; text-decoration-color: #008000\">'Close-up of a textured concrete surface'</span><span style=\"font-weight: bold\">]</span>                          <span style=\"color: #7f7f7f; text-decoration-color: #7f7f7f\">           </span>\n",
       "</pre>\n"
      ],
      "text/plain": [
       "\u001b[2;36m2025-03-17 12:02:57\u001b[0m\u001b[2;36m \u001b[0m\u001b[34mINFO    \u001b[0m Task SUN397: \u001b[1m[\u001b[0m\u001b[32m'Artwork featuring Morse code typography'\u001b[0m, \u001b[32m'An image of an \u001b[0m  \u001b]8;id=537224;file:///tmp/ipykernel_108035/4266128688.py\u001b\\\u001b[2m__main__\u001b[0m\u001b]8;;\u001b\\\u001b[2m:\u001b[0m\u001b]8;id=899860;file:///tmp/ipykernel_108035/4266128688.py#35\u001b\\\u001b[2m35\u001b[0m\u001b]8;;\u001b\\\n",
       "\u001b[2;36m                    \u001b[0m         \u001b[32minterior of a room'\u001b[0m, \u001b[32m'Weathered beauty'\u001b[0m, \u001b[32m'Architectural ink sketch'\u001b[0m,       \u001b[2m           \u001b[0m\n",
       "\u001b[2;36m                    \u001b[0m         \u001b[32m'Photo featuring a bustling food market'\u001b[0m, \u001b[32m'Whirling carousel at a fair'\u001b[0m,   \u001b[2m           \u001b[0m\n",
       "\u001b[2;36m                    \u001b[0m         \u001b[32m'cozy coffee shop'\u001b[0m, \u001b[32m'cozy cabin interior'\u001b[0m, \u001b[32m'Picture snapped in the \u001b[0m        \u001b[2m           \u001b[0m\n",
       "\u001b[2;36m                    \u001b[0m         \u001b[32mCanadian maple forests'\u001b[0m, \u001b[32m'Close-up of a textured synthetic ceramic'\u001b[0m,       \u001b[2m           \u001b[0m\n",
       "\u001b[2;36m                    \u001b[0m         \u001b[32m'Image with a spiral staircase'\u001b[0m, \u001b[32m'Photograph taken in a bakery'\u001b[0m,           \u001b[2m           \u001b[0m\n",
       "\u001b[2;36m                    \u001b[0m         \u001b[32m'Photograph taken in a retro diner'\u001b[0m, \u001b[32m'Bustling and colorful food market'\u001b[0m,  \u001b[2m           \u001b[0m\n",
       "\u001b[2;36m                    \u001b[0m         \u001b[32m'Contemplative monochrome portrait'\u001b[0m, \u001b[32m'Rural windmill silhouette'\u001b[0m, \u001b[32m'Photo \u001b[0m  \u001b[2m           \u001b[0m\n",
       "\u001b[2;36m                    \u001b[0m         \u001b[32mfeaturing a bustling city street'\u001b[0m, \u001b[32m'Abstract artwork with concentric \u001b[0m      \u001b[2m           \u001b[0m\n",
       "\u001b[2;36m                    \u001b[0m         \u001b[32mcircles'\u001b[0m, \u001b[32m'Intriguing and enigmatic passageway'\u001b[0m, \u001b[32m'Quaint countryside \u001b[0m      \u001b[2m           \u001b[0m\n",
       "\u001b[2;36m                    \u001b[0m         \u001b[32mbarn'\u001b[0m, \u001b[32m'cozy outdoor seating'\u001b[0m, \u001b[32m'Picture taken in the Indonesian rice \u001b[0m      \u001b[2m           \u001b[0m\n",
       "\u001b[2;36m                    \u001b[0m         \u001b[32mfields'\u001b[0m, \u001b[32m'Image showing prairie grouse'\u001b[0m, \u001b[32m'Bustling city square'\u001b[0m, \u001b[32m'Detailed\u001b[0m \u001b[2m           \u001b[0m\n",
       "\u001b[2;36m                    \u001b[0m         \u001b[32millustration of a futuristic bioreactor'\u001b[0m, \u001b[32m'Aerial view of a mountain \u001b[0m      \u001b[2m           \u001b[0m\n",
       "\u001b[2;36m                    \u001b[0m         \u001b[32mrange'\u001b[0m, \u001b[32m'Detailed illustration of a futuristic computer'\u001b[0m, \u001b[32m'cozy coffee \u001b[0m    \u001b[2m           \u001b[0m\n",
       "\u001b[2;36m                    \u001b[0m         \u001b[32mshop'\u001b[0m, \u001b[32m'calming garden retreat'\u001b[0m, \u001b[32m'Artwork with Mondrian-like grids'\u001b[0m,       \u001b[2m           \u001b[0m\n",
       "\u001b[2;36m                    \u001b[0m         \u001b[32m'intricate mosaic artwork'\u001b[0m, \u001b[32m'Image snapped in the Swiss chocolate \u001b[0m         \u001b[2m           \u001b[0m\n",
       "\u001b[2;36m                    \u001b[0m         \u001b[32mfactories'\u001b[0m, \u001b[32m'Photograph taken in a music store'\u001b[0m, \u001b[32m'Image of a skateboard'\u001b[0m,  \u001b[2m           \u001b[0m\n",
       "\u001b[2;36m                    \u001b[0m         \u001b[32m'serene riverside scene'\u001b[0m, \u001b[32m'Image with gingham patterns'\u001b[0m, \u001b[32m'misty forest \u001b[0m    \u001b[2m           \u001b[0m\n",
       "\u001b[2;36m                    \u001b[0m         \u001b[32mpath'\u001b[0m, \u001b[32m'Close-up of a textured concrete surface'\u001b[0m\u001b[1m]\u001b[0m                          \u001b[2m           \u001b[0m\n"
      ]
     },
     "metadata": {},
     "output_type": "display_data"
    },
    {
     "data": {
      "text/html": [
       "<pre style=\"white-space:pre;overflow-x:auto;line-height:normal;font-family:Menlo,'DejaVu Sans Mono',consolas,'Courier New',monospace\"><span style=\"color: #7fbfbf; text-decoration-color: #7fbfbf\">                    </span><span style=\"color: #000080; text-decoration-color: #000080\">INFO    </span> Processing Task: SVHN                                                       <a href=\"file:///tmp/ipykernel_108035/4266128688.py\" target=\"_blank\"><span style=\"color: #7f7f7f; text-decoration-color: #7f7f7f\">__main__</span></a><span style=\"color: #7f7f7f; text-decoration-color: #7f7f7f\">:</span><a href=\"file:///tmp/ipykernel_108035/4266128688.py#5\" target=\"_blank\"><span style=\"color: #7f7f7f; text-decoration-color: #7f7f7f\">5</span></a>\n",
       "</pre>\n"
      ],
      "text/plain": [
       "\u001b[2;36m                   \u001b[0m\u001b[2;36m \u001b[0m\u001b[34mINFO    \u001b[0m Processing Task: SVHN                                                       \u001b]8;id=7838;file:///tmp/ipykernel_108035/4266128688.py\u001b\\\u001b[2m__main__\u001b[0m\u001b]8;;\u001b\\\u001b[2m:\u001b[0m\u001b]8;id=147170;file:///tmp/ipykernel_108035/4266128688.py#5\u001b\\\u001b[2m5\u001b[0m\u001b]8;;\u001b\\\n"
      ]
     },
     "metadata": {},
     "output_type": "display_data"
    },
    {
     "data": {
      "text/html": [
       "<pre style=\"white-space:pre;overflow-x:auto;line-height:normal;font-family:Menlo,'DejaVu Sans Mono',consolas,'Courier New',monospace\"><span style=\"color: #7fbfbf; text-decoration-color: #7fbfbf\">                    </span><span style=\"color: #000080; text-decoration-color: #000080\">INFO    </span> Task SVHN: <span style=\"font-weight: bold\">[</span><span style=\"color: #008000; text-decoration-color: #008000\">'Artwork featuring Morse code typography'</span>, <span style=\"color: #008000; text-decoration-color: #008000\">'Surrealist artwork</span> <a href=\"file:///tmp/ipykernel_108035/4266128688.py\" target=\"_blank\"><span style=\"color: #7f7f7f; text-decoration-color: #7f7f7f\">__main__</span></a><span style=\"color: #7f7f7f; text-decoration-color: #7f7f7f\">:</span><a href=\"file:///tmp/ipykernel_108035/4266128688.py#35\" target=\"_blank\"><span style=\"color: #7f7f7f; text-decoration-color: #7f7f7f\">35</span></a>\n",
       "<span style=\"color: #7fbfbf; text-decoration-color: #7fbfbf\">                    </span>         <span style=\"color: #008000; text-decoration-color: #008000\">with dreamlike elements'</span>, <span style=\"color: #008000; text-decoration-color: #008000\">'Striking and vibrant fashion portrait'</span>, <span style=\"color: #008000; text-decoration-color: #008000\">'A </span>     <span style=\"color: #7f7f7f; text-decoration-color: #7f7f7f\">           </span>\n",
       "<span style=\"color: #7fbfbf; text-decoration-color: #7fbfbf\">                    </span>         <span style=\"color: #008000; text-decoration-color: #008000\">basket'</span>, <span style=\"color: #008000; text-decoration-color: #008000\">'An image of the number 7'</span>, <span style=\"color: #008000; text-decoration-color: #008000\">'An image of the number 10'</span>,          <span style=\"color: #7f7f7f; text-decoration-color: #7f7f7f\">           </span>\n",
       "<span style=\"color: #7fbfbf; text-decoration-color: #7fbfbf\">                    </span>         <span style=\"color: #008000; text-decoration-color: #008000\">'Organized chaos'</span>, <span style=\"color: #008000; text-decoration-color: #008000\">'misty forest path'</span>, <span style=\"color: #008000; text-decoration-color: #008000\">'Aerial view of a vineyard'</span>,       <span style=\"color: #7f7f7f; text-decoration-color: #7f7f7f\">           </span>\n",
       "<span style=\"color: #7fbfbf; text-decoration-color: #7fbfbf\">                    </span>         <span style=\"color: #008000; text-decoration-color: #008000\">'Vintage sepia tones'</span>, <span style=\"color: #008000; text-decoration-color: #008000\">'Photo taken in Rio de Janeiro, Brazil'</span>, <span style=\"color: #008000; text-decoration-color: #008000\">'orderly </span>  <span style=\"color: #7f7f7f; text-decoration-color: #7f7f7f\">           </span>\n",
       "<span style=\"color: #7fbfbf; text-decoration-color: #7fbfbf\">                    </span>         <span style=\"color: #008000; text-decoration-color: #008000\">mathematical formula'</span>, <span style=\"color: #008000; text-decoration-color: #008000\">'Collage of textures'</span>, <span style=\"color: #008000; text-decoration-color: #008000\">'Minimalist architectural </span>   <span style=\"color: #7f7f7f; text-decoration-color: #7f7f7f\">           </span>\n",
       "<span style=\"color: #7fbfbf; text-decoration-color: #7fbfbf\">                    </span>         <span style=\"color: #008000; text-decoration-color: #008000\">photography'</span>, <span style=\"color: #008000; text-decoration-color: #008000\">'A photo with the letter S'</span>, <span style=\"color: #008000; text-decoration-color: #008000\">'Photograph with the artistic </span>  <span style=\"color: #7f7f7f; text-decoration-color: #7f7f7f\">           </span>\n",
       "<span style=\"color: #7fbfbf; text-decoration-color: #7fbfbf\">                    </span>         <span style=\"color: #008000; text-decoration-color: #008000\">style of light painting'</span>, <span style=\"color: #008000; text-decoration-color: #008000\">'Picture taken in an amusement park'</span>, <span style=\"color: #008000; text-decoration-color: #008000\">'A </span>        <span style=\"color: #7f7f7f; text-decoration-color: #7f7f7f\">           </span>\n",
       "<span style=\"color: #7fbfbf; text-decoration-color: #7fbfbf\">                    </span>         <span style=\"color: #008000; text-decoration-color: #008000\">glacier'</span>, <span style=\"color: #008000; text-decoration-color: #008000\">'colorful performance'</span>, <span style=\"color: #008000; text-decoration-color: #008000\">'Image with a five people'</span>, <span style=\"color: #008000; text-decoration-color: #008000\">'Ethereal </span>   <span style=\"color: #7f7f7f; text-decoration-color: #7f7f7f\">           </span>\n",
       "<span style=\"color: #7fbfbf; text-decoration-color: #7fbfbf\">                    </span>         <span style=\"color: #008000; text-decoration-color: #008000\">double exposure photography'</span>, <span style=\"color: #008000; text-decoration-color: #008000\">'Time-lapse trails'</span>, <span style=\"color: #008000; text-decoration-color: #008000\">'Artwork with </span>          <span style=\"color: #7f7f7f; text-decoration-color: #7f7f7f\">           </span>\n",
       "<span style=\"color: #7fbfbf; text-decoration-color: #7fbfbf\">                    </span>         <span style=\"color: #008000; text-decoration-color: #008000\">pointillism technique'</span>, <span style=\"color: #008000; text-decoration-color: #008000\">'Artwork featuring retro TV test patterns'</span>,        <span style=\"color: #7f7f7f; text-decoration-color: #7f7f7f\">           </span>\n",
       "<span style=\"color: #7fbfbf; text-decoration-color: #7fbfbf\">                    </span>         <span style=\"color: #008000; text-decoration-color: #008000\">'Photograph with the artistic style of fisheye lens'</span>, <span style=\"color: #008000; text-decoration-color: #008000\">'An image of </span>        <span style=\"color: #7f7f7f; text-decoration-color: #7f7f7f\">           </span>\n",
       "<span style=\"color: #7fbfbf; text-decoration-color: #7fbfbf\">                    </span>         <span style=\"color: #008000; text-decoration-color: #008000\">Barcelona'</span>, <span style=\"color: #008000; text-decoration-color: #008000\">'Whimsical conceptual photography'</span>, <span style=\"color: #008000; text-decoration-color: #008000\">'Photo with warm, misty </span>   <span style=\"color: #7f7f7f; text-decoration-color: #7f7f7f\">           </span>\n",
       "<span style=\"color: #7fbfbf; text-decoration-color: #7fbfbf\">                    </span>         <span style=\"color: #008000; text-decoration-color: #008000\">tones'</span>, <span style=\"color: #008000; text-decoration-color: #008000\">'A photo with the letter J'</span>, <span style=\"color: #008000; text-decoration-color: #008000\">'Image showing prairie grouse'</span>, <span style=\"color: #008000; text-decoration-color: #008000\">'A </span>   <span style=\"color: #7f7f7f; text-decoration-color: #7f7f7f\">           </span>\n",
       "<span style=\"color: #7fbfbf; text-decoration-color: #7fbfbf\">                    </span>         <span style=\"color: #008000; text-decoration-color: #008000\">quilted texture'</span>, <span style=\"color: #008000; text-decoration-color: #008000\">'Close-up of a textured bark'</span>, <span style=\"color: #008000; text-decoration-color: #008000\">'Picture with boats'</span>,     <span style=\"color: #7f7f7f; text-decoration-color: #7f7f7f\">           </span>\n",
       "<span style=\"color: #7fbfbf; text-decoration-color: #7fbfbf\">                    </span>         <span style=\"color: #008000; text-decoration-color: #008000\">'Striking and vibrant fashion portrait'</span>, <span style=\"color: #008000; text-decoration-color: #008000\">'A handle'</span>, <span style=\"color: #008000; text-decoration-color: #008000\">'Photo taken in the </span>  <span style=\"color: #7f7f7f; text-decoration-color: #7f7f7f\">           </span>\n",
       "<span style=\"color: #7fbfbf; text-decoration-color: #7fbfbf\">                    </span>         <span style=\"color: #008000; text-decoration-color: #008000\">Hawaiian volcanoes'</span>, <span style=\"color: #008000; text-decoration-color: #008000\">'A picture of South Korea'</span>, <span style=\"color: #008000; text-decoration-color: #008000\">'Impressionist-style </span>     <span style=\"color: #7f7f7f; text-decoration-color: #7f7f7f\">           </span>\n",
       "<span style=\"color: #7fbfbf; text-decoration-color: #7fbfbf\">                    </span>         <span style=\"color: #008000; text-decoration-color: #008000\">digital artwork'</span><span style=\"font-weight: bold\">]</span>                                                          <span style=\"color: #7f7f7f; text-decoration-color: #7f7f7f\">           </span>\n",
       "</pre>\n"
      ],
      "text/plain": [
       "\u001b[2;36m                   \u001b[0m\u001b[2;36m \u001b[0m\u001b[34mINFO    \u001b[0m Task SVHN: \u001b[1m[\u001b[0m\u001b[32m'Artwork featuring Morse code typography'\u001b[0m, \u001b[32m'Surrealist artwork\u001b[0m \u001b]8;id=674763;file:///tmp/ipykernel_108035/4266128688.py\u001b\\\u001b[2m__main__\u001b[0m\u001b]8;;\u001b\\\u001b[2m:\u001b[0m\u001b]8;id=5302;file:///tmp/ipykernel_108035/4266128688.py#35\u001b\\\u001b[2m35\u001b[0m\u001b]8;;\u001b\\\n",
       "\u001b[2;36m                    \u001b[0m         \u001b[32mwith dreamlike elements'\u001b[0m, \u001b[32m'Striking and vibrant fashion portrait'\u001b[0m, \u001b[32m'A \u001b[0m     \u001b[2m           \u001b[0m\n",
       "\u001b[2;36m                    \u001b[0m         \u001b[32mbasket'\u001b[0m, \u001b[32m'An image of the number 7'\u001b[0m, \u001b[32m'An image of the number 10'\u001b[0m,          \u001b[2m           \u001b[0m\n",
       "\u001b[2;36m                    \u001b[0m         \u001b[32m'Organized chaos'\u001b[0m, \u001b[32m'misty forest path'\u001b[0m, \u001b[32m'Aerial view of a vineyard'\u001b[0m,       \u001b[2m           \u001b[0m\n",
       "\u001b[2;36m                    \u001b[0m         \u001b[32m'Vintage sepia tones'\u001b[0m, \u001b[32m'Photo taken in Rio de Janeiro, Brazil'\u001b[0m, \u001b[32m'orderly \u001b[0m  \u001b[2m           \u001b[0m\n",
       "\u001b[2;36m                    \u001b[0m         \u001b[32mmathematical formula'\u001b[0m, \u001b[32m'Collage of textures'\u001b[0m, \u001b[32m'Minimalist architectural \u001b[0m   \u001b[2m           \u001b[0m\n",
       "\u001b[2;36m                    \u001b[0m         \u001b[32mphotography'\u001b[0m, \u001b[32m'A photo with the letter S'\u001b[0m, \u001b[32m'Photograph with the artistic \u001b[0m  \u001b[2m           \u001b[0m\n",
       "\u001b[2;36m                    \u001b[0m         \u001b[32mstyle of light painting'\u001b[0m, \u001b[32m'Picture taken in an amusement park'\u001b[0m, \u001b[32m'A \u001b[0m        \u001b[2m           \u001b[0m\n",
       "\u001b[2;36m                    \u001b[0m         \u001b[32mglacier'\u001b[0m, \u001b[32m'colorful performance'\u001b[0m, \u001b[32m'Image with a five people'\u001b[0m, \u001b[32m'Ethereal \u001b[0m   \u001b[2m           \u001b[0m\n",
       "\u001b[2;36m                    \u001b[0m         \u001b[32mdouble exposure photography'\u001b[0m, \u001b[32m'Time-lapse trails'\u001b[0m, \u001b[32m'Artwork with \u001b[0m          \u001b[2m           \u001b[0m\n",
       "\u001b[2;36m                    \u001b[0m         \u001b[32mpointillism technique'\u001b[0m, \u001b[32m'Artwork featuring retro TV test patterns'\u001b[0m,        \u001b[2m           \u001b[0m\n",
       "\u001b[2;36m                    \u001b[0m         \u001b[32m'Photograph with the artistic style of fisheye lens'\u001b[0m, \u001b[32m'An image of \u001b[0m        \u001b[2m           \u001b[0m\n",
       "\u001b[2;36m                    \u001b[0m         \u001b[32mBarcelona'\u001b[0m, \u001b[32m'Whimsical conceptual photography'\u001b[0m, \u001b[32m'Photo with warm, misty \u001b[0m   \u001b[2m           \u001b[0m\n",
       "\u001b[2;36m                    \u001b[0m         \u001b[32mtones'\u001b[0m, \u001b[32m'A photo with the letter J'\u001b[0m, \u001b[32m'Image showing prairie grouse'\u001b[0m, \u001b[32m'A \u001b[0m   \u001b[2m           \u001b[0m\n",
       "\u001b[2;36m                    \u001b[0m         \u001b[32mquilted texture'\u001b[0m, \u001b[32m'Close-up of a textured bark'\u001b[0m, \u001b[32m'Picture with boats'\u001b[0m,     \u001b[2m           \u001b[0m\n",
       "\u001b[2;36m                    \u001b[0m         \u001b[32m'Striking and vibrant fashion portrait'\u001b[0m, \u001b[32m'A handle'\u001b[0m, \u001b[32m'Photo taken in the \u001b[0m  \u001b[2m           \u001b[0m\n",
       "\u001b[2;36m                    \u001b[0m         \u001b[32mHawaiian volcanoes'\u001b[0m, \u001b[32m'A picture of South Korea'\u001b[0m, \u001b[32m'Impressionist-style \u001b[0m     \u001b[2m           \u001b[0m\n",
       "\u001b[2;36m                    \u001b[0m         \u001b[32mdigital artwork'\u001b[0m\u001b[1m]\u001b[0m                                                          \u001b[2m           \u001b[0m\n"
      ]
     },
     "metadata": {},
     "output_type": "display_data"
    },
    {
     "data": {
      "text/html": [
       "<pre style=\"white-space:pre;overflow-x:auto;line-height:normal;font-family:Menlo,'DejaVu Sans Mono',consolas,'Courier New',monospace\"><span style=\"color: #7fbfbf; text-decoration-color: #7fbfbf\">                    </span><span style=\"color: #000080; text-decoration-color: #000080\">INFO    </span> Processing Task: CIFAR100                                                   <a href=\"file:///tmp/ipykernel_108035/4266128688.py\" target=\"_blank\"><span style=\"color: #7f7f7f; text-decoration-color: #7f7f7f\">__main__</span></a><span style=\"color: #7f7f7f; text-decoration-color: #7f7f7f\">:</span><a href=\"file:///tmp/ipykernel_108035/4266128688.py#5\" target=\"_blank\"><span style=\"color: #7f7f7f; text-decoration-color: #7f7f7f\">5</span></a>\n",
       "</pre>\n"
      ],
      "text/plain": [
       "\u001b[2;36m                   \u001b[0m\u001b[2;36m \u001b[0m\u001b[34mINFO    \u001b[0m Processing Task: CIFAR100                                                   \u001b]8;id=864098;file:///tmp/ipykernel_108035/4266128688.py\u001b\\\u001b[2m__main__\u001b[0m\u001b]8;;\u001b\\\u001b[2m:\u001b[0m\u001b]8;id=609986;file:///tmp/ipykernel_108035/4266128688.py#5\u001b\\\u001b[2m5\u001b[0m\u001b]8;;\u001b\\\n"
      ]
     },
     "metadata": {},
     "output_type": "display_data"
    },
    {
     "data": {
      "text/html": [
       "<pre style=\"white-space:pre;overflow-x:auto;line-height:normal;font-family:Menlo,'DejaVu Sans Mono',consolas,'Courier New',monospace\"><span style=\"color: #7fbfbf; text-decoration-color: #7fbfbf\">                    </span><span style=\"color: #000080; text-decoration-color: #000080\">INFO    </span> Task CIFAR100: <span style=\"font-weight: bold\">[</span><span style=\"color: #008000; text-decoration-color: #008000\">'Image with a pink color'</span>, <span style=\"color: #008000; text-decoration-color: #008000\">'Photograph of a mammal'</span>,       <a href=\"file:///tmp/ipykernel_108035/4266128688.py\" target=\"_blank\"><span style=\"color: #7f7f7f; text-decoration-color: #7f7f7f\">__main__</span></a><span style=\"color: #7f7f7f; text-decoration-color: #7f7f7f\">:</span><a href=\"file:///tmp/ipykernel_108035/4266128688.py#35\" target=\"_blank\"><span style=\"color: #7f7f7f; text-decoration-color: #7f7f7f\">35</span></a>\n",
       "<span style=\"color: #7fbfbf; text-decoration-color: #7fbfbf\">                    </span>         <span style=\"color: #008000; text-decoration-color: #008000\">'Photograph of a rodent'</span>, <span style=\"color: #008000; text-decoration-color: #008000\">'Graceful swimming fish'</span>, <span style=\"color: #008000; text-decoration-color: #008000\">'Playful zoo animal </span>   <span style=\"color: #7f7f7f; text-decoration-color: #7f7f7f\">           </span>\n",
       "<span style=\"color: #7fbfbf; text-decoration-color: #7fbfbf\">                    </span>         <span style=\"color: #008000; text-decoration-color: #008000\">interactions'</span>, <span style=\"color: #008000; text-decoration-color: #008000\">'A branch'</span>, <span style=\"color: #008000; text-decoration-color: #008000\">'A charcoal gray color'</span>, <span style=\"color: #008000; text-decoration-color: #008000\">'A trunk (of a tree or</span> <span style=\"color: #7f7f7f; text-decoration-color: #7f7f7f\">           </span>\n",
       "<span style=\"color: #7fbfbf; text-decoration-color: #7fbfbf\">                    </span>         <span style=\"color: #008000; text-decoration-color: #008000\">an elephant)'</span>, <span style=\"color: #008000; text-decoration-color: #008000\">'Captivating macro floral detail'</span>, <span style=\"color: #008000; text-decoration-color: #008000\">'Vibrant floral </span>         <span style=\"color: #7f7f7f; text-decoration-color: #7f7f7f\">           </span>\n",
       "<span style=\"color: #7fbfbf; text-decoration-color: #7fbfbf\">                    </span>         <span style=\"color: #008000; text-decoration-color: #008000\">arrangement'</span>, <span style=\"color: #008000; text-decoration-color: #008000\">'Snow-covered mountain peaks'</span>, <span style=\"color: #008000; text-decoration-color: #008000\">'A helix'</span>, <span style=\"color: #008000; text-decoration-color: #008000\">'Image with </span>       <span style=\"color: #7f7f7f; text-decoration-color: #7f7f7f\">           </span>\n",
       "<span style=\"color: #7fbfbf; text-decoration-color: #7fbfbf\">                    </span>         <span style=\"color: #008000; text-decoration-color: #008000\">holographic landscapes'</span>, <span style=\"color: #008000; text-decoration-color: #008000\">'detailed amphibian close-up'</span>, <span style=\"color: #008000; text-decoration-color: #008000\">'Bustling and </span>     <span style=\"color: #7f7f7f; text-decoration-color: #7f7f7f\">           </span>\n",
       "<span style=\"color: #7fbfbf; text-decoration-color: #7fbfbf\">                    </span>         <span style=\"color: #008000; text-decoration-color: #008000\">colorful food market'</span>, <span style=\"color: #008000; text-decoration-color: #008000\">'Illustration of a underwater scene'</span>, <span style=\"color: #008000; text-decoration-color: #008000\">'Enigmatic </span>   <span style=\"color: #7f7f7f; text-decoration-color: #7f7f7f\">           </span>\n",
       "<span style=\"color: #7fbfbf; text-decoration-color: #7fbfbf\">                    </span>         <span style=\"color: #008000; text-decoration-color: #008000\">mist-covered lake'</span>, <span style=\"color: #008000; text-decoration-color: #008000\">'Urban labyrinth'</span>, <span style=\"color: #008000; text-decoration-color: #008000\">'misty forest path'</span>, <span style=\"color: #008000; text-decoration-color: #008000\">'Picture </span>      <span style=\"color: #7f7f7f; text-decoration-color: #7f7f7f\">           </span>\n",
       "<span style=\"color: #7fbfbf; text-decoration-color: #7fbfbf\">                    </span>         <span style=\"color: #008000; text-decoration-color: #008000\">snapped in the Scottish moors'</span>, <span style=\"color: #008000; text-decoration-color: #008000\">'Rural windmill silhouette'</span>, <span style=\"color: #008000; text-decoration-color: #008000\">'Colorful hot</span> <span style=\"color: #7f7f7f; text-decoration-color: #7f7f7f\">           </span>\n",
       "<span style=\"color: #7fbfbf; text-decoration-color: #7fbfbf\">                    </span>         <span style=\"color: #008000; text-decoration-color: #008000\">air balloons'</span>, <span style=\"color: #008000; text-decoration-color: #008000\">'Close-up of a textured seashell'</span>, <span style=\"color: #008000; text-decoration-color: #008000\">'Aerial view of a </span>       <span style=\"color: #7f7f7f; text-decoration-color: #7f7f7f\">           </span>\n",
       "<span style=\"color: #7fbfbf; text-decoration-color: #7fbfbf\">                    </span>         <span style=\"color: #008000; text-decoration-color: #008000\">harbor'</span>, <span style=\"color: #008000; text-decoration-color: #008000\">'Picture with a close-up of a flower'</span>, <span style=\"color: #008000; text-decoration-color: #008000\">'Warm and cozy indoor </span>     <span style=\"color: #7f7f7f; text-decoration-color: #7f7f7f\">           </span>\n",
       "<span style=\"color: #7fbfbf; text-decoration-color: #7fbfbf\">                    </span>         <span style=\"color: #008000; text-decoration-color: #008000\">scene'</span>, <span style=\"color: #008000; text-decoration-color: #008000\">'Image with a single tree'</span>, <span style=\"color: #008000; text-decoration-color: #008000\">'Photo taken in Kilimanjaro'</span>, <span style=\"color: #008000; text-decoration-color: #008000\">'Photo </span>  <span style=\"color: #7f7f7f; text-decoration-color: #7f7f7f\">           </span>\n",
       "<span style=\"color: #7fbfbf; text-decoration-color: #7fbfbf\">                    </span>         <span style=\"color: #008000; text-decoration-color: #008000\">taken in the Thai floating markets'</span>, <span style=\"color: #008000; text-decoration-color: #008000\">'Abandoned spaces'</span>, <span style=\"color: #008000; text-decoration-color: #008000\">'Photo captured </span>  <span style=\"color: #7f7f7f; text-decoration-color: #7f7f7f\">           </span>\n",
       "<span style=\"color: #7fbfbf; text-decoration-color: #7fbfbf\">                    </span>         <span style=\"color: #008000; text-decoration-color: #008000\">in the Alaskan mountains'</span>, <span style=\"color: #008000; text-decoration-color: #008000\">'Close-up of a textured leather'</span>, <span style=\"color: #008000; text-decoration-color: #008000\">'Urban </span>       <span style=\"color: #7f7f7f; text-decoration-color: #7f7f7f\">           </span>\n",
       "<span style=\"color: #7fbfbf; text-decoration-color: #7fbfbf\">                    </span>         <span style=\"color: #008000; text-decoration-color: #008000\">rooftop panorama'</span>, <span style=\"color: #008000; text-decoration-color: #008000\">'Lush rainforest canopy'</span>, <span style=\"color: #008000; text-decoration-color: #008000\">'A cookie'</span>, <span style=\"color: #008000; text-decoration-color: #008000\">'Rural windmill </span>  <span style=\"color: #7f7f7f; text-decoration-color: #7f7f7f\">           </span>\n",
       "<span style=\"color: #7fbfbf; text-decoration-color: #7fbfbf\">                    </span>         <span style=\"color: #008000; text-decoration-color: #008000\">silhouette'</span>, <span style=\"color: #008000; text-decoration-color: #008000\">'A polka dot'</span>, <span style=\"color: #008000; text-decoration-color: #008000\">'Skyscrapers touching clouds'</span><span style=\"font-weight: bold\">]</span>                 <span style=\"color: #7f7f7f; text-decoration-color: #7f7f7f\">           </span>\n",
       "</pre>\n"
      ],
      "text/plain": [
       "\u001b[2;36m                   \u001b[0m\u001b[2;36m \u001b[0m\u001b[34mINFO    \u001b[0m Task CIFAR100: \u001b[1m[\u001b[0m\u001b[32m'Image with a pink color'\u001b[0m, \u001b[32m'Photograph of a mammal'\u001b[0m,       \u001b]8;id=86884;file:///tmp/ipykernel_108035/4266128688.py\u001b\\\u001b[2m__main__\u001b[0m\u001b]8;;\u001b\\\u001b[2m:\u001b[0m\u001b]8;id=45417;file:///tmp/ipykernel_108035/4266128688.py#35\u001b\\\u001b[2m35\u001b[0m\u001b]8;;\u001b\\\n",
       "\u001b[2;36m                    \u001b[0m         \u001b[32m'Photograph of a rodent'\u001b[0m, \u001b[32m'Graceful swimming fish'\u001b[0m, \u001b[32m'Playful zoo animal \u001b[0m   \u001b[2m           \u001b[0m\n",
       "\u001b[2;36m                    \u001b[0m         \u001b[32minteractions'\u001b[0m, \u001b[32m'A branch'\u001b[0m, \u001b[32m'A charcoal gray color'\u001b[0m, \u001b[32m'A trunk \u001b[0m\u001b[32m(\u001b[0m\u001b[32mof a tree or\u001b[0m \u001b[2m           \u001b[0m\n",
       "\u001b[2;36m                    \u001b[0m         \u001b[32man elephant\u001b[0m\u001b[32m)\u001b[0m\u001b[32m'\u001b[0m, \u001b[32m'Captivating macro floral detail'\u001b[0m, \u001b[32m'Vibrant floral \u001b[0m         \u001b[2m           \u001b[0m\n",
       "\u001b[2;36m                    \u001b[0m         \u001b[32marrangement'\u001b[0m, \u001b[32m'Snow-covered mountain peaks'\u001b[0m, \u001b[32m'A helix'\u001b[0m, \u001b[32m'Image with \u001b[0m       \u001b[2m           \u001b[0m\n",
       "\u001b[2;36m                    \u001b[0m         \u001b[32mholographic landscapes'\u001b[0m, \u001b[32m'detailed amphibian close-up'\u001b[0m, \u001b[32m'Bustling and \u001b[0m     \u001b[2m           \u001b[0m\n",
       "\u001b[2;36m                    \u001b[0m         \u001b[32mcolorful food market'\u001b[0m, \u001b[32m'Illustration of a underwater scene'\u001b[0m, \u001b[32m'Enigmatic \u001b[0m   \u001b[2m           \u001b[0m\n",
       "\u001b[2;36m                    \u001b[0m         \u001b[32mmist-covered lake'\u001b[0m, \u001b[32m'Urban labyrinth'\u001b[0m, \u001b[32m'misty forest path'\u001b[0m, \u001b[32m'Picture \u001b[0m      \u001b[2m           \u001b[0m\n",
       "\u001b[2;36m                    \u001b[0m         \u001b[32msnapped in the Scottish moors'\u001b[0m, \u001b[32m'Rural windmill silhouette'\u001b[0m, \u001b[32m'Colorful hot\u001b[0m \u001b[2m           \u001b[0m\n",
       "\u001b[2;36m                    \u001b[0m         \u001b[32mair balloons'\u001b[0m, \u001b[32m'Close-up of a textured seashell'\u001b[0m, \u001b[32m'Aerial view of a \u001b[0m       \u001b[2m           \u001b[0m\n",
       "\u001b[2;36m                    \u001b[0m         \u001b[32mharbor'\u001b[0m, \u001b[32m'Picture with a close-up of a flower'\u001b[0m, \u001b[32m'Warm and cozy indoor \u001b[0m     \u001b[2m           \u001b[0m\n",
       "\u001b[2;36m                    \u001b[0m         \u001b[32mscene'\u001b[0m, \u001b[32m'Image with a single tree'\u001b[0m, \u001b[32m'Photo taken in Kilimanjaro'\u001b[0m, \u001b[32m'Photo \u001b[0m  \u001b[2m           \u001b[0m\n",
       "\u001b[2;36m                    \u001b[0m         \u001b[32mtaken in the Thai floating markets'\u001b[0m, \u001b[32m'Abandoned spaces'\u001b[0m, \u001b[32m'Photo captured \u001b[0m  \u001b[2m           \u001b[0m\n",
       "\u001b[2;36m                    \u001b[0m         \u001b[32min the Alaskan mountains'\u001b[0m, \u001b[32m'Close-up of a textured leather'\u001b[0m, \u001b[32m'Urban \u001b[0m       \u001b[2m           \u001b[0m\n",
       "\u001b[2;36m                    \u001b[0m         \u001b[32mrooftop panorama'\u001b[0m, \u001b[32m'Lush rainforest canopy'\u001b[0m, \u001b[32m'A cookie'\u001b[0m, \u001b[32m'Rural windmill \u001b[0m  \u001b[2m           \u001b[0m\n",
       "\u001b[2;36m                    \u001b[0m         \u001b[32msilhouette'\u001b[0m, \u001b[32m'A polka dot'\u001b[0m, \u001b[32m'Skyscrapers touching clouds'\u001b[0m\u001b[1m]\u001b[0m                 \u001b[2m           \u001b[0m\n"
      ]
     },
     "metadata": {},
     "output_type": "display_data"
    },
    {
     "data": {
      "text/html": [
       "<pre style=\"white-space:pre;overflow-x:auto;line-height:normal;font-family:Menlo,'DejaVu Sans Mono',consolas,'Courier New',monospace\"><span style=\"color: #7fbfbf; text-decoration-color: #7fbfbf\">                    </span><span style=\"color: #000080; text-decoration-color: #000080\">INFO    </span> Processing Task: STL10                                                      <a href=\"file:///tmp/ipykernel_108035/4266128688.py\" target=\"_blank\"><span style=\"color: #7f7f7f; text-decoration-color: #7f7f7f\">__main__</span></a><span style=\"color: #7f7f7f; text-decoration-color: #7f7f7f\">:</span><a href=\"file:///tmp/ipykernel_108035/4266128688.py#5\" target=\"_blank\"><span style=\"color: #7f7f7f; text-decoration-color: #7f7f7f\">5</span></a>\n",
       "</pre>\n"
      ],
      "text/plain": [
       "\u001b[2;36m                   \u001b[0m\u001b[2;36m \u001b[0m\u001b[34mINFO    \u001b[0m Processing Task: STL10                                                      \u001b]8;id=767207;file:///tmp/ipykernel_108035/4266128688.py\u001b\\\u001b[2m__main__\u001b[0m\u001b]8;;\u001b\\\u001b[2m:\u001b[0m\u001b]8;id=571529;file:///tmp/ipykernel_108035/4266128688.py#5\u001b\\\u001b[2m5\u001b[0m\u001b]8;;\u001b\\\n"
      ]
     },
     "metadata": {},
     "output_type": "display_data"
    },
    {
     "data": {
      "text/html": [
       "<pre style=\"white-space:pre;overflow-x:auto;line-height:normal;font-family:Menlo,'DejaVu Sans Mono',consolas,'Courier New',monospace\"><span style=\"color: #7fbfbf; text-decoration-color: #7fbfbf\">                    </span><span style=\"color: #000080; text-decoration-color: #000080\">INFO    </span> Task STL10: <span style=\"font-weight: bold\">[</span><span style=\"color: #008000; text-decoration-color: #008000\">'Photo with dreamy soft focus'</span>, <span style=\"color: #008000; text-decoration-color: #008000\">'Colorful hot air balloons'</span>,  <a href=\"file:///tmp/ipykernel_108035/4266128688.py\" target=\"_blank\"><span style=\"color: #7f7f7f; text-decoration-color: #7f7f7f\">__main__</span></a><span style=\"color: #7f7f7f; text-decoration-color: #7f7f7f\">:</span><a href=\"file:///tmp/ipykernel_108035/4266128688.py#35\" target=\"_blank\"><span style=\"color: #7f7f7f; text-decoration-color: #7f7f7f\">35</span></a>\n",
       "<span style=\"color: #7fbfbf; text-decoration-color: #7fbfbf\">                    </span>         <span style=\"color: #008000; text-decoration-color: #008000\">'Image of a delivery van'</span>, <span style=\"color: #008000; text-decoration-color: #008000\">'Aerial landscape photography'</span>, <span style=\"color: #008000; text-decoration-color: #008000\">'Image of an </span>   <span style=\"color: #7f7f7f; text-decoration-color: #7f7f7f\">           </span>\n",
       "<span style=\"color: #7fbfbf; text-decoration-color: #7fbfbf\">                    </span>         <span style=\"color: #008000; text-decoration-color: #008000\">ambulance'</span>, <span style=\"color: #008000; text-decoration-color: #008000\">'Picture with cars'</span>, <span style=\"color: #008000; text-decoration-color: #008000\">'Artwork featuring barcode arrangement'</span>,  <span style=\"color: #7f7f7f; text-decoration-color: #7f7f7f\">           </span>\n",
       "<span style=\"color: #7fbfbf; text-decoration-color: #7fbfbf\">                    </span>         <span style=\"color: #008000; text-decoration-color: #008000\">'cozy interior space'</span>, <span style=\"color: #008000; text-decoration-color: #008000\">'Image of a delivery van'</span>, <span style=\"color: #008000; text-decoration-color: #008000\">'Vibrant street scene'</span>,  <span style=\"color: #7f7f7f; text-decoration-color: #7f7f7f\">           </span>\n",
       "<span style=\"color: #7fbfbf; text-decoration-color: #7fbfbf\">                    </span>         <span style=\"color: #008000; text-decoration-color: #008000\">'Picture taken in China'</span>, <span style=\"color: #008000; text-decoration-color: #008000\">'A zebra stripe pattern'</span>, <span style=\"color: #008000; text-decoration-color: #008000\">'Classic black and </span>    <span style=\"color: #7f7f7f; text-decoration-color: #7f7f7f\">           </span>\n",
       "<span style=\"color: #7fbfbf; text-decoration-color: #7fbfbf\">                    </span>         <span style=\"color: #008000; text-decoration-color: #008000\">white cityscape'</span>, <span style=\"color: #008000; text-decoration-color: #008000\">'Photograph taken in a antique shop'</span>, <span style=\"color: #008000; text-decoration-color: #008000\">'Aerial view of a </span> <span style=\"color: #7f7f7f; text-decoration-color: #7f7f7f\">           </span>\n",
       "<span style=\"color: #7fbfbf; text-decoration-color: #7fbfbf\">                    </span>         <span style=\"color: #008000; text-decoration-color: #008000\">coral reef'</span>, <span style=\"color: #008000; text-decoration-color: #008000\">'Quaint countryside barn'</span>, <span style=\"color: #008000; text-decoration-color: #008000\">'an image of liechtenstein'</span>, <span style=\"color: #008000; text-decoration-color: #008000\">'Warm</span> <span style=\"color: #7f7f7f; text-decoration-color: #7f7f7f\">           </span>\n",
       "<span style=\"color: #7fbfbf; text-decoration-color: #7fbfbf\">                    </span>         <span style=\"color: #008000; text-decoration-color: #008000\">and cozy indoor scene'</span>, <span style=\"color: #008000; text-decoration-color: #008000\">'Photo taken in the Serengeti National Park'</span>,      <span style=\"color: #7f7f7f; text-decoration-color: #7f7f7f\">           </span>\n",
       "<span style=\"color: #7fbfbf; text-decoration-color: #7fbfbf\">                    </span>         <span style=\"color: #008000; text-decoration-color: #008000\">'Picture taken in an underwater world'</span>, <span style=\"color: #008000; text-decoration-color: #008000\">'An image with cats'</span>, <span style=\"color: #008000; text-decoration-color: #008000\">'Picture </span>    <span style=\"color: #7f7f7f; text-decoration-color: #7f7f7f\">           </span>\n",
       "<span style=\"color: #7fbfbf; text-decoration-color: #7fbfbf\">                    </span>         <span style=\"color: #008000; text-decoration-color: #008000\">with cars'</span>, <span style=\"color: #008000; text-decoration-color: #008000\">'An image of a Firefighter'</span>, <span style=\"color: #008000; text-decoration-color: #008000\">'Antique decorative element'</span>, <span style=\"color: #008000; text-decoration-color: #008000\">'An</span> <span style=\"color: #7f7f7f; text-decoration-color: #7f7f7f\">           </span>\n",
       "<span style=\"color: #7fbfbf; text-decoration-color: #7fbfbf\">                    </span>         <span style=\"color: #008000; text-decoration-color: #008000\">image of the number 4'</span>, <span style=\"color: #008000; text-decoration-color: #008000\">'Image of a horse-drawn carriage'</span>, <span style=\"color: #008000; text-decoration-color: #008000\">'Urban </span>         <span style=\"color: #7f7f7f; text-decoration-color: #7f7f7f\">           </span>\n",
       "<span style=\"color: #7fbfbf; text-decoration-color: #7fbfbf\">                    </span>         <span style=\"color: #008000; text-decoration-color: #008000\">labyrinth'</span>, <span style=\"color: #008000; text-decoration-color: #008000\">'Picture captured in the Egyptian pyramids'</span>, <span style=\"color: #008000; text-decoration-color: #008000\">'Rural windmill </span>  <span style=\"color: #7f7f7f; text-decoration-color: #7f7f7f\">           </span>\n",
       "<span style=\"color: #7fbfbf; text-decoration-color: #7fbfbf\">                    </span>         <span style=\"color: #008000; text-decoration-color: #008000\">silhouette'</span>, <span style=\"color: #008000; text-decoration-color: #008000\">'Picture snapped in the Greek ruins'</span>, <span style=\"color: #008000; text-decoration-color: #008000\">'Snowy forest trail'</span>,   <span style=\"color: #7f7f7f; text-decoration-color: #7f7f7f\">           </span>\n",
       "<span style=\"color: #7fbfbf; text-decoration-color: #7fbfbf\">                    </span>         <span style=\"color: #008000; text-decoration-color: #008000\">'Photo taken in Cairo, Egypt'</span>, <span style=\"color: #008000; text-decoration-color: #008000\">'Picture taken in Alberta, Canada'</span>,         <span style=\"color: #7f7f7f; text-decoration-color: #7f7f7f\">           </span>\n",
       "<span style=\"color: #7fbfbf; text-decoration-color: #7fbfbf\">                    </span>         <span style=\"color: #008000; text-decoration-color: #008000\">'Striking fashion runway moment'</span>, <span style=\"color: #008000; text-decoration-color: #008000\">'Illustration of an astronomical </span>        <span style=\"color: #7f7f7f; text-decoration-color: #7f7f7f\">           </span>\n",
       "<span style=\"color: #7fbfbf; text-decoration-color: #7fbfbf\">                    </span>         <span style=\"color: #008000; text-decoration-color: #008000\">phenomenon'</span>, <span style=\"color: #008000; text-decoration-color: #008000\">'Image with a whirlpool in the ocean'</span>, <span style=\"color: #008000; text-decoration-color: #008000\">'serene oceanside </span>     <span style=\"color: #7f7f7f; text-decoration-color: #7f7f7f\">           </span>\n",
       "<span style=\"color: #7fbfbf; text-decoration-color: #7fbfbf\">                    </span>         <span style=\"color: #008000; text-decoration-color: #008000\">retreat'</span>, <span style=\"color: #008000; text-decoration-color: #008000\">'Image with shattered ice or frost'</span><span style=\"font-weight: bold\">]</span>                             <span style=\"color: #7f7f7f; text-decoration-color: #7f7f7f\">           </span>\n",
       "</pre>\n"
      ],
      "text/plain": [
       "\u001b[2;36m                   \u001b[0m\u001b[2;36m \u001b[0m\u001b[34mINFO    \u001b[0m Task STL10: \u001b[1m[\u001b[0m\u001b[32m'Photo with dreamy soft focus'\u001b[0m, \u001b[32m'Colorful hot air balloons'\u001b[0m,  \u001b]8;id=400763;file:///tmp/ipykernel_108035/4266128688.py\u001b\\\u001b[2m__main__\u001b[0m\u001b]8;;\u001b\\\u001b[2m:\u001b[0m\u001b]8;id=502910;file:///tmp/ipykernel_108035/4266128688.py#35\u001b\\\u001b[2m35\u001b[0m\u001b]8;;\u001b\\\n",
       "\u001b[2;36m                    \u001b[0m         \u001b[32m'Image of a delivery van'\u001b[0m, \u001b[32m'Aerial landscape photography'\u001b[0m, \u001b[32m'Image of an \u001b[0m   \u001b[2m           \u001b[0m\n",
       "\u001b[2;36m                    \u001b[0m         \u001b[32mambulance'\u001b[0m, \u001b[32m'Picture with cars'\u001b[0m, \u001b[32m'Artwork featuring barcode arrangement'\u001b[0m,  \u001b[2m           \u001b[0m\n",
       "\u001b[2;36m                    \u001b[0m         \u001b[32m'cozy interior space'\u001b[0m, \u001b[32m'Image of a delivery van'\u001b[0m, \u001b[32m'Vibrant street scene'\u001b[0m,  \u001b[2m           \u001b[0m\n",
       "\u001b[2;36m                    \u001b[0m         \u001b[32m'Picture taken in China'\u001b[0m, \u001b[32m'A zebra stripe pattern'\u001b[0m, \u001b[32m'Classic black and \u001b[0m    \u001b[2m           \u001b[0m\n",
       "\u001b[2;36m                    \u001b[0m         \u001b[32mwhite cityscape'\u001b[0m, \u001b[32m'Photograph taken in a antique shop'\u001b[0m, \u001b[32m'Aerial view of a \u001b[0m \u001b[2m           \u001b[0m\n",
       "\u001b[2;36m                    \u001b[0m         \u001b[32mcoral reef'\u001b[0m, \u001b[32m'Quaint countryside barn'\u001b[0m, \u001b[32m'an image of liechtenstein'\u001b[0m, \u001b[32m'Warm\u001b[0m \u001b[2m           \u001b[0m\n",
       "\u001b[2;36m                    \u001b[0m         \u001b[32mand cozy indoor scene'\u001b[0m, \u001b[32m'Photo taken in the Serengeti National Park'\u001b[0m,      \u001b[2m           \u001b[0m\n",
       "\u001b[2;36m                    \u001b[0m         \u001b[32m'Picture taken in an underwater world'\u001b[0m, \u001b[32m'An image with cats'\u001b[0m, \u001b[32m'Picture \u001b[0m    \u001b[2m           \u001b[0m\n",
       "\u001b[2;36m                    \u001b[0m         \u001b[32mwith cars'\u001b[0m, \u001b[32m'An image of a Firefighter'\u001b[0m, \u001b[32m'Antique decorative element'\u001b[0m, \u001b[32m'An\u001b[0m \u001b[2m           \u001b[0m\n",
       "\u001b[2;36m                    \u001b[0m         \u001b[32mimage of the number 4'\u001b[0m, \u001b[32m'Image of a horse-drawn carriage'\u001b[0m, \u001b[32m'Urban \u001b[0m         \u001b[2m           \u001b[0m\n",
       "\u001b[2;36m                    \u001b[0m         \u001b[32mlabyrinth'\u001b[0m, \u001b[32m'Picture captured in the Egyptian pyramids'\u001b[0m, \u001b[32m'Rural windmill \u001b[0m  \u001b[2m           \u001b[0m\n",
       "\u001b[2;36m                    \u001b[0m         \u001b[32msilhouette'\u001b[0m, \u001b[32m'Picture snapped in the Greek ruins'\u001b[0m, \u001b[32m'Snowy forest trail'\u001b[0m,   \u001b[2m           \u001b[0m\n",
       "\u001b[2;36m                    \u001b[0m         \u001b[32m'Photo taken in Cairo, Egypt'\u001b[0m, \u001b[32m'Picture taken in Alberta, Canada'\u001b[0m,         \u001b[2m           \u001b[0m\n",
       "\u001b[2;36m                    \u001b[0m         \u001b[32m'Striking fashion runway moment'\u001b[0m, \u001b[32m'Illustration of an astronomical \u001b[0m        \u001b[2m           \u001b[0m\n",
       "\u001b[2;36m                    \u001b[0m         \u001b[32mphenomenon'\u001b[0m, \u001b[32m'Image with a whirlpool in the ocean'\u001b[0m, \u001b[32m'serene oceanside \u001b[0m     \u001b[2m           \u001b[0m\n",
       "\u001b[2;36m                    \u001b[0m         \u001b[32mretreat'\u001b[0m, \u001b[32m'Image with shattered ice or frost'\u001b[0m\u001b[1m]\u001b[0m                             \u001b[2m           \u001b[0m\n"
      ]
     },
     "metadata": {},
     "output_type": "display_data"
    },
    {
     "data": {
      "text/html": [
       "<pre style=\"white-space:pre;overflow-x:auto;line-height:normal;font-family:Menlo,'DejaVu Sans Mono',consolas,'Courier New',monospace\"><span style=\"color: #7fbfbf; text-decoration-color: #7fbfbf\">                    </span><span style=\"color: #000080; text-decoration-color: #000080\">INFO    </span> Processing Task: Flowers102                                                 <a href=\"file:///tmp/ipykernel_108035/4266128688.py\" target=\"_blank\"><span style=\"color: #7f7f7f; text-decoration-color: #7f7f7f\">__main__</span></a><span style=\"color: #7f7f7f; text-decoration-color: #7f7f7f\">:</span><a href=\"file:///tmp/ipykernel_108035/4266128688.py#5\" target=\"_blank\"><span style=\"color: #7f7f7f; text-decoration-color: #7f7f7f\">5</span></a>\n",
       "</pre>\n"
      ],
      "text/plain": [
       "\u001b[2;36m                   \u001b[0m\u001b[2;36m \u001b[0m\u001b[34mINFO    \u001b[0m Processing Task: Flowers102                                                 \u001b]8;id=535377;file:///tmp/ipykernel_108035/4266128688.py\u001b\\\u001b[2m__main__\u001b[0m\u001b]8;;\u001b\\\u001b[2m:\u001b[0m\u001b]8;id=574405;file:///tmp/ipykernel_108035/4266128688.py#5\u001b\\\u001b[2m5\u001b[0m\u001b]8;;\u001b\\\n"
      ]
     },
     "metadata": {},
     "output_type": "display_data"
    },
    {
     "data": {
      "text/html": [
       "<pre style=\"white-space:pre;overflow-x:auto;line-height:normal;font-family:Menlo,'DejaVu Sans Mono',consolas,'Courier New',monospace\"><span style=\"color: #7fbfbf; text-decoration-color: #7fbfbf\">2025-03-17 12:02:58 </span><span style=\"color: #000080; text-decoration-color: #000080\">INFO    </span> Task Flowers102: <span style=\"font-weight: bold\">[</span><span style=\"color: #008000; text-decoration-color: #008000\">'Artwork featuring Morse code typography'</span>, <span style=\"color: #008000; text-decoration-color: #008000\">'Picture with</span> <a href=\"file:///tmp/ipykernel_108035/4266128688.py\" target=\"_blank\"><span style=\"color: #7f7f7f; text-decoration-color: #7f7f7f\">__main__</span></a><span style=\"color: #7f7f7f; text-decoration-color: #7f7f7f\">:</span><a href=\"file:///tmp/ipykernel_108035/4266128688.py#35\" target=\"_blank\"><span style=\"color: #7f7f7f; text-decoration-color: #7f7f7f\">35</span></a>\n",
       "<span style=\"color: #7fbfbf; text-decoration-color: #7fbfbf\">                    </span>         <span style=\"color: #008000; text-decoration-color: #008000\">a close-up of a flower'</span>, <span style=\"color: #008000; text-decoration-color: #008000\">'An image of a Gardener'</span>, <span style=\"color: #008000; text-decoration-color: #008000\">'Image showing prairie </span> <span style=\"color: #7f7f7f; text-decoration-color: #7f7f7f\">           </span>\n",
       "<span style=\"color: #7fbfbf; text-decoration-color: #7fbfbf\">                    </span>         <span style=\"color: #008000; text-decoration-color: #008000\">grouse'</span>, <span style=\"color: #008000; text-decoration-color: #008000\">'Urban rooftop panorama'</span>, <span style=\"color: #008000; text-decoration-color: #008000\">'Vintage nostalgia'</span>, <span style=\"color: #008000; text-decoration-color: #008000\">'detailed </span>         <span style=\"color: #7f7f7f; text-decoration-color: #7f7f7f\">           </span>\n",
       "<span style=\"color: #7fbfbf; text-decoration-color: #7fbfbf\">                    </span>         <span style=\"color: #008000; text-decoration-color: #008000\">architectural carving'</span>, <span style=\"color: #008000; text-decoration-color: #008000\">'Herringbone pattern'</span>, <span style=\"color: #008000; text-decoration-color: #008000\">'A fractal snowflake'</span>,      <span style=\"color: #7f7f7f; text-decoration-color: #7f7f7f\">           </span>\n",
       "<span style=\"color: #7fbfbf; text-decoration-color: #7fbfbf\">                    </span>         <span style=\"color: #008000; text-decoration-color: #008000\">'Photo taken in Machu Picchu, Peru'</span>, <span style=\"color: #008000; text-decoration-color: #008000\">'an image of liechtenstein'</span>, <span style=\"color: #008000; text-decoration-color: #008000\">'Image </span>  <span style=\"color: #7f7f7f; text-decoration-color: #7f7f7f\">           </span>\n",
       "<span style=\"color: #7fbfbf; text-decoration-color: #7fbfbf\">                    </span>         <span style=\"color: #008000; text-decoration-color: #008000\">with a volcanic lava flow'</span>, <span style=\"color: #008000; text-decoration-color: #008000\">'Ethereal double exposure photography'</span>, <span style=\"color: #008000; text-decoration-color: #008000\">'Art </span>  <span style=\"color: #7f7f7f; text-decoration-color: #7f7f7f\">           </span>\n",
       "<span style=\"color: #7fbfbf; text-decoration-color: #7fbfbf\">                    </span>         <span style=\"color: #008000; text-decoration-color: #008000\">Nouveau-inspired design'</span>, <span style=\"color: #008000; text-decoration-color: #008000\">'Industrial backdrop'</span>, <span style=\"color: #008000; text-decoration-color: #008000\">'Photo taken in Bora </span>     <span style=\"color: #7f7f7f; text-decoration-color: #7f7f7f\">           </span>\n",
       "<span style=\"color: #7fbfbf; text-decoration-color: #7fbfbf\">                    </span>         <span style=\"color: #008000; text-decoration-color: #008000\">Bora, French Polynesia'</span>, <span style=\"color: #008000; text-decoration-color: #008000\">'Picture taken in the Italian pizzerias'</span>, <span style=\"color: #008000; text-decoration-color: #008000\">'an </span>    <span style=\"color: #7f7f7f; text-decoration-color: #7f7f7f\">           </span>\n",
       "<span style=\"color: #7fbfbf; text-decoration-color: #7fbfbf\">                    </span>         <span style=\"color: #008000; text-decoration-color: #008000\">image of liechtenstein'</span>, <span style=\"color: #008000; text-decoration-color: #008000\">'Image with a pink color'</span>, <span style=\"color: #008000; text-decoration-color: #008000\">'Sunlit meadow path'</span>,  <span style=\"color: #7f7f7f; text-decoration-color: #7f7f7f\">           </span>\n",
       "<span style=\"color: #7fbfbf; text-decoration-color: #7fbfbf\">                    </span>         <span style=\"color: #008000; text-decoration-color: #008000\">'Bustling cityscape at night'</span>, <span style=\"color: #008000; text-decoration-color: #008000\">'Rolling wheat fields'</span>, <span style=\"color: #008000; text-decoration-color: #008000\">'Picture taken in </span>  <span style=\"color: #7f7f7f; text-decoration-color: #7f7f7f\">           </span>\n",
       "<span style=\"color: #7fbfbf; text-decoration-color: #7fbfbf\">                    </span>         <span style=\"color: #008000; text-decoration-color: #008000\">the Spanish Flamenco festivals'</span>, <span style=\"color: #008000; text-decoration-color: #008000\">'Photograph with a purple color palette'</span>, <span style=\"color: #7f7f7f; text-decoration-color: #7f7f7f\">           </span>\n",
       "<span style=\"color: #7fbfbf; text-decoration-color: #7fbfbf\">                    </span>         <span style=\"color: #008000; text-decoration-color: #008000\">'Playful animals'</span>, <span style=\"color: #008000; text-decoration-color: #008000\">'Desert oasis palm trees'</span>, <span style=\"color: #008000; text-decoration-color: #008000\">'Inviting home library'</span>,     <span style=\"color: #7f7f7f; text-decoration-color: #7f7f7f\">           </span>\n",
       "<span style=\"color: #7fbfbf; text-decoration-color: #7fbfbf\">                    </span>         <span style=\"color: #008000; text-decoration-color: #008000\">'Striking and vibrant fashion portrait'</span>, <span style=\"color: #008000; text-decoration-color: #008000\">'Artwork featuring abstract </span>      <span style=\"color: #7f7f7f; text-decoration-color: #7f7f7f\">           </span>\n",
       "<span style=\"color: #7fbfbf; text-decoration-color: #7fbfbf\">                    </span>         <span style=\"color: #008000; text-decoration-color: #008000\">fractal patterns'</span>, <span style=\"color: #008000; text-decoration-color: #008000\">'A magnolia'</span>, <span style=\"color: #008000; text-decoration-color: #008000\">'Glistening dew-covered foliage'</span>, <span style=\"color: #008000; text-decoration-color: #008000\">'Ocean </span> <span style=\"color: #7f7f7f; text-decoration-color: #7f7f7f\">           </span>\n",
       "<span style=\"color: #7fbfbf; text-decoration-color: #7fbfbf\">                    </span>         <span style=\"color: #008000; text-decoration-color: #008000\">sunset silhouette'</span>, <span style=\"color: #008000; text-decoration-color: #008000\">'Caricature of a sports figure'</span>, <span style=\"color: #008000; text-decoration-color: #008000\">'intricate fractal </span>   <span style=\"color: #7f7f7f; text-decoration-color: #7f7f7f\">           </span>\n",
       "<span style=\"color: #7fbfbf; text-decoration-color: #7fbfbf\">                    </span>         <span style=\"color: #008000; text-decoration-color: #008000\">pattern'</span>, <span style=\"color: #008000; text-decoration-color: #008000\">'Picture taken in the Japanese temples'</span>, <span style=\"color: #008000; text-decoration-color: #008000\">'A traffic cone'</span>,       <span style=\"color: #7f7f7f; text-decoration-color: #7f7f7f\">           </span>\n",
       "<span style=\"color: #7fbfbf; text-decoration-color: #7fbfbf\">                    </span>         <span style=\"color: #008000; text-decoration-color: #008000\">'Patchwork quilt design'</span>, <span style=\"color: #008000; text-decoration-color: #008000\">'Photograph displaying curiosity'</span><span style=\"font-weight: bold\">]</span>               <span style=\"color: #7f7f7f; text-decoration-color: #7f7f7f\">           </span>\n",
       "</pre>\n"
      ],
      "text/plain": [
       "\u001b[2;36m2025-03-17 12:02:58\u001b[0m\u001b[2;36m \u001b[0m\u001b[34mINFO    \u001b[0m Task Flowers102: \u001b[1m[\u001b[0m\u001b[32m'Artwork featuring Morse code typography'\u001b[0m, \u001b[32m'Picture with\u001b[0m \u001b]8;id=582909;file:///tmp/ipykernel_108035/4266128688.py\u001b\\\u001b[2m__main__\u001b[0m\u001b]8;;\u001b\\\u001b[2m:\u001b[0m\u001b]8;id=720971;file:///tmp/ipykernel_108035/4266128688.py#35\u001b\\\u001b[2m35\u001b[0m\u001b]8;;\u001b\\\n",
       "\u001b[2;36m                    \u001b[0m         \u001b[32ma close-up of a flower'\u001b[0m, \u001b[32m'An image of a Gardener'\u001b[0m, \u001b[32m'Image showing prairie \u001b[0m \u001b[2m           \u001b[0m\n",
       "\u001b[2;36m                    \u001b[0m         \u001b[32mgrouse'\u001b[0m, \u001b[32m'Urban rooftop panorama'\u001b[0m, \u001b[32m'Vintage nostalgia'\u001b[0m, \u001b[32m'detailed \u001b[0m         \u001b[2m           \u001b[0m\n",
       "\u001b[2;36m                    \u001b[0m         \u001b[32marchitectural carving'\u001b[0m, \u001b[32m'Herringbone pattern'\u001b[0m, \u001b[32m'A fractal snowflake'\u001b[0m,      \u001b[2m           \u001b[0m\n",
       "\u001b[2;36m                    \u001b[0m         \u001b[32m'Photo taken in Machu Picchu, Peru'\u001b[0m, \u001b[32m'an image of liechtenstein'\u001b[0m, \u001b[32m'Image \u001b[0m  \u001b[2m           \u001b[0m\n",
       "\u001b[2;36m                    \u001b[0m         \u001b[32mwith a volcanic lava flow'\u001b[0m, \u001b[32m'Ethereal double exposure photography'\u001b[0m, \u001b[32m'Art \u001b[0m  \u001b[2m           \u001b[0m\n",
       "\u001b[2;36m                    \u001b[0m         \u001b[32mNouveau-inspired design'\u001b[0m, \u001b[32m'Industrial backdrop'\u001b[0m, \u001b[32m'Photo taken in Bora \u001b[0m     \u001b[2m           \u001b[0m\n",
       "\u001b[2;36m                    \u001b[0m         \u001b[32mBora, French Polynesia'\u001b[0m, \u001b[32m'Picture taken in the Italian pizzerias'\u001b[0m, \u001b[32m'an \u001b[0m    \u001b[2m           \u001b[0m\n",
       "\u001b[2;36m                    \u001b[0m         \u001b[32mimage of liechtenstein'\u001b[0m, \u001b[32m'Image with a pink color'\u001b[0m, \u001b[32m'Sunlit meadow path'\u001b[0m,  \u001b[2m           \u001b[0m\n",
       "\u001b[2;36m                    \u001b[0m         \u001b[32m'Bustling cityscape at night'\u001b[0m, \u001b[32m'Rolling wheat fields'\u001b[0m, \u001b[32m'Picture taken in \u001b[0m  \u001b[2m           \u001b[0m\n",
       "\u001b[2;36m                    \u001b[0m         \u001b[32mthe Spanish Flamenco festivals'\u001b[0m, \u001b[32m'Photograph with a purple color palette'\u001b[0m, \u001b[2m           \u001b[0m\n",
       "\u001b[2;36m                    \u001b[0m         \u001b[32m'Playful animals'\u001b[0m, \u001b[32m'Desert oasis palm trees'\u001b[0m, \u001b[32m'Inviting home library'\u001b[0m,     \u001b[2m           \u001b[0m\n",
       "\u001b[2;36m                    \u001b[0m         \u001b[32m'Striking and vibrant fashion portrait'\u001b[0m, \u001b[32m'Artwork featuring abstract \u001b[0m      \u001b[2m           \u001b[0m\n",
       "\u001b[2;36m                    \u001b[0m         \u001b[32mfractal patterns'\u001b[0m, \u001b[32m'A magnolia'\u001b[0m, \u001b[32m'Glistening dew-covered foliage'\u001b[0m, \u001b[32m'Ocean \u001b[0m \u001b[2m           \u001b[0m\n",
       "\u001b[2;36m                    \u001b[0m         \u001b[32msunset silhouette'\u001b[0m, \u001b[32m'Caricature of a sports figure'\u001b[0m, \u001b[32m'intricate fractal \u001b[0m   \u001b[2m           \u001b[0m\n",
       "\u001b[2;36m                    \u001b[0m         \u001b[32mpattern'\u001b[0m, \u001b[32m'Picture taken in the Japanese temples'\u001b[0m, \u001b[32m'A traffic cone'\u001b[0m,       \u001b[2m           \u001b[0m\n",
       "\u001b[2;36m                    \u001b[0m         \u001b[32m'Patchwork quilt design'\u001b[0m, \u001b[32m'Photograph displaying curiosity'\u001b[0m\u001b[1m]\u001b[0m               \u001b[2m           \u001b[0m\n"
      ]
     },
     "metadata": {},
     "output_type": "display_data"
    },
    {
     "data": {
      "text/html": [
       "<pre style=\"white-space:pre;overflow-x:auto;line-height:normal;font-family:Menlo,'DejaVu Sans Mono',consolas,'Courier New',monospace\"><span style=\"color: #7fbfbf; text-decoration-color: #7fbfbf\">                    </span><span style=\"color: #000080; text-decoration-color: #000080\">INFO    </span> Processing Task: OxfordIIITPet                                              <a href=\"file:///tmp/ipykernel_108035/4266128688.py\" target=\"_blank\"><span style=\"color: #7f7f7f; text-decoration-color: #7f7f7f\">__main__</span></a><span style=\"color: #7f7f7f; text-decoration-color: #7f7f7f\">:</span><a href=\"file:///tmp/ipykernel_108035/4266128688.py#5\" target=\"_blank\"><span style=\"color: #7f7f7f; text-decoration-color: #7f7f7f\">5</span></a>\n",
       "</pre>\n"
      ],
      "text/plain": [
       "\u001b[2;36m                   \u001b[0m\u001b[2;36m \u001b[0m\u001b[34mINFO    \u001b[0m Processing Task: OxfordIIITPet                                              \u001b]8;id=593539;file:///tmp/ipykernel_108035/4266128688.py\u001b\\\u001b[2m__main__\u001b[0m\u001b]8;;\u001b\\\u001b[2m:\u001b[0m\u001b]8;id=688915;file:///tmp/ipykernel_108035/4266128688.py#5\u001b\\\u001b[2m5\u001b[0m\u001b]8;;\u001b\\\n"
      ]
     },
     "metadata": {},
     "output_type": "display_data"
    },
    {
     "data": {
      "text/html": [
       "<pre style=\"white-space:pre;overflow-x:auto;line-height:normal;font-family:Menlo,'DejaVu Sans Mono',consolas,'Courier New',monospace\"><span style=\"color: #7fbfbf; text-decoration-color: #7fbfbf\">                    </span><span style=\"color: #000080; text-decoration-color: #000080\">INFO    </span> Task OxfordIIITPet: <span style=\"font-weight: bold\">[</span><span style=\"color: #008000; text-decoration-color: #008000\">'Artwork featuring Morse code typography'</span>, <span style=\"color: #008000; text-decoration-color: #008000\">'intricate</span> <a href=\"file:///tmp/ipykernel_108035/4266128688.py\" target=\"_blank\"><span style=\"color: #7f7f7f; text-decoration-color: #7f7f7f\">__main__</span></a><span style=\"color: #7f7f7f; text-decoration-color: #7f7f7f\">:</span><a href=\"file:///tmp/ipykernel_108035/4266128688.py#35\" target=\"_blank\"><span style=\"color: #7f7f7f; text-decoration-color: #7f7f7f\">35</span></a>\n",
       "<span style=\"color: #7fbfbf; text-decoration-color: #7fbfbf\">                    </span>         <span style=\"color: #008000; text-decoration-color: #008000\">clock mechanism'</span>, <span style=\"color: #008000; text-decoration-color: #008000\">'Image with houndstooth patterns'</span>, <span style=\"color: #008000; text-decoration-color: #008000\">'Picture captured in </span> <span style=\"color: #7f7f7f; text-decoration-color: #7f7f7f\">           </span>\n",
       "<span style=\"color: #7fbfbf; text-decoration-color: #7fbfbf\">                    </span>         <span style=\"color: #008000; text-decoration-color: #008000\">the Dutch tulip fields'</span>, <span style=\"color: #008000; text-decoration-color: #008000\">'Rural windmill silhouette'</span>, <span style=\"color: #008000; text-decoration-color: #008000\">'Illustration of a </span>  <span style=\"color: #7f7f7f; text-decoration-color: #7f7f7f\">           </span>\n",
       "<span style=\"color: #7fbfbf; text-decoration-color: #7fbfbf\">                    </span>         <span style=\"color: #008000; text-decoration-color: #008000\">futuristic city'</span>, <span style=\"color: #008000; text-decoration-color: #008000\">'A cascade'</span>, <span style=\"color: #008000; text-decoration-color: #008000\">'Image with a starry night sky'</span>, <span style=\"color: #008000; text-decoration-color: #008000\">'Dynamic </span>  <span style=\"color: #7f7f7f; text-decoration-color: #7f7f7f\">           </span>\n",
       "<span style=\"color: #7fbfbf; text-decoration-color: #7fbfbf\">                    </span>         <span style=\"color: #008000; text-decoration-color: #008000\">sports action shot'</span>, <span style=\"color: #008000; text-decoration-color: #008000\">'Mysterious day scene'</span>, <span style=\"color: #008000; text-decoration-color: #008000\">'A platinum silver color'</span>,    <span style=\"color: #7f7f7f; text-decoration-color: #7f7f7f\">           </span>\n",
       "<span style=\"color: #7fbfbf; text-decoration-color: #7fbfbf\">                    </span>         <span style=\"color: #008000; text-decoration-color: #008000\">'Image showing prairie grouse'</span>, <span style=\"color: #008000; text-decoration-color: #008000\">'A tail'</span>, <span style=\"color: #008000; text-decoration-color: #008000\">'Classic black and white </span>        <span style=\"color: #7f7f7f; text-decoration-color: #7f7f7f\">           </span>\n",
       "<span style=\"color: #7fbfbf; text-decoration-color: #7fbfbf\">                    </span>         <span style=\"color: #008000; text-decoration-color: #008000\">cityscape'</span>, <span style=\"color: #008000; text-decoration-color: #008000\">'A charcoal gray color'</span>, <span style=\"color: #008000; text-decoration-color: #008000\">'A zebra stripe pattern'</span>, <span style=\"color: #008000; text-decoration-color: #008000\">'A platinum</span> <span style=\"color: #7f7f7f; text-decoration-color: #7f7f7f\">           </span>\n",
       "<span style=\"color: #7fbfbf; text-decoration-color: #7fbfbf\">                    </span>         <span style=\"color: #008000; text-decoration-color: #008000\">silver color'</span>, <span style=\"color: #008000; text-decoration-color: #008000\">'Photo with dreamy soft focus'</span>, <span style=\"color: #008000; text-decoration-color: #008000\">'Picture captured in the </span>   <span style=\"color: #7f7f7f; text-decoration-color: #7f7f7f\">           </span>\n",
       "<span style=\"color: #7fbfbf; text-decoration-color: #7fbfbf\">                    </span>         <span style=\"color: #008000; text-decoration-color: #008000\">Brazilian carnival'</span>, <span style=\"color: #008000; text-decoration-color: #008000\">'Eyes'</span>, <span style=\"color: #008000; text-decoration-color: #008000\">'Photograph with a yellow color palette'</span>, <span style=\"color: #008000; text-decoration-color: #008000\">'A </span> <span style=\"color: #7f7f7f; text-decoration-color: #7f7f7f\">           </span>\n",
       "<span style=\"color: #7fbfbf; text-decoration-color: #7fbfbf\">                    </span>         <span style=\"color: #008000; text-decoration-color: #008000\">picture of a baby'</span>, <span style=\"color: #008000; text-decoration-color: #008000\">'Image captured in the Brazilian carnival'</span>,            <span style=\"color: #7f7f7f; text-decoration-color: #7f7f7f\">           </span>\n",
       "<span style=\"color: #7fbfbf; text-decoration-color: #7fbfbf\">                    </span>         <span style=\"color: #008000; text-decoration-color: #008000\">'Mysterious day scene'</span>, <span style=\"color: #008000; text-decoration-color: #008000\">'Image shot in the Indonesian rainforest'</span>,         <span style=\"color: #7f7f7f; text-decoration-color: #7f7f7f\">           </span>\n",
       "<span style=\"color: #7fbfbf; text-decoration-color: #7fbfbf\">                    </span>         <span style=\"color: #008000; text-decoration-color: #008000\">'Whirling carousel at a fair'</span>, <span style=\"color: #008000; text-decoration-color: #008000\">'Photograph displaying curiosity'</span>, <span style=\"color: #008000; text-decoration-color: #008000\">'Image </span>  <span style=\"color: #7f7f7f; text-decoration-color: #7f7f7f\">           </span>\n",
       "<span style=\"color: #7fbfbf; text-decoration-color: #7fbfbf\">                    </span>         <span style=\"color: #008000; text-decoration-color: #008000\">with holographic retro vaporwave aesthetics'</span>, <span style=\"color: #008000; text-decoration-color: #008000\">'Picture snapped in the </span>     <span style=\"color: #7f7f7f; text-decoration-color: #7f7f7f\">           </span>\n",
       "<span style=\"color: #7fbfbf; text-decoration-color: #7fbfbf\">                    </span>         <span style=\"color: #008000; text-decoration-color: #008000\">Icelandic glaciers'</span>, <span style=\"color: #008000; text-decoration-color: #008000\">'Image showing prairie grouse'</span>, <span style=\"color: #008000; text-decoration-color: #008000\">'Photo taken in Bora </span> <span style=\"color: #7f7f7f; text-decoration-color: #7f7f7f\">           </span>\n",
       "<span style=\"color: #7fbfbf; text-decoration-color: #7fbfbf\">                    </span>         <span style=\"color: #008000; text-decoration-color: #008000\">Bora, French Polynesia'</span>, <span style=\"color: #008000; text-decoration-color: #008000\">'Tranquil woodland retreat'</span>, <span style=\"color: #008000; text-decoration-color: #008000\">'Snowy forest </span>       <span style=\"color: #7f7f7f; text-decoration-color: #7f7f7f\">           </span>\n",
       "<span style=\"color: #7fbfbf; text-decoration-color: #7fbfbf\">                    </span>         <span style=\"color: #008000; text-decoration-color: #008000\">trail'</span>, <span style=\"color: #008000; text-decoration-color: #008000\">'an image of samoa'</span>, <span style=\"color: #008000; text-decoration-color: #008000\">'Close-up of a textured synthetic wood'</span>, <span style=\"color: #008000; text-decoration-color: #008000\">'A </span>  <span style=\"color: #7f7f7f; text-decoration-color: #7f7f7f\">           </span>\n",
       "<span style=\"color: #7fbfbf; text-decoration-color: #7fbfbf\">                    </span>         <span style=\"color: #008000; text-decoration-color: #008000\">spirograph-like shape'</span>, <span style=\"color: #008000; text-decoration-color: #008000\">'Bursting fireworks display'</span>, <span style=\"color: #008000; text-decoration-color: #008000\">'Collage of </span>         <span style=\"color: #7f7f7f; text-decoration-color: #7f7f7f\">           </span>\n",
       "<span style=\"color: #7fbfbf; text-decoration-color: #7fbfbf\">                    </span>         <span style=\"color: #008000; text-decoration-color: #008000\">textures'</span><span style=\"font-weight: bold\">]</span>                                                                 <span style=\"color: #7f7f7f; text-decoration-color: #7f7f7f\">           </span>\n",
       "</pre>\n"
      ],
      "text/plain": [
       "\u001b[2;36m                   \u001b[0m\u001b[2;36m \u001b[0m\u001b[34mINFO    \u001b[0m Task OxfordIIITPet: \u001b[1m[\u001b[0m\u001b[32m'Artwork featuring Morse code typography'\u001b[0m, \u001b[32m'intricate\u001b[0m \u001b]8;id=924975;file:///tmp/ipykernel_108035/4266128688.py\u001b\\\u001b[2m__main__\u001b[0m\u001b]8;;\u001b\\\u001b[2m:\u001b[0m\u001b]8;id=688196;file:///tmp/ipykernel_108035/4266128688.py#35\u001b\\\u001b[2m35\u001b[0m\u001b]8;;\u001b\\\n",
       "\u001b[2;36m                    \u001b[0m         \u001b[32mclock mechanism'\u001b[0m, \u001b[32m'Image with houndstooth patterns'\u001b[0m, \u001b[32m'Picture captured in \u001b[0m \u001b[2m           \u001b[0m\n",
       "\u001b[2;36m                    \u001b[0m         \u001b[32mthe Dutch tulip fields'\u001b[0m, \u001b[32m'Rural windmill silhouette'\u001b[0m, \u001b[32m'Illustration of a \u001b[0m  \u001b[2m           \u001b[0m\n",
       "\u001b[2;36m                    \u001b[0m         \u001b[32mfuturistic city'\u001b[0m, \u001b[32m'A cascade'\u001b[0m, \u001b[32m'Image with a starry night sky'\u001b[0m, \u001b[32m'Dynamic \u001b[0m  \u001b[2m           \u001b[0m\n",
       "\u001b[2;36m                    \u001b[0m         \u001b[32msports action shot'\u001b[0m, \u001b[32m'Mysterious day scene'\u001b[0m, \u001b[32m'A platinum silver color'\u001b[0m,    \u001b[2m           \u001b[0m\n",
       "\u001b[2;36m                    \u001b[0m         \u001b[32m'Image showing prairie grouse'\u001b[0m, \u001b[32m'A tail'\u001b[0m, \u001b[32m'Classic black and white \u001b[0m        \u001b[2m           \u001b[0m\n",
       "\u001b[2;36m                    \u001b[0m         \u001b[32mcityscape'\u001b[0m, \u001b[32m'A charcoal gray color'\u001b[0m, \u001b[32m'A zebra stripe pattern'\u001b[0m, \u001b[32m'A platinum\u001b[0m \u001b[2m           \u001b[0m\n",
       "\u001b[2;36m                    \u001b[0m         \u001b[32msilver color'\u001b[0m, \u001b[32m'Photo with dreamy soft focus'\u001b[0m, \u001b[32m'Picture captured in the \u001b[0m   \u001b[2m           \u001b[0m\n",
       "\u001b[2;36m                    \u001b[0m         \u001b[32mBrazilian carnival'\u001b[0m, \u001b[32m'Eyes'\u001b[0m, \u001b[32m'Photograph with a yellow color palette'\u001b[0m, \u001b[32m'A \u001b[0m \u001b[2m           \u001b[0m\n",
       "\u001b[2;36m                    \u001b[0m         \u001b[32mpicture of a baby'\u001b[0m, \u001b[32m'Image captured in the Brazilian carnival'\u001b[0m,            \u001b[2m           \u001b[0m\n",
       "\u001b[2;36m                    \u001b[0m         \u001b[32m'Mysterious day scene'\u001b[0m, \u001b[32m'Image shot in the Indonesian rainforest'\u001b[0m,         \u001b[2m           \u001b[0m\n",
       "\u001b[2;36m                    \u001b[0m         \u001b[32m'Whirling carousel at a fair'\u001b[0m, \u001b[32m'Photograph displaying curiosity'\u001b[0m, \u001b[32m'Image \u001b[0m  \u001b[2m           \u001b[0m\n",
       "\u001b[2;36m                    \u001b[0m         \u001b[32mwith holographic retro vaporwave aesthetics'\u001b[0m, \u001b[32m'Picture snapped in the \u001b[0m     \u001b[2m           \u001b[0m\n",
       "\u001b[2;36m                    \u001b[0m         \u001b[32mIcelandic glaciers'\u001b[0m, \u001b[32m'Image showing prairie grouse'\u001b[0m, \u001b[32m'Photo taken in Bora \u001b[0m \u001b[2m           \u001b[0m\n",
       "\u001b[2;36m                    \u001b[0m         \u001b[32mBora, French Polynesia'\u001b[0m, \u001b[32m'Tranquil woodland retreat'\u001b[0m, \u001b[32m'Snowy forest \u001b[0m       \u001b[2m           \u001b[0m\n",
       "\u001b[2;36m                    \u001b[0m         \u001b[32mtrail'\u001b[0m, \u001b[32m'an image of samoa'\u001b[0m, \u001b[32m'Close-up of a textured synthetic wood'\u001b[0m, \u001b[32m'A \u001b[0m  \u001b[2m           \u001b[0m\n",
       "\u001b[2;36m                    \u001b[0m         \u001b[32mspirograph-like shape'\u001b[0m, \u001b[32m'Bursting fireworks display'\u001b[0m, \u001b[32m'Collage of \u001b[0m         \u001b[2m           \u001b[0m\n",
       "\u001b[2;36m                    \u001b[0m         \u001b[32mtextures'\u001b[0m\u001b[1m]\u001b[0m                                                                 \u001b[2m           \u001b[0m\n"
      ]
     },
     "metadata": {},
     "output_type": "display_data"
    },
    {
     "data": {
      "text/html": [
       "<pre style=\"white-space:pre;overflow-x:auto;line-height:normal;font-family:Menlo,'DejaVu Sans Mono',consolas,'Courier New',monospace\"><span style=\"color: #7fbfbf; text-decoration-color: #7fbfbf\">                    </span><span style=\"color: #000080; text-decoration-color: #000080\">INFO    </span> Processing Task: PCAM                                                       <a href=\"file:///tmp/ipykernel_108035/4266128688.py\" target=\"_blank\"><span style=\"color: #7f7f7f; text-decoration-color: #7f7f7f\">__main__</span></a><span style=\"color: #7f7f7f; text-decoration-color: #7f7f7f\">:</span><a href=\"file:///tmp/ipykernel_108035/4266128688.py#5\" target=\"_blank\"><span style=\"color: #7f7f7f; text-decoration-color: #7f7f7f\">5</span></a>\n",
       "</pre>\n"
      ],
      "text/plain": [
       "\u001b[2;36m                   \u001b[0m\u001b[2;36m \u001b[0m\u001b[34mINFO    \u001b[0m Processing Task: PCAM                                                       \u001b]8;id=752337;file:///tmp/ipykernel_108035/4266128688.py\u001b\\\u001b[2m__main__\u001b[0m\u001b]8;;\u001b\\\u001b[2m:\u001b[0m\u001b]8;id=129601;file:///tmp/ipykernel_108035/4266128688.py#5\u001b\\\u001b[2m5\u001b[0m\u001b]8;;\u001b\\\n"
      ]
     },
     "metadata": {},
     "output_type": "display_data"
    },
    {
     "data": {
      "text/html": [
       "<pre style=\"white-space:pre;overflow-x:auto;line-height:normal;font-family:Menlo,'DejaVu Sans Mono',consolas,'Courier New',monospace\"><span style=\"color: #7fbfbf; text-decoration-color: #7fbfbf\">                    </span><span style=\"color: #000080; text-decoration-color: #000080\">INFO    </span> Task PCAM: <span style=\"font-weight: bold\">[</span><span style=\"color: #008000; text-decoration-color: #008000\">'Architectural reflections'</span>, <span style=\"color: #008000; text-decoration-color: #008000\">'Caricature of an iconic </span>         <a href=\"file:///tmp/ipykernel_108035/4266128688.py\" target=\"_blank\"><span style=\"color: #7f7f7f; text-decoration-color: #7f7f7f\">__main__</span></a><span style=\"color: #7f7f7f; text-decoration-color: #7f7f7f\">:</span><a href=\"file:///tmp/ipykernel_108035/4266128688.py#35\" target=\"_blank\"><span style=\"color: #7f7f7f; text-decoration-color: #7f7f7f\">35</span></a>\n",
       "<span style=\"color: #7fbfbf; text-decoration-color: #7fbfbf\">                    </span>         <span style=\"color: #008000; text-decoration-color: #008000\">inventor'</span>, <span style=\"color: #008000; text-decoration-color: #008000\">'Cinematic portrait with dramatic lighting'</span>, <span style=\"color: #008000; text-decoration-color: #008000\">'Image taken in </span>   <span style=\"color: #7f7f7f; text-decoration-color: #7f7f7f\">           </span>\n",
       "<span style=\"color: #7fbfbf; text-decoration-color: #7fbfbf\">                    </span>         <span style=\"color: #008000; text-decoration-color: #008000\">New Zealand'</span>, <span style=\"color: #008000; text-decoration-color: #008000\">'mesmerizing fractal design'</span>, <span style=\"color: #008000; text-decoration-color: #008000\">'Ephemeral soap bubble art'</span>,   <span style=\"color: #7f7f7f; text-decoration-color: #7f7f7f\">           </span>\n",
       "<span style=\"color: #7fbfbf; text-decoration-color: #7fbfbf\">                    </span>         <span style=\"color: #008000; text-decoration-color: #008000\">'An image of a Florist'</span>, <span style=\"color: #008000; text-decoration-color: #008000\">'Aerial view of a coral reef'</span>, <span style=\"color: #008000; text-decoration-color: #008000\">'Image with a </span>     <span style=\"color: #7f7f7f; text-decoration-color: #7f7f7f\">           </span>\n",
       "<span style=\"color: #7fbfbf; text-decoration-color: #7fbfbf\">                    </span>         <span style=\"color: #008000; text-decoration-color: #008000\">purple color'</span>, <span style=\"color: #008000; text-decoration-color: #008000\">'Image with shattered porcelain patterns'</span>, <span style=\"color: #008000; text-decoration-color: #008000\">'delicate soap </span>  <span style=\"color: #7f7f7f; text-decoration-color: #7f7f7f\">           </span>\n",
       "<span style=\"color: #7fbfbf; text-decoration-color: #7fbfbf\">                    </span>         <span style=\"color: #008000; text-decoration-color: #008000\">bubble pattern'</span>, <span style=\"color: #008000; text-decoration-color: #008000\">'Photo taken in Santorini, Greece'</span>, <span style=\"color: #008000; text-decoration-color: #008000\">'intricate mandala </span>   <span style=\"color: #7f7f7f; text-decoration-color: #7f7f7f\">           </span>\n",
       "<span style=\"color: #7fbfbf; text-decoration-color: #7fbfbf\">                    </span>         <span style=\"color: #008000; text-decoration-color: #008000\">artwork'</span>, <span style=\"color: #008000; text-decoration-color: #008000\">'Time-lapse trails'</span>, <span style=\"color: #008000; text-decoration-color: #008000\">'Vintage sepia tones'</span>, <span style=\"color: #008000; text-decoration-color: #008000\">'Photo with soft, </span>   <span style=\"color: #7f7f7f; text-decoration-color: #7f7f7f\">           </span>\n",
       "<span style=\"color: #7fbfbf; text-decoration-color: #7fbfbf\">                    </span>         <span style=\"color: #008000; text-decoration-color: #008000\">pastel colors'</span>, <span style=\"color: #008000; text-decoration-color: #008000\">'Detailed illustration of an advanced robotics'</span>,           <span style=\"color: #7f7f7f; text-decoration-color: #7f7f7f\">           </span>\n",
       "<span style=\"color: #7fbfbf; text-decoration-color: #7fbfbf\">                    </span>         <span style=\"color: #008000; text-decoration-color: #008000\">'Photograph with the artistic style of tilt-shift'</span>, <span style=\"color: #008000; text-decoration-color: #008000\">'Photograph with a red</span> <span style=\"color: #7f7f7f; text-decoration-color: #7f7f7f\">           </span>\n",
       "<span style=\"color: #7fbfbf; text-decoration-color: #7fbfbf\">                    </span>         <span style=\"color: #008000; text-decoration-color: #008000\">color palette'</span>, <span style=\"color: #008000; text-decoration-color: #008000\">'Herringbone pattern'</span>, <span style=\"color: #008000; text-decoration-color: #008000\">'Picture snapped in Brazil'</span>,        <span style=\"color: #7f7f7f; text-decoration-color: #7f7f7f\">           </span>\n",
       "<span style=\"color: #7fbfbf; text-decoration-color: #7fbfbf\">                    </span>         <span style=\"color: #008000; text-decoration-color: #008000\">'Aerial view of an agricultural field'</span>, <span style=\"color: #008000; text-decoration-color: #008000\">'Detailed charcoal sketch'</span>, <span style=\"color: #008000; text-decoration-color: #008000\">'Image</span> <span style=\"color: #7f7f7f; text-decoration-color: #7f7f7f\">           </span>\n",
       "<span style=\"color: #7fbfbf; text-decoration-color: #7fbfbf\">                    </span>         <span style=\"color: #008000; text-decoration-color: #008000\">with a spiraling pattern'</span>, <span style=\"color: #008000; text-decoration-color: #008000\">'Coastal lighthouse beacon'</span>, <span style=\"color: #008000; text-decoration-color: #008000\">'An image of a </span>    <span style=\"color: #7f7f7f; text-decoration-color: #7f7f7f\">           </span>\n",
       "<span style=\"color: #7fbfbf; text-decoration-color: #7fbfbf\">                    </span>         <span style=\"color: #008000; text-decoration-color: #008000\">Emergency Medical Technician (EMT)'</span>, <span style=\"color: #008000; text-decoration-color: #008000\">'Photograph with a purple color </span>      <span style=\"color: #7f7f7f; text-decoration-color: #7f7f7f\">           </span>\n",
       "<span style=\"color: #7fbfbf; text-decoration-color: #7fbfbf\">                    </span>         <span style=\"color: #008000; text-decoration-color: #008000\">palette'</span>, <span style=\"color: #008000; text-decoration-color: #008000\">'Image of a hot air balloon'</span>, <span style=\"color: #008000; text-decoration-color: #008000\">'Photograph with the artistic </span>     <span style=\"color: #7f7f7f; text-decoration-color: #7f7f7f\">           </span>\n",
       "<span style=\"color: #7fbfbf; text-decoration-color: #7fbfbf\">                    </span>         <span style=\"color: #008000; text-decoration-color: #008000\">style of color splatter'</span>, <span style=\"color: #008000; text-decoration-color: #008000\">'An islamic calligraphy'</span>, <span style=\"color: #008000; text-decoration-color: #008000\">'A pebble'</span>, <span style=\"color: #008000; text-decoration-color: #008000\">'A quilt </span>  <span style=\"color: #7f7f7f; text-decoration-color: #7f7f7f\">           </span>\n",
       "<span style=\"color: #7fbfbf; text-decoration-color: #7fbfbf\">                    </span>         <span style=\"color: #008000; text-decoration-color: #008000\">pattern'</span>, <span style=\"color: #008000; text-decoration-color: #008000\">'Historic cobblestone streets'</span>, <span style=\"color: #008000; text-decoration-color: #008000\">'Close-up of a textured </span>         <span style=\"color: #7f7f7f; text-decoration-color: #7f7f7f\">           </span>\n",
       "<span style=\"color: #7fbfbf; text-decoration-color: #7fbfbf\">                    </span>         <span style=\"color: #008000; text-decoration-color: #008000\">synthetic rubber'</span>, <span style=\"color: #008000; text-decoration-color: #008000\">'Photo taken in New Zealand'</span>, <span style=\"color: #008000; text-decoration-color: #008000\">'Close-up of a textured </span>  <span style=\"color: #7f7f7f; text-decoration-color: #7f7f7f\">           </span>\n",
       "<span style=\"color: #7fbfbf; text-decoration-color: #7fbfbf\">                    </span>         <span style=\"color: #008000; text-decoration-color: #008000\">feather'</span>, <span style=\"color: #008000; text-decoration-color: #008000\">'Abstract artwork with splatter paint'</span>, <span style=\"color: #008000; text-decoration-color: #008000\">'Image snapped in the </span>   <span style=\"color: #7f7f7f; text-decoration-color: #7f7f7f\">           </span>\n",
       "<span style=\"color: #7fbfbf; text-decoration-color: #7fbfbf\">                    </span>         <span style=\"color: #008000; text-decoration-color: #008000\">Peruvian Andes'</span><span style=\"font-weight: bold\">]</span>                                                           <span style=\"color: #7f7f7f; text-decoration-color: #7f7f7f\">           </span>\n",
       "</pre>\n"
      ],
      "text/plain": [
       "\u001b[2;36m                   \u001b[0m\u001b[2;36m \u001b[0m\u001b[34mINFO    \u001b[0m Task PCAM: \u001b[1m[\u001b[0m\u001b[32m'Architectural reflections'\u001b[0m, \u001b[32m'Caricature of an iconic \u001b[0m         \u001b]8;id=327082;file:///tmp/ipykernel_108035/4266128688.py\u001b\\\u001b[2m__main__\u001b[0m\u001b]8;;\u001b\\\u001b[2m:\u001b[0m\u001b]8;id=772696;file:///tmp/ipykernel_108035/4266128688.py#35\u001b\\\u001b[2m35\u001b[0m\u001b]8;;\u001b\\\n",
       "\u001b[2;36m                    \u001b[0m         \u001b[32minventor'\u001b[0m, \u001b[32m'Cinematic portrait with dramatic lighting'\u001b[0m, \u001b[32m'Image taken in \u001b[0m   \u001b[2m           \u001b[0m\n",
       "\u001b[2;36m                    \u001b[0m         \u001b[32mNew Zealand'\u001b[0m, \u001b[32m'mesmerizing fractal design'\u001b[0m, \u001b[32m'Ephemeral soap bubble art'\u001b[0m,   \u001b[2m           \u001b[0m\n",
       "\u001b[2;36m                    \u001b[0m         \u001b[32m'An image of a Florist'\u001b[0m, \u001b[32m'Aerial view of a coral reef'\u001b[0m, \u001b[32m'Image with a \u001b[0m     \u001b[2m           \u001b[0m\n",
       "\u001b[2;36m                    \u001b[0m         \u001b[32mpurple color'\u001b[0m, \u001b[32m'Image with shattered porcelain patterns'\u001b[0m, \u001b[32m'delicate soap \u001b[0m  \u001b[2m           \u001b[0m\n",
       "\u001b[2;36m                    \u001b[0m         \u001b[32mbubble pattern'\u001b[0m, \u001b[32m'Photo taken in Santorini, Greece'\u001b[0m, \u001b[32m'intricate mandala \u001b[0m   \u001b[2m           \u001b[0m\n",
       "\u001b[2;36m                    \u001b[0m         \u001b[32martwork'\u001b[0m, \u001b[32m'Time-lapse trails'\u001b[0m, \u001b[32m'Vintage sepia tones'\u001b[0m, \u001b[32m'Photo with soft, \u001b[0m   \u001b[2m           \u001b[0m\n",
       "\u001b[2;36m                    \u001b[0m         \u001b[32mpastel colors'\u001b[0m, \u001b[32m'Detailed illustration of an advanced robotics'\u001b[0m,           \u001b[2m           \u001b[0m\n",
       "\u001b[2;36m                    \u001b[0m         \u001b[32m'Photograph with the artistic style of tilt-shift'\u001b[0m, \u001b[32m'Photograph with a red\u001b[0m \u001b[2m           \u001b[0m\n",
       "\u001b[2;36m                    \u001b[0m         \u001b[32mcolor palette'\u001b[0m, \u001b[32m'Herringbone pattern'\u001b[0m, \u001b[32m'Picture snapped in Brazil'\u001b[0m,        \u001b[2m           \u001b[0m\n",
       "\u001b[2;36m                    \u001b[0m         \u001b[32m'Aerial view of an agricultural field'\u001b[0m, \u001b[32m'Detailed charcoal sketch'\u001b[0m, \u001b[32m'Image\u001b[0m \u001b[2m           \u001b[0m\n",
       "\u001b[2;36m                    \u001b[0m         \u001b[32mwith a spiraling pattern'\u001b[0m, \u001b[32m'Coastal lighthouse beacon'\u001b[0m, \u001b[32m'An image of a \u001b[0m    \u001b[2m           \u001b[0m\n",
       "\u001b[2;36m                    \u001b[0m         \u001b[32mEmergency Medical Technician \u001b[0m\u001b[32m(\u001b[0m\u001b[32mEMT\u001b[0m\u001b[32m)\u001b[0m\u001b[32m'\u001b[0m, \u001b[32m'Photograph with a purple color \u001b[0m      \u001b[2m           \u001b[0m\n",
       "\u001b[2;36m                    \u001b[0m         \u001b[32mpalette'\u001b[0m, \u001b[32m'Image of a hot air balloon'\u001b[0m, \u001b[32m'Photograph with the artistic \u001b[0m     \u001b[2m           \u001b[0m\n",
       "\u001b[2;36m                    \u001b[0m         \u001b[32mstyle of color splatter'\u001b[0m, \u001b[32m'An islamic calligraphy'\u001b[0m, \u001b[32m'A pebble'\u001b[0m, \u001b[32m'A quilt \u001b[0m  \u001b[2m           \u001b[0m\n",
       "\u001b[2;36m                    \u001b[0m         \u001b[32mpattern'\u001b[0m, \u001b[32m'Historic cobblestone streets'\u001b[0m, \u001b[32m'Close-up of a textured \u001b[0m         \u001b[2m           \u001b[0m\n",
       "\u001b[2;36m                    \u001b[0m         \u001b[32msynthetic rubber'\u001b[0m, \u001b[32m'Photo taken in New Zealand'\u001b[0m, \u001b[32m'Close-up of a textured \u001b[0m  \u001b[2m           \u001b[0m\n",
       "\u001b[2;36m                    \u001b[0m         \u001b[32mfeather'\u001b[0m, \u001b[32m'Abstract artwork with splatter paint'\u001b[0m, \u001b[32m'Image snapped in the \u001b[0m   \u001b[2m           \u001b[0m\n",
       "\u001b[2;36m                    \u001b[0m         \u001b[32mPeruvian Andes'\u001b[0m\u001b[1m]\u001b[0m                                                           \u001b[2m           \u001b[0m\n"
      ]
     },
     "metadata": {},
     "output_type": "display_data"
    },
    {
     "data": {
      "text/html": [
       "<pre style=\"white-space:pre;overflow-x:auto;line-height:normal;font-family:Menlo,'DejaVu Sans Mono',consolas,'Courier New',monospace\"><span style=\"color: #7fbfbf; text-decoration-color: #7fbfbf\">                    </span><span style=\"color: #000080; text-decoration-color: #000080\">INFO    </span> Processing Task: FER2013                                                    <a href=\"file:///tmp/ipykernel_108035/4266128688.py\" target=\"_blank\"><span style=\"color: #7f7f7f; text-decoration-color: #7f7f7f\">__main__</span></a><span style=\"color: #7f7f7f; text-decoration-color: #7f7f7f\">:</span><a href=\"file:///tmp/ipykernel_108035/4266128688.py#5\" target=\"_blank\"><span style=\"color: #7f7f7f; text-decoration-color: #7f7f7f\">5</span></a>\n",
       "</pre>\n"
      ],
      "text/plain": [
       "\u001b[2;36m                   \u001b[0m\u001b[2;36m \u001b[0m\u001b[34mINFO    \u001b[0m Processing Task: FER2013                                                    \u001b]8;id=231870;file:///tmp/ipykernel_108035/4266128688.py\u001b\\\u001b[2m__main__\u001b[0m\u001b]8;;\u001b\\\u001b[2m:\u001b[0m\u001b]8;id=407417;file:///tmp/ipykernel_108035/4266128688.py#5\u001b\\\u001b[2m5\u001b[0m\u001b]8;;\u001b\\\n"
      ]
     },
     "metadata": {},
     "output_type": "display_data"
    },
    {
     "data": {
      "text/html": [
       "<pre style=\"white-space:pre;overflow-x:auto;line-height:normal;font-family:Menlo,'DejaVu Sans Mono',consolas,'Courier New',monospace\"><span style=\"color: #7fbfbf; text-decoration-color: #7fbfbf\">                    </span><span style=\"color: #000080; text-decoration-color: #000080\">INFO    </span> Task FER2013: <span style=\"font-weight: bold\">[</span><span style=\"color: #008000; text-decoration-color: #008000\">'delicate soap bubble display'</span>, <span style=\"color: #008000; text-decoration-color: #008000\">'Intricate pencil drawing'</span>, <a href=\"file:///tmp/ipykernel_108035/4266128688.py\" target=\"_blank\"><span style=\"color: #7f7f7f; text-decoration-color: #7f7f7f\">__main__</span></a><span style=\"color: #7f7f7f; text-decoration-color: #7f7f7f\">:</span><a href=\"file:///tmp/ipykernel_108035/4266128688.py#35\" target=\"_blank\"><span style=\"color: #7f7f7f; text-decoration-color: #7f7f7f\">35</span></a>\n",
       "<span style=\"color: #7fbfbf; text-decoration-color: #7fbfbf\">                    </span>         <span style=\"color: #008000; text-decoration-color: #008000\">'Photograph portraying excitement'</span>, <span style=\"color: #008000; text-decoration-color: #008000\">'contemplative moment'</span>, <span style=\"color: #008000; text-decoration-color: #008000\">'Angry facial </span> <span style=\"color: #7f7f7f; text-decoration-color: #7f7f7f\">           </span>\n",
       "<span style=\"color: #7fbfbf; text-decoration-color: #7fbfbf\">                    </span>         <span style=\"color: #008000; text-decoration-color: #008000\">expression'</span>, <span style=\"color: #008000; text-decoration-color: #008000\">'Sad facial expression'</span>, <span style=\"color: #008000; text-decoration-color: #008000\">'intricate crystal arrangement'</span>,     <span style=\"color: #7f7f7f; text-decoration-color: #7f7f7f\">           </span>\n",
       "<span style=\"color: #7fbfbf; text-decoration-color: #7fbfbf\">                    </span>         <span style=\"color: #008000; text-decoration-color: #008000\">'Photograph showcasing laughter'</span>, <span style=\"color: #008000; text-decoration-color: #008000\">'Blissful facial expression'</span>,            <span style=\"color: #7f7f7f; text-decoration-color: #7f7f7f\">           </span>\n",
       "<span style=\"color: #7fbfbf; text-decoration-color: #7fbfbf\">                    </span>         <span style=\"color: #008000; text-decoration-color: #008000\">'Mysterious day scene'</span>, <span style=\"color: #008000; text-decoration-color: #008000\">'Joyful toddlers'</span>, <span style=\"color: #008000; text-decoration-color: #008000\">'A swarm'</span>, <span style=\"color: #008000; text-decoration-color: #008000\">'A quadrilateral'</span>,   <span style=\"color: #7f7f7f; text-decoration-color: #7f7f7f\">           </span>\n",
       "<span style=\"color: #7fbfbf; text-decoration-color: #7fbfbf\">                    </span>         <span style=\"color: #008000; text-decoration-color: #008000\">'Caricature of an iconic writer'</span>, <span style=\"color: #008000; text-decoration-color: #008000\">'Joyful toddlers'</span>, <span style=\"color: #008000; text-decoration-color: #008000\">'Detailed </span>            <span style=\"color: #7f7f7f; text-decoration-color: #7f7f7f\">           </span>\n",
       "<span style=\"color: #7fbfbf; text-decoration-color: #7fbfbf\">                    </span>         <span style=\"color: #008000; text-decoration-color: #008000\">illustration of a geological formation'</span>, <span style=\"color: #008000; text-decoration-color: #008000\">'emotional candid moment'</span>, <span style=\"color: #008000; text-decoration-color: #008000\">'Photo</span> <span style=\"color: #7f7f7f; text-decoration-color: #7f7f7f\">           </span>\n",
       "<span style=\"color: #7fbfbf; text-decoration-color: #7fbfbf\">                    </span>         <span style=\"color: #008000; text-decoration-color: #008000\">with sepia-toned vintage style'</span>, <span style=\"color: #008000; text-decoration-color: #008000\">'A scalene quadrilateral'</span>, <span style=\"color: #008000; text-decoration-color: #008000\">'Photo taken </span>  <span style=\"color: #7f7f7f; text-decoration-color: #7f7f7f\">           </span>\n",
       "<span style=\"color: #7fbfbf; text-decoration-color: #7fbfbf\">                    </span>         <span style=\"color: #008000; text-decoration-color: #008000\">in Bora Bora, French Polynesia'</span>, <span style=\"color: #008000; text-decoration-color: #008000\">'Precise medical procedure'</span>, <span style=\"color: #008000; text-decoration-color: #008000\">'Lively </span>     <span style=\"color: #7f7f7f; text-decoration-color: #7f7f7f\">           </span>\n",
       "<span style=\"color: #7fbfbf; text-decoration-color: #7fbfbf\">                    </span>         <span style=\"color: #008000; text-decoration-color: #008000\">coastal fishing port'</span>, <span style=\"color: #008000; text-decoration-color: #008000\">'Image with a ladybug'</span>, <span style=\"color: #008000; text-decoration-color: #008000\">'Photograph with the </span>       <span style=\"color: #7f7f7f; text-decoration-color: #7f7f7f\">           </span>\n",
       "<span style=\"color: #7fbfbf; text-decoration-color: #7fbfbf\">                    </span>         <span style=\"color: #008000; text-decoration-color: #008000\">artistic style of tilt-shift'</span>, <span style=\"color: #008000; text-decoration-color: #008000\">'An image of a Podiatrist'</span>, <span style=\"color: #008000; text-decoration-color: #008000\">'Image with </span>    <span style=\"color: #7f7f7f; text-decoration-color: #7f7f7f\">           </span>\n",
       "<span style=\"color: #7fbfbf; text-decoration-color: #7fbfbf\">                    </span>         <span style=\"color: #008000; text-decoration-color: #008000\">holographic city lights'</span>, <span style=\"color: #008000; text-decoration-color: #008000\">'Photo taken in Machu Picchu'</span>, <span style=\"color: #008000; text-decoration-color: #008000\">'A photo of a </span>    <span style=\"color: #7f7f7f; text-decoration-color: #7f7f7f\">           </span>\n",
       "<span style=\"color: #7fbfbf; text-decoration-color: #7fbfbf\">                    </span>         <span style=\"color: #008000; text-decoration-color: #008000\">woman'</span>, <span style=\"color: #008000; text-decoration-color: #008000\">'Picture taken in the French châteaux'</span>, <span style=\"color: #008000; text-decoration-color: #008000\">'A ribbon'</span>, <span style=\"color: #008000; text-decoration-color: #008000\">'Time-lapse </span>   <span style=\"color: #7f7f7f; text-decoration-color: #7f7f7f\">           </span>\n",
       "<span style=\"color: #7fbfbf; text-decoration-color: #7fbfbf\">                    </span>         <span style=\"color: #008000; text-decoration-color: #008000\">image'</span>, <span style=\"color: #008000; text-decoration-color: #008000\">'Picture snapped in the Peruvian rainforest'</span>, <span style=\"color: #008000; text-decoration-color: #008000\">'An image of a </span>      <span style=\"color: #7f7f7f; text-decoration-color: #7f7f7f\">           </span>\n",
       "<span style=\"color: #7fbfbf; text-decoration-color: #7fbfbf\">                    </span>         <span style=\"color: #008000; text-decoration-color: #008000\">Basketball Player'</span>, <span style=\"color: #008000; text-decoration-color: #008000\">'Image taken in Great Wall of China'</span>, <span style=\"color: #008000; text-decoration-color: #008000\">'Grumpy facial </span>  <span style=\"color: #7f7f7f; text-decoration-color: #7f7f7f\">           </span>\n",
       "<span style=\"color: #7fbfbf; text-decoration-color: #7fbfbf\">                    </span>         <span style=\"color: #008000; text-decoration-color: #008000\">expression'</span>, <span style=\"color: #008000; text-decoration-color: #008000\">'Photo taken in Santorini, Greece'</span>, <span style=\"color: #008000; text-decoration-color: #008000\">'Emotion-filled gaze'</span>,    <span style=\"color: #7f7f7f; text-decoration-color: #7f7f7f\">           </span>\n",
       "<span style=\"color: #7fbfbf; text-decoration-color: #7fbfbf\">                    </span>         <span style=\"color: #008000; text-decoration-color: #008000\">'An image of a Welder'</span><span style=\"font-weight: bold\">]</span>                                                    <span style=\"color: #7f7f7f; text-decoration-color: #7f7f7f\">           </span>\n",
       "</pre>\n"
      ],
      "text/plain": [
       "\u001b[2;36m                   \u001b[0m\u001b[2;36m \u001b[0m\u001b[34mINFO    \u001b[0m Task FER2013: \u001b[1m[\u001b[0m\u001b[32m'delicate soap bubble display'\u001b[0m, \u001b[32m'Intricate pencil drawing'\u001b[0m, \u001b]8;id=564833;file:///tmp/ipykernel_108035/4266128688.py\u001b\\\u001b[2m__main__\u001b[0m\u001b]8;;\u001b\\\u001b[2m:\u001b[0m\u001b]8;id=858802;file:///tmp/ipykernel_108035/4266128688.py#35\u001b\\\u001b[2m35\u001b[0m\u001b]8;;\u001b\\\n",
       "\u001b[2;36m                    \u001b[0m         \u001b[32m'Photograph portraying excitement'\u001b[0m, \u001b[32m'contemplative moment'\u001b[0m, \u001b[32m'Angry facial \u001b[0m \u001b[2m           \u001b[0m\n",
       "\u001b[2;36m                    \u001b[0m         \u001b[32mexpression'\u001b[0m, \u001b[32m'Sad facial expression'\u001b[0m, \u001b[32m'intricate crystal arrangement'\u001b[0m,     \u001b[2m           \u001b[0m\n",
       "\u001b[2;36m                    \u001b[0m         \u001b[32m'Photograph showcasing laughter'\u001b[0m, \u001b[32m'Blissful facial expression'\u001b[0m,            \u001b[2m           \u001b[0m\n",
       "\u001b[2;36m                    \u001b[0m         \u001b[32m'Mysterious day scene'\u001b[0m, \u001b[32m'Joyful toddlers'\u001b[0m, \u001b[32m'A swarm'\u001b[0m, \u001b[32m'A quadrilateral'\u001b[0m,   \u001b[2m           \u001b[0m\n",
       "\u001b[2;36m                    \u001b[0m         \u001b[32m'Caricature of an iconic writer'\u001b[0m, \u001b[32m'Joyful toddlers'\u001b[0m, \u001b[32m'Detailed \u001b[0m            \u001b[2m           \u001b[0m\n",
       "\u001b[2;36m                    \u001b[0m         \u001b[32millustration of a geological formation'\u001b[0m, \u001b[32m'emotional candid moment'\u001b[0m, \u001b[32m'Photo\u001b[0m \u001b[2m           \u001b[0m\n",
       "\u001b[2;36m                    \u001b[0m         \u001b[32mwith sepia-toned vintage style'\u001b[0m, \u001b[32m'A scalene quadrilateral'\u001b[0m, \u001b[32m'Photo taken \u001b[0m  \u001b[2m           \u001b[0m\n",
       "\u001b[2;36m                    \u001b[0m         \u001b[32min Bora Bora, French Polynesia'\u001b[0m, \u001b[32m'Precise medical procedure'\u001b[0m, \u001b[32m'Lively \u001b[0m     \u001b[2m           \u001b[0m\n",
       "\u001b[2;36m                    \u001b[0m         \u001b[32mcoastal fishing port'\u001b[0m, \u001b[32m'Image with a ladybug'\u001b[0m, \u001b[32m'Photograph with the \u001b[0m       \u001b[2m           \u001b[0m\n",
       "\u001b[2;36m                    \u001b[0m         \u001b[32martistic style of tilt-shift'\u001b[0m, \u001b[32m'An image of a Podiatrist'\u001b[0m, \u001b[32m'Image with \u001b[0m    \u001b[2m           \u001b[0m\n",
       "\u001b[2;36m                    \u001b[0m         \u001b[32mholographic city lights'\u001b[0m, \u001b[32m'Photo taken in Machu Picchu'\u001b[0m, \u001b[32m'A photo of a \u001b[0m    \u001b[2m           \u001b[0m\n",
       "\u001b[2;36m                    \u001b[0m         \u001b[32mwoman'\u001b[0m, \u001b[32m'Picture taken in the French châteaux'\u001b[0m, \u001b[32m'A ribbon'\u001b[0m, \u001b[32m'Time-lapse \u001b[0m   \u001b[2m           \u001b[0m\n",
       "\u001b[2;36m                    \u001b[0m         \u001b[32mimage'\u001b[0m, \u001b[32m'Picture snapped in the Peruvian rainforest'\u001b[0m, \u001b[32m'An image of a \u001b[0m      \u001b[2m           \u001b[0m\n",
       "\u001b[2;36m                    \u001b[0m         \u001b[32mBasketball Player'\u001b[0m, \u001b[32m'Image taken in Great Wall of China'\u001b[0m, \u001b[32m'Grumpy facial \u001b[0m  \u001b[2m           \u001b[0m\n",
       "\u001b[2;36m                    \u001b[0m         \u001b[32mexpression'\u001b[0m, \u001b[32m'Photo taken in Santorini, Greece'\u001b[0m, \u001b[32m'Emotion-filled gaze'\u001b[0m,    \u001b[2m           \u001b[0m\n",
       "\u001b[2;36m                    \u001b[0m         \u001b[32m'An image of a Welder'\u001b[0m\u001b[1m]\u001b[0m                                                    \u001b[2m           \u001b[0m\n"
      ]
     },
     "metadata": {},
     "output_type": "display_data"
    },
    {
     "data": {
      "text/html": [
       "<pre style=\"white-space:pre;overflow-x:auto;line-height:normal;font-family:Menlo,'DejaVu Sans Mono',consolas,'Courier New',monospace\"><span style=\"color: #7fbfbf; text-decoration-color: #7fbfbf\">                    </span><span style=\"color: #000080; text-decoration-color: #000080\">INFO    </span> Processing Task: EMNIST                                                     <a href=\"file:///tmp/ipykernel_108035/4266128688.py\" target=\"_blank\"><span style=\"color: #7f7f7f; text-decoration-color: #7f7f7f\">__main__</span></a><span style=\"color: #7f7f7f; text-decoration-color: #7f7f7f\">:</span><a href=\"file:///tmp/ipykernel_108035/4266128688.py#5\" target=\"_blank\"><span style=\"color: #7f7f7f; text-decoration-color: #7f7f7f\">5</span></a>\n",
       "</pre>\n"
      ],
      "text/plain": [
       "\u001b[2;36m                   \u001b[0m\u001b[2;36m \u001b[0m\u001b[34mINFO    \u001b[0m Processing Task: EMNIST                                                     \u001b]8;id=184671;file:///tmp/ipykernel_108035/4266128688.py\u001b\\\u001b[2m__main__\u001b[0m\u001b]8;;\u001b\\\u001b[2m:\u001b[0m\u001b]8;id=953689;file:///tmp/ipykernel_108035/4266128688.py#5\u001b\\\u001b[2m5\u001b[0m\u001b]8;;\u001b\\\n"
      ]
     },
     "metadata": {},
     "output_type": "display_data"
    },
    {
     "data": {
      "text/html": [
       "<pre style=\"white-space:pre;overflow-x:auto;line-height:normal;font-family:Menlo,'DejaVu Sans Mono',consolas,'Courier New',monospace\"><span style=\"color: #7fbfbf; text-decoration-color: #7fbfbf\">2025-03-17 12:02:59 </span><span style=\"color: #000080; text-decoration-color: #000080\">INFO    </span> Task EMNIST: <span style=\"font-weight: bold\">[</span><span style=\"color: #008000; text-decoration-color: #008000\">'Timeless black and white'</span>, <span style=\"color: #008000; text-decoration-color: #008000\">'Miniature diorama photography'</span>, <a href=\"file:///tmp/ipykernel_108035/4266128688.py\" target=\"_blank\"><span style=\"color: #7f7f7f; text-decoration-color: #7f7f7f\">__main__</span></a><span style=\"color: #7f7f7f; text-decoration-color: #7f7f7f\">:</span><a href=\"file:///tmp/ipykernel_108035/4266128688.py#35\" target=\"_blank\"><span style=\"color: #7f7f7f; text-decoration-color: #7f7f7f\">35</span></a>\n",
       "<span style=\"color: #7fbfbf; text-decoration-color: #7fbfbf\">                    </span>         <span style=\"color: #008000; text-decoration-color: #008000\">'Urban labyrinth'</span>, <span style=\"color: #008000; text-decoration-color: #008000\">'The number eleven'</span>, <span style=\"color: #008000; text-decoration-color: #008000\">'Artwork featuring circuit board </span>  <span style=\"color: #7f7f7f; text-decoration-color: #7f7f7f\">           </span>\n",
       "<span style=\"color: #7fbfbf; text-decoration-color: #7fbfbf\">                    </span>         <span style=\"color: #008000; text-decoration-color: #008000\">motifs'</span>, <span style=\"color: #008000; text-decoration-color: #008000\">'Vivid cultural market'</span>, <span style=\"color: #008000; text-decoration-color: #008000\">'An image of a Welder'</span>, <span style=\"color: #008000; text-decoration-color: #008000\">'Weathered </span>      <span style=\"color: #7f7f7f; text-decoration-color: #7f7f7f\">           </span>\n",
       "<span style=\"color: #7fbfbf; text-decoration-color: #7fbfbf\">                    </span>         <span style=\"color: #008000; text-decoration-color: #008000\">pathways'</span>, <span style=\"color: #008000; text-decoration-color: #008000\">'An image of the number 9'</span>, <span style=\"color: #008000; text-decoration-color: #008000\">'Close-up of a textured ceramic'</span>,   <span style=\"color: #7f7f7f; text-decoration-color: #7f7f7f\">           </span>\n",
       "<span style=\"color: #7fbfbf; text-decoration-color: #7fbfbf\">                    </span>         <span style=\"color: #008000; text-decoration-color: #008000\">'Photograph capturing friendship'</span>, <span style=\"color: #008000; text-decoration-color: #008000\">'Image with a team of players'</span>, <span style=\"color: #008000; text-decoration-color: #008000\">'Image </span> <span style=\"color: #7f7f7f; text-decoration-color: #7f7f7f\">           </span>\n",
       "<span style=\"color: #7fbfbf; text-decoration-color: #7fbfbf\">                    </span>         <span style=\"color: #008000; text-decoration-color: #008000\">snapped in the Thailand'</span>, <span style=\"color: #008000; text-decoration-color: #008000\">'Urban solitude'</span>, <span style=\"color: #008000; text-decoration-color: #008000\">'Futuristic skyline'</span>,          <span style=\"color: #7f7f7f; text-decoration-color: #7f7f7f\">           </span>\n",
       "<span style=\"color: #7fbfbf; text-decoration-color: #7fbfbf\">                    </span>         <span style=\"color: #008000; text-decoration-color: #008000\">'intricate gemstone cut'</span>, <span style=\"color: #008000; text-decoration-color: #008000\">'misty forest path'</span>, <span style=\"color: #008000; text-decoration-color: #008000\">'Photo taken in Okavango </span>   <span style=\"color: #7f7f7f; text-decoration-color: #7f7f7f\">           </span>\n",
       "<span style=\"color: #7fbfbf; text-decoration-color: #7fbfbf\">                    </span>         <span style=\"color: #008000; text-decoration-color: #008000\">Delta'</span>, <span style=\"color: #008000; text-decoration-color: #008000\">'Photo taken in Kyoto'</span>, <span style=\"color: #008000; text-decoration-color: #008000\">'Quirky street performer'</span>, <span style=\"color: #008000; text-decoration-color: #008000\">'An image of </span>   <span style=\"color: #7f7f7f; text-decoration-color: #7f7f7f\">           </span>\n",
       "<span style=\"color: #7fbfbf; text-decoration-color: #7fbfbf\">                    </span>         <span style=\"color: #008000; text-decoration-color: #008000\">the number 7'</span>, <span style=\"color: #008000; text-decoration-color: #008000\">'A fractal snowflake'</span>, <span style=\"color: #008000; text-decoration-color: #008000\">'Arabic script calligraphy'</span>,         <span style=\"color: #7f7f7f; text-decoration-color: #7f7f7f\">           </span>\n",
       "<span style=\"color: #7fbfbf; text-decoration-color: #7fbfbf\">                    </span>         <span style=\"color: #008000; text-decoration-color: #008000\">'Illustration with Roman numerals'</span>, <span style=\"color: #008000; text-decoration-color: #008000\">'A belt'</span>, <span style=\"color: #008000; text-decoration-color: #008000\">'Photograph with a blue </span>     <span style=\"color: #7f7f7f; text-decoration-color: #7f7f7f\">           </span>\n",
       "<span style=\"color: #7fbfbf; text-decoration-color: #7fbfbf\">                    </span>         <span style=\"color: #008000; text-decoration-color: #008000\">color palette'</span>, <span style=\"color: #008000; text-decoration-color: #008000\">'Cinematic portrait with dramatic lighting'</span>, <span style=\"color: #008000; text-decoration-color: #008000\">'Whimsical </span>   <span style=\"color: #7f7f7f; text-decoration-color: #7f7f7f\">           </span>\n",
       "<span style=\"color: #7fbfbf; text-decoration-color: #7fbfbf\">                    </span>         <span style=\"color: #008000; text-decoration-color: #008000\">conceptual photography'</span>, <span style=\"color: #008000; text-decoration-color: #008000\">'Bursting fireworks display'</span>, <span style=\"color: #008000; text-decoration-color: #008000\">'A kite'</span>, <span style=\"color: #008000; text-decoration-color: #008000\">'Photo </span>   <span style=\"color: #7f7f7f; text-decoration-color: #7f7f7f\">           </span>\n",
       "<span style=\"color: #7fbfbf; text-decoration-color: #7fbfbf\">                    </span>         <span style=\"color: #008000; text-decoration-color: #008000\">taken in Okavango Delta'</span>, <span style=\"color: #008000; text-decoration-color: #008000\">'Image with a handwritten letter'</span>, <span style=\"color: #008000; text-decoration-color: #008000\">'A traffic </span>   <span style=\"color: #7f7f7f; text-decoration-color: #7f7f7f\">           </span>\n",
       "<span style=\"color: #7fbfbf; text-decoration-color: #7fbfbf\">                    </span>         <span style=\"color: #008000; text-decoration-color: #008000\">cone'</span>, <span style=\"color: #008000; text-decoration-color: #008000\">'A parabola'</span>, <span style=\"color: #008000; text-decoration-color: #008000\">'Photo taken in the Italian pizzerias'</span>, <span style=\"color: #008000; text-decoration-color: #008000\">'cozy outdoor</span> <span style=\"color: #7f7f7f; text-decoration-color: #7f7f7f\">           </span>\n",
       "<span style=\"color: #7fbfbf; text-decoration-color: #7fbfbf\">                    </span>         <span style=\"color: #008000; text-decoration-color: #008000\">picnic'</span>, <span style=\"color: #008000; text-decoration-color: #008000\">'High-contrast black and white'</span>, <span style=\"color: #008000; text-decoration-color: #008000\">'Grayscale urban cityscape'</span><span style=\"font-weight: bold\">]</span>     <span style=\"color: #7f7f7f; text-decoration-color: #7f7f7f\">           </span>\n",
       "</pre>\n"
      ],
      "text/plain": [
       "\u001b[2;36m2025-03-17 12:02:59\u001b[0m\u001b[2;36m \u001b[0m\u001b[34mINFO    \u001b[0m Task EMNIST: \u001b[1m[\u001b[0m\u001b[32m'Timeless black and white'\u001b[0m, \u001b[32m'Miniature diorama photography'\u001b[0m, \u001b]8;id=32778;file:///tmp/ipykernel_108035/4266128688.py\u001b\\\u001b[2m__main__\u001b[0m\u001b]8;;\u001b\\\u001b[2m:\u001b[0m\u001b]8;id=625792;file:///tmp/ipykernel_108035/4266128688.py#35\u001b\\\u001b[2m35\u001b[0m\u001b]8;;\u001b\\\n",
       "\u001b[2;36m                    \u001b[0m         \u001b[32m'Urban labyrinth'\u001b[0m, \u001b[32m'The number eleven'\u001b[0m, \u001b[32m'Artwork featuring circuit board \u001b[0m  \u001b[2m           \u001b[0m\n",
       "\u001b[2;36m                    \u001b[0m         \u001b[32mmotifs'\u001b[0m, \u001b[32m'Vivid cultural market'\u001b[0m, \u001b[32m'An image of a Welder'\u001b[0m, \u001b[32m'Weathered \u001b[0m      \u001b[2m           \u001b[0m\n",
       "\u001b[2;36m                    \u001b[0m         \u001b[32mpathways'\u001b[0m, \u001b[32m'An image of the number 9'\u001b[0m, \u001b[32m'Close-up of a textured ceramic'\u001b[0m,   \u001b[2m           \u001b[0m\n",
       "\u001b[2;36m                    \u001b[0m         \u001b[32m'Photograph capturing friendship'\u001b[0m, \u001b[32m'Image with a team of players'\u001b[0m, \u001b[32m'Image \u001b[0m \u001b[2m           \u001b[0m\n",
       "\u001b[2;36m                    \u001b[0m         \u001b[32msnapped in the Thailand'\u001b[0m, \u001b[32m'Urban solitude'\u001b[0m, \u001b[32m'Futuristic skyline'\u001b[0m,          \u001b[2m           \u001b[0m\n",
       "\u001b[2;36m                    \u001b[0m         \u001b[32m'intricate gemstone cut'\u001b[0m, \u001b[32m'misty forest path'\u001b[0m, \u001b[32m'Photo taken in Okavango \u001b[0m   \u001b[2m           \u001b[0m\n",
       "\u001b[2;36m                    \u001b[0m         \u001b[32mDelta'\u001b[0m, \u001b[32m'Photo taken in Kyoto'\u001b[0m, \u001b[32m'Quirky street performer'\u001b[0m, \u001b[32m'An image of \u001b[0m   \u001b[2m           \u001b[0m\n",
       "\u001b[2;36m                    \u001b[0m         \u001b[32mthe number 7'\u001b[0m, \u001b[32m'A fractal snowflake'\u001b[0m, \u001b[32m'Arabic script calligraphy'\u001b[0m,         \u001b[2m           \u001b[0m\n",
       "\u001b[2;36m                    \u001b[0m         \u001b[32m'Illustration with Roman numerals'\u001b[0m, \u001b[32m'A belt'\u001b[0m, \u001b[32m'Photograph with a blue \u001b[0m     \u001b[2m           \u001b[0m\n",
       "\u001b[2;36m                    \u001b[0m         \u001b[32mcolor palette'\u001b[0m, \u001b[32m'Cinematic portrait with dramatic lighting'\u001b[0m, \u001b[32m'Whimsical \u001b[0m   \u001b[2m           \u001b[0m\n",
       "\u001b[2;36m                    \u001b[0m         \u001b[32mconceptual photography'\u001b[0m, \u001b[32m'Bursting fireworks display'\u001b[0m, \u001b[32m'A kite'\u001b[0m, \u001b[32m'Photo \u001b[0m   \u001b[2m           \u001b[0m\n",
       "\u001b[2;36m                    \u001b[0m         \u001b[32mtaken in Okavango Delta'\u001b[0m, \u001b[32m'Image with a handwritten letter'\u001b[0m, \u001b[32m'A traffic \u001b[0m   \u001b[2m           \u001b[0m\n",
       "\u001b[2;36m                    \u001b[0m         \u001b[32mcone'\u001b[0m, \u001b[32m'A parabola'\u001b[0m, \u001b[32m'Photo taken in the Italian pizzerias'\u001b[0m, \u001b[32m'cozy outdoor\u001b[0m \u001b[2m           \u001b[0m\n",
       "\u001b[2;36m                    \u001b[0m         \u001b[32mpicnic'\u001b[0m, \u001b[32m'High-contrast black and white'\u001b[0m, \u001b[32m'Grayscale urban cityscape'\u001b[0m\u001b[1m]\u001b[0m     \u001b[2m           \u001b[0m\n"
      ]
     },
     "metadata": {},
     "output_type": "display_data"
    },
    {
     "data": {
      "text/html": [
       "<pre style=\"white-space:pre;overflow-x:auto;line-height:normal;font-family:Menlo,'DejaVu Sans Mono',consolas,'Courier New',monospace\"><span style=\"color: #7fbfbf; text-decoration-color: #7fbfbf\">                    </span><span style=\"color: #000080; text-decoration-color: #000080\">INFO    </span> Processing Task: CIFAR10                                                    <a href=\"file:///tmp/ipykernel_108035/4266128688.py\" target=\"_blank\"><span style=\"color: #7f7f7f; text-decoration-color: #7f7f7f\">__main__</span></a><span style=\"color: #7f7f7f; text-decoration-color: #7f7f7f\">:</span><a href=\"file:///tmp/ipykernel_108035/4266128688.py#5\" target=\"_blank\"><span style=\"color: #7f7f7f; text-decoration-color: #7f7f7f\">5</span></a>\n",
       "</pre>\n"
      ],
      "text/plain": [
       "\u001b[2;36m                   \u001b[0m\u001b[2;36m \u001b[0m\u001b[34mINFO    \u001b[0m Processing Task: CIFAR10                                                    \u001b]8;id=522827;file:///tmp/ipykernel_108035/4266128688.py\u001b\\\u001b[2m__main__\u001b[0m\u001b]8;;\u001b\\\u001b[2m:\u001b[0m\u001b]8;id=581763;file:///tmp/ipykernel_108035/4266128688.py#5\u001b\\\u001b[2m5\u001b[0m\u001b]8;;\u001b\\\n"
      ]
     },
     "metadata": {},
     "output_type": "display_data"
    },
    {
     "data": {
      "text/html": [
       "<pre style=\"white-space:pre;overflow-x:auto;line-height:normal;font-family:Menlo,'DejaVu Sans Mono',consolas,'Courier New',monospace\"><span style=\"color: #7fbfbf; text-decoration-color: #7fbfbf\">                    </span><span style=\"color: #000080; text-decoration-color: #000080\">INFO    </span> Task CIFAR10: <span style=\"font-weight: bold\">[</span><span style=\"color: #008000; text-decoration-color: #008000\">'A low-resolution image'</span>, <span style=\"color: #008000; text-decoration-color: #008000\">'Artwork featuring Morse code </span>    <a href=\"file:///tmp/ipykernel_108035/4266128688.py\" target=\"_blank\"><span style=\"color: #7f7f7f; text-decoration-color: #7f7f7f\">__main__</span></a><span style=\"color: #7f7f7f; text-decoration-color: #7f7f7f\">:</span><a href=\"file:///tmp/ipykernel_108035/4266128688.py#35\" target=\"_blank\"><span style=\"color: #7f7f7f; text-decoration-color: #7f7f7f\">35</span></a>\n",
       "<span style=\"color: #7fbfbf; text-decoration-color: #7fbfbf\">                    </span>         <span style=\"color: #008000; text-decoration-color: #008000\">typography'</span>, <span style=\"color: #008000; text-decoration-color: #008000\">'Picture with multiple domesticated animals'</span>, <span style=\"color: #008000; text-decoration-color: #008000\">'Historic </span>      <span style=\"color: #7f7f7f; text-decoration-color: #7f7f7f\">           </span>\n",
       "<span style=\"color: #7fbfbf; text-decoration-color: #7fbfbf\">                    </span>         <span style=\"color: #008000; text-decoration-color: #008000\">cobblestone streets'</span>, <span style=\"color: #008000; text-decoration-color: #008000\">'Image of an ambulance'</span>, <span style=\"color: #008000; text-decoration-color: #008000\">'Photograph taken in a </span>     <span style=\"color: #7f7f7f; text-decoration-color: #7f7f7f\">           </span>\n",
       "<span style=\"color: #7fbfbf; text-decoration-color: #7fbfbf\">                    </span>         <span style=\"color: #008000; text-decoration-color: #008000\">barber shop'</span>, <span style=\"color: #008000; text-decoration-color: #008000\">'Picture with airplanes'</span>, <span style=\"color: #008000; text-decoration-color: #008000\">'Image of a truck'</span>, <span style=\"color: #008000; text-decoration-color: #008000\">'Photo </span>        <span style=\"color: #7f7f7f; text-decoration-color: #7f7f7f\">           </span>\n",
       "<span style=\"color: #7fbfbf; text-decoration-color: #7fbfbf\">                    </span>         <span style=\"color: #008000; text-decoration-color: #008000\">captured in the Peruvian rainforest'</span>, <span style=\"color: #008000; text-decoration-color: #008000\">'Tranquil boating on a lake'</span>,        <span style=\"color: #7f7f7f; text-decoration-color: #7f7f7f\">           </span>\n",
       "<span style=\"color: #7fbfbf; text-decoration-color: #7fbfbf\">                    </span>         <span style=\"color: #008000; text-decoration-color: #008000\">'Detailed illustration of a vehicle'</span>, <span style=\"color: #008000; text-decoration-color: #008000\">'An amber color'</span>, <span style=\"color: #008000; text-decoration-color: #008000\">'Rural windmill </span>   <span style=\"color: #7f7f7f; text-decoration-color: #7f7f7f\">           </span>\n",
       "<span style=\"color: #7fbfbf; text-decoration-color: #7fbfbf\">                    </span>         <span style=\"color: #008000; text-decoration-color: #008000\">silhouette'</span>, <span style=\"color: #008000; text-decoration-color: #008000\">'Image with shattered glass skyscrapers'</span>, <span style=\"color: #008000; text-decoration-color: #008000\">'Majestic galloping</span> <span style=\"color: #7f7f7f; text-decoration-color: #7f7f7f\">           </span>\n",
       "<span style=\"color: #7fbfbf; text-decoration-color: #7fbfbf\">                    </span>         <span style=\"color: #008000; text-decoration-color: #008000\">horses'</span>, <span style=\"color: #008000; text-decoration-color: #008000\">'Rural windmill silhouette'</span>, <span style=\"color: #008000; text-decoration-color: #008000\">'Abandoned factory space'</span>, <span style=\"color: #008000; text-decoration-color: #008000\">'cozy </span>    <span style=\"color: #7f7f7f; text-decoration-color: #7f7f7f\">           </span>\n",
       "<span style=\"color: #7fbfbf; text-decoration-color: #7fbfbf\">                    </span>         <span style=\"color: #008000; text-decoration-color: #008000\">café environment'</span>, <span style=\"color: #008000; text-decoration-color: #008000\">'Picture with airplanes'</span>, <span style=\"color: #008000; text-decoration-color: #008000\">'Caricature of an iconic </span>     <span style=\"color: #7f7f7f; text-decoration-color: #7f7f7f\">           </span>\n",
       "<span style=\"color: #7fbfbf; text-decoration-color: #7fbfbf\">                    </span>         <span style=\"color: #008000; text-decoration-color: #008000\">actor'</span>, <span style=\"color: #008000; text-decoration-color: #008000\">'A scorpion'</span>, <span style=\"color: #008000; text-decoration-color: #008000\">'Rural windmill silhouette'</span>, <span style=\"color: #008000; text-decoration-color: #008000\">'Image with a snowy </span>    <span style=\"color: #7f7f7f; text-decoration-color: #7f7f7f\">           </span>\n",
       "<span style=\"color: #7fbfbf; text-decoration-color: #7fbfbf\">                    </span>         <span style=\"color: #008000; text-decoration-color: #008000\">mountain peak'</span>, <span style=\"color: #008000; text-decoration-color: #008000\">'Photograph with the artistic style of light leaks'</span>,       <span style=\"color: #7f7f7f; text-decoration-color: #7f7f7f\">           </span>\n",
       "<span style=\"color: #7fbfbf; text-decoration-color: #7fbfbf\">                    </span>         <span style=\"color: #008000; text-decoration-color: #008000\">'Picture captured in the New York skyline'</span>, <span style=\"color: #008000; text-decoration-color: #008000\">'Image showing prairie </span>        <span style=\"color: #7f7f7f; text-decoration-color: #7f7f7f\">           </span>\n",
       "<span style=\"color: #7fbfbf; text-decoration-color: #7fbfbf\">                    </span>         <span style=\"color: #008000; text-decoration-color: #008000\">grouse'</span>, <span style=\"color: #008000; text-decoration-color: #008000\">'A zebra stripe pattern'</span>, <span style=\"color: #008000; text-decoration-color: #008000\">'A silver color'</span>, <span style=\"color: #008000; text-decoration-color: #008000\">'A picture of </span>        <span style=\"color: #7f7f7f; text-decoration-color: #7f7f7f\">           </span>\n",
       "<span style=\"color: #7fbfbf; text-decoration-color: #7fbfbf\">                    </span>         <span style=\"color: #008000; text-decoration-color: #008000\">Wisconsin'</span>, <span style=\"color: #008000; text-decoration-color: #008000\">'Photo taken in Tokyo, Japan'</span>, <span style=\"color: #008000; text-decoration-color: #008000\">'Reflective  countryside </span>       <span style=\"color: #7f7f7f; text-decoration-color: #7f7f7f\">           </span>\n",
       "<span style=\"color: #7fbfbf; text-decoration-color: #7fbfbf\">                    </span>         <span style=\"color: #008000; text-decoration-color: #008000\">scene'</span>, <span style=\"color: #008000; text-decoration-color: #008000\">'Time-lapse trails'</span>, <span style=\"color: #008000; text-decoration-color: #008000\">'Meticulously arranged flowerbed'</span>, <span style=\"color: #008000; text-decoration-color: #008000\">'Rural </span>    <span style=\"color: #7f7f7f; text-decoration-color: #7f7f7f\">           </span>\n",
       "<span style=\"color: #7fbfbf; text-decoration-color: #7fbfbf\">                    </span>         <span style=\"color: #008000; text-decoration-color: #008000\">windmill silhouette'</span>, <span style=\"color: #008000; text-decoration-color: #008000\">'Intriguing and mysterious forest trail'</span>, <span style=\"color: #008000; text-decoration-color: #008000\">'Image </span>    <span style=\"color: #7f7f7f; text-decoration-color: #7f7f7f\">           </span>\n",
       "<span style=\"color: #7fbfbf; text-decoration-color: #7fbfbf\">                    </span>         <span style=\"color: #008000; text-decoration-color: #008000\">with camouflage print'</span>, <span style=\"color: #008000; text-decoration-color: #008000\">'Picture taken in Bhutan'</span>, <span style=\"color: #008000; text-decoration-color: #008000\">'Inviting fireplace </span>    <span style=\"color: #7f7f7f; text-decoration-color: #7f7f7f\">           </span>\n",
       "<span style=\"color: #7fbfbf; text-decoration-color: #7fbfbf\">                    </span>         <span style=\"color: #008000; text-decoration-color: #008000\">setting'</span><span style=\"font-weight: bold\">]</span>                                                                  <span style=\"color: #7f7f7f; text-decoration-color: #7f7f7f\">           </span>\n",
       "</pre>\n"
      ],
      "text/plain": [
       "\u001b[2;36m                   \u001b[0m\u001b[2;36m \u001b[0m\u001b[34mINFO    \u001b[0m Task CIFAR10: \u001b[1m[\u001b[0m\u001b[32m'A low-resolution image'\u001b[0m, \u001b[32m'Artwork featuring Morse code \u001b[0m    \u001b]8;id=568016;file:///tmp/ipykernel_108035/4266128688.py\u001b\\\u001b[2m__main__\u001b[0m\u001b]8;;\u001b\\\u001b[2m:\u001b[0m\u001b]8;id=711674;file:///tmp/ipykernel_108035/4266128688.py#35\u001b\\\u001b[2m35\u001b[0m\u001b]8;;\u001b\\\n",
       "\u001b[2;36m                    \u001b[0m         \u001b[32mtypography'\u001b[0m, \u001b[32m'Picture with multiple domesticated animals'\u001b[0m, \u001b[32m'Historic \u001b[0m      \u001b[2m           \u001b[0m\n",
       "\u001b[2;36m                    \u001b[0m         \u001b[32mcobblestone streets'\u001b[0m, \u001b[32m'Image of an ambulance'\u001b[0m, \u001b[32m'Photograph taken in a \u001b[0m     \u001b[2m           \u001b[0m\n",
       "\u001b[2;36m                    \u001b[0m         \u001b[32mbarber shop'\u001b[0m, \u001b[32m'Picture with airplanes'\u001b[0m, \u001b[32m'Image of a truck'\u001b[0m, \u001b[32m'Photo \u001b[0m        \u001b[2m           \u001b[0m\n",
       "\u001b[2;36m                    \u001b[0m         \u001b[32mcaptured in the Peruvian rainforest'\u001b[0m, \u001b[32m'Tranquil boating on a lake'\u001b[0m,        \u001b[2m           \u001b[0m\n",
       "\u001b[2;36m                    \u001b[0m         \u001b[32m'Detailed illustration of a vehicle'\u001b[0m, \u001b[32m'An amber color'\u001b[0m, \u001b[32m'Rural windmill \u001b[0m   \u001b[2m           \u001b[0m\n",
       "\u001b[2;36m                    \u001b[0m         \u001b[32msilhouette'\u001b[0m, \u001b[32m'Image with shattered glass skyscrapers'\u001b[0m, \u001b[32m'Majestic galloping\u001b[0m \u001b[2m           \u001b[0m\n",
       "\u001b[2;36m                    \u001b[0m         \u001b[32mhorses'\u001b[0m, \u001b[32m'Rural windmill silhouette'\u001b[0m, \u001b[32m'Abandoned factory space'\u001b[0m, \u001b[32m'cozy \u001b[0m    \u001b[2m           \u001b[0m\n",
       "\u001b[2;36m                    \u001b[0m         \u001b[32mcafé environment'\u001b[0m, \u001b[32m'Picture with airplanes'\u001b[0m, \u001b[32m'Caricature of an iconic \u001b[0m     \u001b[2m           \u001b[0m\n",
       "\u001b[2;36m                    \u001b[0m         \u001b[32mactor'\u001b[0m, \u001b[32m'A scorpion'\u001b[0m, \u001b[32m'Rural windmill silhouette'\u001b[0m, \u001b[32m'Image with a snowy \u001b[0m    \u001b[2m           \u001b[0m\n",
       "\u001b[2;36m                    \u001b[0m         \u001b[32mmountain peak'\u001b[0m, \u001b[32m'Photograph with the artistic style of light leaks'\u001b[0m,       \u001b[2m           \u001b[0m\n",
       "\u001b[2;36m                    \u001b[0m         \u001b[32m'Picture captured in the New York skyline'\u001b[0m, \u001b[32m'Image showing prairie \u001b[0m        \u001b[2m           \u001b[0m\n",
       "\u001b[2;36m                    \u001b[0m         \u001b[32mgrouse'\u001b[0m, \u001b[32m'A zebra stripe pattern'\u001b[0m, \u001b[32m'A silver color'\u001b[0m, \u001b[32m'A picture of \u001b[0m        \u001b[2m           \u001b[0m\n",
       "\u001b[2;36m                    \u001b[0m         \u001b[32mWisconsin'\u001b[0m, \u001b[32m'Photo taken in Tokyo, Japan'\u001b[0m, \u001b[32m'Reflective  countryside \u001b[0m       \u001b[2m           \u001b[0m\n",
       "\u001b[2;36m                    \u001b[0m         \u001b[32mscene'\u001b[0m, \u001b[32m'Time-lapse trails'\u001b[0m, \u001b[32m'Meticulously arranged flowerbed'\u001b[0m, \u001b[32m'Rural \u001b[0m    \u001b[2m           \u001b[0m\n",
       "\u001b[2;36m                    \u001b[0m         \u001b[32mwindmill silhouette'\u001b[0m, \u001b[32m'Intriguing and mysterious forest trail'\u001b[0m, \u001b[32m'Image \u001b[0m    \u001b[2m           \u001b[0m\n",
       "\u001b[2;36m                    \u001b[0m         \u001b[32mwith camouflage print'\u001b[0m, \u001b[32m'Picture taken in Bhutan'\u001b[0m, \u001b[32m'Inviting fireplace \u001b[0m    \u001b[2m           \u001b[0m\n",
       "\u001b[2;36m                    \u001b[0m         \u001b[32msetting'\u001b[0m\u001b[1m]\u001b[0m                                                                  \u001b[2m           \u001b[0m\n"
      ]
     },
     "metadata": {},
     "output_type": "display_data"
    },
    {
     "data": {
      "text/html": [
       "<pre style=\"white-space:pre;overflow-x:auto;line-height:normal;font-family:Menlo,'DejaVu Sans Mono',consolas,'Courier New',monospace\"><span style=\"color: #7fbfbf; text-decoration-color: #7fbfbf\">                    </span><span style=\"color: #000080; text-decoration-color: #000080\">INFO    </span> Processing Task: Food101                                                    <a href=\"file:///tmp/ipykernel_108035/4266128688.py\" target=\"_blank\"><span style=\"color: #7f7f7f; text-decoration-color: #7f7f7f\">__main__</span></a><span style=\"color: #7f7f7f; text-decoration-color: #7f7f7f\">:</span><a href=\"file:///tmp/ipykernel_108035/4266128688.py#5\" target=\"_blank\"><span style=\"color: #7f7f7f; text-decoration-color: #7f7f7f\">5</span></a>\n",
       "</pre>\n"
      ],
      "text/plain": [
       "\u001b[2;36m                   \u001b[0m\u001b[2;36m \u001b[0m\u001b[34mINFO    \u001b[0m Processing Task: Food101                                                    \u001b]8;id=930284;file:///tmp/ipykernel_108035/4266128688.py\u001b\\\u001b[2m__main__\u001b[0m\u001b]8;;\u001b\\\u001b[2m:\u001b[0m\u001b]8;id=329573;file:///tmp/ipykernel_108035/4266128688.py#5\u001b\\\u001b[2m5\u001b[0m\u001b]8;;\u001b\\\n"
      ]
     },
     "metadata": {},
     "output_type": "display_data"
    },
    {
     "data": {
      "text/html": [
       "<pre style=\"white-space:pre;overflow-x:auto;line-height:normal;font-family:Menlo,'DejaVu Sans Mono',consolas,'Courier New',monospace\"><span style=\"color: #7fbfbf; text-decoration-color: #7fbfbf\">                    </span><span style=\"color: #000080; text-decoration-color: #000080\">INFO    </span> Task Food101: <span style=\"font-weight: bold\">[</span><span style=\"color: #008000; text-decoration-color: #008000\">'A vegetable'</span>, <span style=\"color: #008000; text-decoration-color: #008000\">'Close-up of a food item'</span>, <span style=\"color: #008000; text-decoration-color: #008000\">'Picture snapped </span> <a href=\"file:///tmp/ipykernel_108035/4266128688.py\" target=\"_blank\"><span style=\"color: #7f7f7f; text-decoration-color: #7f7f7f\">__main__</span></a><span style=\"color: #7f7f7f; text-decoration-color: #7f7f7f\">:</span><a href=\"file:///tmp/ipykernel_108035/4266128688.py#35\" target=\"_blank\"><span style=\"color: #7f7f7f; text-decoration-color: #7f7f7f\">35</span></a>\n",
       "<span style=\"color: #7fbfbf; text-decoration-color: #7fbfbf\">                    </span>         <span style=\"color: #008000; text-decoration-color: #008000\">in the Icelandic glaciers'</span>, <span style=\"color: #008000; text-decoration-color: #008000\">'Image with a donkey'</span>, <span style=\"color: #008000; text-decoration-color: #008000\">'Breathtaking canyons'</span>, <span style=\"color: #7f7f7f; text-decoration-color: #7f7f7f\">           </span>\n",
       "<span style=\"color: #7fbfbf; text-decoration-color: #7fbfbf\">                    </span>         <span style=\"color: #008000; text-decoration-color: #008000\">'Picture taken in the Indonesian rice fields'</span>, <span style=\"color: #008000; text-decoration-color: #008000\">'Tranquil lakeside pier'</span>,   <span style=\"color: #7f7f7f; text-decoration-color: #7f7f7f\">           </span>\n",
       "<span style=\"color: #7fbfbf; text-decoration-color: #7fbfbf\">                    </span>         <span style=\"color: #008000; text-decoration-color: #008000\">'Image snapped in the Swiss chocolate factories'</span>, <span style=\"color: #008000; text-decoration-color: #008000\">'Tranquil lakeside </span>      <span style=\"color: #7f7f7f; text-decoration-color: #7f7f7f\">           </span>\n",
       "<span style=\"color: #7fbfbf; text-decoration-color: #7fbfbf\">                    </span>         <span style=\"color: #008000; text-decoration-color: #008000\">pier'</span>, <span style=\"color: #008000; text-decoration-color: #008000\">'detailed amphibian close-up'</span>, <span style=\"color: #008000; text-decoration-color: #008000\">'Photo taken in Santorini, Greece'</span>,  <span style=\"color: #7f7f7f; text-decoration-color: #7f7f7f\">           </span>\n",
       "<span style=\"color: #7fbfbf; text-decoration-color: #7fbfbf\">                    </span>         <span style=\"color: #008000; text-decoration-color: #008000\">'Ethereal double exposure photography'</span>, <span style=\"color: #008000; text-decoration-color: #008000\">'Artwork featuring barcode-like </span>   <span style=\"color: #7f7f7f; text-decoration-color: #7f7f7f\">           </span>\n",
       "<span style=\"color: #7fbfbf; text-decoration-color: #7fbfbf\">                    </span>         <span style=\"color: #008000; text-decoration-color: #008000\">lines'</span>, <span style=\"color: #008000; text-decoration-color: #008000\">'Impressionist-style digital painting'</span>, <span style=\"color: #008000; text-decoration-color: #008000\">'A photo of Monaco'</span>, <span style=\"color: #008000; text-decoration-color: #008000\">'Busy</span> <span style=\"color: #7f7f7f; text-decoration-color: #7f7f7f\">           </span>\n",
       "<span style=\"color: #7fbfbf; text-decoration-color: #7fbfbf\">                    </span>         <span style=\"color: #008000; text-decoration-color: #008000\">train station'</span>, <span style=\"color: #008000; text-decoration-color: #008000\">'Tranquil village pond'</span>, <span style=\"color: #008000; text-decoration-color: #008000\">'Remote mountain cabin'</span>, <span style=\"color: #008000; text-decoration-color: #008000\">'Image </span>  <span style=\"color: #7f7f7f; text-decoration-color: #7f7f7f\">           </span>\n",
       "<span style=\"color: #7fbfbf; text-decoration-color: #7fbfbf\">                    </span>         <span style=\"color: #008000; text-decoration-color: #008000\">with a yellow color'</span>, <span style=\"color: #008000; text-decoration-color: #008000\">'Desert sandstorm'</span>, <span style=\"color: #008000; text-decoration-color: #008000\">'Whispering city lights'</span>,        <span style=\"color: #7f7f7f; text-decoration-color: #7f7f7f\">           </span>\n",
       "<span style=\"color: #7fbfbf; text-decoration-color: #7fbfbf\">                    </span>         <span style=\"color: #008000; text-decoration-color: #008000\">'Close-up of a textured reptile skin'</span>, <span style=\"color: #008000; text-decoration-color: #008000\">'Image showing prairie grouse'</span>,     <span style=\"color: #7f7f7f; text-decoration-color: #7f7f7f\">           </span>\n",
       "<span style=\"color: #7fbfbf; text-decoration-color: #7fbfbf\">                    </span>         <span style=\"color: #008000; text-decoration-color: #008000\">'Artwork with spiraling fractal motifs'</span>, <span style=\"color: #008000; text-decoration-color: #008000\">'Photograph taken in a soda </span>      <span style=\"color: #7f7f7f; text-decoration-color: #7f7f7f\">           </span>\n",
       "<span style=\"color: #7fbfbf; text-decoration-color: #7fbfbf\">                    </span>         <span style=\"color: #008000; text-decoration-color: #008000\">shop'</span>, <span style=\"color: #008000; text-decoration-color: #008000\">'An irregular hexagon'</span>, <span style=\"color: #008000; text-decoration-color: #008000\">'A bolt'</span>, <span style=\"color: #008000; text-decoration-color: #008000\">'Aerial view of a river or </span>       <span style=\"color: #7f7f7f; text-decoration-color: #7f7f7f\">           </span>\n",
       "<span style=\"color: #7fbfbf; text-decoration-color: #7fbfbf\">                    </span>         <span style=\"color: #008000; text-decoration-color: #008000\">stream'</span>, <span style=\"color: #008000; text-decoration-color: #008000\">'A picture of a bridge'</span>, <span style=\"color: #008000; text-decoration-color: #008000\">'detailed reptile close-up'</span>, <span style=\"color: #008000; text-decoration-color: #008000\">'Pristine </span>  <span style=\"color: #7f7f7f; text-decoration-color: #7f7f7f\">           </span>\n",
       "<span style=\"color: #7fbfbf; text-decoration-color: #7fbfbf\">                    </span>         <span style=\"color: #008000; text-decoration-color: #008000\">snowy landscape'</span>, <span style=\"color: #008000; text-decoration-color: #008000\">'Image taken in the Thai temples'</span>, <span style=\"color: #008000; text-decoration-color: #008000\">'Enigmatic </span>           <span style=\"color: #7f7f7f; text-decoration-color: #7f7f7f\">           </span>\n",
       "<span style=\"color: #7fbfbf; text-decoration-color: #7fbfbf\">                    </span>         <span style=\"color: #008000; text-decoration-color: #008000\">mist-covered lake'</span>, <span style=\"color: #008000; text-decoration-color: #008000\">'Image showing prairie grouse'</span>, <span style=\"color: #008000; text-decoration-color: #008000\">'Photograph taken in a</span> <span style=\"color: #7f7f7f; text-decoration-color: #7f7f7f\">           </span>\n",
       "<span style=\"color: #7fbfbf; text-decoration-color: #7fbfbf\">                    </span>         <span style=\"color: #008000; text-decoration-color: #008000\">retro diner'</span>, <span style=\"color: #008000; text-decoration-color: #008000\">'Remote alpine chalet'</span>, <span style=\"color: #008000; text-decoration-color: #008000\">'Picture captured in the Japanese </span>   <span style=\"color: #7f7f7f; text-decoration-color: #7f7f7f\">           </span>\n",
       "<span style=\"color: #7fbfbf; text-decoration-color: #7fbfbf\">                    </span>         <span style=\"color: #008000; text-decoration-color: #008000\">cherry blossoms'</span>, <span style=\"color: #008000; text-decoration-color: #008000\">'Photo taken in the Italian pizzerias'</span><span style=\"font-weight: bold\">]</span>                  <span style=\"color: #7f7f7f; text-decoration-color: #7f7f7f\">           </span>\n",
       "</pre>\n"
      ],
      "text/plain": [
       "\u001b[2;36m                   \u001b[0m\u001b[2;36m \u001b[0m\u001b[34mINFO    \u001b[0m Task Food101: \u001b[1m[\u001b[0m\u001b[32m'A vegetable'\u001b[0m, \u001b[32m'Close-up of a food item'\u001b[0m, \u001b[32m'Picture snapped \u001b[0m \u001b]8;id=129326;file:///tmp/ipykernel_108035/4266128688.py\u001b\\\u001b[2m__main__\u001b[0m\u001b]8;;\u001b\\\u001b[2m:\u001b[0m\u001b]8;id=444509;file:///tmp/ipykernel_108035/4266128688.py#35\u001b\\\u001b[2m35\u001b[0m\u001b]8;;\u001b\\\n",
       "\u001b[2;36m                    \u001b[0m         \u001b[32min the Icelandic glaciers'\u001b[0m, \u001b[32m'Image with a donkey'\u001b[0m, \u001b[32m'Breathtaking canyons'\u001b[0m, \u001b[2m           \u001b[0m\n",
       "\u001b[2;36m                    \u001b[0m         \u001b[32m'Picture taken in the Indonesian rice fields'\u001b[0m, \u001b[32m'Tranquil lakeside pier'\u001b[0m,   \u001b[2m           \u001b[0m\n",
       "\u001b[2;36m                    \u001b[0m         \u001b[32m'Image snapped in the Swiss chocolate factories'\u001b[0m, \u001b[32m'Tranquil lakeside \u001b[0m      \u001b[2m           \u001b[0m\n",
       "\u001b[2;36m                    \u001b[0m         \u001b[32mpier'\u001b[0m, \u001b[32m'detailed amphibian close-up'\u001b[0m, \u001b[32m'Photo taken in Santorini, Greece'\u001b[0m,  \u001b[2m           \u001b[0m\n",
       "\u001b[2;36m                    \u001b[0m         \u001b[32m'Ethereal double exposure photography'\u001b[0m, \u001b[32m'Artwork featuring barcode-like \u001b[0m   \u001b[2m           \u001b[0m\n",
       "\u001b[2;36m                    \u001b[0m         \u001b[32mlines'\u001b[0m, \u001b[32m'Impressionist-style digital painting'\u001b[0m, \u001b[32m'A photo of Monaco'\u001b[0m, \u001b[32m'Busy\u001b[0m \u001b[2m           \u001b[0m\n",
       "\u001b[2;36m                    \u001b[0m         \u001b[32mtrain station'\u001b[0m, \u001b[32m'Tranquil village pond'\u001b[0m, \u001b[32m'Remote mountain cabin'\u001b[0m, \u001b[32m'Image \u001b[0m  \u001b[2m           \u001b[0m\n",
       "\u001b[2;36m                    \u001b[0m         \u001b[32mwith a yellow color'\u001b[0m, \u001b[32m'Desert sandstorm'\u001b[0m, \u001b[32m'Whispering city lights'\u001b[0m,        \u001b[2m           \u001b[0m\n",
       "\u001b[2;36m                    \u001b[0m         \u001b[32m'Close-up of a textured reptile skin'\u001b[0m, \u001b[32m'Image showing prairie grouse'\u001b[0m,     \u001b[2m           \u001b[0m\n",
       "\u001b[2;36m                    \u001b[0m         \u001b[32m'Artwork with spiraling fractal motifs'\u001b[0m, \u001b[32m'Photograph taken in a soda \u001b[0m      \u001b[2m           \u001b[0m\n",
       "\u001b[2;36m                    \u001b[0m         \u001b[32mshop'\u001b[0m, \u001b[32m'An irregular hexagon'\u001b[0m, \u001b[32m'A bolt'\u001b[0m, \u001b[32m'Aerial view of a river or \u001b[0m       \u001b[2m           \u001b[0m\n",
       "\u001b[2;36m                    \u001b[0m         \u001b[32mstream'\u001b[0m, \u001b[32m'A picture of a bridge'\u001b[0m, \u001b[32m'detailed reptile close-up'\u001b[0m, \u001b[32m'Pristine \u001b[0m  \u001b[2m           \u001b[0m\n",
       "\u001b[2;36m                    \u001b[0m         \u001b[32msnowy landscape'\u001b[0m, \u001b[32m'Image taken in the Thai temples'\u001b[0m, \u001b[32m'Enigmatic \u001b[0m           \u001b[2m           \u001b[0m\n",
       "\u001b[2;36m                    \u001b[0m         \u001b[32mmist-covered lake'\u001b[0m, \u001b[32m'Image showing prairie grouse'\u001b[0m, \u001b[32m'Photograph taken in a\u001b[0m \u001b[2m           \u001b[0m\n",
       "\u001b[2;36m                    \u001b[0m         \u001b[32mretro diner'\u001b[0m, \u001b[32m'Remote alpine chalet'\u001b[0m, \u001b[32m'Picture captured in the Japanese \u001b[0m   \u001b[2m           \u001b[0m\n",
       "\u001b[2;36m                    \u001b[0m         \u001b[32mcherry blossoms'\u001b[0m, \u001b[32m'Photo taken in the Italian pizzerias'\u001b[0m\u001b[1m]\u001b[0m                  \u001b[2m           \u001b[0m\n"
      ]
     },
     "metadata": {},
     "output_type": "display_data"
    },
    {
     "data": {
      "text/html": [
       "<pre style=\"white-space:pre;overflow-x:auto;line-height:normal;font-family:Menlo,'DejaVu Sans Mono',consolas,'Courier New',monospace\"><span style=\"color: #7fbfbf; text-decoration-color: #7fbfbf\">                    </span><span style=\"color: #000080; text-decoration-color: #000080\">INFO    </span> Processing Task: FashionMNIST                                               <a href=\"file:///tmp/ipykernel_108035/4266128688.py\" target=\"_blank\"><span style=\"color: #7f7f7f; text-decoration-color: #7f7f7f\">__main__</span></a><span style=\"color: #7f7f7f; text-decoration-color: #7f7f7f\">:</span><a href=\"file:///tmp/ipykernel_108035/4266128688.py#5\" target=\"_blank\"><span style=\"color: #7f7f7f; text-decoration-color: #7f7f7f\">5</span></a>\n",
       "</pre>\n"
      ],
      "text/plain": [
       "\u001b[2;36m                   \u001b[0m\u001b[2;36m \u001b[0m\u001b[34mINFO    \u001b[0m Processing Task: FashionMNIST                                               \u001b]8;id=143455;file:///tmp/ipykernel_108035/4266128688.py\u001b\\\u001b[2m__main__\u001b[0m\u001b]8;;\u001b\\\u001b[2m:\u001b[0m\u001b]8;id=435244;file:///tmp/ipykernel_108035/4266128688.py#5\u001b\\\u001b[2m5\u001b[0m\u001b]8;;\u001b\\\n"
      ]
     },
     "metadata": {},
     "output_type": "display_data"
    },
    {
     "data": {
      "text/html": [
       "<pre style=\"white-space:pre;overflow-x:auto;line-height:normal;font-family:Menlo,'DejaVu Sans Mono',consolas,'Courier New',monospace\"><span style=\"color: #7fbfbf; text-decoration-color: #7fbfbf\">                    </span><span style=\"color: #000080; text-decoration-color: #000080\">INFO    </span> Task FashionMNIST: <span style=\"font-weight: bold\">[</span><span style=\"color: #008000; text-decoration-color: #008000\">'Sunlit foliage'</span>, <span style=\"color: #008000; text-decoration-color: #008000\">'Street art-inspired mural </span>          <a href=\"file:///tmp/ipykernel_108035/4266128688.py\" target=\"_blank\"><span style=\"color: #7f7f7f; text-decoration-color: #7f7f7f\">__main__</span></a><span style=\"color: #7f7f7f; text-decoration-color: #7f7f7f\">:</span><a href=\"file:///tmp/ipykernel_108035/4266128688.py#35\" target=\"_blank\"><span style=\"color: #7f7f7f; text-decoration-color: #7f7f7f\">35</span></a>\n",
       "<span style=\"color: #7fbfbf; text-decoration-color: #7fbfbf\">                    </span>         <span style=\"color: #008000; text-decoration-color: #008000\">painting'</span>, <span style=\"color: #008000; text-decoration-color: #008000\">'A dress'</span>, <span style=\"color: #008000; text-decoration-color: #008000\">'Tranquil lakeside pier'</span>, <span style=\"color: #008000; text-decoration-color: #008000\">'Picture taken in the </span>     <span style=\"color: #7f7f7f; text-decoration-color: #7f7f7f\">           </span>\n",
       "<span style=\"color: #7fbfbf; text-decoration-color: #7fbfbf\">                    </span>         <span style=\"color: #008000; text-decoration-color: #008000\">Spanish Flamenco festivals'</span>, <span style=\"color: #008000; text-decoration-color: #008000\">'Aerial view of a inlet'</span>, <span style=\"color: #008000; text-decoration-color: #008000\">'Image with a </span>      <span style=\"color: #7f7f7f; text-decoration-color: #7f7f7f\">           </span>\n",
       "<span style=\"color: #7fbfbf; text-decoration-color: #7fbfbf\">                    </span>         <span style=\"color: #008000; text-decoration-color: #008000\">winding path or trail'</span>, <span style=\"color: #008000; text-decoration-color: #008000\">'Intense athlete'</span>, <span style=\"color: #008000; text-decoration-color: #008000\">'An image of Andorra'</span>, <span style=\"color: #008000; text-decoration-color: #008000\">'Artwork</span> <span style=\"color: #7f7f7f; text-decoration-color: #7f7f7f\">           </span>\n",
       "<span style=\"color: #7fbfbf; text-decoration-color: #7fbfbf\">                    </span>         <span style=\"color: #008000; text-decoration-color: #008000\">featuring Escher-like patterns'</span>, <span style=\"color: #008000; text-decoration-color: #008000\">'A boot'</span>, <span style=\"color: #008000; text-decoration-color: #008000\">'Artwork featuring zebra stripe</span> <span style=\"color: #7f7f7f; text-decoration-color: #7f7f7f\">           </span>\n",
       "<span style=\"color: #7fbfbf; text-decoration-color: #7fbfbf\">                    </span>         <span style=\"color: #008000; text-decoration-color: #008000\">motifs'</span>, <span style=\"color: #008000; text-decoration-color: #008000\">'Patchwork quilt design'</span>, <span style=\"color: #008000; text-decoration-color: #008000\">'Picture captured in the Icelandic </span>     <span style=\"color: #7f7f7f; text-decoration-color: #7f7f7f\">           </span>\n",
       "<span style=\"color: #7fbfbf; text-decoration-color: #7fbfbf\">                    </span>         <span style=\"color: #008000; text-decoration-color: #008000\">glaciers'</span>, <span style=\"color: #008000; text-decoration-color: #008000\">'A shirt'</span>, <span style=\"color: #008000; text-decoration-color: #008000\">'Picture taken in Seychelles'</span>, <span style=\"color: #008000; text-decoration-color: #008000\">'thrilling racing </span>    <span style=\"color: #7f7f7f; text-decoration-color: #7f7f7f\">           </span>\n",
       "<span style=\"color: #7fbfbf; text-decoration-color: #7fbfbf\">                    </span>         <span style=\"color: #008000; text-decoration-color: #008000\">event'</span>, <span style=\"color: #008000; text-decoration-color: #008000\">'Image with vintage typography'</span>, <span style=\"color: #008000; text-decoration-color: #008000\">'Close-up of a textured silk'</span>,    <span style=\"color: #7f7f7f; text-decoration-color: #7f7f7f\">           </span>\n",
       "<span style=\"color: #7fbfbf; text-decoration-color: #7fbfbf\">                    </span>         <span style=\"color: #008000; text-decoration-color: #008000\">'Image with ornate arabesque patterns'</span>, <span style=\"color: #008000; text-decoration-color: #008000\">'Photo taken in Machu Picchu'</span>,     <span style=\"color: #7f7f7f; text-decoration-color: #7f7f7f\">           </span>\n",
       "<span style=\"color: #7fbfbf; text-decoration-color: #7fbfbf\">                    </span>         <span style=\"color: #008000; text-decoration-color: #008000\">'Time-lapse trails'</span>, <span style=\"color: #008000; text-decoration-color: #008000\">'intricate kaleidoscope pattern'</span>,                     <span style=\"color: #7f7f7f; text-decoration-color: #7f7f7f\">           </span>\n",
       "<span style=\"color: #7fbfbf; text-decoration-color: #7fbfbf\">                    </span>         <span style=\"color: #008000; text-decoration-color: #008000\">'Impressionist-style digital painting'</span>, <span style=\"color: #008000; text-decoration-color: #008000\">'A plank'</span>, <span style=\"color: #008000; text-decoration-color: #008000\">'Close-up of a textured</span> <span style=\"color: #7f7f7f; text-decoration-color: #7f7f7f\">           </span>\n",
       "<span style=\"color: #7fbfbf; text-decoration-color: #7fbfbf\">                    </span>         <span style=\"color: #008000; text-decoration-color: #008000\">synthetic wood'</span>, <span style=\"color: #008000; text-decoration-color: #008000\">'thrilling sports event'</span>, <span style=\"color: #008000; text-decoration-color: #008000\">'A bamboo'</span>, <span style=\"color: #008000; text-decoration-color: #008000\">'Minimalist </span>        <span style=\"color: #7f7f7f; text-decoration-color: #7f7f7f\">           </span>\n",
       "<span style=\"color: #7fbfbf; text-decoration-color: #7fbfbf\">                    </span>         <span style=\"color: #008000; text-decoration-color: #008000\">architectural photography'</span>, <span style=\"color: #008000; text-decoration-color: #008000\">'Image with tartan patterns'</span>, <span style=\"color: #008000; text-decoration-color: #008000\">'A scorpion'</span>,    <span style=\"color: #7f7f7f; text-decoration-color: #7f7f7f\">           </span>\n",
       "<span style=\"color: #7fbfbf; text-decoration-color: #7fbfbf\">                    </span>         <span style=\"color: #008000; text-decoration-color: #008000\">'Bursting fireworks display'</span>, <span style=\"color: #008000; text-decoration-color: #008000\">'A helix'</span>, <span style=\"color: #008000; text-decoration-color: #008000\">'An image of Luxembourg'</span>,         <span style=\"color: #7f7f7f; text-decoration-color: #7f7f7f\">           </span>\n",
       "<span style=\"color: #7fbfbf; text-decoration-color: #7fbfbf\">                    </span>         <span style=\"color: #008000; text-decoration-color: #008000\">'Surrealist collage artwork'</span>, <span style=\"color: #008000; text-decoration-color: #008000\">'An image of Fiji'</span>, <span style=\"color: #008000; text-decoration-color: #008000\">'Image with camouflage </span>  <span style=\"color: #7f7f7f; text-decoration-color: #7f7f7f\">           </span>\n",
       "<span style=\"color: #7fbfbf; text-decoration-color: #7fbfbf\">                    </span>         <span style=\"color: #008000; text-decoration-color: #008000\">print'</span>, <span style=\"color: #008000; text-decoration-color: #008000\">'A checkerboard pattern'</span><span style=\"font-weight: bold\">]</span>                                          <span style=\"color: #7f7f7f; text-decoration-color: #7f7f7f\">           </span>\n",
       "</pre>\n"
      ],
      "text/plain": [
       "\u001b[2;36m                   \u001b[0m\u001b[2;36m \u001b[0m\u001b[34mINFO    \u001b[0m Task FashionMNIST: \u001b[1m[\u001b[0m\u001b[32m'Sunlit foliage'\u001b[0m, \u001b[32m'Street art-inspired mural \u001b[0m          \u001b]8;id=756817;file:///tmp/ipykernel_108035/4266128688.py\u001b\\\u001b[2m__main__\u001b[0m\u001b]8;;\u001b\\\u001b[2m:\u001b[0m\u001b]8;id=186997;file:///tmp/ipykernel_108035/4266128688.py#35\u001b\\\u001b[2m35\u001b[0m\u001b]8;;\u001b\\\n",
       "\u001b[2;36m                    \u001b[0m         \u001b[32mpainting'\u001b[0m, \u001b[32m'A dress'\u001b[0m, \u001b[32m'Tranquil lakeside pier'\u001b[0m, \u001b[32m'Picture taken in the \u001b[0m     \u001b[2m           \u001b[0m\n",
       "\u001b[2;36m                    \u001b[0m         \u001b[32mSpanish Flamenco festivals'\u001b[0m, \u001b[32m'Aerial view of a inlet'\u001b[0m, \u001b[32m'Image with a \u001b[0m      \u001b[2m           \u001b[0m\n",
       "\u001b[2;36m                    \u001b[0m         \u001b[32mwinding path or trail'\u001b[0m, \u001b[32m'Intense athlete'\u001b[0m, \u001b[32m'An image of Andorra'\u001b[0m, \u001b[32m'Artwork\u001b[0m \u001b[2m           \u001b[0m\n",
       "\u001b[2;36m                    \u001b[0m         \u001b[32mfeaturing Escher-like patterns'\u001b[0m, \u001b[32m'A boot'\u001b[0m, \u001b[32m'Artwork featuring zebra stripe\u001b[0m \u001b[2m           \u001b[0m\n",
       "\u001b[2;36m                    \u001b[0m         \u001b[32mmotifs'\u001b[0m, \u001b[32m'Patchwork quilt design'\u001b[0m, \u001b[32m'Picture captured in the Icelandic \u001b[0m     \u001b[2m           \u001b[0m\n",
       "\u001b[2;36m                    \u001b[0m         \u001b[32mglaciers'\u001b[0m, \u001b[32m'A shirt'\u001b[0m, \u001b[32m'Picture taken in Seychelles'\u001b[0m, \u001b[32m'thrilling racing \u001b[0m    \u001b[2m           \u001b[0m\n",
       "\u001b[2;36m                    \u001b[0m         \u001b[32mevent'\u001b[0m, \u001b[32m'Image with vintage typography'\u001b[0m, \u001b[32m'Close-up of a textured silk'\u001b[0m,    \u001b[2m           \u001b[0m\n",
       "\u001b[2;36m                    \u001b[0m         \u001b[32m'Image with ornate arabesque patterns'\u001b[0m, \u001b[32m'Photo taken in Machu Picchu'\u001b[0m,     \u001b[2m           \u001b[0m\n",
       "\u001b[2;36m                    \u001b[0m         \u001b[32m'Time-lapse trails'\u001b[0m, \u001b[32m'intricate kaleidoscope pattern'\u001b[0m,                     \u001b[2m           \u001b[0m\n",
       "\u001b[2;36m                    \u001b[0m         \u001b[32m'Impressionist-style digital painting'\u001b[0m, \u001b[32m'A plank'\u001b[0m, \u001b[32m'Close-up of a textured\u001b[0m \u001b[2m           \u001b[0m\n",
       "\u001b[2;36m                    \u001b[0m         \u001b[32msynthetic wood'\u001b[0m, \u001b[32m'thrilling sports event'\u001b[0m, \u001b[32m'A bamboo'\u001b[0m, \u001b[32m'Minimalist \u001b[0m        \u001b[2m           \u001b[0m\n",
       "\u001b[2;36m                    \u001b[0m         \u001b[32marchitectural photography'\u001b[0m, \u001b[32m'Image with tartan patterns'\u001b[0m, \u001b[32m'A scorpion'\u001b[0m,    \u001b[2m           \u001b[0m\n",
       "\u001b[2;36m                    \u001b[0m         \u001b[32m'Bursting fireworks display'\u001b[0m, \u001b[32m'A helix'\u001b[0m, \u001b[32m'An image of Luxembourg'\u001b[0m,         \u001b[2m           \u001b[0m\n",
       "\u001b[2;36m                    \u001b[0m         \u001b[32m'Surrealist collage artwork'\u001b[0m, \u001b[32m'An image of Fiji'\u001b[0m, \u001b[32m'Image with camouflage \u001b[0m  \u001b[2m           \u001b[0m\n",
       "\u001b[2;36m                    \u001b[0m         \u001b[32mprint'\u001b[0m, \u001b[32m'A checkerboard pattern'\u001b[0m\u001b[1m]\u001b[0m                                          \u001b[2m           \u001b[0m\n"
      ]
     },
     "metadata": {},
     "output_type": "display_data"
    },
    {
     "data": {
      "text/html": [
       "<pre style=\"white-space:pre;overflow-x:auto;line-height:normal;font-family:Menlo,'DejaVu Sans Mono',consolas,'Courier New',monospace\"><span style=\"color: #7fbfbf; text-decoration-color: #7fbfbf\">                    </span><span style=\"color: #000080; text-decoration-color: #000080\">INFO    </span> Processing Task: RenderedSST2                                               <a href=\"file:///tmp/ipykernel_108035/4266128688.py\" target=\"_blank\"><span style=\"color: #7f7f7f; text-decoration-color: #7f7f7f\">__main__</span></a><span style=\"color: #7f7f7f; text-decoration-color: #7f7f7f\">:</span><a href=\"file:///tmp/ipykernel_108035/4266128688.py#5\" target=\"_blank\"><span style=\"color: #7f7f7f; text-decoration-color: #7f7f7f\">5</span></a>\n",
       "</pre>\n"
      ],
      "text/plain": [
       "\u001b[2;36m                   \u001b[0m\u001b[2;36m \u001b[0m\u001b[34mINFO    \u001b[0m Processing Task: RenderedSST2                                               \u001b]8;id=753126;file:///tmp/ipykernel_108035/4266128688.py\u001b\\\u001b[2m__main__\u001b[0m\u001b]8;;\u001b\\\u001b[2m:\u001b[0m\u001b]8;id=485;file:///tmp/ipykernel_108035/4266128688.py#5\u001b\\\u001b[2m5\u001b[0m\u001b]8;;\u001b\\\n"
      ]
     },
     "metadata": {},
     "output_type": "display_data"
    },
    {
     "data": {
      "text/html": [
       "<pre style=\"white-space:pre;overflow-x:auto;line-height:normal;font-family:Menlo,'DejaVu Sans Mono',consolas,'Courier New',monospace\"><span style=\"color: #7fbfbf; text-decoration-color: #7fbfbf\">2025-03-17 12:03:00 </span><span style=\"color: #000080; text-decoration-color: #000080\">INFO    </span> Task RenderedSST2: <span style=\"font-weight: bold\">[</span><span style=\"color: #008000; text-decoration-color: #008000\">'Artwork featuring Morse code typography'</span>, <span style=\"color: #008000; text-decoration-color: #008000\">'Intricate </span> <a href=\"file:///tmp/ipykernel_108035/4266128688.py\" target=\"_blank\"><span style=\"color: #7f7f7f; text-decoration-color: #7f7f7f\">__main__</span></a><span style=\"color: #7f7f7f; text-decoration-color: #7f7f7f\">:</span><a href=\"file:///tmp/ipykernel_108035/4266128688.py#35\" target=\"_blank\"><span style=\"color: #7f7f7f; text-decoration-color: #7f7f7f\">35</span></a>\n",
       "<span style=\"color: #7fbfbf; text-decoration-color: #7fbfbf\">                    </span>         <span style=\"color: #008000; text-decoration-color: #008000\">pencil drawing'</span>, <span style=\"color: #008000; text-decoration-color: #008000\">'Photograph taken in a record shop'</span>, <span style=\"color: #008000; text-decoration-color: #008000\">'An image of </span>        <span style=\"color: #7f7f7f; text-decoration-color: #7f7f7f\">           </span>\n",
       "<span style=\"color: #7fbfbf; text-decoration-color: #7fbfbf\">                    </span>         <span style=\"color: #008000; text-decoration-color: #008000\">Luxembourg'</span>, <span style=\"color: #008000; text-decoration-color: #008000\">'Wide-angle perspective'</span>, <span style=\"color: #008000; text-decoration-color: #008000\">'Meticulously arranged flowerbed'</span>,  <span style=\"color: #7f7f7f; text-decoration-color: #7f7f7f\">           </span>\n",
       "<span style=\"color: #7fbfbf; text-decoration-color: #7fbfbf\">                    </span>         <span style=\"color: #008000; text-decoration-color: #008000\">'Photo taken in the Serengeti National Park'</span>, <span style=\"color: #008000; text-decoration-color: #008000\">'serene Japanese garden'</span>,    <span style=\"color: #7f7f7f; text-decoration-color: #7f7f7f\">           </span>\n",
       "<span style=\"color: #7fbfbf; text-decoration-color: #7fbfbf\">                    </span>         <span style=\"color: #008000; text-decoration-color: #008000\">'delicate soap bubble display'</span>, <span style=\"color: #008000; text-decoration-color: #008000\">'Nostalgic city pulse'</span>, <span style=\"color: #008000; text-decoration-color: #008000\">'An ellipse'</span>,      <span style=\"color: #7f7f7f; text-decoration-color: #7f7f7f\">           </span>\n",
       "<span style=\"color: #7fbfbf; text-decoration-color: #7fbfbf\">                    </span>         <span style=\"color: #008000; text-decoration-color: #008000\">'Isolated subject'</span>, <span style=\"color: #008000; text-decoration-color: #008000\">'Intrica wood carvingte'</span>, <span style=\"color: #008000; text-decoration-color: #008000\">'Photo with muted, </span>          <span style=\"color: #7f7f7f; text-decoration-color: #7f7f7f\">           </span>\n",
       "<span style=\"color: #7fbfbf; text-decoration-color: #7fbfbf\">                    </span>         <span style=\"color: #008000; text-decoration-color: #008000\">desaturated tones'</span>, <span style=\"color: #008000; text-decoration-color: #008000\">'An image of Andorra'</span>, <span style=\"color: #008000; text-decoration-color: #008000\">'an image of liechtenstein'</span>, <span style=\"color: #008000; text-decoration-color: #008000\">'A</span> <span style=\"color: #7f7f7f; text-decoration-color: #7f7f7f\">           </span>\n",
       "<span style=\"color: #7fbfbf; text-decoration-color: #7fbfbf\">                    </span>         <span style=\"color: #008000; text-decoration-color: #008000\">stretcher'</span>, <span style=\"color: #008000; text-decoration-color: #008000\">'An image of cheeks'</span>, <span style=\"color: #008000; text-decoration-color: #008000\">'Patchwork quilt design'</span>, <span style=\"color: #008000; text-decoration-color: #008000\">'A geyser'</span>,    <span style=\"color: #7f7f7f; text-decoration-color: #7f7f7f\">           </span>\n",
       "<span style=\"color: #7fbfbf; text-decoration-color: #7fbfbf\">                    </span>         <span style=\"color: #008000; text-decoration-color: #008000\">'Vibrant humanity'</span>, <span style=\"color: #008000; text-decoration-color: #008000\">'A quasar'</span>, <span style=\"color: #008000; text-decoration-color: #008000\">'Photo taken in the Serengeti National </span>    <span style=\"color: #7f7f7f; text-decoration-color: #7f7f7f\">           </span>\n",
       "<span style=\"color: #7fbfbf; text-decoration-color: #7fbfbf\">                    </span>         <span style=\"color: #008000; text-decoration-color: #008000\">Park'</span>, <span style=\"color: #008000; text-decoration-color: #008000\">'Ethereal quality'</span>, <span style=\"color: #008000; text-decoration-color: #008000\">'Intrica wood carvingte'</span>, <span style=\"color: #008000; text-decoration-color: #008000\">'Futuristic-edge </span>     <span style=\"color: #7f7f7f; text-decoration-color: #7f7f7f\">           </span>\n",
       "<span style=\"color: #7fbfbf; text-decoration-color: #7fbfbf\">                    </span>         <span style=\"color: #008000; text-decoration-color: #008000\">robotic innovation'</span>, <span style=\"color: #008000; text-decoration-color: #008000\">'Enchanting forest nymph aesthetic'</span>, <span style=\"color: #008000; text-decoration-color: #008000\">'Vivid cultural </span> <span style=\"color: #7f7f7f; text-decoration-color: #7f7f7f\">           </span>\n",
       "<span style=\"color: #7fbfbf; text-decoration-color: #7fbfbf\">                    </span>         <span style=\"color: #008000; text-decoration-color: #008000\">festival'</span>, <span style=\"color: #008000; text-decoration-color: #008000\">'Miniature diorama photography'</span>, <span style=\"color: #008000; text-decoration-color: #008000\">'Intrica cathedralte'</span>,         <span style=\"color: #7f7f7f; text-decoration-color: #7f7f7f\">           </span>\n",
       "<span style=\"color: #7fbfbf; text-decoration-color: #7fbfbf\">                    </span>         <span style=\"color: #008000; text-decoration-color: #008000\">'Submerged underwater scene'</span>, <span style=\"color: #008000; text-decoration-color: #008000\">'A parallelogram'</span>, <span style=\"color: #008000; text-decoration-color: #008000\">'A vine'</span>, <span style=\"color: #008000; text-decoration-color: #008000\">'Facial </span>        <span style=\"color: #7f7f7f; text-decoration-color: #7f7f7f\">           </span>\n",
       "<span style=\"color: #7fbfbf; text-decoration-color: #7fbfbf\">                    </span>         <span style=\"color: #008000; text-decoration-color: #008000\">close-up'</span>, <span style=\"color: #008000; text-decoration-color: #008000\">'Tranquil oceanside retreat'</span>, <span style=\"color: #008000; text-decoration-color: #008000\">'A bonnet'</span>, <span style=\"color: #008000; text-decoration-color: #008000\">'A photo with the </span>    <span style=\"color: #7f7f7f; text-decoration-color: #7f7f7f\">           </span>\n",
       "<span style=\"color: #7fbfbf; text-decoration-color: #7fbfbf\">                    </span>         <span style=\"color: #008000; text-decoration-color: #008000\">letter S'</span>, <span style=\"color: #008000; text-decoration-color: #008000\">'Plaid pattern'</span><span style=\"font-weight: bold\">]</span>                                                <span style=\"color: #7f7f7f; text-decoration-color: #7f7f7f\">           </span>\n",
       "</pre>\n"
      ],
      "text/plain": [
       "\u001b[2;36m2025-03-17 12:03:00\u001b[0m\u001b[2;36m \u001b[0m\u001b[34mINFO    \u001b[0m Task RenderedSST2: \u001b[1m[\u001b[0m\u001b[32m'Artwork featuring Morse code typography'\u001b[0m, \u001b[32m'Intricate \u001b[0m \u001b]8;id=739467;file:///tmp/ipykernel_108035/4266128688.py\u001b\\\u001b[2m__main__\u001b[0m\u001b]8;;\u001b\\\u001b[2m:\u001b[0m\u001b]8;id=570759;file:///tmp/ipykernel_108035/4266128688.py#35\u001b\\\u001b[2m35\u001b[0m\u001b]8;;\u001b\\\n",
       "\u001b[2;36m                    \u001b[0m         \u001b[32mpencil drawing'\u001b[0m, \u001b[32m'Photograph taken in a record shop'\u001b[0m, \u001b[32m'An image of \u001b[0m        \u001b[2m           \u001b[0m\n",
       "\u001b[2;36m                    \u001b[0m         \u001b[32mLuxembourg'\u001b[0m, \u001b[32m'Wide-angle perspective'\u001b[0m, \u001b[32m'Meticulously arranged flowerbed'\u001b[0m,  \u001b[2m           \u001b[0m\n",
       "\u001b[2;36m                    \u001b[0m         \u001b[32m'Photo taken in the Serengeti National Park'\u001b[0m, \u001b[32m'serene Japanese garden'\u001b[0m,    \u001b[2m           \u001b[0m\n",
       "\u001b[2;36m                    \u001b[0m         \u001b[32m'delicate soap bubble display'\u001b[0m, \u001b[32m'Nostalgic city pulse'\u001b[0m, \u001b[32m'An ellipse'\u001b[0m,      \u001b[2m           \u001b[0m\n",
       "\u001b[2;36m                    \u001b[0m         \u001b[32m'Isolated subject'\u001b[0m, \u001b[32m'Intrica wood carvingte'\u001b[0m, \u001b[32m'Photo with muted, \u001b[0m          \u001b[2m           \u001b[0m\n",
       "\u001b[2;36m                    \u001b[0m         \u001b[32mdesaturated tones'\u001b[0m, \u001b[32m'An image of Andorra'\u001b[0m, \u001b[32m'an image of liechtenstein'\u001b[0m, \u001b[32m'A\u001b[0m \u001b[2m           \u001b[0m\n",
       "\u001b[2;36m                    \u001b[0m         \u001b[32mstretcher'\u001b[0m, \u001b[32m'An image of cheeks'\u001b[0m, \u001b[32m'Patchwork quilt design'\u001b[0m, \u001b[32m'A geyser'\u001b[0m,    \u001b[2m           \u001b[0m\n",
       "\u001b[2;36m                    \u001b[0m         \u001b[32m'Vibrant humanity'\u001b[0m, \u001b[32m'A quasar'\u001b[0m, \u001b[32m'Photo taken in the Serengeti National \u001b[0m    \u001b[2m           \u001b[0m\n",
       "\u001b[2;36m                    \u001b[0m         \u001b[32mPark'\u001b[0m, \u001b[32m'Ethereal quality'\u001b[0m, \u001b[32m'Intrica wood carvingte'\u001b[0m, \u001b[32m'Futuristic-edge \u001b[0m     \u001b[2m           \u001b[0m\n",
       "\u001b[2;36m                    \u001b[0m         \u001b[32mrobotic innovation'\u001b[0m, \u001b[32m'Enchanting forest nymph aesthetic'\u001b[0m, \u001b[32m'Vivid cultural \u001b[0m \u001b[2m           \u001b[0m\n",
       "\u001b[2;36m                    \u001b[0m         \u001b[32mfestival'\u001b[0m, \u001b[32m'Miniature diorama photography'\u001b[0m, \u001b[32m'Intrica cathedralte'\u001b[0m,         \u001b[2m           \u001b[0m\n",
       "\u001b[2;36m                    \u001b[0m         \u001b[32m'Submerged underwater scene'\u001b[0m, \u001b[32m'A parallelogram'\u001b[0m, \u001b[32m'A vine'\u001b[0m, \u001b[32m'Facial \u001b[0m        \u001b[2m           \u001b[0m\n",
       "\u001b[2;36m                    \u001b[0m         \u001b[32mclose-up'\u001b[0m, \u001b[32m'Tranquil oceanside retreat'\u001b[0m, \u001b[32m'A bonnet'\u001b[0m, \u001b[32m'A photo with the \u001b[0m    \u001b[2m           \u001b[0m\n",
       "\u001b[2;36m                    \u001b[0m         \u001b[32mletter S'\u001b[0m, \u001b[32m'Plaid pattern'\u001b[0m\u001b[1m]\u001b[0m                                                \u001b[2m           \u001b[0m\n"
      ]
     },
     "metadata": {},
     "output_type": "display_data"
    },
    {
     "data": {
      "text/html": [
       "<pre style=\"white-space:pre;overflow-x:auto;line-height:normal;font-family:Menlo,'DejaVu Sans Mono',consolas,'Courier New',monospace\"><span style=\"color: #7fbfbf; text-decoration-color: #7fbfbf\">                    </span><span style=\"color: #000080; text-decoration-color: #000080\">INFO    </span> Processing Task: KMNIST                                                     <a href=\"file:///tmp/ipykernel_108035/4266128688.py\" target=\"_blank\"><span style=\"color: #7f7f7f; text-decoration-color: #7f7f7f\">__main__</span></a><span style=\"color: #7f7f7f; text-decoration-color: #7f7f7f\">:</span><a href=\"file:///tmp/ipykernel_108035/4266128688.py#5\" target=\"_blank\"><span style=\"color: #7f7f7f; text-decoration-color: #7f7f7f\">5</span></a>\n",
       "</pre>\n"
      ],
      "text/plain": [
       "\u001b[2;36m                   \u001b[0m\u001b[2;36m \u001b[0m\u001b[34mINFO    \u001b[0m Processing Task: KMNIST                                                     \u001b]8;id=8054;file:///tmp/ipykernel_108035/4266128688.py\u001b\\\u001b[2m__main__\u001b[0m\u001b]8;;\u001b\\\u001b[2m:\u001b[0m\u001b]8;id=211949;file:///tmp/ipykernel_108035/4266128688.py#5\u001b\\\u001b[2m5\u001b[0m\u001b]8;;\u001b\\\n"
      ]
     },
     "metadata": {},
     "output_type": "display_data"
    },
    {
     "data": {
      "text/html": [
       "<pre style=\"white-space:pre;overflow-x:auto;line-height:normal;font-family:Menlo,'DejaVu Sans Mono',consolas,'Courier New',monospace\"><span style=\"color: #7fbfbf; text-decoration-color: #7fbfbf\">                    </span><span style=\"color: #000080; text-decoration-color: #000080\">INFO    </span> Task KMNIST: <span style=\"font-weight: bold\">[</span><span style=\"color: #008000; text-decoration-color: #008000\">'Photograph taken in a car'</span>, <span style=\"color: #008000; text-decoration-color: #008000\">'Captivating street life'</span>,      <a href=\"file:///tmp/ipykernel_108035/4266128688.py\" target=\"_blank\"><span style=\"color: #7f7f7f; text-decoration-color: #7f7f7f\">__main__</span></a><span style=\"color: #7f7f7f; text-decoration-color: #7f7f7f\">:</span><a href=\"file:///tmp/ipykernel_108035/4266128688.py#35\" target=\"_blank\"><span style=\"color: #7f7f7f; text-decoration-color: #7f7f7f\">35</span></a>\n",
       "<span style=\"color: #7fbfbf; text-decoration-color: #7fbfbf\">                    </span>         <span style=\"color: #008000; text-decoration-color: #008000\">'Close-up of a textured bark'</span>, <span style=\"color: #008000; text-decoration-color: #008000\">'Image with a whirlpool in the ocean'</span>,      <span style=\"color: #7f7f7f; text-decoration-color: #7f7f7f\">           </span>\n",
       "<span style=\"color: #7fbfbf; text-decoration-color: #7fbfbf\">                    </span>         <span style=\"color: #008000; text-decoration-color: #008000\">'Glowing neon cityscape'</span>, <span style=\"color: #008000; text-decoration-color: #008000\">'intricate clockwork gears'</span>, <span style=\"color: #008000; text-decoration-color: #008000\">'Quiet rural </span>       <span style=\"color: #7f7f7f; text-decoration-color: #7f7f7f\">           </span>\n",
       "<span style=\"color: #7fbfbf; text-decoration-color: #7fbfbf\">                    </span>         <span style=\"color: #008000; text-decoration-color: #008000\">farmhouse'</span>, <span style=\"color: #008000; text-decoration-color: #008000\">'Close-up of a textured synthetic leather'</span>, <span style=\"color: #008000; text-decoration-color: #008000\">'Illustration of a</span> <span style=\"color: #7f7f7f; text-decoration-color: #7f7f7f\">           </span>\n",
       "<span style=\"color: #7fbfbf; text-decoration-color: #7fbfbf\">                    </span>         <span style=\"color: #008000; text-decoration-color: #008000\">hidden ancient script'</span>, <span style=\"color: #008000; text-decoration-color: #008000\">'A seal'</span>, <span style=\"color: #008000; text-decoration-color: #008000\">'intricate gemstone arrangement'</span>,        <span style=\"color: #7f7f7f; text-decoration-color: #7f7f7f\">           </span>\n",
       "<span style=\"color: #7fbfbf; text-decoration-color: #7fbfbf\">                    </span>         <span style=\"color: #008000; text-decoration-color: #008000\">'Ephemeral soap bubble creation'</span>, <span style=\"color: #008000; text-decoration-color: #008000\">'Vibrant floral arrangement'</span>, <span style=\"color: #008000; text-decoration-color: #008000\">'Arabic </span>   <span style=\"color: #7f7f7f; text-decoration-color: #7f7f7f\">           </span>\n",
       "<span style=\"color: #7fbfbf; text-decoration-color: #7fbfbf\">                    </span>         <span style=\"color: #008000; text-decoration-color: #008000\">script calligraphy'</span>, <span style=\"color: #008000; text-decoration-color: #008000\">'Fast-paced race car blur'</span>, <span style=\"color: #008000; text-decoration-color: #008000\">'Artwork featuring 8-bit </span> <span style=\"color: #7f7f7f; text-decoration-color: #7f7f7f\">           </span>\n",
       "<span style=\"color: #7fbfbf; text-decoration-color: #7fbfbf\">                    </span>         <span style=\"color: #008000; text-decoration-color: #008000\">pixel art'</span>, <span style=\"color: #008000; text-decoration-color: #008000\">'Picture taken in Alberta, Canada'</span>, <span style=\"color: #008000; text-decoration-color: #008000\">'Blossoming springtime </span>    <span style=\"color: #7f7f7f; text-decoration-color: #7f7f7f\">           </span>\n",
       "<span style=\"color: #7fbfbf; text-decoration-color: #7fbfbf\">                    </span>         <span style=\"color: #008000; text-decoration-color: #008000\">blooms'</span>, <span style=\"color: #008000; text-decoration-color: #008000\">'a picture of taiwan'</span>, <span style=\"color: #008000; text-decoration-color: #008000\">'detailed mosaic design'</span>, <span style=\"color: #008000; text-decoration-color: #008000\">'Close-up of a </span>  <span style=\"color: #7f7f7f; text-decoration-color: #7f7f7f\">           </span>\n",
       "<span style=\"color: #7fbfbf; text-decoration-color: #7fbfbf\">                    </span>         <span style=\"color: #008000; text-decoration-color: #008000\">textured feather'</span>, <span style=\"color: #008000; text-decoration-color: #008000\">'Image captured in the Patagonian wilderness'</span>, <span style=\"color: #008000; text-decoration-color: #008000\">'Bokeh </span>  <span style=\"color: #7f7f7f; text-decoration-color: #7f7f7f\">           </span>\n",
       "<span style=\"color: #7fbfbf; text-decoration-color: #7fbfbf\">                    </span>         <span style=\"color: #008000; text-decoration-color: #008000\">effect'</span>, <span style=\"color: #008000; text-decoration-color: #008000\">'Enigmatic silhouettes'</span>, <span style=\"color: #008000; text-decoration-color: #008000\">'Collage of vintage magazine clippings'</span>, <span style=\"color: #7f7f7f; text-decoration-color: #7f7f7f\">           </span>\n",
       "<span style=\"color: #7fbfbf; text-decoration-color: #7fbfbf\">                    </span>         <span style=\"color: #008000; text-decoration-color: #008000\">'Aerial view of a snowy landscape'</span>, <span style=\"color: #008000; text-decoration-color: #008000\">'Photo taken in Monument Valley'</span>,      <span style=\"color: #7f7f7f; text-decoration-color: #7f7f7f\">           </span>\n",
       "<span style=\"color: #7fbfbf; text-decoration-color: #7fbfbf\">                    </span>         <span style=\"color: #008000; text-decoration-color: #008000\">'Picture with a close-up of a flower'</span>, <span style=\"color: #008000; text-decoration-color: #008000\">'Remote alpine chalet'</span>, <span style=\"color: #008000; text-decoration-color: #008000\">'An image </span>  <span style=\"color: #7f7f7f; text-decoration-color: #7f7f7f\">           </span>\n",
       "<span style=\"color: #7fbfbf; text-decoration-color: #7fbfbf\">                    </span>         <span style=\"color: #008000; text-decoration-color: #008000\">of a couple'</span>, <span style=\"color: #008000; text-decoration-color: #008000\">'Mesmerizing kinetic sculpture'</span>, <span style=\"color: #008000; text-decoration-color: #008000\">'Tranquil garden oasis'</span>,    <span style=\"color: #7f7f7f; text-decoration-color: #7f7f7f\">           </span>\n",
       "<span style=\"color: #7fbfbf; text-decoration-color: #7fbfbf\">                    </span>         <span style=\"color: #008000; text-decoration-color: #008000\">'Glistening dew-covered foliage'</span>, <span style=\"color: #008000; text-decoration-color: #008000\">'An image of Luxembourg'</span>, <span style=\"color: #008000; text-decoration-color: #008000\">'Arabic script</span> <span style=\"color: #7f7f7f; text-decoration-color: #7f7f7f\">           </span>\n",
       "<span style=\"color: #7fbfbf; text-decoration-color: #7fbfbf\">                    </span>         <span style=\"color: #008000; text-decoration-color: #008000\">calligraphy'</span>, <span style=\"color: #008000; text-decoration-color: #008000\">'Lone subject in vastness'</span>, <span style=\"color: #008000; text-decoration-color: #008000\">'Desert oasis palm trees'</span>,       <span style=\"color: #7f7f7f; text-decoration-color: #7f7f7f\">           </span>\n",
       "<span style=\"color: #7fbfbf; text-decoration-color: #7fbfbf\">                    </span>         <span style=\"color: #008000; text-decoration-color: #008000\">'Graceful swimming fish'</span><span style=\"font-weight: bold\">]</span>                                                  <span style=\"color: #7f7f7f; text-decoration-color: #7f7f7f\">           </span>\n",
       "</pre>\n"
      ],
      "text/plain": [
       "\u001b[2;36m                   \u001b[0m\u001b[2;36m \u001b[0m\u001b[34mINFO    \u001b[0m Task KMNIST: \u001b[1m[\u001b[0m\u001b[32m'Photograph taken in a car'\u001b[0m, \u001b[32m'Captivating street life'\u001b[0m,      \u001b]8;id=538527;file:///tmp/ipykernel_108035/4266128688.py\u001b\\\u001b[2m__main__\u001b[0m\u001b]8;;\u001b\\\u001b[2m:\u001b[0m\u001b]8;id=968851;file:///tmp/ipykernel_108035/4266128688.py#35\u001b\\\u001b[2m35\u001b[0m\u001b]8;;\u001b\\\n",
       "\u001b[2;36m                    \u001b[0m         \u001b[32m'Close-up of a textured bark'\u001b[0m, \u001b[32m'Image with a whirlpool in the ocean'\u001b[0m,      \u001b[2m           \u001b[0m\n",
       "\u001b[2;36m                    \u001b[0m         \u001b[32m'Glowing neon cityscape'\u001b[0m, \u001b[32m'intricate clockwork gears'\u001b[0m, \u001b[32m'Quiet rural \u001b[0m       \u001b[2m           \u001b[0m\n",
       "\u001b[2;36m                    \u001b[0m         \u001b[32mfarmhouse'\u001b[0m, \u001b[32m'Close-up of a textured synthetic leather'\u001b[0m, \u001b[32m'Illustration of a\u001b[0m \u001b[2m           \u001b[0m\n",
       "\u001b[2;36m                    \u001b[0m         \u001b[32mhidden ancient script'\u001b[0m, \u001b[32m'A seal'\u001b[0m, \u001b[32m'intricate gemstone arrangement'\u001b[0m,        \u001b[2m           \u001b[0m\n",
       "\u001b[2;36m                    \u001b[0m         \u001b[32m'Ephemeral soap bubble creation'\u001b[0m, \u001b[32m'Vibrant floral arrangement'\u001b[0m, \u001b[32m'Arabic \u001b[0m   \u001b[2m           \u001b[0m\n",
       "\u001b[2;36m                    \u001b[0m         \u001b[32mscript calligraphy'\u001b[0m, \u001b[32m'Fast-paced race car blur'\u001b[0m, \u001b[32m'Artwork featuring 8-bit \u001b[0m \u001b[2m           \u001b[0m\n",
       "\u001b[2;36m                    \u001b[0m         \u001b[32mpixel art'\u001b[0m, \u001b[32m'Picture taken in Alberta, Canada'\u001b[0m, \u001b[32m'Blossoming springtime \u001b[0m    \u001b[2m           \u001b[0m\n",
       "\u001b[2;36m                    \u001b[0m         \u001b[32mblooms'\u001b[0m, \u001b[32m'a picture of taiwan'\u001b[0m, \u001b[32m'detailed mosaic design'\u001b[0m, \u001b[32m'Close-up of a \u001b[0m  \u001b[2m           \u001b[0m\n",
       "\u001b[2;36m                    \u001b[0m         \u001b[32mtextured feather'\u001b[0m, \u001b[32m'Image captured in the Patagonian wilderness'\u001b[0m, \u001b[32m'Bokeh \u001b[0m  \u001b[2m           \u001b[0m\n",
       "\u001b[2;36m                    \u001b[0m         \u001b[32meffect'\u001b[0m, \u001b[32m'Enigmatic silhouettes'\u001b[0m, \u001b[32m'Collage of vintage magazine clippings'\u001b[0m, \u001b[2m           \u001b[0m\n",
       "\u001b[2;36m                    \u001b[0m         \u001b[32m'Aerial view of a snowy landscape'\u001b[0m, \u001b[32m'Photo taken in Monument Valley'\u001b[0m,      \u001b[2m           \u001b[0m\n",
       "\u001b[2;36m                    \u001b[0m         \u001b[32m'Picture with a close-up of a flower'\u001b[0m, \u001b[32m'Remote alpine chalet'\u001b[0m, \u001b[32m'An image \u001b[0m  \u001b[2m           \u001b[0m\n",
       "\u001b[2;36m                    \u001b[0m         \u001b[32mof a couple'\u001b[0m, \u001b[32m'Mesmerizing kinetic sculpture'\u001b[0m, \u001b[32m'Tranquil garden oasis'\u001b[0m,    \u001b[2m           \u001b[0m\n",
       "\u001b[2;36m                    \u001b[0m         \u001b[32m'Glistening dew-covered foliage'\u001b[0m, \u001b[32m'An image of Luxembourg'\u001b[0m, \u001b[32m'Arabic script\u001b[0m \u001b[2m           \u001b[0m\n",
       "\u001b[2;36m                    \u001b[0m         \u001b[32mcalligraphy'\u001b[0m, \u001b[32m'Lone subject in vastness'\u001b[0m, \u001b[32m'Desert oasis palm trees'\u001b[0m,       \u001b[2m           \u001b[0m\n",
       "\u001b[2;36m                    \u001b[0m         \u001b[32m'Graceful swimming fish'\u001b[0m\u001b[1m]\u001b[0m                                                  \u001b[2m           \u001b[0m\n"
      ]
     },
     "metadata": {},
     "output_type": "display_data"
    }
   ],
   "source": [
    "output_str = ''\n",
    "\n",
    "for task in svd_dict.keys():\n",
    "    \n",
    "    pylogger.info(f\"Processing Task: {task}\")\n",
    "\n",
    "    output_str += f\"------------------\\n\"\n",
    "    output_str += f\"V for task {task}\\n\"\n",
    "    output_str += f\"------------------\\n\"\n",
    "\n",
    "    # Retrieve SVD components for the current task\n",
    "    u = svd_dict[task][cfg.layer][\"u\"].to(cfg.device)\n",
    "    s = torch.diag_embed(svd_dict[task][cfg.layer][\"s\"]).to(cfg.device)\n",
    "    v = svd_dict[task][cfg.layer][\"v\"].to(cfg.device)\n",
    "    # pylogger.info(f\"v shape for task {task}: {v.shape}\")\n",
    "\n",
    "    # Compute the projected matrix\n",
    "    # shall we have s here?\n",
    "    # v_proj = s @ v @ model.visual.proj\n",
    "    v_proj = s @ v @ model.visual.proj\n",
    "\n",
    "    all_captions = []\n",
    "\n",
    "    for v in v_proj:\n",
    "        # Apply the iterative removal procedure\n",
    "        captions = get_nearest_text_descriptions(\n",
    "            v.unsqueeze(0).detach().cpu().numpy(),\n",
    "            text_features,\n",
    "            lines,\n",
    "            cfg.device,\n",
    "        )\n",
    "\n",
    "        all_captions.append(captions)\n",
    "\n",
    "    pylogger.info(f\"Task {task}: {all_captions}\")\n",
    "\n",
    "    for text in all_captions:\n",
    "        output_str += f\"{text}\\n\"\n"
   ]
  },
  {
   "cell_type": "code",
   "execution_count": 26,
   "metadata": {},
   "outputs": [],
   "source": [
    "output_path = Path(cfg.misc.output_dir) / f'nearest_neighbor_{cfg.model}.txt'\n",
    "\n",
    "Path(cfg.misc.output_dir).mkdir(parents=True, exist_ok=True)\n",
    "with open(output_path, \"w\") as f:\n",
    "    f.write(output_str)"
   ]
  },
  {
   "cell_type": "code",
   "execution_count": null,
   "metadata": {},
   "outputs": [],
   "source": []
  },
  {
   "cell_type": "code",
   "execution_count": null,
   "metadata": {},
   "outputs": [],
   "source": []
  },
  {
   "cell_type": "code",
   "execution_count": null,
   "metadata": {},
   "outputs": [],
   "source": []
  }
 ],
 "metadata": {
  "kernelspec": {
   "display_name": ".venv",
   "language": "python",
   "name": "python3"
  },
  "language_info": {
   "codemirror_mode": {
    "name": "ipython",
    "version": 3
   },
   "file_extension": ".py",
   "mimetype": "text/x-python",
   "name": "python",
   "nbconvert_exporter": "python",
   "pygments_lexer": "ipython3",
   "version": "3.11.8"
  }
 },
 "nbformat": 4,
 "nbformat_minor": 2
}
