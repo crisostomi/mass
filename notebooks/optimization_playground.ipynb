{
 "cells": [
  {
   "cell_type": "markdown",
   "metadata": {},
   "source": [
    "## Imports\n"
   ]
  },
  {
   "cell_type": "code",
   "execution_count": 1,
   "metadata": {},
   "outputs": [
    {
     "name": "stderr",
     "output_type": "stream",
     "text": [
      "/root/mass/.venv/lib/python3.11/site-packages/tqdm/auto.py:21: TqdmWarning: IProgress not found. Please update jupyter and ipywidgets. See https://ipywidgets.readthedocs.io/en/stable/user_install.html\n",
      "  from .autonotebook import tqdm as notebook_tqdm\n",
      "Project not installed in the current env, activate the correct env or install it with:\n",
      "\tpip install -e .\n",
      "/root/mass/src/mass/data/datamodule.py:206: UserWarning: \n",
      "The version_base parameter is not specified.\n",
      "Please specify a compatability version level, or None.\n",
      "Will assume defaults for version 1.1\n",
      "  @hydra.main(config_path=str(PROJECT_ROOT / \"conf\"), config_name=\"default\")\n"
     ]
    },
    {
     "data": {
      "text/html": [
       "<pre style=\"white-space:pre;overflow-x:auto;line-height:normal;font-family:Menlo,'DejaVu Sans Mono',consolas,'Courier New',monospace\"><span style=\"color: #7fbfbf; text-decoration-color: #7fbfbf\">2025-04-28 09:41:06 </span><span style=\"color: #000080; text-decoration-color: #000080\">INFO    </span> PyTorch version <span style=\"color: #008080; text-decoration-color: #008080; font-weight: bold\">2.0</span>.<span style=\"color: #008080; text-decoration-color: #008080; font-weight: bold\">1</span> available.                                           <a href=\"file:///root/mass/.venv/lib/python3.11/site-packages/datasets/config.py\" target=\"_blank\"><span style=\"color: #7f7f7f; text-decoration-color: #7f7f7f\">datasets</span></a><span style=\"color: #7f7f7f; text-decoration-color: #7f7f7f\">:</span><a href=\"file:///root/mass/.venv/lib/python3.11/site-packages/datasets/config.py#54\" target=\"_blank\"><span style=\"color: #7f7f7f; text-decoration-color: #7f7f7f\">54</span></a>\n",
       "</pre>\n"
      ],
      "text/plain": [
       "\u001b[2;36m2025-04-28 09:41:06\u001b[0m\u001b[2;36m \u001b[0m\u001b[34mINFO    \u001b[0m PyTorch version \u001b[1;36m2.0\u001b[0m.\u001b[1;36m1\u001b[0m available.                                           \u001b]8;id=395205;file:///root/mass/.venv/lib/python3.11/site-packages/datasets/config.py\u001b\\\u001b[2mdatasets\u001b[0m\u001b]8;;\u001b\\\u001b[2m:\u001b[0m\u001b]8;id=361010;file:///root/mass/.venv/lib/python3.11/site-packages/datasets/config.py#54\u001b\\\u001b[2m54\u001b[0m\u001b]8;;\u001b\\\n"
      ]
     },
     "metadata": {},
     "output_type": "display_data"
    }
   ],
   "source": [
    "import copy\n",
    "import logging\n",
    "import os\n",
    "from pathlib import Path\n",
    "from typing import Any, Dict, List, Optional\n",
    "\n",
    "import open_clip\n",
    "import wandb\n",
    "import torch.nn as nn\n",
    "\n",
    "import hydra\n",
    "import omegaconf\n",
    "import pytorch_lightning as pl\n",
    "import tqdm\n",
    "import torch\n",
    "from hydra import compose, initialize\n",
    "from hydra.utils import instantiate\n",
    "from lightning.pytorch import Callback\n",
    "from omegaconf import DictConfig, ListConfig, OmegaConf\n",
    "from torch.nn.utils import parameters_to_vector, vector_to_parameters\n",
    "from torch.utils.data import DataLoader\n",
    "\n",
    "from nn_core.callbacks import NNTemplateCore\n",
    "from nn_core.common import PROJECT_ROOT\n",
    "from nn_core.common.utils import enforce_tags, seed_index_everything\n",
    "from nn_core.model_logging import NNLogger\n",
    "from nn_core.serialization import NNCheckpointIO\n",
    "from mass.pl_module.image_classifier import ImageClassifier\n",
    "\n",
    "# Force the execution of __init__.py if this file is executed directly.\n",
    "import mass  # noqa\n",
    "from mass.data.datasets.registry import get_dataset\n",
    "from mass.modules.encoder import ClassificationHead, ImageEncoder\n",
    "from mass.modules.projection_router import ProjectionRouter\n",
    "from mass.modules.nn_router import NNRouter\n",
    "from mass.modules.heads import get_classification_head\n",
    "from mass.modules.router import AbstractRouter\n",
    "from mass.pl_module.encoder import EncoderWrapper\n",
    "from mass.utils.io_utils import load_model_from_disk\n",
    "from mass.utils.plots import plot_interactive_radar_chart\n",
    "from mass.utils.utils import (\n",
    "    compute_task_dict, \n",
    "    apply_dict_to_model,\n",
    "    build_callbacks,\n",
    "    get_finetuning_accuracies,\n",
    "    add_normalized_accuracy,\n",
    "    compute_avg_accuracy,\n",
    "    print_memory,\n",
    "    get_routing_weights,\n",
    "    svd_key_from_layer\n",
    ")\n",
    "from mass.task_vectors.task_singular_vectors import *\n",
    "import json\n",
    "import os\n",
    "\n",
    "pylogger = logging.getLogger(__name__)\n",
    "\n",
    "torch.set_float32_matmul_precision(\"high\")"
   ]
  },
  {
   "cell_type": "code",
   "execution_count": 2,
   "metadata": {},
   "outputs": [],
   "source": [
    "%load_ext autoreload\n",
    "%autoreload 2"
   ]
  },
  {
   "cell_type": "code",
   "execution_count": 34,
   "metadata": {},
   "outputs": [],
   "source": [
    "def boilerplate(cfg):\n",
    "    cfg.core.tags = enforce_tags(cfg.core.get(\"tags\", None))\n",
    "\n",
    "    num_tasks = len(cfg.eval_datasets)\n",
    "    cfg.core.tags.append(f\"n{num_tasks}\")\n",
    "    cfg.core.tags.append(f'{cfg.nn.module.encoder.model_name}')\n",
    "    cfg.core.tags.append(f'optim_notebook')\n",
    "\n",
    "    template_core = NNTemplateCore(\n",
    "        restore_cfg=cfg.train.get(\"restore\", None),\n",
    "    )\n",
    "    logger: NNLogger = NNLogger(\n",
    "        logging_cfg=cfg.train.logging, cfg=cfg, resume_id=template_core.resume_id\n",
    "    )\n",
    "\n",
    "    logger.upload_source()\n",
    "\n",
    "    return logger, template_core\n",
    "\n",
    "\n",
    "def get_classification_heads(cfg: DictConfig):\n",
    "    classification_heads = []\n",
    "\n",
    "    for dataset_name in cfg.eval_datasets:\n",
    "\n",
    "        classification_head = get_classification_head(\n",
    "            cfg.nn.module.encoder.model_name,\n",
    "            dataset_name,\n",
    "            cfg.nn.data.data_path,\n",
    "            cfg.misc.ckpt_path,\n",
    "            cache_dir=cfg.misc.cache_dir,\n",
    "            openclip_cachedir=cfg.misc.openclip_cachedir,\n",
    "        )\n",
    "\n",
    "        classification_heads.append(classification_head)\n",
    "\n",
    "    return classification_heads\n",
    "\n",
    "def is_supported_layer(layer_key: str) -> bool:\n",
    "    \"\"\"\n",
    "    Keep layers inside resblocks, attn or mlp, but exclude only biases and layer norms.\n",
    "    \"\"\"\n",
    "    return (\n",
    "        (\"resblocks.\" in layer_key)\n",
    "        and ((\"attn\" in layer_key) or (\"mlp\" in layer_key))\n",
    "        and not (\"ln\" in layer_key)\n",
    "        and not (\"gelu\" in layer_key)\n",
    "        and not (\"bias\" in layer_key)\n",
    "        and not (\"c_proj\" in layer_key)\n",
    "        and not (\"c_fc\" in layer_key)\n",
    "    )\n",
    "\n",
    "def is_supported_layer_svd(layer_key: str) -> bool:\n",
    "    \"\"\"\n",
    "    Keep layers inside resblocks, attn or mlp, but exclude only biases and layer norms.\n",
    "    \"\"\"\n",
    "    return (\n",
    "        (\"resblocks.\" in layer_key)\n",
    "        and ((\"attn\" in layer_key) or (\"mlp\" in layer_key))\n",
    "        and not (\"ln\" in layer_key)\n",
    "        and not (\"gelu\" in layer_key)\n",
    "        and not (\"bias\" in layer_key)\n",
    "        and not (\"c_proj\" in layer_key)\n",
    "        and not (\"out_proj\" in layer_key)\n",
    "    )\n",
    "\n",
    "def from_router_to_svd_dict_key(key):\n",
    "    key = key.replace(\"model.encoder.\", \"\")\n",
    "    if \"attn\" in key:\n",
    "        return key + \".in_proj_weight\"\n",
    "    if \"mlp\" in key:\n",
    "        return key + \".c_fc.weight\"\n",
    "\n",
    "def svd_key_to_router_key(svd_key: str) -> str:\n",
    "    if svd_key.endswith(\".in_proj_weight\"):\n",
    "        base = svd_key[:-len(\".in_proj_weight\")]\n",
    "    elif svd_key.endswith(\".c_fc.weight\"):\n",
    "        base = svd_key[:-len(\".c_fc.weight\")]\n",
    "    else:\n",
    "        raise ValueError(f\"Invalid SVD format {svd_key!r}\")\n",
    "\n",
    "    if not base.startswith(\"model.visual.\"):\n",
    "        raise ValueError(f\"Not a valid prefix {base!r}\")\n",
    "    return base.replace(\"model.visual.\", \"model.visual.transformer.\", 1)\n",
    "\n",
    "def add_transformer_key(layer: str):\n",
    "    if not layer.startswith(\"model.visual.\"):\n",
    "        raise ValueError(f\"Not a valid prefix {base!r}\")\n",
    "    return layer.replace(\"model.visual.\", \"model.visual.transformer.\", 1)\n"
   ]
  },
  {
   "cell_type": "markdown",
   "metadata": {},
   "source": [
    "## Imports"
   ]
  },
  {
   "cell_type": "code",
   "execution_count": 4,
   "metadata": {},
   "outputs": [],
   "source": [
    "import hydra\n",
    "from hydra import initialize, compose\n",
    "from typing import Dict, List\n",
    "\n",
    "hydra.core.global_hydra.GlobalHydra.instance().clear()\n",
    "initialize(version_base=None, config_path=str(\"../conf\"), job_name=\"dev\")\n",
    "cfg = compose(config_name=\"optimisation\", overrides=[\"nn/benchmark=debug\"])"
   ]
  },
  {
   "cell_type": "code",
   "execution_count": 5,
   "metadata": {},
   "outputs": [
    {
     "name": "stderr",
     "output_type": "stream",
     "text": [
      "Global seed set to 1608637542\n"
     ]
    },
    {
     "data": {
      "text/html": [
       "<pre style=\"white-space:pre;overflow-x:auto;line-height:normal;font-family:Menlo,'DejaVu Sans Mono',consolas,'Courier New',monospace\"><span style=\"color: #7fbfbf; text-decoration-color: #7fbfbf\">2025-04-28 09:41:07 </span><span style=\"color: #000080; text-decoration-color: #000080\">INFO    </span> Setting seed <span style=\"color: #008080; text-decoration-color: #008080; font-weight: bold\">1608637542</span> from seeds<span style=\"font-weight: bold\">[</span><span style=\"color: #008080; text-decoration-color: #008080; font-weight: bold\">0</span><span style=\"font-weight: bold\">]</span>                         <a href=\"file:///root/mass/.venv/lib/python3.11/site-packages/nn_core/common/utils.py\" target=\"_blank\"><span style=\"color: #7f7f7f; text-decoration-color: #7f7f7f\">nn_core.common.utils</span></a><span style=\"color: #7f7f7f; text-decoration-color: #7f7f7f\">:</span><a href=\"file:///root/mass/.venv/lib/python3.11/site-packages/nn_core/common/utils.py#107\" target=\"_blank\"><span style=\"color: #7f7f7f; text-decoration-color: #7f7f7f\">107</span></a>\n",
       "</pre>\n"
      ],
      "text/plain": [
       "\u001b[2;36m2025-04-28 09:41:07\u001b[0m\u001b[2;36m \u001b[0m\u001b[34mINFO    \u001b[0m Setting seed \u001b[1;36m1608637542\u001b[0m from seeds\u001b[1m[\u001b[0m\u001b[1;36m0\u001b[0m\u001b[1m]\u001b[0m                         \u001b]8;id=506654;file:///root/mass/.venv/lib/python3.11/site-packages/nn_core/common/utils.py\u001b\\\u001b[2mnn_core.common.utils\u001b[0m\u001b]8;;\u001b\\\u001b[2m:\u001b[0m\u001b]8;id=125355;file:///root/mass/.venv/lib/python3.11/site-packages/nn_core/common/utils.py#107\u001b\\\u001b[2m107\u001b[0m\u001b]8;;\u001b\\\n"
      ]
     },
     "metadata": {},
     "output_type": "display_data"
    },
    {
     "data": {
      "text/html": [
       "<pre style=\"white-space:pre;overflow-x:auto;line-height:normal;font-family:Menlo,'DejaVu Sans Mono',consolas,'Courier New',monospace\"><span style=\"color: #7fbfbf; text-decoration-color: #7fbfbf\">                    </span><span style=\"color: #000080; text-decoration-color: #000080\">INFO    </span> Tags: <span style=\"font-weight: bold\">[</span><span style=\"color: #008000; text-decoration-color: #008000\">'dev'</span><span style=\"font-weight: bold\">]</span>                                                  <a href=\"file:///root/mass/.venv/lib/python3.11/site-packages/nn_core/common/utils.py\" target=\"_blank\"><span style=\"color: #7f7f7f; text-decoration-color: #7f7f7f\">nn_core.common.utils</span></a><span style=\"color: #7f7f7f; text-decoration-color: #7f7f7f\">:</span><a href=\"file:///root/mass/.venv/lib/python3.11/site-packages/nn_core/common/utils.py#96\" target=\"_blank\"><span style=\"color: #7f7f7f; text-decoration-color: #7f7f7f\">96</span></a>\n",
       "</pre>\n"
      ],
      "text/plain": [
       "\u001b[2;36m                   \u001b[0m\u001b[2;36m \u001b[0m\u001b[34mINFO    \u001b[0m Tags: \u001b[1m[\u001b[0m\u001b[32m'dev'\u001b[0m\u001b[1m]\u001b[0m                                                  \u001b]8;id=507214;file:///root/mass/.venv/lib/python3.11/site-packages/nn_core/common/utils.py\u001b\\\u001b[2mnn_core.common.utils\u001b[0m\u001b]8;;\u001b\\\u001b[2m:\u001b[0m\u001b]8;id=552910;file:///root/mass/.venv/lib/python3.11/site-packages/nn_core/common/utils.py#96\u001b\\\u001b[2m96\u001b[0m\u001b]8;;\u001b\\\n"
      ]
     },
     "metadata": {},
     "output_type": "display_data"
    },
    {
     "data": {
      "text/html": [
       "<pre style=\"white-space:pre;overflow-x:auto;line-height:normal;font-family:Menlo,'DejaVu Sans Mono',consolas,'Courier New',monospace\"><span style=\"color: #7fbfbf; text-decoration-color: #7fbfbf\">                    </span><span style=\"color: #000080; text-decoration-color: #000080\">INFO    </span> Restoring with mode: <span style=\"font-weight: bold\">&lt;</span><span style=\"color: #800080; text-decoration-color: #800080; font-weight: bold; font-style: italic\">None</span><span style=\"font-weight: bold\">&gt;</span>                                         <a href=\"file:///root/mass/.venv/lib/python3.11/site-packages/nn_core/resume.py\" target=\"_blank\"><span style=\"color: #7f7f7f; text-decoration-color: #7f7f7f\">nn_core.resume</span></a><span style=\"color: #7f7f7f; text-decoration-color: #7f7f7f\">:</span><a href=\"file:///root/mass/.venv/lib/python3.11/site-packages/nn_core/resume.py#122\" target=\"_blank\"><span style=\"color: #7f7f7f; text-decoration-color: #7f7f7f\">122</span></a>\n",
       "</pre>\n"
      ],
      "text/plain": [
       "\u001b[2;36m                   \u001b[0m\u001b[2;36m \u001b[0m\u001b[34mINFO    \u001b[0m Restoring with mode: \u001b[1m<\u001b[0m\u001b[1;3;35mNone\u001b[0m\u001b[1m>\u001b[0m                                         \u001b]8;id=346224;file:///root/mass/.venv/lib/python3.11/site-packages/nn_core/resume.py\u001b\\\u001b[2mnn_core.resume\u001b[0m\u001b]8;;\u001b\\\u001b[2m:\u001b[0m\u001b]8;id=130475;file:///root/mass/.venv/lib/python3.11/site-packages/nn_core/resume.py#122\u001b\\\u001b[2m122\u001b[0m\u001b]8;;\u001b\\\n"
      ]
     },
     "metadata": {},
     "output_type": "display_data"
    },
    {
     "data": {
      "text/html": [
       "<pre style=\"white-space:pre;overflow-x:auto;line-height:normal;font-family:Menlo,'DejaVu Sans Mono',consolas,'Courier New',monospace\"><span style=\"color: #7fbfbf; text-decoration-color: #7fbfbf\">                    </span><span style=\"color: #000080; text-decoration-color: #000080\">INFO    </span> Instantiating <span style=\"font-weight: bold\">&lt;</span><span style=\"color: #ff00ff; text-decoration-color: #ff00ff; font-weight: bold\">WandbLogger</span><span style=\"font-weight: bold\">&gt;</span>                                   <a href=\"file:///root/mass/.venv/lib/python3.11/site-packages/nn_core/model_logging.py\" target=\"_blank\"><span style=\"color: #7f7f7f; text-decoration-color: #7f7f7f\">nn_core.model_logging</span></a><span style=\"color: #7f7f7f; text-decoration-color: #7f7f7f\">:</span><a href=\"file:///root/mass/.venv/lib/python3.11/site-packages/nn_core/model_logging.py#41\" target=\"_blank\"><span style=\"color: #7f7f7f; text-decoration-color: #7f7f7f\">41</span></a>\n",
       "</pre>\n"
      ],
      "text/plain": [
       "\u001b[2;36m                   \u001b[0m\u001b[2;36m \u001b[0m\u001b[34mINFO    \u001b[0m Instantiating \u001b[1m<\u001b[0m\u001b[1;95mWandbLogger\u001b[0m\u001b[1m>\u001b[0m                                   \u001b]8;id=170108;file:///root/mass/.venv/lib/python3.11/site-packages/nn_core/model_logging.py\u001b\\\u001b[2mnn_core.model_logging\u001b[0m\u001b]8;;\u001b\\\u001b[2m:\u001b[0m\u001b]8;id=507338;file:///root/mass/.venv/lib/python3.11/site-packages/nn_core/model_logging.py#41\u001b\\\u001b[2m41\u001b[0m\u001b]8;;\u001b\\\n"
      ]
     },
     "metadata": {},
     "output_type": "display_data"
    },
    {
     "data": {
      "text/html": [
       "<pre style=\"white-space:pre;overflow-x:auto;line-height:normal;font-family:Menlo,'DejaVu Sans Mono',consolas,'Courier New',monospace\"><span style=\"color: #7fbfbf; text-decoration-color: #7fbfbf\">                    </span><span style=\"color: #800000; text-decoration-color: #800000; font-weight: bold\">ERROR   </span> Failed to detect the name of this notebook, you can set it manually  <a href=\"file:///root/mass/.venv/lib/python3.11/site-packages/wandb/jupyter.py\" target=\"_blank\"><span style=\"color: #7f7f7f; text-decoration-color: #7f7f7f\">wandb.jupyter</span></a><span style=\"color: #7f7f7f; text-decoration-color: #7f7f7f\">:</span><a href=\"file:///root/mass/.venv/lib/python3.11/site-packages/wandb/jupyter.py#224\" target=\"_blank\"><span style=\"color: #7f7f7f; text-decoration-color: #7f7f7f\">224</span></a>\n",
       "<span style=\"color: #7fbfbf; text-decoration-color: #7fbfbf\">                    </span>         with the WANDB_NOTEBOOK_NAME environment variable to enable code     <span style=\"color: #7f7f7f; text-decoration-color: #7f7f7f\">                 </span>\n",
       "<span style=\"color: #7fbfbf; text-decoration-color: #7fbfbf\">                    </span>         saving.                                                              <span style=\"color: #7f7f7f; text-decoration-color: #7f7f7f\">                 </span>\n",
       "</pre>\n"
      ],
      "text/plain": [
       "\u001b[2;36m                   \u001b[0m\u001b[2;36m \u001b[0m\u001b[1;31mERROR   \u001b[0m Failed to detect the name of this notebook, you can set it manually  \u001b]8;id=25814;file:///root/mass/.venv/lib/python3.11/site-packages/wandb/jupyter.py\u001b\\\u001b[2mwandb.jupyter\u001b[0m\u001b]8;;\u001b\\\u001b[2m:\u001b[0m\u001b]8;id=720665;file:///root/mass/.venv/lib/python3.11/site-packages/wandb/jupyter.py#224\u001b\\\u001b[2m224\u001b[0m\u001b]8;;\u001b\\\n",
       "\u001b[2;36m                    \u001b[0m         with the WANDB_NOTEBOOK_NAME environment variable to enable code     \u001b[2m                 \u001b[0m\n",
       "\u001b[2;36m                    \u001b[0m         saving.                                                              \u001b[2m                 \u001b[0m\n"
      ]
     },
     "metadata": {},
     "output_type": "display_data"
    },
    {
     "name": "stderr",
     "output_type": "stream",
     "text": [
      "\u001b[34m\u001b[1mwandb\u001b[0m: Currently logged in as: \u001b[33mzirilli-1967394\u001b[0m (\u001b[33mgladia\u001b[0m). Use \u001b[1m`wandb login --relogin`\u001b[0m to force relogin\n"
     ]
    },
    {
     "data": {
      "text/html": [
       "wandb version 0.19.10 is available!  To upgrade, please run:\n",
       " $ pip install wandb --upgrade"
      ],
      "text/plain": [
       "<IPython.core.display.HTML object>"
      ]
     },
     "metadata": {},
     "output_type": "display_data"
    },
    {
     "data": {
      "text/html": [
       "Tracking run with wandb version 0.16.6"
      ],
      "text/plain": [
       "<IPython.core.display.HTML object>"
      ]
     },
     "metadata": {},
     "output_type": "display_data"
    },
    {
     "data": {
      "text/html": [
       "Run data is saved locally in <code>./wandb/run-20250428_094108-ggjvgbaj</code>"
      ],
      "text/plain": [
       "<IPython.core.display.HTML object>"
      ]
     },
     "metadata": {},
     "output_type": "display_data"
    },
    {
     "data": {
      "text/html": [
       "Syncing run <strong><a href='https://wandb.ai/gladia/tsv-mass-merging/runs/ggjvgbaj' target=\"_blank\">crisp-resonance-5</a></strong> to <a href='https://wandb.ai/gladia/tsv-mass-merging' target=\"_blank\">Weights & Biases</a> (<a href='https://wandb.me/run' target=\"_blank\">docs</a>)<br/>"
      ],
      "text/plain": [
       "<IPython.core.display.HTML object>"
      ]
     },
     "metadata": {},
     "output_type": "display_data"
    },
    {
     "data": {
      "text/html": [
       " View project at <a href='https://wandb.ai/gladia/tsv-mass-merging' target=\"_blank\">https://wandb.ai/gladia/tsv-mass-merging</a>"
      ],
      "text/plain": [
       "<IPython.core.display.HTML object>"
      ]
     },
     "metadata": {},
     "output_type": "display_data"
    },
    {
     "data": {
      "text/html": [
       " View run at <a href='https://wandb.ai/gladia/tsv-mass-merging/runs/ggjvgbaj' target=\"_blank\">https://wandb.ai/gladia/tsv-mass-merging/runs/ggjvgbaj</a>"
      ],
      "text/plain": [
       "<IPython.core.display.HTML object>"
      ]
     },
     "metadata": {},
     "output_type": "display_data"
    },
    {
     "data": {
      "text/html": [
       "<pre style=\"white-space:pre;overflow-x:auto;line-height:normal;font-family:Menlo,'DejaVu Sans Mono',consolas,'Courier New',monospace\"><span style=\"color: #7fbfbf; text-decoration-color: #7fbfbf\">2025-04-28 09:41:09 </span><span style=\"color: #000080; text-decoration-color: #000080\">INFO    </span> Uploading source code to W&amp;B                                  <a href=\"file:///root/mass/.venv/lib/python3.11/site-packages/nn_core/model_logging.py\" target=\"_blank\"><span style=\"color: #7f7f7f; text-decoration-color: #7f7f7f\">nn_core.model_logging</span></a><span style=\"color: #7f7f7f; text-decoration-color: #7f7f7f\">:</span><a href=\"file:///root/mass/.venv/lib/python3.11/site-packages/nn_core/model_logging.py#63\" target=\"_blank\"><span style=\"color: #7f7f7f; text-decoration-color: #7f7f7f\">63</span></a>\n",
       "</pre>\n"
      ],
      "text/plain": [
       "\u001b[2;36m2025-04-28 09:41:09\u001b[0m\u001b[2;36m \u001b[0m\u001b[34mINFO    \u001b[0m Uploading source code to W&B                                  \u001b]8;id=591644;file:///root/mass/.venv/lib/python3.11/site-packages/nn_core/model_logging.py\u001b\\\u001b[2mnn_core.model_logging\u001b[0m\u001b]8;;\u001b\\\u001b[2m:\u001b[0m\u001b]8;id=663784;file:///root/mass/.venv/lib/python3.11/site-packages/nn_core/model_logging.py#63\u001b\\\u001b[2m63\u001b[0m\u001b]8;;\u001b\\\n"
      ]
     },
     "metadata": {},
     "output_type": "display_data"
    }
   ],
   "source": [
    "seed_index_everything(cfg)\n",
    "\n",
    "logger, template_core = boilerplate(cfg)"
   ]
  },
  {
   "cell_type": "code",
   "execution_count": 6,
   "metadata": {},
   "outputs": [],
   "source": [
    "# upperbound accuracies, used for logging the normalized accuracy\n",
    "finetuned_accuracies = get_finetuning_accuracies(cfg.misc.finetuned_accuracy_path)"
   ]
  },
  {
   "cell_type": "code",
   "execution_count": 7,
   "metadata": {},
   "outputs": [
    {
     "data": {
      "text/html": [
       "<pre style=\"white-space:pre;overflow-x:auto;line-height:normal;font-family:Menlo,'DejaVu Sans Mono',consolas,'Courier New',monospace\"><span style=\"color: #7fbfbf; text-decoration-color: #7fbfbf\">2025-04-28 09:41:22 </span><span style=\"color: #000080; text-decoration-color: #000080\">INFO    </span> Loading ViT-B-<span style=\"color: #008080; text-decoration-color: #008080; font-weight: bold\">32</span> pre-trained weights.                          <a href=\"file:///root/mass/src/mass/modules/encoder.py\" target=\"_blank\"><span style=\"color: #7f7f7f; text-decoration-color: #7f7f7f\">mass.modules.encoder</span></a><span style=\"color: #7f7f7f; text-decoration-color: #7f7f7f\">:</span><a href=\"file:///root/mass/src/mass/modules/encoder.py#24\" target=\"_blank\"><span style=\"color: #7f7f7f; text-decoration-color: #7f7f7f\">24</span></a>\n",
       "</pre>\n"
      ],
      "text/plain": [
       "\u001b[2;36m2025-04-28 09:41:22\u001b[0m\u001b[2;36m \u001b[0m\u001b[34mINFO    \u001b[0m Loading ViT-B-\u001b[1;36m32\u001b[0m pre-trained weights.                          \u001b]8;id=560796;file:///root/mass/src/mass/modules/encoder.py\u001b\\\u001b[2mmass.modules.encoder\u001b[0m\u001b]8;;\u001b\\\u001b[2m:\u001b[0m\u001b]8;id=355368;file:///root/mass/src/mass/modules/encoder.py#24\u001b\\\u001b[2m24\u001b[0m\u001b]8;;\u001b\\\n"
      ]
     },
     "metadata": {},
     "output_type": "display_data"
    },
    {
     "data": {
      "text/html": [
       "<pre style=\"white-space:pre;overflow-x:auto;line-height:normal;font-family:Menlo,'DejaVu Sans Mono',consolas,'Courier New',monospace\"><span style=\"color: #7fbfbf; text-decoration-color: #7fbfbf\">                    </span><span style=\"color: #000080; text-decoration-color: #000080\">INFO    </span> Loading pretrained ViT-B-<span style=\"color: #008080; text-decoration-color: #008080; font-weight: bold\">32</span> from OpenAI.                                       <a href=\"file:///root/mass/.venv/lib/python3.11/site-packages/open_clip/factory.py\" target=\"_blank\"><span style=\"color: #7f7f7f; text-decoration-color: #7f7f7f\">root</span></a><span style=\"color: #7f7f7f; text-decoration-color: #7f7f7f\">:</span><a href=\"file:///root/mass/.venv/lib/python3.11/site-packages/open_clip/factory.py#82\" target=\"_blank\"><span style=\"color: #7f7f7f; text-decoration-color: #7f7f7f\">82</span></a>\n",
       "</pre>\n"
      ],
      "text/plain": [
       "\u001b[2;36m                   \u001b[0m\u001b[2;36m \u001b[0m\u001b[34mINFO    \u001b[0m Loading pretrained ViT-B-\u001b[1;36m32\u001b[0m from OpenAI.                                       \u001b]8;id=234146;file:///root/mass/.venv/lib/python3.11/site-packages/open_clip/factory.py\u001b\\\u001b[2mroot\u001b[0m\u001b]8;;\u001b\\\u001b[2m:\u001b[0m\u001b]8;id=188054;file:///root/mass/.venv/lib/python3.11/site-packages/open_clip/factory.py#82\u001b\\\u001b[2m82\u001b[0m\u001b]8;;\u001b\\\n"
      ]
     },
     "metadata": {},
     "output_type": "display_data"
    },
    {
     "data": {
      "text/html": [
       "<pre style=\"white-space:pre;overflow-x:auto;line-height:normal;font-family:Menlo,'DejaVu Sans Mono',consolas,'Courier New',monospace\"><span style=\"color: #7fbfbf; text-decoration-color: #7fbfbf\">2025-04-28 09:41:33 </span><span style=\"color: #000080; text-decoration-color: #000080\">INFO    </span> Removing text transformer from the model.                      <a href=\"file:///root/mass/src/mass/modules/encoder.py\" target=\"_blank\"><span style=\"color: #7f7f7f; text-decoration-color: #7f7f7f\">mass.modules.encoder</span></a><span style=\"color: #7f7f7f; text-decoration-color: #7f7f7f\">:</span><a href=\"file:///root/mass/src/mass/modules/encoder.py#40\" target=\"_blank\"><span style=\"color: #7f7f7f; text-decoration-color: #7f7f7f\">40</span></a>\n",
       "</pre>\n"
      ],
      "text/plain": [
       "\u001b[2;36m2025-04-28 09:41:33\u001b[0m\u001b[2;36m \u001b[0m\u001b[34mINFO    \u001b[0m Removing text transformer from the model.                      \u001b]8;id=303714;file:///root/mass/src/mass/modules/encoder.py\u001b\\\u001b[2mmass.modules.encoder\u001b[0m\u001b]8;;\u001b\\\u001b[2m:\u001b[0m\u001b]8;id=944046;file:///root/mass/src/mass/modules/encoder.py#40\u001b\\\u001b[2m40\u001b[0m\u001b]8;;\u001b\\\n"
      ]
     },
     "metadata": {},
     "output_type": "display_data"
    },
    {
     "data": {
      "text/plain": [
       "<All keys matched successfully>"
      ]
     },
     "execution_count": 7,
     "metadata": {},
     "output_type": "execute_result"
    }
   ],
   "source": [
    "# only has vision encoder, no text transformer\n",
    "zeroshot_encoder_statedict = load_model_from_disk(cfg.misc.pretrained_checkpoint)\n",
    "\n",
    "zeroshot_encoder: ImageEncoder = instantiate(\n",
    "    cfg.nn.module.encoder\n",
    ")  # the second pass backbone\n",
    "\n",
    "zeroshot_encoder.load_state_dict(zeroshot_encoder_statedict, strict=False)"
   ]
  },
  {
   "cell_type": "code",
   "execution_count": 8,
   "metadata": {},
   "outputs": [
    {
     "name": "stderr",
     "output_type": "stream",
     "text": [
      "/root/mass/.venv/lib/python3.11/site-packages/torch/cuda/__init__.py:546: UserWarning: Can't initialize NVML\n",
      "  warnings.warn(\"Can't initialize NVML\")\n"
     ]
    },
    {
     "data": {
      "text/html": [
       "<pre style=\"white-space:pre;overflow-x:auto;line-height:normal;font-family:Menlo,'DejaVu Sans Mono',consolas,'Courier New',monospace\"><span style=\"color: #7fbfbf; text-decoration-color: #7fbfbf\">2025-04-28 09:41:36 </span><span style=\"color: #000080; text-decoration-color: #000080\">INFO    </span> Number of tasks: <span style=\"color: #008080; text-decoration-color: #008080; font-weight: bold\">3</span>                                                         <a href=\"file:///tmp/ipykernel_2722254/188215843.py\" target=\"_blank\"><span style=\"color: #7f7f7f; text-decoration-color: #7f7f7f\">__main__</span></a><span style=\"color: #7f7f7f; text-decoration-color: #7f7f7f\">:</span><a href=\"file:///tmp/ipykernel_2722254/188215843.py#11\" target=\"_blank\"><span style=\"color: #7f7f7f; text-decoration-color: #7f7f7f\">11</span></a>\n",
       "</pre>\n"
      ],
      "text/plain": [
       "\u001b[2;36m2025-04-28 09:41:36\u001b[0m\u001b[2;36m \u001b[0m\u001b[34mINFO    \u001b[0m Number of tasks: \u001b[1;36m3\u001b[0m                                                         \u001b]8;id=614797;file:///tmp/ipykernel_2722254/188215843.py\u001b\\\u001b[2m__main__\u001b[0m\u001b]8;;\u001b\\\u001b[2m:\u001b[0m\u001b]8;id=511817;file:///tmp/ipykernel_2722254/188215843.py#11\u001b\\\u001b[2m11\u001b[0m\u001b]8;;\u001b\\\n"
      ]
     },
     "metadata": {},
     "output_type": "display_data"
    },
    {
     "data": {
      "text/html": [
       "<pre style=\"white-space:pre;overflow-x:auto;line-height:normal;font-family:Menlo,'DejaVu Sans Mono',consolas,'Courier New',monospace\"><span style=\"color: #7fbfbf; text-decoration-color: #7fbfbf\">                    </span><span style=\"color: #000080; text-decoration-color: #000080\">INFO    </span> Finetuned models: <span style=\"font-weight: bold\">[</span><span style=\"color: #008000; text-decoration-color: #008000\">'FER2013'</span>, <span style=\"color: #008000; text-decoration-color: #008000\">'RESISC45'</span>, <span style=\"color: #008000; text-decoration-color: #008000\">'MNIST'</span><span style=\"font-weight: bold\">]</span>                         <a href=\"file:///tmp/ipykernel_2722254/188215843.py\" target=\"_blank\"><span style=\"color: #7f7f7f; text-decoration-color: #7f7f7f\">__main__</span></a><span style=\"color: #7f7f7f; text-decoration-color: #7f7f7f\">:</span><a href=\"file:///tmp/ipykernel_2722254/188215843.py#12\" target=\"_blank\"><span style=\"color: #7f7f7f; text-decoration-color: #7f7f7f\">12</span></a>\n",
       "</pre>\n"
      ],
      "text/plain": [
       "\u001b[2;36m                   \u001b[0m\u001b[2;36m \u001b[0m\u001b[34mINFO    \u001b[0m Finetuned models: \u001b[1m[\u001b[0m\u001b[32m'FER2013'\u001b[0m, \u001b[32m'RESISC45'\u001b[0m, \u001b[32m'MNIST'\u001b[0m\u001b[1m]\u001b[0m                         \u001b]8;id=8941;file:///tmp/ipykernel_2722254/188215843.py\u001b\\\u001b[2m__main__\u001b[0m\u001b]8;;\u001b\\\u001b[2m:\u001b[0m\u001b]8;id=219438;file:///tmp/ipykernel_2722254/188215843.py#12\u001b\\\u001b[2m12\u001b[0m\u001b]8;;\u001b\\\n"
      ]
     },
     "metadata": {},
     "output_type": "display_data"
    }
   ],
   "source": [
    "finetuned_name = (\n",
    "    lambda name: Path(cfg.misc.ckpt_path) / f\"{name}Val\" / \"nonlinear_finetuned.pt\"\n",
    ")\n",
    "finetuned_models = {\n",
    "    dataset: load_model_from_disk(finetuned_name(dataset))\n",
    "    for dataset in cfg.task_vectors.to_apply\n",
    "}\n",
    "\n",
    "num_tasks = len(cfg.eval_datasets)\n",
    "\n",
    "pylogger.info(f\"Number of tasks: {len(cfg.eval_datasets)}\")\n",
    "pylogger.info(f\"Finetuned models: {list(finetuned_models.keys())}\")"
   ]
  },
  {
   "cell_type": "code",
   "execution_count": 9,
   "metadata": {},
   "outputs": [
    {
     "name": "stdout",
     "output_type": "stream",
     "text": [
      "Loading training dataset from ../data/fer-2013/train...\n",
      "Loading test dataset from ../data/fer-2013/test...\n"
     ]
    }
   ],
   "source": [
    "from torch.utils.data import Dataset, TensorDataset\n",
    "from collections import defaultdict   \n",
    "\n",
    "from mass.data.datasets.registry import get_task_evaluation_dataset\n",
    "from mass.data.datasets.templates import get_dataset_to_label, get_dataset_label\n",
    "\n",
    "datasets = {dataset_name: get_dataset(\n",
    "            dataset_name,\n",
    "            preprocess_fn=zeroshot_encoder.val_preprocess,\n",
    "            location=cfg.nn.data.data_path,\n",
    "            batch_size=cfg.nn.data.batch_size.train,\n",
    "        ) for dataset_name in cfg.task_vectors.to_apply}"
   ]
  },
  {
   "cell_type": "code",
   "execution_count": 10,
   "metadata": {},
   "outputs": [],
   "source": [
    "class LayerHook:\n",
    "\n",
    "    def __init__(self, model: torch.nn.Module):\n",
    "        self.middle_features: Dict[str, List[torch.Tensor]] = defaultdict(list)\n",
    "        self.hooks = []\n",
    "\n",
    "        pylogger.info(f\"Registering hooks...\")\n",
    "        for name, module in model.named_modules():\n",
    "            if not is_supported_layer(name):\n",
    "                continue\n",
    "            handle = module.register_forward_hook(self._hook_fn(name))\n",
    "            self.hooks.append(handle)\n",
    "\n",
    "    def _hook_fn(self, name: str):\n",
    "        def hook(module, inputs, outputs):\n",
    "            data = inputs[0] if isinstance(inputs, tuple) else inputs\n",
    "            if isinstance(data, torch.Tensor):\n",
    "                self.middle_features[name].append(data.permute(1, 0, 2).detach().cpu())\n",
    "            else:\n",
    "                pylogger.warning(f\"Unexpected input type {type(data)} at layer '{name}'\")\n",
    "        return hook\n",
    "\n",
    "    def remove_hooks(self):\n",
    "        for handle in self.hooks:\n",
    "            handle.remove()\n",
    "        self.hooks.clear()"
   ]
  },
  {
   "cell_type": "code",
   "execution_count": 11,
   "metadata": {},
   "outputs": [],
   "source": [
    "class EmbeddingsDataset(Dataset):\n",
    "    def __init__(\n",
    "        self,\n",
    "        finetuned_models: Dict[str, torch.nn.Module],\n",
    "        datasets: Dict[str, pl.LightningDataModule],\n",
    "        n_batches,\n",
    "        cfg: dict,\n",
    "        callbacks: List = None\n",
    "    ):\n",
    "        super().__init__()\n",
    "        self.finetuned_models = finetuned_models\n",
    "        self.datasets = datasets\n",
    "        self.cfg = cfg\n",
    "        self.n_batches = n_batches\n",
    "        self.callbacks = callbacks or []\n",
    "\n",
    "        self.loggers: Dict[str, LayerHook] = {}\n",
    "        self.layer_datasets: Dict[str, TensorDataset] = {}\n",
    "\n",
    "    def generate_layer_datasets(self) -> Dict[str, TensorDataset]:\n",
    "        temp_feats: Dict[str, List[torch.Tensor]] = defaultdict(list)\n",
    "        temp_labels: Dict[str, List[torch.Tensor]] = defaultdict(list)\n",
    "\n",
    "        for task, model in self.finetuned_models.items():\n",
    "            \n",
    "            pylogger.info(f\"Instantiating finetuned model for task: '{task}'\")\n",
    "            finetuned_encoder: ImageEncoder = instantiate(\n",
    "                cfg.nn.module.encoder\n",
    "            ) \n",
    "\n",
    "            finetuned_encoder.load_state_dict(model, strict=False)\n",
    "                \n",
    "\n",
    "            hook = LayerHook(finetuned_encoder)\n",
    "            self.loggers[task] = hook\n",
    "\n",
    "            lt_encoder: EncoderWrapper = instantiate(\n",
    "                cfg.nn.module,\n",
    "                encoder = finetuned_encoder,\n",
    "                _recursive_=False,\n",
    "            )\n",
    "            \n",
    "            label = get_dataset_label(task)\n",
    "\n",
    "            trainer = pl.Trainer(\n",
    "                default_root_dir=cfg.core.storage_dir,\n",
    "                plugins=[NNCheckpointIO(jailing_dir=logger.run_dir)],\n",
    "                logger=logger,\n",
    "                callbacks=self.callbacks,\n",
    "                limit_test_batches=self.n_batches,\n",
    "                **cfg.train.trainer,\n",
    "            )\n",
    "\n",
    "            dataloader = self.datasets[task].train_loader\n",
    "            pylogger.info(f\"Generating embeddings for task '{task}' with label {label}\")\n",
    "            trainer.test(model=lt_encoder, dataloaders=dataloader)\n",
    "\n",
    "\n",
    "            hook.remove_hooks()\n",
    "    \n",
    "            for layer_name, feats in hook.middle_features.items():\n",
    "                for batch_feats in feats:\n",
    "                    batch_size = batch_feats.size(0)\n",
    "                    temp_feats[layer_name].append(batch_feats)\n",
    "                \n",
    "                    temp_labels[layer_name].append(\n",
    "                        torch.full((batch_size,), label, dtype=torch.long)\n",
    "                    )\n",
    "            del hook\n",
    "\n",
    "        for layer_name in temp_feats:\n",
    "            all_feats = torch.cat(temp_feats[layer_name], dim=0)\n",
    "            all_labels = torch.cat(temp_labels[layer_name], dim=0)\n",
    "            self.layer_datasets[layer_name] = TensorDataset(all_feats, all_labels)\n",
    "\n",
    "        return self.layer_datasets"
   ]
  },
  {
   "cell_type": "code",
   "execution_count": 12,
   "metadata": {},
   "outputs": [],
   "source": [
    "embed_dt = EmbeddingsDataset(finetuned_models, datasets, cfg.number_of_train_batches, cfg)"
   ]
  },
  {
   "cell_type": "markdown",
   "metadata": {},
   "source": [
    "## Generate the datasets"
   ]
  },
  {
   "cell_type": "code",
   "execution_count": 13,
   "metadata": {},
   "outputs": [
    {
     "data": {
      "text/html": [
       "<pre style=\"white-space:pre;overflow-x:auto;line-height:normal;font-family:Menlo,'DejaVu Sans Mono',consolas,'Courier New',monospace\"><span style=\"color: #7fbfbf; text-decoration-color: #7fbfbf\">                    </span><span style=\"color: #000080; text-decoration-color: #000080\">INFO    </span> Instantiating finetuned model for task: <span style=\"color: #008000; text-decoration-color: #008000\">'FER2013'</span>                          <a href=\"file:///tmp/ipykernel_2722254/2619625303.py\" target=\"_blank\"><span style=\"color: #7f7f7f; text-decoration-color: #7f7f7f\">__main__</span></a><span style=\"color: #7f7f7f; text-decoration-color: #7f7f7f\">:</span><a href=\"file:///tmp/ipykernel_2722254/2619625303.py#26\" target=\"_blank\"><span style=\"color: #7f7f7f; text-decoration-color: #7f7f7f\">26</span></a>\n",
       "</pre>\n"
      ],
      "text/plain": [
       "\u001b[2;36m                   \u001b[0m\u001b[2;36m \u001b[0m\u001b[34mINFO    \u001b[0m Instantiating finetuned model for task: \u001b[32m'FER2013'\u001b[0m                          \u001b]8;id=474666;file:///tmp/ipykernel_2722254/2619625303.py\u001b\\\u001b[2m__main__\u001b[0m\u001b]8;;\u001b\\\u001b[2m:\u001b[0m\u001b]8;id=20420;file:///tmp/ipykernel_2722254/2619625303.py#26\u001b\\\u001b[2m26\u001b[0m\u001b]8;;\u001b\\\n"
      ]
     },
     "metadata": {},
     "output_type": "display_data"
    },
    {
     "data": {
      "text/html": [
       "<pre style=\"white-space:pre;overflow-x:auto;line-height:normal;font-family:Menlo,'DejaVu Sans Mono',consolas,'Courier New',monospace\"><span style=\"color: #7fbfbf; text-decoration-color: #7fbfbf\">                    </span><span style=\"color: #000080; text-decoration-color: #000080\">INFO    </span> Loading ViT-B-<span style=\"color: #008080; text-decoration-color: #008080; font-weight: bold\">32</span> pre-trained weights.                          <a href=\"file:///root/mass/src/mass/modules/encoder.py\" target=\"_blank\"><span style=\"color: #7f7f7f; text-decoration-color: #7f7f7f\">mass.modules.encoder</span></a><span style=\"color: #7f7f7f; text-decoration-color: #7f7f7f\">:</span><a href=\"file:///root/mass/src/mass/modules/encoder.py#24\" target=\"_blank\"><span style=\"color: #7f7f7f; text-decoration-color: #7f7f7f\">24</span></a>\n",
       "</pre>\n"
      ],
      "text/plain": [
       "\u001b[2;36m                   \u001b[0m\u001b[2;36m \u001b[0m\u001b[34mINFO    \u001b[0m Loading ViT-B-\u001b[1;36m32\u001b[0m pre-trained weights.                          \u001b]8;id=168546;file:///root/mass/src/mass/modules/encoder.py\u001b\\\u001b[2mmass.modules.encoder\u001b[0m\u001b]8;;\u001b\\\u001b[2m:\u001b[0m\u001b]8;id=393908;file:///root/mass/src/mass/modules/encoder.py#24\u001b\\\u001b[2m24\u001b[0m\u001b]8;;\u001b\\\n"
      ]
     },
     "metadata": {},
     "output_type": "display_data"
    },
    {
     "data": {
      "text/html": [
       "<pre style=\"white-space:pre;overflow-x:auto;line-height:normal;font-family:Menlo,'DejaVu Sans Mono',consolas,'Courier New',monospace\"><span style=\"color: #7fbfbf; text-decoration-color: #7fbfbf\">                    </span><span style=\"color: #000080; text-decoration-color: #000080\">INFO    </span> Loading pretrained ViT-B-<span style=\"color: #008080; text-decoration-color: #008080; font-weight: bold\">32</span> from OpenAI.                                       <a href=\"file:///root/mass/.venv/lib/python3.11/site-packages/open_clip/factory.py\" target=\"_blank\"><span style=\"color: #7f7f7f; text-decoration-color: #7f7f7f\">root</span></a><span style=\"color: #7f7f7f; text-decoration-color: #7f7f7f\">:</span><a href=\"file:///root/mass/.venv/lib/python3.11/site-packages/open_clip/factory.py#82\" target=\"_blank\"><span style=\"color: #7f7f7f; text-decoration-color: #7f7f7f\">82</span></a>\n",
       "</pre>\n"
      ],
      "text/plain": [
       "\u001b[2;36m                   \u001b[0m\u001b[2;36m \u001b[0m\u001b[34mINFO    \u001b[0m Loading pretrained ViT-B-\u001b[1;36m32\u001b[0m from OpenAI.                                       \u001b]8;id=494753;file:///root/mass/.venv/lib/python3.11/site-packages/open_clip/factory.py\u001b\\\u001b[2mroot\u001b[0m\u001b]8;;\u001b\\\u001b[2m:\u001b[0m\u001b]8;id=517586;file:///root/mass/.venv/lib/python3.11/site-packages/open_clip/factory.py#82\u001b\\\u001b[2m82\u001b[0m\u001b]8;;\u001b\\\n"
      ]
     },
     "metadata": {},
     "output_type": "display_data"
    },
    {
     "data": {
      "text/html": [
       "<pre style=\"white-space:pre;overflow-x:auto;line-height:normal;font-family:Menlo,'DejaVu Sans Mono',consolas,'Courier New',monospace\"><span style=\"color: #7fbfbf; text-decoration-color: #7fbfbf\">2025-04-28 09:41:46 </span><span style=\"color: #000080; text-decoration-color: #000080\">INFO    </span> Removing text transformer from the model.                      <a href=\"file:///root/mass/src/mass/modules/encoder.py\" target=\"_blank\"><span style=\"color: #7f7f7f; text-decoration-color: #7f7f7f\">mass.modules.encoder</span></a><span style=\"color: #7f7f7f; text-decoration-color: #7f7f7f\">:</span><a href=\"file:///root/mass/src/mass/modules/encoder.py#40\" target=\"_blank\"><span style=\"color: #7f7f7f; text-decoration-color: #7f7f7f\">40</span></a>\n",
       "</pre>\n"
      ],
      "text/plain": [
       "\u001b[2;36m2025-04-28 09:41:46\u001b[0m\u001b[2;36m \u001b[0m\u001b[34mINFO    \u001b[0m Removing text transformer from the model.                      \u001b]8;id=182222;file:///root/mass/src/mass/modules/encoder.py\u001b\\\u001b[2mmass.modules.encoder\u001b[0m\u001b]8;;\u001b\\\u001b[2m:\u001b[0m\u001b]8;id=25827;file:///root/mass/src/mass/modules/encoder.py#40\u001b\\\u001b[2m40\u001b[0m\u001b]8;;\u001b\\\n"
      ]
     },
     "metadata": {},
     "output_type": "display_data"
    },
    {
     "data": {
      "text/html": [
       "<pre style=\"white-space:pre;overflow-x:auto;line-height:normal;font-family:Menlo,'DejaVu Sans Mono',consolas,'Courier New',monospace\"><span style=\"color: #7fbfbf; text-decoration-color: #7fbfbf\">2025-04-28 09:41:47 </span><span style=\"color: #000080; text-decoration-color: #000080\">INFO    </span> Registering hooks<span style=\"color: #808000; text-decoration-color: #808000\">...</span>                                                        <a href=\"file:///tmp/ipykernel_2722254/3728642590.py\" target=\"_blank\"><span style=\"color: #7f7f7f; text-decoration-color: #7f7f7f\">__main__</span></a><span style=\"color: #7f7f7f; text-decoration-color: #7f7f7f\">:</span><a href=\"file:///tmp/ipykernel_2722254/3728642590.py#7\" target=\"_blank\"><span style=\"color: #7f7f7f; text-decoration-color: #7f7f7f\">7</span></a>\n",
       "</pre>\n"
      ],
      "text/plain": [
       "\u001b[2;36m2025-04-28 09:41:47\u001b[0m\u001b[2;36m \u001b[0m\u001b[34mINFO    \u001b[0m Registering hooks\u001b[33m...\u001b[0m                                                        \u001b]8;id=112816;file:///tmp/ipykernel_2722254/3728642590.py\u001b\\\u001b[2m__main__\u001b[0m\u001b]8;;\u001b\\\u001b[2m:\u001b[0m\u001b]8;id=678117;file:///tmp/ipykernel_2722254/3728642590.py#7\u001b\\\u001b[2m7\u001b[0m\u001b]8;;\u001b\\\n"
      ]
     },
     "metadata": {},
     "output_type": "display_data"
    },
    {
     "name": "stderr",
     "output_type": "stream",
     "text": [
      "/root/mass/.venv/lib/python3.11/site-packages/pytorch_lightning/utilities/parsing.py:197: UserWarning: Attribute 'encoder' is an instance of `nn.Module` and is already saved during checkpointing. It is recommended to ignore them using `self.save_hyperparameters(ignore=['encoder'])`.\n",
      "  rank_zero_warn(\n",
      "INFO: GPU available: True (cuda), used: True\n"
     ]
    },
    {
     "data": {
      "text/html": [
       "<pre style=\"white-space:pre;overflow-x:auto;line-height:normal;font-family:Menlo,'DejaVu Sans Mono',consolas,'Courier New',monospace\"><span style=\"color: #7fbfbf; text-decoration-color: #7fbfbf\">2025-04-28 09:41:48 </span><span style=\"color: #000080; text-decoration-color: #000080\">INFO    </span> GPU available: <span style=\"color: #00ff00; text-decoration-color: #00ff00; font-style: italic\">True</span> <span style=\"font-weight: bold\">(</span>cuda<span style=\"font-weight: bold\">)</span>, used: <span style=\"color: #00ff00; text-decoration-color: #00ff00; font-style: italic\">True</span>        <a href=\"file:///root/mass/.venv/lib/python3.11/site-packages/lightning_utilities/core/rank_zero.py\" target=\"_blank\"><span style=\"color: #7f7f7f; text-decoration-color: #7f7f7f\">lightning.pytorch.utilities.rank_zero</span></a><span style=\"color: #7f7f7f; text-decoration-color: #7f7f7f\">:</span><a href=\"file:///root/mass/.venv/lib/python3.11/site-packages/lightning_utilities/core/rank_zero.py#63\" target=\"_blank\"><span style=\"color: #7f7f7f; text-decoration-color: #7f7f7f\">63</span></a>\n",
       "</pre>\n"
      ],
      "text/plain": [
       "\u001b[2;36m2025-04-28 09:41:48\u001b[0m\u001b[2;36m \u001b[0m\u001b[34mINFO    \u001b[0m GPU available: \u001b[3;92mTrue\u001b[0m \u001b[1m(\u001b[0mcuda\u001b[1m)\u001b[0m, used: \u001b[3;92mTrue\u001b[0m        \u001b]8;id=264469;file:///root/mass/.venv/lib/python3.11/site-packages/lightning_utilities/core/rank_zero.py\u001b\\\u001b[2mlightning.pytorch.utilities.rank_zero\u001b[0m\u001b]8;;\u001b\\\u001b[2m:\u001b[0m\u001b]8;id=104463;file:///root/mass/.venv/lib/python3.11/site-packages/lightning_utilities/core/rank_zero.py#63\u001b\\\u001b[2m63\u001b[0m\u001b]8;;\u001b\\\n"
      ]
     },
     "metadata": {},
     "output_type": "display_data"
    },
    {
     "name": "stderr",
     "output_type": "stream",
     "text": [
      "INFO: TPU available: False, using: 0 TPU cores\n"
     ]
    },
    {
     "data": {
      "text/html": [
       "<pre style=\"white-space:pre;overflow-x:auto;line-height:normal;font-family:Menlo,'DejaVu Sans Mono',consolas,'Courier New',monospace\"><span style=\"color: #7fbfbf; text-decoration-color: #7fbfbf\">                    </span><span style=\"color: #000080; text-decoration-color: #000080\">INFO    </span> TPU available: <span style=\"color: #ff0000; text-decoration-color: #ff0000; font-style: italic\">False</span>, using: <span style=\"color: #008080; text-decoration-color: #008080; font-weight: bold\">0</span> TPU cores      <a href=\"file:///root/mass/.venv/lib/python3.11/site-packages/lightning_utilities/core/rank_zero.py\" target=\"_blank\"><span style=\"color: #7f7f7f; text-decoration-color: #7f7f7f\">lightning.pytorch.utilities.rank_zero</span></a><span style=\"color: #7f7f7f; text-decoration-color: #7f7f7f\">:</span><a href=\"file:///root/mass/.venv/lib/python3.11/site-packages/lightning_utilities/core/rank_zero.py#63\" target=\"_blank\"><span style=\"color: #7f7f7f; text-decoration-color: #7f7f7f\">63</span></a>\n",
       "</pre>\n"
      ],
      "text/plain": [
       "\u001b[2;36m                   \u001b[0m\u001b[2;36m \u001b[0m\u001b[34mINFO    \u001b[0m TPU available: \u001b[3;91mFalse\u001b[0m, using: \u001b[1;36m0\u001b[0m TPU cores      \u001b]8;id=8625;file:///root/mass/.venv/lib/python3.11/site-packages/lightning_utilities/core/rank_zero.py\u001b\\\u001b[2mlightning.pytorch.utilities.rank_zero\u001b[0m\u001b]8;;\u001b\\\u001b[2m:\u001b[0m\u001b]8;id=724270;file:///root/mass/.venv/lib/python3.11/site-packages/lightning_utilities/core/rank_zero.py#63\u001b\\\u001b[2m63\u001b[0m\u001b]8;;\u001b\\\n"
      ]
     },
     "metadata": {},
     "output_type": "display_data"
    },
    {
     "name": "stderr",
     "output_type": "stream",
     "text": [
      "INFO: IPU available: False, using: 0 IPUs\n"
     ]
    },
    {
     "data": {
      "text/html": [
       "<pre style=\"white-space:pre;overflow-x:auto;line-height:normal;font-family:Menlo,'DejaVu Sans Mono',consolas,'Courier New',monospace\"><span style=\"color: #7fbfbf; text-decoration-color: #7fbfbf\">                    </span><span style=\"color: #000080; text-decoration-color: #000080\">INFO    </span> IPU available: <span style=\"color: #ff0000; text-decoration-color: #ff0000; font-style: italic\">False</span>, using: <span style=\"color: #008080; text-decoration-color: #008080; font-weight: bold\">0</span> IPUs           <a href=\"file:///root/mass/.venv/lib/python3.11/site-packages/lightning_utilities/core/rank_zero.py\" target=\"_blank\"><span style=\"color: #7f7f7f; text-decoration-color: #7f7f7f\">lightning.pytorch.utilities.rank_zero</span></a><span style=\"color: #7f7f7f; text-decoration-color: #7f7f7f\">:</span><a href=\"file:///root/mass/.venv/lib/python3.11/site-packages/lightning_utilities/core/rank_zero.py#63\" target=\"_blank\"><span style=\"color: #7f7f7f; text-decoration-color: #7f7f7f\">63</span></a>\n",
       "</pre>\n"
      ],
      "text/plain": [
       "\u001b[2;36m                   \u001b[0m\u001b[2;36m \u001b[0m\u001b[34mINFO    \u001b[0m IPU available: \u001b[3;91mFalse\u001b[0m, using: \u001b[1;36m0\u001b[0m IPUs           \u001b]8;id=44657;file:///root/mass/.venv/lib/python3.11/site-packages/lightning_utilities/core/rank_zero.py\u001b\\\u001b[2mlightning.pytorch.utilities.rank_zero\u001b[0m\u001b]8;;\u001b\\\u001b[2m:\u001b[0m\u001b]8;id=434389;file:///root/mass/.venv/lib/python3.11/site-packages/lightning_utilities/core/rank_zero.py#63\u001b\\\u001b[2m63\u001b[0m\u001b]8;;\u001b\\\n"
      ]
     },
     "metadata": {},
     "output_type": "display_data"
    },
    {
     "name": "stderr",
     "output_type": "stream",
     "text": [
      "INFO: HPU available: False, using: 0 HPUs\n"
     ]
    },
    {
     "data": {
      "text/html": [
       "<pre style=\"white-space:pre;overflow-x:auto;line-height:normal;font-family:Menlo,'DejaVu Sans Mono',consolas,'Courier New',monospace\"><span style=\"color: #7fbfbf; text-decoration-color: #7fbfbf\">                    </span><span style=\"color: #000080; text-decoration-color: #000080\">INFO    </span> HPU available: <span style=\"color: #ff0000; text-decoration-color: #ff0000; font-style: italic\">False</span>, using: <span style=\"color: #008080; text-decoration-color: #008080; font-weight: bold\">0</span> HPUs           <a href=\"file:///root/mass/.venv/lib/python3.11/site-packages/lightning_utilities/core/rank_zero.py\" target=\"_blank\"><span style=\"color: #7f7f7f; text-decoration-color: #7f7f7f\">lightning.pytorch.utilities.rank_zero</span></a><span style=\"color: #7f7f7f; text-decoration-color: #7f7f7f\">:</span><a href=\"file:///root/mass/.venv/lib/python3.11/site-packages/lightning_utilities/core/rank_zero.py#63\" target=\"_blank\"><span style=\"color: #7f7f7f; text-decoration-color: #7f7f7f\">63</span></a>\n",
       "</pre>\n"
      ],
      "text/plain": [
       "\u001b[2;36m                   \u001b[0m\u001b[2;36m \u001b[0m\u001b[34mINFO    \u001b[0m HPU available: \u001b[3;91mFalse\u001b[0m, using: \u001b[1;36m0\u001b[0m HPUs           \u001b]8;id=34912;file:///root/mass/.venv/lib/python3.11/site-packages/lightning_utilities/core/rank_zero.py\u001b\\\u001b[2mlightning.pytorch.utilities.rank_zero\u001b[0m\u001b]8;;\u001b\\\u001b[2m:\u001b[0m\u001b]8;id=229256;file:///root/mass/.venv/lib/python3.11/site-packages/lightning_utilities/core/rank_zero.py#63\u001b\\\u001b[2m63\u001b[0m\u001b]8;;\u001b\\\n"
      ]
     },
     "metadata": {},
     "output_type": "display_data"
    },
    {
     "name": "stderr",
     "output_type": "stream",
     "text": [
      "INFO: `Trainer(val_check_interval=1.0)` was configured so validation will run at the end of the training epoch..\n"
     ]
    },
    {
     "data": {
      "text/html": [
       "<pre style=\"white-space:pre;overflow-x:auto;line-height:normal;font-family:Menlo,'DejaVu Sans Mono',consolas,'Courier New',monospace\"><span style=\"color: #7fbfbf; text-decoration-color: #7fbfbf\">                    </span><span style=\"color: #000080; text-decoration-color: #000080\">INFO    </span> `<span style=\"color: #800080; text-decoration-color: #800080; font-weight: bold\">Trainer</span><span style=\"font-weight: bold\">(</span><span style=\"color: #808000; text-decoration-color: #808000\">val_check_interval</span>=<span style=\"color: #008080; text-decoration-color: #008080; font-weight: bold\">1.0</span><span style=\"font-weight: bold\">)</span>` was         <a href=\"file:///root/mass/.venv/lib/python3.11/site-packages/lightning_utilities/core/rank_zero.py\" target=\"_blank\"><span style=\"color: #7f7f7f; text-decoration-color: #7f7f7f\">lightning.pytorch.utilities.rank_zero</span></a><span style=\"color: #7f7f7f; text-decoration-color: #7f7f7f\">:</span><a href=\"file:///root/mass/.venv/lib/python3.11/site-packages/lightning_utilities/core/rank_zero.py#63\" target=\"_blank\"><span style=\"color: #7f7f7f; text-decoration-color: #7f7f7f\">63</span></a>\n",
       "<span style=\"color: #7fbfbf; text-decoration-color: #7fbfbf\">                    </span>         configured so validation will run at the end  <span style=\"color: #7f7f7f; text-decoration-color: #7f7f7f\">                                        </span>\n",
       "<span style=\"color: #7fbfbf; text-decoration-color: #7fbfbf\">                    </span>         of the training epoch..                       <span style=\"color: #7f7f7f; text-decoration-color: #7f7f7f\">                                        </span>\n",
       "</pre>\n"
      ],
      "text/plain": [
       "\u001b[2;36m                   \u001b[0m\u001b[2;36m \u001b[0m\u001b[34mINFO    \u001b[0m `\u001b[1;35mTrainer\u001b[0m\u001b[1m(\u001b[0m\u001b[33mval_check_interval\u001b[0m=\u001b[1;36m1\u001b[0m\u001b[1;36m.0\u001b[0m\u001b[1m)\u001b[0m` was         \u001b]8;id=749141;file:///root/mass/.venv/lib/python3.11/site-packages/lightning_utilities/core/rank_zero.py\u001b\\\u001b[2mlightning.pytorch.utilities.rank_zero\u001b[0m\u001b]8;;\u001b\\\u001b[2m:\u001b[0m\u001b]8;id=673489;file:///root/mass/.venv/lib/python3.11/site-packages/lightning_utilities/core/rank_zero.py#63\u001b\\\u001b[2m63\u001b[0m\u001b]8;;\u001b\\\n",
       "\u001b[2;36m                    \u001b[0m         configured so validation will run at the end  \u001b[2m                                        \u001b[0m\n",
       "\u001b[2;36m                    \u001b[0m         of the training epoch..                       \u001b[2m                                        \u001b[0m\n"
      ]
     },
     "metadata": {},
     "output_type": "display_data"
    },
    {
     "data": {
      "text/html": [
       "<pre style=\"white-space:pre;overflow-x:auto;line-height:normal;font-family:Menlo,'DejaVu Sans Mono',consolas,'Courier New',monospace\"><span style=\"color: #7fbfbf; text-decoration-color: #7fbfbf\">                    </span><span style=\"color: #000080; text-decoration-color: #000080\">INFO    </span> Generating embeddings for task <span style=\"color: #008000; text-decoration-color: #008000\">'FER2013'</span> with label <span style=\"color: #008080; text-decoration-color: #008080; font-weight: bold\">13</span>                     <a href=\"file:///tmp/ipykernel_2722254/2619625303.py\" target=\"_blank\"><span style=\"color: #7f7f7f; text-decoration-color: #7f7f7f\">__main__</span></a><span style=\"color: #7f7f7f; text-decoration-color: #7f7f7f\">:</span><a href=\"file:///tmp/ipykernel_2722254/2619625303.py#55\" target=\"_blank\"><span style=\"color: #7f7f7f; text-decoration-color: #7f7f7f\">55</span></a>\n",
       "</pre>\n"
      ],
      "text/plain": [
       "\u001b[2;36m                   \u001b[0m\u001b[2;36m \u001b[0m\u001b[34mINFO    \u001b[0m Generating embeddings for task \u001b[32m'FER2013'\u001b[0m with label \u001b[1;36m13\u001b[0m                     \u001b]8;id=547084;file:///tmp/ipykernel_2722254/2619625303.py\u001b\\\u001b[2m__main__\u001b[0m\u001b]8;;\u001b\\\u001b[2m:\u001b[0m\u001b]8;id=696165;file:///tmp/ipykernel_2722254/2619625303.py#55\u001b\\\u001b[2m55\u001b[0m\u001b]8;;\u001b\\\n"
      ]
     },
     "metadata": {},
     "output_type": "display_data"
    },
    {
     "name": "stderr",
     "output_type": "stream",
     "text": [
      "/root/mass/.venv/lib/python3.11/site-packages/pytorch_lightning/utilities/parsing.py:44: UserWarning: attribute 'encoder' removed from hparams because it cannot be pickled\n",
      "  rank_zero_warn(f\"attribute '{k}' removed from hparams because it cannot be pickled\")\n",
      "LOCAL_RANK: 0 - CUDA_VISIBLE_DEVICES: [0]\n",
      "/root/mass/.venv/lib/python3.11/site-packages/pytorch_lightning/trainer/connectors/data_connector.py:478: PossibleUserWarning: Your `test_dataloader`'s sampler has shuffling enabled, it is strongly recommended that you turn shuffling off for val/test dataloaders.\n",
      "  rank_zero_warn(\n",
      "/root/mass/.venv/lib/python3.11/site-packages/pytorch_lightning/trainer/connectors/data_connector.py:430: PossibleUserWarning: The dataloader, test_dataloader, does not have many workers which may be a bottleneck. Consider increasing the value of the `num_workers` argument` (try 8 which is the number of cpus on this machine) in the `DataLoader` init to improve performance.\n",
      "  rank_zero_warn(\n"
     ]
    },
    {
     "name": "stdout",
     "output_type": "stream",
     "text": [
      "Testing DataLoader 0: 100%|██████████| 10/10 [00:02<00:00,  3.70it/s]\n"
     ]
    },
    {
     "data": {
      "text/html": [
       "<pre style=\"white-space:pre;overflow-x:auto;line-height:normal;font-family:Menlo,'DejaVu Sans Mono',consolas,'Courier New',monospace\"><span style=\"color: #7fbfbf; text-decoration-color: #7fbfbf\">2025-04-28 09:41:52 </span><span style=\"color: #000080; text-decoration-color: #000080\">INFO    </span> Instantiating finetuned model for task: <span style=\"color: #008000; text-decoration-color: #008000\">'RESISC45'</span>                         <a href=\"file:///tmp/ipykernel_2722254/2619625303.py\" target=\"_blank\"><span style=\"color: #7f7f7f; text-decoration-color: #7f7f7f\">__main__</span></a><span style=\"color: #7f7f7f; text-decoration-color: #7f7f7f\">:</span><a href=\"file:///tmp/ipykernel_2722254/2619625303.py#26\" target=\"_blank\"><span style=\"color: #7f7f7f; text-decoration-color: #7f7f7f\">26</span></a>\n",
       "</pre>\n"
      ],
      "text/plain": [
       "\u001b[2;36m2025-04-28 09:41:52\u001b[0m\u001b[2;36m \u001b[0m\u001b[34mINFO    \u001b[0m Instantiating finetuned model for task: \u001b[32m'RESISC45'\u001b[0m                         \u001b]8;id=793462;file:///tmp/ipykernel_2722254/2619625303.py\u001b\\\u001b[2m__main__\u001b[0m\u001b]8;;\u001b\\\u001b[2m:\u001b[0m\u001b]8;id=56669;file:///tmp/ipykernel_2722254/2619625303.py#26\u001b\\\u001b[2m26\u001b[0m\u001b]8;;\u001b\\\n"
      ]
     },
     "metadata": {},
     "output_type": "display_data"
    },
    {
     "data": {
      "text/html": [
       "<pre style=\"white-space:pre;overflow-x:auto;line-height:normal;font-family:Menlo,'DejaVu Sans Mono',consolas,'Courier New',monospace\"><span style=\"color: #7fbfbf; text-decoration-color: #7fbfbf\">                    </span><span style=\"color: #000080; text-decoration-color: #000080\">INFO    </span> Loading ViT-B-<span style=\"color: #008080; text-decoration-color: #008080; font-weight: bold\">32</span> pre-trained weights.                          <a href=\"file:///root/mass/src/mass/modules/encoder.py\" target=\"_blank\"><span style=\"color: #7f7f7f; text-decoration-color: #7f7f7f\">mass.modules.encoder</span></a><span style=\"color: #7f7f7f; text-decoration-color: #7f7f7f\">:</span><a href=\"file:///root/mass/src/mass/modules/encoder.py#24\" target=\"_blank\"><span style=\"color: #7f7f7f; text-decoration-color: #7f7f7f\">24</span></a>\n",
       "</pre>\n"
      ],
      "text/plain": [
       "\u001b[2;36m                   \u001b[0m\u001b[2;36m \u001b[0m\u001b[34mINFO    \u001b[0m Loading ViT-B-\u001b[1;36m32\u001b[0m pre-trained weights.                          \u001b]8;id=615908;file:///root/mass/src/mass/modules/encoder.py\u001b\\\u001b[2mmass.modules.encoder\u001b[0m\u001b]8;;\u001b\\\u001b[2m:\u001b[0m\u001b]8;id=268301;file:///root/mass/src/mass/modules/encoder.py#24\u001b\\\u001b[2m24\u001b[0m\u001b]8;;\u001b\\\n"
      ]
     },
     "metadata": {},
     "output_type": "display_data"
    },
    {
     "data": {
      "text/html": [
       "<pre style=\"white-space:pre;overflow-x:auto;line-height:normal;font-family:Menlo,'DejaVu Sans Mono',consolas,'Courier New',monospace\"><span style=\"color: #7fbfbf; text-decoration-color: #7fbfbf\">                    </span><span style=\"color: #000080; text-decoration-color: #000080\">INFO    </span> Loading pretrained ViT-B-<span style=\"color: #008080; text-decoration-color: #008080; font-weight: bold\">32</span> from OpenAI.                                       <a href=\"file:///root/mass/.venv/lib/python3.11/site-packages/open_clip/factory.py\" target=\"_blank\"><span style=\"color: #7f7f7f; text-decoration-color: #7f7f7f\">root</span></a><span style=\"color: #7f7f7f; text-decoration-color: #7f7f7f\">:</span><a href=\"file:///root/mass/.venv/lib/python3.11/site-packages/open_clip/factory.py#82\" target=\"_blank\"><span style=\"color: #7f7f7f; text-decoration-color: #7f7f7f\">82</span></a>\n",
       "</pre>\n"
      ],
      "text/plain": [
       "\u001b[2;36m                   \u001b[0m\u001b[2;36m \u001b[0m\u001b[34mINFO    \u001b[0m Loading pretrained ViT-B-\u001b[1;36m32\u001b[0m from OpenAI.                                       \u001b]8;id=161008;file:///root/mass/.venv/lib/python3.11/site-packages/open_clip/factory.py\u001b\\\u001b[2mroot\u001b[0m\u001b]8;;\u001b\\\u001b[2m:\u001b[0m\u001b]8;id=888498;file:///root/mass/.venv/lib/python3.11/site-packages/open_clip/factory.py#82\u001b\\\u001b[2m82\u001b[0m\u001b]8;;\u001b\\\n"
      ]
     },
     "metadata": {},
     "output_type": "display_data"
    },
    {
     "data": {
      "text/html": [
       "<pre style=\"white-space:pre;overflow-x:auto;line-height:normal;font-family:Menlo,'DejaVu Sans Mono',consolas,'Courier New',monospace\"><span style=\"color: #7fbfbf; text-decoration-color: #7fbfbf\">2025-04-28 09:42:04 </span><span style=\"color: #000080; text-decoration-color: #000080\">INFO    </span> Removing text transformer from the model.                      <a href=\"file:///root/mass/src/mass/modules/encoder.py\" target=\"_blank\"><span style=\"color: #7f7f7f; text-decoration-color: #7f7f7f\">mass.modules.encoder</span></a><span style=\"color: #7f7f7f; text-decoration-color: #7f7f7f\">:</span><a href=\"file:///root/mass/src/mass/modules/encoder.py#40\" target=\"_blank\"><span style=\"color: #7f7f7f; text-decoration-color: #7f7f7f\">40</span></a>\n",
       "</pre>\n"
      ],
      "text/plain": [
       "\u001b[2;36m2025-04-28 09:42:04\u001b[0m\u001b[2;36m \u001b[0m\u001b[34mINFO    \u001b[0m Removing text transformer from the model.                      \u001b]8;id=775297;file:///root/mass/src/mass/modules/encoder.py\u001b\\\u001b[2mmass.modules.encoder\u001b[0m\u001b]8;;\u001b\\\u001b[2m:\u001b[0m\u001b]8;id=277983;file:///root/mass/src/mass/modules/encoder.py#40\u001b\\\u001b[2m40\u001b[0m\u001b]8;;\u001b\\\n"
      ]
     },
     "metadata": {},
     "output_type": "display_data"
    },
    {
     "data": {
      "text/html": [
       "<pre style=\"white-space:pre;overflow-x:auto;line-height:normal;font-family:Menlo,'DejaVu Sans Mono',consolas,'Courier New',monospace\"><span style=\"color: #7fbfbf; text-decoration-color: #7fbfbf\">                    </span><span style=\"color: #000080; text-decoration-color: #000080\">INFO    </span> Registering hooks<span style=\"color: #808000; text-decoration-color: #808000\">...</span>                                                        <a href=\"file:///tmp/ipykernel_2722254/3728642590.py\" target=\"_blank\"><span style=\"color: #7f7f7f; text-decoration-color: #7f7f7f\">__main__</span></a><span style=\"color: #7f7f7f; text-decoration-color: #7f7f7f\">:</span><a href=\"file:///tmp/ipykernel_2722254/3728642590.py#7\" target=\"_blank\"><span style=\"color: #7f7f7f; text-decoration-color: #7f7f7f\">7</span></a>\n",
       "</pre>\n"
      ],
      "text/plain": [
       "\u001b[2;36m                   \u001b[0m\u001b[2;36m \u001b[0m\u001b[34mINFO    \u001b[0m Registering hooks\u001b[33m...\u001b[0m                                                        \u001b]8;id=78808;file:///tmp/ipykernel_2722254/3728642590.py\u001b\\\u001b[2m__main__\u001b[0m\u001b]8;;\u001b\\\u001b[2m:\u001b[0m\u001b]8;id=456742;file:///tmp/ipykernel_2722254/3728642590.py#7\u001b\\\u001b[2m7\u001b[0m\u001b]8;;\u001b\\\n"
      ]
     },
     "metadata": {},
     "output_type": "display_data"
    },
    {
     "name": "stderr",
     "output_type": "stream",
     "text": [
      "/root/mass/.venv/lib/python3.11/site-packages/pytorch_lightning/utilities/parsing.py:197: UserWarning: Attribute 'encoder' is an instance of `nn.Module` and is already saved during checkpointing. It is recommended to ignore them using `self.save_hyperparameters(ignore=['encoder'])`.\n",
      "  rank_zero_warn(\n",
      "INFO: GPU available: True (cuda), used: True\n"
     ]
    },
    {
     "data": {
      "text/html": [
       "<pre style=\"white-space:pre;overflow-x:auto;line-height:normal;font-family:Menlo,'DejaVu Sans Mono',consolas,'Courier New',monospace\"><span style=\"color: #7fbfbf; text-decoration-color: #7fbfbf\">2025-04-28 09:42:06 </span><span style=\"color: #000080; text-decoration-color: #000080\">INFO    </span> GPU available: <span style=\"color: #00ff00; text-decoration-color: #00ff00; font-style: italic\">True</span> <span style=\"font-weight: bold\">(</span>cuda<span style=\"font-weight: bold\">)</span>, used: <span style=\"color: #00ff00; text-decoration-color: #00ff00; font-style: italic\">True</span>        <a href=\"file:///root/mass/.venv/lib/python3.11/site-packages/lightning_utilities/core/rank_zero.py\" target=\"_blank\"><span style=\"color: #7f7f7f; text-decoration-color: #7f7f7f\">lightning.pytorch.utilities.rank_zero</span></a><span style=\"color: #7f7f7f; text-decoration-color: #7f7f7f\">:</span><a href=\"file:///root/mass/.venv/lib/python3.11/site-packages/lightning_utilities/core/rank_zero.py#63\" target=\"_blank\"><span style=\"color: #7f7f7f; text-decoration-color: #7f7f7f\">63</span></a>\n",
       "</pre>\n"
      ],
      "text/plain": [
       "\u001b[2;36m2025-04-28 09:42:06\u001b[0m\u001b[2;36m \u001b[0m\u001b[34mINFO    \u001b[0m GPU available: \u001b[3;92mTrue\u001b[0m \u001b[1m(\u001b[0mcuda\u001b[1m)\u001b[0m, used: \u001b[3;92mTrue\u001b[0m        \u001b]8;id=624341;file:///root/mass/.venv/lib/python3.11/site-packages/lightning_utilities/core/rank_zero.py\u001b\\\u001b[2mlightning.pytorch.utilities.rank_zero\u001b[0m\u001b]8;;\u001b\\\u001b[2m:\u001b[0m\u001b]8;id=275271;file:///root/mass/.venv/lib/python3.11/site-packages/lightning_utilities/core/rank_zero.py#63\u001b\\\u001b[2m63\u001b[0m\u001b]8;;\u001b\\\n"
      ]
     },
     "metadata": {},
     "output_type": "display_data"
    },
    {
     "name": "stderr",
     "output_type": "stream",
     "text": [
      "INFO: TPU available: False, using: 0 TPU cores\n"
     ]
    },
    {
     "data": {
      "text/html": [
       "<pre style=\"white-space:pre;overflow-x:auto;line-height:normal;font-family:Menlo,'DejaVu Sans Mono',consolas,'Courier New',monospace\"><span style=\"color: #7fbfbf; text-decoration-color: #7fbfbf\">                    </span><span style=\"color: #000080; text-decoration-color: #000080\">INFO    </span> TPU available: <span style=\"color: #ff0000; text-decoration-color: #ff0000; font-style: italic\">False</span>, using: <span style=\"color: #008080; text-decoration-color: #008080; font-weight: bold\">0</span> TPU cores      <a href=\"file:///root/mass/.venv/lib/python3.11/site-packages/lightning_utilities/core/rank_zero.py\" target=\"_blank\"><span style=\"color: #7f7f7f; text-decoration-color: #7f7f7f\">lightning.pytorch.utilities.rank_zero</span></a><span style=\"color: #7f7f7f; text-decoration-color: #7f7f7f\">:</span><a href=\"file:///root/mass/.venv/lib/python3.11/site-packages/lightning_utilities/core/rank_zero.py#63\" target=\"_blank\"><span style=\"color: #7f7f7f; text-decoration-color: #7f7f7f\">63</span></a>\n",
       "</pre>\n"
      ],
      "text/plain": [
       "\u001b[2;36m                   \u001b[0m\u001b[2;36m \u001b[0m\u001b[34mINFO    \u001b[0m TPU available: \u001b[3;91mFalse\u001b[0m, using: \u001b[1;36m0\u001b[0m TPU cores      \u001b]8;id=253708;file:///root/mass/.venv/lib/python3.11/site-packages/lightning_utilities/core/rank_zero.py\u001b\\\u001b[2mlightning.pytorch.utilities.rank_zero\u001b[0m\u001b]8;;\u001b\\\u001b[2m:\u001b[0m\u001b]8;id=40188;file:///root/mass/.venv/lib/python3.11/site-packages/lightning_utilities/core/rank_zero.py#63\u001b\\\u001b[2m63\u001b[0m\u001b]8;;\u001b\\\n"
      ]
     },
     "metadata": {},
     "output_type": "display_data"
    },
    {
     "name": "stderr",
     "output_type": "stream",
     "text": [
      "INFO: IPU available: False, using: 0 IPUs\n"
     ]
    },
    {
     "data": {
      "text/html": [
       "<pre style=\"white-space:pre;overflow-x:auto;line-height:normal;font-family:Menlo,'DejaVu Sans Mono',consolas,'Courier New',monospace\"><span style=\"color: #7fbfbf; text-decoration-color: #7fbfbf\">                    </span><span style=\"color: #000080; text-decoration-color: #000080\">INFO    </span> IPU available: <span style=\"color: #ff0000; text-decoration-color: #ff0000; font-style: italic\">False</span>, using: <span style=\"color: #008080; text-decoration-color: #008080; font-weight: bold\">0</span> IPUs           <a href=\"file:///root/mass/.venv/lib/python3.11/site-packages/lightning_utilities/core/rank_zero.py\" target=\"_blank\"><span style=\"color: #7f7f7f; text-decoration-color: #7f7f7f\">lightning.pytorch.utilities.rank_zero</span></a><span style=\"color: #7f7f7f; text-decoration-color: #7f7f7f\">:</span><a href=\"file:///root/mass/.venv/lib/python3.11/site-packages/lightning_utilities/core/rank_zero.py#63\" target=\"_blank\"><span style=\"color: #7f7f7f; text-decoration-color: #7f7f7f\">63</span></a>\n",
       "</pre>\n"
      ],
      "text/plain": [
       "\u001b[2;36m                   \u001b[0m\u001b[2;36m \u001b[0m\u001b[34mINFO    \u001b[0m IPU available: \u001b[3;91mFalse\u001b[0m, using: \u001b[1;36m0\u001b[0m IPUs           \u001b]8;id=755584;file:///root/mass/.venv/lib/python3.11/site-packages/lightning_utilities/core/rank_zero.py\u001b\\\u001b[2mlightning.pytorch.utilities.rank_zero\u001b[0m\u001b]8;;\u001b\\\u001b[2m:\u001b[0m\u001b]8;id=334816;file:///root/mass/.venv/lib/python3.11/site-packages/lightning_utilities/core/rank_zero.py#63\u001b\\\u001b[2m63\u001b[0m\u001b]8;;\u001b\\\n"
      ]
     },
     "metadata": {},
     "output_type": "display_data"
    },
    {
     "name": "stderr",
     "output_type": "stream",
     "text": [
      "INFO: HPU available: False, using: 0 HPUs\n"
     ]
    },
    {
     "data": {
      "text/html": [
       "<pre style=\"white-space:pre;overflow-x:auto;line-height:normal;font-family:Menlo,'DejaVu Sans Mono',consolas,'Courier New',monospace\"><span style=\"color: #7fbfbf; text-decoration-color: #7fbfbf\">                    </span><span style=\"color: #000080; text-decoration-color: #000080\">INFO    </span> HPU available: <span style=\"color: #ff0000; text-decoration-color: #ff0000; font-style: italic\">False</span>, using: <span style=\"color: #008080; text-decoration-color: #008080; font-weight: bold\">0</span> HPUs           <a href=\"file:///root/mass/.venv/lib/python3.11/site-packages/lightning_utilities/core/rank_zero.py\" target=\"_blank\"><span style=\"color: #7f7f7f; text-decoration-color: #7f7f7f\">lightning.pytorch.utilities.rank_zero</span></a><span style=\"color: #7f7f7f; text-decoration-color: #7f7f7f\">:</span><a href=\"file:///root/mass/.venv/lib/python3.11/site-packages/lightning_utilities/core/rank_zero.py#63\" target=\"_blank\"><span style=\"color: #7f7f7f; text-decoration-color: #7f7f7f\">63</span></a>\n",
       "</pre>\n"
      ],
      "text/plain": [
       "\u001b[2;36m                   \u001b[0m\u001b[2;36m \u001b[0m\u001b[34mINFO    \u001b[0m HPU available: \u001b[3;91mFalse\u001b[0m, using: \u001b[1;36m0\u001b[0m HPUs           \u001b]8;id=150796;file:///root/mass/.venv/lib/python3.11/site-packages/lightning_utilities/core/rank_zero.py\u001b\\\u001b[2mlightning.pytorch.utilities.rank_zero\u001b[0m\u001b]8;;\u001b\\\u001b[2m:\u001b[0m\u001b]8;id=245074;file:///root/mass/.venv/lib/python3.11/site-packages/lightning_utilities/core/rank_zero.py#63\u001b\\\u001b[2m63\u001b[0m\u001b]8;;\u001b\\\n"
      ]
     },
     "metadata": {},
     "output_type": "display_data"
    },
    {
     "name": "stderr",
     "output_type": "stream",
     "text": [
      "INFO: `Trainer(val_check_interval=1.0)` was configured so validation will run at the end of the training epoch..\n"
     ]
    },
    {
     "data": {
      "text/html": [
       "<pre style=\"white-space:pre;overflow-x:auto;line-height:normal;font-family:Menlo,'DejaVu Sans Mono',consolas,'Courier New',monospace\"><span style=\"color: #7fbfbf; text-decoration-color: #7fbfbf\">                    </span><span style=\"color: #000080; text-decoration-color: #000080\">INFO    </span> `<span style=\"color: #800080; text-decoration-color: #800080; font-weight: bold\">Trainer</span><span style=\"font-weight: bold\">(</span><span style=\"color: #808000; text-decoration-color: #808000\">val_check_interval</span>=<span style=\"color: #008080; text-decoration-color: #008080; font-weight: bold\">1.0</span><span style=\"font-weight: bold\">)</span>` was         <a href=\"file:///root/mass/.venv/lib/python3.11/site-packages/lightning_utilities/core/rank_zero.py\" target=\"_blank\"><span style=\"color: #7f7f7f; text-decoration-color: #7f7f7f\">lightning.pytorch.utilities.rank_zero</span></a><span style=\"color: #7f7f7f; text-decoration-color: #7f7f7f\">:</span><a href=\"file:///root/mass/.venv/lib/python3.11/site-packages/lightning_utilities/core/rank_zero.py#63\" target=\"_blank\"><span style=\"color: #7f7f7f; text-decoration-color: #7f7f7f\">63</span></a>\n",
       "<span style=\"color: #7fbfbf; text-decoration-color: #7fbfbf\">                    </span>         configured so validation will run at the end  <span style=\"color: #7f7f7f; text-decoration-color: #7f7f7f\">                                        </span>\n",
       "<span style=\"color: #7fbfbf; text-decoration-color: #7fbfbf\">                    </span>         of the training epoch..                       <span style=\"color: #7f7f7f; text-decoration-color: #7f7f7f\">                                        </span>\n",
       "</pre>\n"
      ],
      "text/plain": [
       "\u001b[2;36m                   \u001b[0m\u001b[2;36m \u001b[0m\u001b[34mINFO    \u001b[0m `\u001b[1;35mTrainer\u001b[0m\u001b[1m(\u001b[0m\u001b[33mval_check_interval\u001b[0m=\u001b[1;36m1\u001b[0m\u001b[1;36m.0\u001b[0m\u001b[1m)\u001b[0m` was         \u001b]8;id=11427;file:///root/mass/.venv/lib/python3.11/site-packages/lightning_utilities/core/rank_zero.py\u001b\\\u001b[2mlightning.pytorch.utilities.rank_zero\u001b[0m\u001b]8;;\u001b\\\u001b[2m:\u001b[0m\u001b]8;id=82049;file:///root/mass/.venv/lib/python3.11/site-packages/lightning_utilities/core/rank_zero.py#63\u001b\\\u001b[2m63\u001b[0m\u001b]8;;\u001b\\\n",
       "\u001b[2;36m                    \u001b[0m         configured so validation will run at the end  \u001b[2m                                        \u001b[0m\n",
       "\u001b[2;36m                    \u001b[0m         of the training epoch..                       \u001b[2m                                        \u001b[0m\n"
      ]
     },
     "metadata": {},
     "output_type": "display_data"
    },
    {
     "data": {
      "text/html": [
       "<pre style=\"white-space:pre;overflow-x:auto;line-height:normal;font-family:Menlo,'DejaVu Sans Mono',consolas,'Courier New',monospace\"><span style=\"color: #7fbfbf; text-decoration-color: #7fbfbf\">                    </span><span style=\"color: #000080; text-decoration-color: #000080\">INFO    </span> Generating embeddings for task <span style=\"color: #008000; text-decoration-color: #008000\">'RESISC45'</span> with label <span style=\"color: #008080; text-decoration-color: #008080; font-weight: bold\">5</span>                     <a href=\"file:///tmp/ipykernel_2722254/2619625303.py\" target=\"_blank\"><span style=\"color: #7f7f7f; text-decoration-color: #7f7f7f\">__main__</span></a><span style=\"color: #7f7f7f; text-decoration-color: #7f7f7f\">:</span><a href=\"file:///tmp/ipykernel_2722254/2619625303.py#55\" target=\"_blank\"><span style=\"color: #7f7f7f; text-decoration-color: #7f7f7f\">55</span></a>\n",
       "</pre>\n"
      ],
      "text/plain": [
       "\u001b[2;36m                   \u001b[0m\u001b[2;36m \u001b[0m\u001b[34mINFO    \u001b[0m Generating embeddings for task \u001b[32m'RESISC45'\u001b[0m with label \u001b[1;36m5\u001b[0m                     \u001b]8;id=373976;file:///tmp/ipykernel_2722254/2619625303.py\u001b\\\u001b[2m__main__\u001b[0m\u001b]8;;\u001b\\\u001b[2m:\u001b[0m\u001b]8;id=841189;file:///tmp/ipykernel_2722254/2619625303.py#55\u001b\\\u001b[2m55\u001b[0m\u001b]8;;\u001b\\\n"
      ]
     },
     "metadata": {},
     "output_type": "display_data"
    },
    {
     "name": "stderr",
     "output_type": "stream",
     "text": [
      "LOCAL_RANK: 0 - CUDA_VISIBLE_DEVICES: [0]\n"
     ]
    },
    {
     "name": "stdout",
     "output_type": "stream",
     "text": [
      "Testing DataLoader 0: 100%|██████████| 10/10 [00:00<00:00, 12.38it/s]\n"
     ]
    },
    {
     "data": {
      "text/html": [
       "<pre style=\"white-space:pre;overflow-x:auto;line-height:normal;font-family:Menlo,'DejaVu Sans Mono',consolas,'Courier New',monospace\"><span style=\"color: #7fbfbf; text-decoration-color: #7fbfbf\">2025-04-28 09:42:08 </span><span style=\"color: #000080; text-decoration-color: #000080\">INFO    </span> Instantiating finetuned model for task: <span style=\"color: #008000; text-decoration-color: #008000\">'MNIST'</span>                            <a href=\"file:///tmp/ipykernel_2722254/2619625303.py\" target=\"_blank\"><span style=\"color: #7f7f7f; text-decoration-color: #7f7f7f\">__main__</span></a><span style=\"color: #7f7f7f; text-decoration-color: #7f7f7f\">:</span><a href=\"file:///tmp/ipykernel_2722254/2619625303.py#26\" target=\"_blank\"><span style=\"color: #7f7f7f; text-decoration-color: #7f7f7f\">26</span></a>\n",
       "</pre>\n"
      ],
      "text/plain": [
       "\u001b[2;36m2025-04-28 09:42:08\u001b[0m\u001b[2;36m \u001b[0m\u001b[34mINFO    \u001b[0m Instantiating finetuned model for task: \u001b[32m'MNIST'\u001b[0m                            \u001b]8;id=391766;file:///tmp/ipykernel_2722254/2619625303.py\u001b\\\u001b[2m__main__\u001b[0m\u001b]8;;\u001b\\\u001b[2m:\u001b[0m\u001b]8;id=25951;file:///tmp/ipykernel_2722254/2619625303.py#26\u001b\\\u001b[2m26\u001b[0m\u001b]8;;\u001b\\\n"
      ]
     },
     "metadata": {},
     "output_type": "display_data"
    },
    {
     "data": {
      "text/html": [
       "<pre style=\"white-space:pre;overflow-x:auto;line-height:normal;font-family:Menlo,'DejaVu Sans Mono',consolas,'Courier New',monospace\"><span style=\"color: #7fbfbf; text-decoration-color: #7fbfbf\">                    </span><span style=\"color: #000080; text-decoration-color: #000080\">INFO    </span> Loading ViT-B-<span style=\"color: #008080; text-decoration-color: #008080; font-weight: bold\">32</span> pre-trained weights.                          <a href=\"file:///root/mass/src/mass/modules/encoder.py\" target=\"_blank\"><span style=\"color: #7f7f7f; text-decoration-color: #7f7f7f\">mass.modules.encoder</span></a><span style=\"color: #7f7f7f; text-decoration-color: #7f7f7f\">:</span><a href=\"file:///root/mass/src/mass/modules/encoder.py#24\" target=\"_blank\"><span style=\"color: #7f7f7f; text-decoration-color: #7f7f7f\">24</span></a>\n",
       "</pre>\n"
      ],
      "text/plain": [
       "\u001b[2;36m                   \u001b[0m\u001b[2;36m \u001b[0m\u001b[34mINFO    \u001b[0m Loading ViT-B-\u001b[1;36m32\u001b[0m pre-trained weights.                          \u001b]8;id=269535;file:///root/mass/src/mass/modules/encoder.py\u001b\\\u001b[2mmass.modules.encoder\u001b[0m\u001b]8;;\u001b\\\u001b[2m:\u001b[0m\u001b]8;id=984285;file:///root/mass/src/mass/modules/encoder.py#24\u001b\\\u001b[2m24\u001b[0m\u001b]8;;\u001b\\\n"
      ]
     },
     "metadata": {},
     "output_type": "display_data"
    },
    {
     "data": {
      "text/html": [
       "<pre style=\"white-space:pre;overflow-x:auto;line-height:normal;font-family:Menlo,'DejaVu Sans Mono',consolas,'Courier New',monospace\"><span style=\"color: #7fbfbf; text-decoration-color: #7fbfbf\">                    </span><span style=\"color: #000080; text-decoration-color: #000080\">INFO    </span> Loading pretrained ViT-B-<span style=\"color: #008080; text-decoration-color: #008080; font-weight: bold\">32</span> from OpenAI.                                       <a href=\"file:///root/mass/.venv/lib/python3.11/site-packages/open_clip/factory.py\" target=\"_blank\"><span style=\"color: #7f7f7f; text-decoration-color: #7f7f7f\">root</span></a><span style=\"color: #7f7f7f; text-decoration-color: #7f7f7f\">:</span><a href=\"file:///root/mass/.venv/lib/python3.11/site-packages/open_clip/factory.py#82\" target=\"_blank\"><span style=\"color: #7f7f7f; text-decoration-color: #7f7f7f\">82</span></a>\n",
       "</pre>\n"
      ],
      "text/plain": [
       "\u001b[2;36m                   \u001b[0m\u001b[2;36m \u001b[0m\u001b[34mINFO    \u001b[0m Loading pretrained ViT-B-\u001b[1;36m32\u001b[0m from OpenAI.                                       \u001b]8;id=187428;file:///root/mass/.venv/lib/python3.11/site-packages/open_clip/factory.py\u001b\\\u001b[2mroot\u001b[0m\u001b]8;;\u001b\\\u001b[2m:\u001b[0m\u001b]8;id=778731;file:///root/mass/.venv/lib/python3.11/site-packages/open_clip/factory.py#82\u001b\\\u001b[2m82\u001b[0m\u001b]8;;\u001b\\\n"
      ]
     },
     "metadata": {},
     "output_type": "display_data"
    },
    {
     "data": {
      "text/html": [
       "<pre style=\"white-space:pre;overflow-x:auto;line-height:normal;font-family:Menlo,'DejaVu Sans Mono',consolas,'Courier New',monospace\"><span style=\"color: #7fbfbf; text-decoration-color: #7fbfbf\">2025-04-28 09:42:19 </span><span style=\"color: #000080; text-decoration-color: #000080\">INFO    </span> Removing text transformer from the model.                      <a href=\"file:///root/mass/src/mass/modules/encoder.py\" target=\"_blank\"><span style=\"color: #7f7f7f; text-decoration-color: #7f7f7f\">mass.modules.encoder</span></a><span style=\"color: #7f7f7f; text-decoration-color: #7f7f7f\">:</span><a href=\"file:///root/mass/src/mass/modules/encoder.py#40\" target=\"_blank\"><span style=\"color: #7f7f7f; text-decoration-color: #7f7f7f\">40</span></a>\n",
       "</pre>\n"
      ],
      "text/plain": [
       "\u001b[2;36m2025-04-28 09:42:19\u001b[0m\u001b[2;36m \u001b[0m\u001b[34mINFO    \u001b[0m Removing text transformer from the model.                      \u001b]8;id=190814;file:///root/mass/src/mass/modules/encoder.py\u001b\\\u001b[2mmass.modules.encoder\u001b[0m\u001b]8;;\u001b\\\u001b[2m:\u001b[0m\u001b]8;id=462500;file:///root/mass/src/mass/modules/encoder.py#40\u001b\\\u001b[2m40\u001b[0m\u001b]8;;\u001b\\\n"
      ]
     },
     "metadata": {},
     "output_type": "display_data"
    },
    {
     "data": {
      "text/html": [
       "<pre style=\"white-space:pre;overflow-x:auto;line-height:normal;font-family:Menlo,'DejaVu Sans Mono',consolas,'Courier New',monospace\"><span style=\"color: #7fbfbf; text-decoration-color: #7fbfbf\">                    </span><span style=\"color: #000080; text-decoration-color: #000080\">INFO    </span> Registering hooks<span style=\"color: #808000; text-decoration-color: #808000\">...</span>                                                        <a href=\"file:///tmp/ipykernel_2722254/3728642590.py\" target=\"_blank\"><span style=\"color: #7f7f7f; text-decoration-color: #7f7f7f\">__main__</span></a><span style=\"color: #7f7f7f; text-decoration-color: #7f7f7f\">:</span><a href=\"file:///tmp/ipykernel_2722254/3728642590.py#7\" target=\"_blank\"><span style=\"color: #7f7f7f; text-decoration-color: #7f7f7f\">7</span></a>\n",
       "</pre>\n"
      ],
      "text/plain": [
       "\u001b[2;36m                   \u001b[0m\u001b[2;36m \u001b[0m\u001b[34mINFO    \u001b[0m Registering hooks\u001b[33m...\u001b[0m                                                        \u001b]8;id=568184;file:///tmp/ipykernel_2722254/3728642590.py\u001b\\\u001b[2m__main__\u001b[0m\u001b]8;;\u001b\\\u001b[2m:\u001b[0m\u001b]8;id=76894;file:///tmp/ipykernel_2722254/3728642590.py#7\u001b\\\u001b[2m7\u001b[0m\u001b]8;;\u001b\\\n"
      ]
     },
     "metadata": {},
     "output_type": "display_data"
    },
    {
     "name": "stderr",
     "output_type": "stream",
     "text": [
      "INFO: GPU available: True (cuda), used: True\n"
     ]
    },
    {
     "data": {
      "text/html": [
       "<pre style=\"white-space:pre;overflow-x:auto;line-height:normal;font-family:Menlo,'DejaVu Sans Mono',consolas,'Courier New',monospace\"><span style=\"color: #7fbfbf; text-decoration-color: #7fbfbf\">2025-04-28 09:42:20 </span><span style=\"color: #000080; text-decoration-color: #000080\">INFO    </span> GPU available: <span style=\"color: #00ff00; text-decoration-color: #00ff00; font-style: italic\">True</span> <span style=\"font-weight: bold\">(</span>cuda<span style=\"font-weight: bold\">)</span>, used: <span style=\"color: #00ff00; text-decoration-color: #00ff00; font-style: italic\">True</span>        <a href=\"file:///root/mass/.venv/lib/python3.11/site-packages/lightning_utilities/core/rank_zero.py\" target=\"_blank\"><span style=\"color: #7f7f7f; text-decoration-color: #7f7f7f\">lightning.pytorch.utilities.rank_zero</span></a><span style=\"color: #7f7f7f; text-decoration-color: #7f7f7f\">:</span><a href=\"file:///root/mass/.venv/lib/python3.11/site-packages/lightning_utilities/core/rank_zero.py#63\" target=\"_blank\"><span style=\"color: #7f7f7f; text-decoration-color: #7f7f7f\">63</span></a>\n",
       "</pre>\n"
      ],
      "text/plain": [
       "\u001b[2;36m2025-04-28 09:42:20\u001b[0m\u001b[2;36m \u001b[0m\u001b[34mINFO    \u001b[0m GPU available: \u001b[3;92mTrue\u001b[0m \u001b[1m(\u001b[0mcuda\u001b[1m)\u001b[0m, used: \u001b[3;92mTrue\u001b[0m        \u001b]8;id=167547;file:///root/mass/.venv/lib/python3.11/site-packages/lightning_utilities/core/rank_zero.py\u001b\\\u001b[2mlightning.pytorch.utilities.rank_zero\u001b[0m\u001b]8;;\u001b\\\u001b[2m:\u001b[0m\u001b]8;id=227497;file:///root/mass/.venv/lib/python3.11/site-packages/lightning_utilities/core/rank_zero.py#63\u001b\\\u001b[2m63\u001b[0m\u001b]8;;\u001b\\\n"
      ]
     },
     "metadata": {},
     "output_type": "display_data"
    },
    {
     "name": "stderr",
     "output_type": "stream",
     "text": [
      "INFO: TPU available: False, using: 0 TPU cores\n"
     ]
    },
    {
     "data": {
      "text/html": [
       "<pre style=\"white-space:pre;overflow-x:auto;line-height:normal;font-family:Menlo,'DejaVu Sans Mono',consolas,'Courier New',monospace\"><span style=\"color: #7fbfbf; text-decoration-color: #7fbfbf\">                    </span><span style=\"color: #000080; text-decoration-color: #000080\">INFO    </span> TPU available: <span style=\"color: #ff0000; text-decoration-color: #ff0000; font-style: italic\">False</span>, using: <span style=\"color: #008080; text-decoration-color: #008080; font-weight: bold\">0</span> TPU cores      <a href=\"file:///root/mass/.venv/lib/python3.11/site-packages/lightning_utilities/core/rank_zero.py\" target=\"_blank\"><span style=\"color: #7f7f7f; text-decoration-color: #7f7f7f\">lightning.pytorch.utilities.rank_zero</span></a><span style=\"color: #7f7f7f; text-decoration-color: #7f7f7f\">:</span><a href=\"file:///root/mass/.venv/lib/python3.11/site-packages/lightning_utilities/core/rank_zero.py#63\" target=\"_blank\"><span style=\"color: #7f7f7f; text-decoration-color: #7f7f7f\">63</span></a>\n",
       "</pre>\n"
      ],
      "text/plain": [
       "\u001b[2;36m                   \u001b[0m\u001b[2;36m \u001b[0m\u001b[34mINFO    \u001b[0m TPU available: \u001b[3;91mFalse\u001b[0m, using: \u001b[1;36m0\u001b[0m TPU cores      \u001b]8;id=991976;file:///root/mass/.venv/lib/python3.11/site-packages/lightning_utilities/core/rank_zero.py\u001b\\\u001b[2mlightning.pytorch.utilities.rank_zero\u001b[0m\u001b]8;;\u001b\\\u001b[2m:\u001b[0m\u001b]8;id=237908;file:///root/mass/.venv/lib/python3.11/site-packages/lightning_utilities/core/rank_zero.py#63\u001b\\\u001b[2m63\u001b[0m\u001b]8;;\u001b\\\n"
      ]
     },
     "metadata": {},
     "output_type": "display_data"
    },
    {
     "name": "stderr",
     "output_type": "stream",
     "text": [
      "INFO: IPU available: False, using: 0 IPUs\n"
     ]
    },
    {
     "data": {
      "text/html": [
       "<pre style=\"white-space:pre;overflow-x:auto;line-height:normal;font-family:Menlo,'DejaVu Sans Mono',consolas,'Courier New',monospace\"><span style=\"color: #7fbfbf; text-decoration-color: #7fbfbf\">                    </span><span style=\"color: #000080; text-decoration-color: #000080\">INFO    </span> IPU available: <span style=\"color: #ff0000; text-decoration-color: #ff0000; font-style: italic\">False</span>, using: <span style=\"color: #008080; text-decoration-color: #008080; font-weight: bold\">0</span> IPUs           <a href=\"file:///root/mass/.venv/lib/python3.11/site-packages/lightning_utilities/core/rank_zero.py\" target=\"_blank\"><span style=\"color: #7f7f7f; text-decoration-color: #7f7f7f\">lightning.pytorch.utilities.rank_zero</span></a><span style=\"color: #7f7f7f; text-decoration-color: #7f7f7f\">:</span><a href=\"file:///root/mass/.venv/lib/python3.11/site-packages/lightning_utilities/core/rank_zero.py#63\" target=\"_blank\"><span style=\"color: #7f7f7f; text-decoration-color: #7f7f7f\">63</span></a>\n",
       "</pre>\n"
      ],
      "text/plain": [
       "\u001b[2;36m                   \u001b[0m\u001b[2;36m \u001b[0m\u001b[34mINFO    \u001b[0m IPU available: \u001b[3;91mFalse\u001b[0m, using: \u001b[1;36m0\u001b[0m IPUs           \u001b]8;id=83107;file:///root/mass/.venv/lib/python3.11/site-packages/lightning_utilities/core/rank_zero.py\u001b\\\u001b[2mlightning.pytorch.utilities.rank_zero\u001b[0m\u001b]8;;\u001b\\\u001b[2m:\u001b[0m\u001b]8;id=49295;file:///root/mass/.venv/lib/python3.11/site-packages/lightning_utilities/core/rank_zero.py#63\u001b\\\u001b[2m63\u001b[0m\u001b]8;;\u001b\\\n"
      ]
     },
     "metadata": {},
     "output_type": "display_data"
    },
    {
     "name": "stderr",
     "output_type": "stream",
     "text": [
      "INFO: HPU available: False, using: 0 HPUs\n"
     ]
    },
    {
     "data": {
      "text/html": [
       "<pre style=\"white-space:pre;overflow-x:auto;line-height:normal;font-family:Menlo,'DejaVu Sans Mono',consolas,'Courier New',monospace\"><span style=\"color: #7fbfbf; text-decoration-color: #7fbfbf\">                    </span><span style=\"color: #000080; text-decoration-color: #000080\">INFO    </span> HPU available: <span style=\"color: #ff0000; text-decoration-color: #ff0000; font-style: italic\">False</span>, using: <span style=\"color: #008080; text-decoration-color: #008080; font-weight: bold\">0</span> HPUs           <a href=\"file:///root/mass/.venv/lib/python3.11/site-packages/lightning_utilities/core/rank_zero.py\" target=\"_blank\"><span style=\"color: #7f7f7f; text-decoration-color: #7f7f7f\">lightning.pytorch.utilities.rank_zero</span></a><span style=\"color: #7f7f7f; text-decoration-color: #7f7f7f\">:</span><a href=\"file:///root/mass/.venv/lib/python3.11/site-packages/lightning_utilities/core/rank_zero.py#63\" target=\"_blank\"><span style=\"color: #7f7f7f; text-decoration-color: #7f7f7f\">63</span></a>\n",
       "</pre>\n"
      ],
      "text/plain": [
       "\u001b[2;36m                   \u001b[0m\u001b[2;36m \u001b[0m\u001b[34mINFO    \u001b[0m HPU available: \u001b[3;91mFalse\u001b[0m, using: \u001b[1;36m0\u001b[0m HPUs           \u001b]8;id=939659;file:///root/mass/.venv/lib/python3.11/site-packages/lightning_utilities/core/rank_zero.py\u001b\\\u001b[2mlightning.pytorch.utilities.rank_zero\u001b[0m\u001b]8;;\u001b\\\u001b[2m:\u001b[0m\u001b]8;id=192878;file:///root/mass/.venv/lib/python3.11/site-packages/lightning_utilities/core/rank_zero.py#63\u001b\\\u001b[2m63\u001b[0m\u001b]8;;\u001b\\\n"
      ]
     },
     "metadata": {},
     "output_type": "display_data"
    },
    {
     "name": "stderr",
     "output_type": "stream",
     "text": [
      "INFO: `Trainer(val_check_interval=1.0)` was configured so validation will run at the end of the training epoch..\n"
     ]
    },
    {
     "data": {
      "text/html": [
       "<pre style=\"white-space:pre;overflow-x:auto;line-height:normal;font-family:Menlo,'DejaVu Sans Mono',consolas,'Courier New',monospace\"><span style=\"color: #7fbfbf; text-decoration-color: #7fbfbf\">                    </span><span style=\"color: #000080; text-decoration-color: #000080\">INFO    </span> `<span style=\"color: #800080; text-decoration-color: #800080; font-weight: bold\">Trainer</span><span style=\"font-weight: bold\">(</span><span style=\"color: #808000; text-decoration-color: #808000\">val_check_interval</span>=<span style=\"color: #008080; text-decoration-color: #008080; font-weight: bold\">1.0</span><span style=\"font-weight: bold\">)</span>` was         <a href=\"file:///root/mass/.venv/lib/python3.11/site-packages/lightning_utilities/core/rank_zero.py\" target=\"_blank\"><span style=\"color: #7f7f7f; text-decoration-color: #7f7f7f\">lightning.pytorch.utilities.rank_zero</span></a><span style=\"color: #7f7f7f; text-decoration-color: #7f7f7f\">:</span><a href=\"file:///root/mass/.venv/lib/python3.11/site-packages/lightning_utilities/core/rank_zero.py#63\" target=\"_blank\"><span style=\"color: #7f7f7f; text-decoration-color: #7f7f7f\">63</span></a>\n",
       "<span style=\"color: #7fbfbf; text-decoration-color: #7fbfbf\">                    </span>         configured so validation will run at the end  <span style=\"color: #7f7f7f; text-decoration-color: #7f7f7f\">                                        </span>\n",
       "<span style=\"color: #7fbfbf; text-decoration-color: #7fbfbf\">                    </span>         of the training epoch..                       <span style=\"color: #7f7f7f; text-decoration-color: #7f7f7f\">                                        </span>\n",
       "</pre>\n"
      ],
      "text/plain": [
       "\u001b[2;36m                   \u001b[0m\u001b[2;36m \u001b[0m\u001b[34mINFO    \u001b[0m `\u001b[1;35mTrainer\u001b[0m\u001b[1m(\u001b[0m\u001b[33mval_check_interval\u001b[0m=\u001b[1;36m1\u001b[0m\u001b[1;36m.0\u001b[0m\u001b[1m)\u001b[0m` was         \u001b]8;id=880236;file:///root/mass/.venv/lib/python3.11/site-packages/lightning_utilities/core/rank_zero.py\u001b\\\u001b[2mlightning.pytorch.utilities.rank_zero\u001b[0m\u001b]8;;\u001b\\\u001b[2m:\u001b[0m\u001b]8;id=354198;file:///root/mass/.venv/lib/python3.11/site-packages/lightning_utilities/core/rank_zero.py#63\u001b\\\u001b[2m63\u001b[0m\u001b]8;;\u001b\\\n",
       "\u001b[2;36m                    \u001b[0m         configured so validation will run at the end  \u001b[2m                                        \u001b[0m\n",
       "\u001b[2;36m                    \u001b[0m         of the training epoch..                       \u001b[2m                                        \u001b[0m\n"
      ]
     },
     "metadata": {},
     "output_type": "display_data"
    },
    {
     "data": {
      "text/html": [
       "<pre style=\"white-space:pre;overflow-x:auto;line-height:normal;font-family:Menlo,'DejaVu Sans Mono',consolas,'Courier New',monospace\"><span style=\"color: #7fbfbf; text-decoration-color: #7fbfbf\">                    </span><span style=\"color: #000080; text-decoration-color: #000080\">INFO    </span> Generating embeddings for task <span style=\"color: #008000; text-decoration-color: #008000\">'MNIST'</span> with label <span style=\"color: #008080; text-decoration-color: #008080; font-weight: bold\">4</span>                        <a href=\"file:///tmp/ipykernel_2722254/2619625303.py\" target=\"_blank\"><span style=\"color: #7f7f7f; text-decoration-color: #7f7f7f\">__main__</span></a><span style=\"color: #7f7f7f; text-decoration-color: #7f7f7f\">:</span><a href=\"file:///tmp/ipykernel_2722254/2619625303.py#55\" target=\"_blank\"><span style=\"color: #7f7f7f; text-decoration-color: #7f7f7f\">55</span></a>\n",
       "</pre>\n"
      ],
      "text/plain": [
       "\u001b[2;36m                   \u001b[0m\u001b[2;36m \u001b[0m\u001b[34mINFO    \u001b[0m Generating embeddings for task \u001b[32m'MNIST'\u001b[0m with label \u001b[1;36m4\u001b[0m                        \u001b]8;id=413174;file:///tmp/ipykernel_2722254/2619625303.py\u001b\\\u001b[2m__main__\u001b[0m\u001b]8;;\u001b\\\u001b[2m:\u001b[0m\u001b]8;id=815300;file:///tmp/ipykernel_2722254/2619625303.py#55\u001b\\\u001b[2m55\u001b[0m\u001b]8;;\u001b\\\n"
      ]
     },
     "metadata": {},
     "output_type": "display_data"
    },
    {
     "name": "stderr",
     "output_type": "stream",
     "text": [
      "LOCAL_RANK: 0 - CUDA_VISIBLE_DEVICES: [0]\n"
     ]
    },
    {
     "name": "stdout",
     "output_type": "stream",
     "text": [
      "Testing DataLoader 0: 100%|██████████| 10/10 [00:00<00:00, 12.01it/s]\n"
     ]
    }
   ],
   "source": [
    "data = embed_dt.generate_layer_datasets()"
   ]
  },
  {
   "cell_type": "code",
   "execution_count": 14,
   "metadata": {},
   "outputs": [
    {
     "data": {
      "text/html": [
       "<pre style=\"white-space:pre;overflow-x:auto;line-height:normal;font-family:Menlo,'DejaVu Sans Mono',consolas,'Courier New',monospace\"><span style=\"color: #7fbfbf; text-decoration-color: #7fbfbf\">2025-04-28 09:42:43 </span><span style=\"color: #000080; text-decoration-color: #000080\">INFO    </span> <span style=\"color: #800080; text-decoration-color: #800080; font-weight: bold\">dict_keys</span><span style=\"font-weight: bold\">([</span><span style=\"color: #008000; text-decoration-color: #008000\">'model.visual.transformer.resblocks.0.attn'</span>,                     <a href=\"file:///tmp/ipykernel_2722254/3381419861.py\" target=\"_blank\"><span style=\"color: #7f7f7f; text-decoration-color: #7f7f7f\">__main__</span></a><span style=\"color: #7f7f7f; text-decoration-color: #7f7f7f\">:</span><a href=\"file:///tmp/ipykernel_2722254/3381419861.py#1\" target=\"_blank\"><span style=\"color: #7f7f7f; text-decoration-color: #7f7f7f\">1</span></a>\n",
       "<span style=\"color: #7fbfbf; text-decoration-color: #7fbfbf\">                    </span>         <span style=\"color: #008000; text-decoration-color: #008000\">'model.visual.transformer.resblocks.0.mlp'</span>,                                 <span style=\"color: #7f7f7f; text-decoration-color: #7f7f7f\">          </span>\n",
       "<span style=\"color: #7fbfbf; text-decoration-color: #7fbfbf\">                    </span>         <span style=\"color: #008000; text-decoration-color: #008000\">'model.visual.transformer.resblocks.1.attn'</span>,                                <span style=\"color: #7f7f7f; text-decoration-color: #7f7f7f\">          </span>\n",
       "<span style=\"color: #7fbfbf; text-decoration-color: #7fbfbf\">                    </span>         <span style=\"color: #008000; text-decoration-color: #008000\">'model.visual.transformer.resblocks.1.mlp'</span>,                                 <span style=\"color: #7f7f7f; text-decoration-color: #7f7f7f\">          </span>\n",
       "<span style=\"color: #7fbfbf; text-decoration-color: #7fbfbf\">                    </span>         <span style=\"color: #008000; text-decoration-color: #008000\">'model.visual.transformer.resblocks.2.attn'</span>,                                <span style=\"color: #7f7f7f; text-decoration-color: #7f7f7f\">          </span>\n",
       "<span style=\"color: #7fbfbf; text-decoration-color: #7fbfbf\">                    </span>         <span style=\"color: #008000; text-decoration-color: #008000\">'model.visual.transformer.resblocks.2.mlp'</span>,                                 <span style=\"color: #7f7f7f; text-decoration-color: #7f7f7f\">          </span>\n",
       "<span style=\"color: #7fbfbf; text-decoration-color: #7fbfbf\">                    </span>         <span style=\"color: #008000; text-decoration-color: #008000\">'model.visual.transformer.resblocks.3.attn'</span>,                                <span style=\"color: #7f7f7f; text-decoration-color: #7f7f7f\">          </span>\n",
       "<span style=\"color: #7fbfbf; text-decoration-color: #7fbfbf\">                    </span>         <span style=\"color: #008000; text-decoration-color: #008000\">'model.visual.transformer.resblocks.3.mlp'</span>,                                 <span style=\"color: #7f7f7f; text-decoration-color: #7f7f7f\">          </span>\n",
       "<span style=\"color: #7fbfbf; text-decoration-color: #7fbfbf\">                    </span>         <span style=\"color: #008000; text-decoration-color: #008000\">'model.visual.transformer.resblocks.4.attn'</span>,                                <span style=\"color: #7f7f7f; text-decoration-color: #7f7f7f\">          </span>\n",
       "<span style=\"color: #7fbfbf; text-decoration-color: #7fbfbf\">                    </span>         <span style=\"color: #008000; text-decoration-color: #008000\">'model.visual.transformer.resblocks.4.mlp'</span>,                                 <span style=\"color: #7f7f7f; text-decoration-color: #7f7f7f\">          </span>\n",
       "<span style=\"color: #7fbfbf; text-decoration-color: #7fbfbf\">                    </span>         <span style=\"color: #008000; text-decoration-color: #008000\">'model.visual.transformer.resblocks.5.attn'</span>,                                <span style=\"color: #7f7f7f; text-decoration-color: #7f7f7f\">          </span>\n",
       "<span style=\"color: #7fbfbf; text-decoration-color: #7fbfbf\">                    </span>         <span style=\"color: #008000; text-decoration-color: #008000\">'model.visual.transformer.resblocks.5.mlp'</span>,                                 <span style=\"color: #7f7f7f; text-decoration-color: #7f7f7f\">          </span>\n",
       "<span style=\"color: #7fbfbf; text-decoration-color: #7fbfbf\">                    </span>         <span style=\"color: #008000; text-decoration-color: #008000\">'model.visual.transformer.resblocks.6.attn'</span>,                                <span style=\"color: #7f7f7f; text-decoration-color: #7f7f7f\">          </span>\n",
       "<span style=\"color: #7fbfbf; text-decoration-color: #7fbfbf\">                    </span>         <span style=\"color: #008000; text-decoration-color: #008000\">'model.visual.transformer.resblocks.6.mlp'</span>,                                 <span style=\"color: #7f7f7f; text-decoration-color: #7f7f7f\">          </span>\n",
       "<span style=\"color: #7fbfbf; text-decoration-color: #7fbfbf\">                    </span>         <span style=\"color: #008000; text-decoration-color: #008000\">'model.visual.transformer.resblocks.7.attn'</span>,                                <span style=\"color: #7f7f7f; text-decoration-color: #7f7f7f\">          </span>\n",
       "<span style=\"color: #7fbfbf; text-decoration-color: #7fbfbf\">                    </span>         <span style=\"color: #008000; text-decoration-color: #008000\">'model.visual.transformer.resblocks.7.mlp'</span>,                                 <span style=\"color: #7f7f7f; text-decoration-color: #7f7f7f\">          </span>\n",
       "<span style=\"color: #7fbfbf; text-decoration-color: #7fbfbf\">                    </span>         <span style=\"color: #008000; text-decoration-color: #008000\">'model.visual.transformer.resblocks.8.attn'</span>,                                <span style=\"color: #7f7f7f; text-decoration-color: #7f7f7f\">          </span>\n",
       "<span style=\"color: #7fbfbf; text-decoration-color: #7fbfbf\">                    </span>         <span style=\"color: #008000; text-decoration-color: #008000\">'model.visual.transformer.resblocks.8.mlp'</span>,                                 <span style=\"color: #7f7f7f; text-decoration-color: #7f7f7f\">          </span>\n",
       "<span style=\"color: #7fbfbf; text-decoration-color: #7fbfbf\">                    </span>         <span style=\"color: #008000; text-decoration-color: #008000\">'model.visual.transformer.resblocks.9.attn'</span>,                                <span style=\"color: #7f7f7f; text-decoration-color: #7f7f7f\">          </span>\n",
       "<span style=\"color: #7fbfbf; text-decoration-color: #7fbfbf\">                    </span>         <span style=\"color: #008000; text-decoration-color: #008000\">'model.visual.transformer.resblocks.9.mlp'</span>,                                 <span style=\"color: #7f7f7f; text-decoration-color: #7f7f7f\">          </span>\n",
       "<span style=\"color: #7fbfbf; text-decoration-color: #7fbfbf\">                    </span>         <span style=\"color: #008000; text-decoration-color: #008000\">'model.visual.transformer.resblocks.10.attn'</span>,                               <span style=\"color: #7f7f7f; text-decoration-color: #7f7f7f\">          </span>\n",
       "<span style=\"color: #7fbfbf; text-decoration-color: #7fbfbf\">                    </span>         <span style=\"color: #008000; text-decoration-color: #008000\">'model.visual.transformer.resblocks.10.mlp'</span>,                                <span style=\"color: #7f7f7f; text-decoration-color: #7f7f7f\">          </span>\n",
       "<span style=\"color: #7fbfbf; text-decoration-color: #7fbfbf\">                    </span>         <span style=\"color: #008000; text-decoration-color: #008000\">'model.visual.transformer.resblocks.11.attn'</span>,                               <span style=\"color: #7f7f7f; text-decoration-color: #7f7f7f\">          </span>\n",
       "<span style=\"color: #7fbfbf; text-decoration-color: #7fbfbf\">                    </span>         <span style=\"color: #008000; text-decoration-color: #008000\">'model.visual.transformer.resblocks.11.mlp'</span><span style=\"font-weight: bold\">])</span>                               <span style=\"color: #7f7f7f; text-decoration-color: #7f7f7f\">          </span>\n",
       "</pre>\n"
      ],
      "text/plain": [
       "\u001b[2;36m2025-04-28 09:42:43\u001b[0m\u001b[2;36m \u001b[0m\u001b[34mINFO    \u001b[0m \u001b[1;35mdict_keys\u001b[0m\u001b[1m(\u001b[0m\u001b[1m[\u001b[0m\u001b[32m'model.visual.transformer.resblocks.0.attn'\u001b[0m,                     \u001b]8;id=531913;file:///tmp/ipykernel_2722254/3381419861.py\u001b\\\u001b[2m__main__\u001b[0m\u001b]8;;\u001b\\\u001b[2m:\u001b[0m\u001b]8;id=739187;file:///tmp/ipykernel_2722254/3381419861.py#1\u001b\\\u001b[2m1\u001b[0m\u001b]8;;\u001b\\\n",
       "\u001b[2;36m                    \u001b[0m         \u001b[32m'model.visual.transformer.resblocks.0.mlp'\u001b[0m,                                 \u001b[2m          \u001b[0m\n",
       "\u001b[2;36m                    \u001b[0m         \u001b[32m'model.visual.transformer.resblocks.1.attn'\u001b[0m,                                \u001b[2m          \u001b[0m\n",
       "\u001b[2;36m                    \u001b[0m         \u001b[32m'model.visual.transformer.resblocks.1.mlp'\u001b[0m,                                 \u001b[2m          \u001b[0m\n",
       "\u001b[2;36m                    \u001b[0m         \u001b[32m'model.visual.transformer.resblocks.2.attn'\u001b[0m,                                \u001b[2m          \u001b[0m\n",
       "\u001b[2;36m                    \u001b[0m         \u001b[32m'model.visual.transformer.resblocks.2.mlp'\u001b[0m,                                 \u001b[2m          \u001b[0m\n",
       "\u001b[2;36m                    \u001b[0m         \u001b[32m'model.visual.transformer.resblocks.3.attn'\u001b[0m,                                \u001b[2m          \u001b[0m\n",
       "\u001b[2;36m                    \u001b[0m         \u001b[32m'model.visual.transformer.resblocks.3.mlp'\u001b[0m,                                 \u001b[2m          \u001b[0m\n",
       "\u001b[2;36m                    \u001b[0m         \u001b[32m'model.visual.transformer.resblocks.4.attn'\u001b[0m,                                \u001b[2m          \u001b[0m\n",
       "\u001b[2;36m                    \u001b[0m         \u001b[32m'model.visual.transformer.resblocks.4.mlp'\u001b[0m,                                 \u001b[2m          \u001b[0m\n",
       "\u001b[2;36m                    \u001b[0m         \u001b[32m'model.visual.transformer.resblocks.5.attn'\u001b[0m,                                \u001b[2m          \u001b[0m\n",
       "\u001b[2;36m                    \u001b[0m         \u001b[32m'model.visual.transformer.resblocks.5.mlp'\u001b[0m,                                 \u001b[2m          \u001b[0m\n",
       "\u001b[2;36m                    \u001b[0m         \u001b[32m'model.visual.transformer.resblocks.6.attn'\u001b[0m,                                \u001b[2m          \u001b[0m\n",
       "\u001b[2;36m                    \u001b[0m         \u001b[32m'model.visual.transformer.resblocks.6.mlp'\u001b[0m,                                 \u001b[2m          \u001b[0m\n",
       "\u001b[2;36m                    \u001b[0m         \u001b[32m'model.visual.transformer.resblocks.7.attn'\u001b[0m,                                \u001b[2m          \u001b[0m\n",
       "\u001b[2;36m                    \u001b[0m         \u001b[32m'model.visual.transformer.resblocks.7.mlp'\u001b[0m,                                 \u001b[2m          \u001b[0m\n",
       "\u001b[2;36m                    \u001b[0m         \u001b[32m'model.visual.transformer.resblocks.8.attn'\u001b[0m,                                \u001b[2m          \u001b[0m\n",
       "\u001b[2;36m                    \u001b[0m         \u001b[32m'model.visual.transformer.resblocks.8.mlp'\u001b[0m,                                 \u001b[2m          \u001b[0m\n",
       "\u001b[2;36m                    \u001b[0m         \u001b[32m'model.visual.transformer.resblocks.9.attn'\u001b[0m,                                \u001b[2m          \u001b[0m\n",
       "\u001b[2;36m                    \u001b[0m         \u001b[32m'model.visual.transformer.resblocks.9.mlp'\u001b[0m,                                 \u001b[2m          \u001b[0m\n",
       "\u001b[2;36m                    \u001b[0m         \u001b[32m'model.visual.transformer.resblocks.10.attn'\u001b[0m,                               \u001b[2m          \u001b[0m\n",
       "\u001b[2;36m                    \u001b[0m         \u001b[32m'model.visual.transformer.resblocks.10.mlp'\u001b[0m,                                \u001b[2m          \u001b[0m\n",
       "\u001b[2;36m                    \u001b[0m         \u001b[32m'model.visual.transformer.resblocks.11.attn'\u001b[0m,                               \u001b[2m          \u001b[0m\n",
       "\u001b[2;36m                    \u001b[0m         \u001b[32m'model.visual.transformer.resblocks.11.mlp'\u001b[0m\u001b[1m]\u001b[0m\u001b[1m)\u001b[0m                               \u001b[2m          \u001b[0m\n"
      ]
     },
     "metadata": {},
     "output_type": "display_data"
    }
   ],
   "source": [
    "pylogger.info(data.keys())"
   ]
  },
  {
   "cell_type": "code",
   "execution_count": 15,
   "metadata": {},
   "outputs": [],
   "source": [
    "task_dicts = {}\n",
    "for dataset in cfg.task_vectors.to_apply:\n",
    "    task_dicts[dataset] = compute_task_dict(\n",
    "        zeroshot_encoder_statedict, finetuned_models[dataset]\n",
    "    )"
   ]
  },
  {
   "cell_type": "code",
   "execution_count": 16,
   "metadata": {},
   "outputs": [
    {
     "data": {
      "text/plain": [
       "dict_keys(['FER2013', 'RESISC45', 'MNIST'])"
      ]
     },
     "execution_count": 16,
     "metadata": {},
     "output_type": "execute_result"
    }
   ],
   "source": [
    "task_dicts.keys()"
   ]
  },
  {
   "cell_type": "code",
   "execution_count": 17,
   "metadata": {},
   "outputs": [
    {
     "data": {
      "text/html": [
       "<pre style=\"white-space:pre;overflow-x:auto;line-height:normal;font-family:Menlo,'DejaVu Sans Mono',consolas,'Courier New',monospace\"><span style=\"color: #7fbfbf; text-decoration-color: #7fbfbf\">                    </span><span style=\"color: #000080; text-decoration-color: #000080\">INFO    </span> Using compression ratio: <span style=\"color: #008080; text-decoration-color: #008080; font-weight: bold\">0.3333</span>            <a href=\"file:///root/mass/src/mass/task_vectors/task_singular_vectors.py\" target=\"_blank\"><span style=\"color: #7f7f7f; text-decoration-color: #7f7f7f\">mass.task_vectors.task_singular_vectors</span></a><span style=\"color: #7f7f7f; text-decoration-color: #7f7f7f\">:</span><a href=\"file:///root/mass/src/mass/task_vectors/task_singular_vectors.py#292\" target=\"_blank\"><span style=\"color: #7f7f7f; text-decoration-color: #7f7f7f\">292</span></a>\n",
       "</pre>\n"
      ],
      "text/plain": [
       "\u001b[2;36m                   \u001b[0m\u001b[2;36m \u001b[0m\u001b[34mINFO    \u001b[0m Using compression ratio: \u001b[1;36m0.3333\u001b[0m            \u001b]8;id=531127;file:///root/mass/src/mass/task_vectors/task_singular_vectors.py\u001b\\\u001b[2mmass.task_vectors.task_singular_vectors\u001b[0m\u001b]8;;\u001b\\\u001b[2m:\u001b[0m\u001b]8;id=417226;file:///root/mass/src/mass/task_vectors/task_singular_vectors.py#292\u001b\\\u001b[2m292\u001b[0m\u001b]8;;\u001b\\\n"
      ]
     },
     "metadata": {},
     "output_type": "display_data"
    },
    {
     "data": {
      "text/html": [
       "<pre style=\"white-space:pre;overflow-x:auto;line-height:normal;font-family:Menlo,'DejaVu Sans Mono',consolas,'Courier New',monospace\"><span style=\"color: #7fbfbf; text-decoration-color: #7fbfbf\">                    </span><span style=\"color: #000080; text-decoration-color: #000080\">INFO    </span> Loading precomputed SVD dictionary from:   <a href=\"file:///root/mass/src/mass/task_vectors/task_singular_vectors.py\" target=\"_blank\"><span style=\"color: #7f7f7f; text-decoration-color: #7f7f7f\">mass.task_vectors.task_singular_vectors</span></a><span style=\"color: #7f7f7f; text-decoration-color: #7f7f7f\">:</span><a href=\"file:///root/mass/src/mass/task_vectors/task_singular_vectors.py#299\" target=\"_blank\"><span style=\"color: #7f7f7f; text-decoration-color: #7f7f7f\">299</span></a>\n",
       "<span style=\"color: #7fbfbf; text-decoration-color: #7fbfbf\">                    </span>         ..<span style=\"color: #800080; text-decoration-color: #800080\">/</span><span style=\"color: #ff00ff; text-decoration-color: #ff00ff\">checkpointssvd_dict_ViT-B-32_compress_3</span> <span style=\"color: #7f7f7f; text-decoration-color: #7f7f7f\">                                           </span>\n",
       "<span style=\"color: #7fbfbf; text-decoration-color: #7fbfbf\">                    </span>         <span style=\"color: #ff00ff; text-decoration-color: #ff00ff\">.pt</span>                                        <span style=\"color: #7f7f7f; text-decoration-color: #7f7f7f\">                                           </span>\n",
       "</pre>\n"
      ],
      "text/plain": [
       "\u001b[2;36m                   \u001b[0m\u001b[2;36m \u001b[0m\u001b[34mINFO    \u001b[0m Loading precomputed SVD dictionary from:   \u001b]8;id=589699;file:///root/mass/src/mass/task_vectors/task_singular_vectors.py\u001b\\\u001b[2mmass.task_vectors.task_singular_vectors\u001b[0m\u001b]8;;\u001b\\\u001b[2m:\u001b[0m\u001b]8;id=158601;file:///root/mass/src/mass/task_vectors/task_singular_vectors.py#299\u001b\\\u001b[2m299\u001b[0m\u001b]8;;\u001b\\\n",
       "\u001b[2;36m                    \u001b[0m         ..\u001b[35m/\u001b[0m\u001b[95mcheckpointssvd_dict_ViT-B-32_compress_3\u001b[0m \u001b[2m                                           \u001b[0m\n",
       "\u001b[2;36m                    \u001b[0m         \u001b[95m.pt\u001b[0m                                        \u001b[2m                                           \u001b[0m\n"
      ]
     },
     "metadata": {},
     "output_type": "display_data"
    }
   ],
   "source": [
    "svd_dicts = get_svd_dict(\n",
    "    task_dicts, cfg.eval_datasets, cfg.misc.svd_path, cfg.svd_compress_factor\n",
    ")"
   ]
  },
  {
   "cell_type": "code",
   "execution_count": 18,
   "metadata": {},
   "outputs": [
    {
     "data": {
      "text/html": [
       "<pre style=\"white-space:pre;overflow-x:auto;line-height:normal;font-family:Menlo,'DejaVu Sans Mono',consolas,'Courier New',monospace\"><span style=\"color: #7fbfbf; text-decoration-color: #7fbfbf\">2025-04-28 09:42:44 </span><span style=\"color: #000080; text-decoration-color: #000080\">INFO    </span> <span style=\"color: #800080; text-decoration-color: #800080; font-weight: bold\">dict_keys</span><span style=\"font-weight: bold\">([</span><span style=\"color: #008000; text-decoration-color: #008000\">'FER2013'</span>, <span style=\"color: #008000; text-decoration-color: #008000\">'RESISC45'</span>, <span style=\"color: #008000; text-decoration-color: #008000\">'MNIST'</span><span style=\"font-weight: bold\">])</span>                                 <a href=\"file:///tmp/ipykernel_2722254/3505291367.py\" target=\"_blank\"><span style=\"color: #7f7f7f; text-decoration-color: #7f7f7f\">__main__</span></a><span style=\"color: #7f7f7f; text-decoration-color: #7f7f7f\">:</span><a href=\"file:///tmp/ipykernel_2722254/3505291367.py#1\" target=\"_blank\"><span style=\"color: #7f7f7f; text-decoration-color: #7f7f7f\">1</span></a>\n",
       "</pre>\n"
      ],
      "text/plain": [
       "\u001b[2;36m2025-04-28 09:42:44\u001b[0m\u001b[2;36m \u001b[0m\u001b[34mINFO    \u001b[0m \u001b[1;35mdict_keys\u001b[0m\u001b[1m(\u001b[0m\u001b[1m[\u001b[0m\u001b[32m'FER2013'\u001b[0m, \u001b[32m'RESISC45'\u001b[0m, \u001b[32m'MNIST'\u001b[0m\u001b[1m]\u001b[0m\u001b[1m)\u001b[0m                                 \u001b]8;id=575141;file:///tmp/ipykernel_2722254/3505291367.py\u001b\\\u001b[2m__main__\u001b[0m\u001b]8;;\u001b\\\u001b[2m:\u001b[0m\u001b]8;id=291264;file:///tmp/ipykernel_2722254/3505291367.py#1\u001b\\\u001b[2m1\u001b[0m\u001b]8;;\u001b\\\n"
      ]
     },
     "metadata": {},
     "output_type": "display_data"
    }
   ],
   "source": [
    "pylogger.info(svd_dicts.keys())"
   ]
  },
  {
   "cell_type": "code",
   "execution_count": 19,
   "metadata": {},
   "outputs": [
    {
     "data": {
      "text/html": [
       "<pre style=\"white-space:pre;overflow-x:auto;line-height:normal;font-family:Menlo,'DejaVu Sans Mono',consolas,'Courier New',monospace\"><span style=\"color: #7fbfbf; text-decoration-color: #7fbfbf\">                    </span><span style=\"color: #000080; text-decoration-color: #000080\">INFO    </span> <span style=\"color: #800080; text-decoration-color: #800080; font-weight: bold\">dict_keys</span><span style=\"font-weight: bold\">([</span><span style=\"color: #008000; text-decoration-color: #008000\">'model.positional_embedding'</span>, <span style=\"color: #008000; text-decoration-color: #008000\">'model.text_projection'</span>,           <a href=\"file:///tmp/ipykernel_2722254/874827296.py\" target=\"_blank\"><span style=\"color: #7f7f7f; text-decoration-color: #7f7f7f\">__main__</span></a><span style=\"color: #7f7f7f; text-decoration-color: #7f7f7f\">:</span><a href=\"file:///tmp/ipykernel_2722254/874827296.py#1\" target=\"_blank\"><span style=\"color: #7f7f7f; text-decoration-color: #7f7f7f\">1</span></a>\n",
       "<span style=\"color: #7fbfbf; text-decoration-color: #7fbfbf\">                    </span>         <span style=\"color: #008000; text-decoration-color: #008000\">'model.logit_scale'</span>, <span style=\"color: #008000; text-decoration-color: #008000\">'model.visual.class_embedding'</span>,                        <span style=\"color: #7f7f7f; text-decoration-color: #7f7f7f\">          </span>\n",
       "<span style=\"color: #7fbfbf; text-decoration-color: #7fbfbf\">                    </span>         <span style=\"color: #008000; text-decoration-color: #008000\">'model.visual.positional_embedding'</span>, <span style=\"color: #008000; text-decoration-color: #008000\">'model.visual.proj'</span>,                   <span style=\"color: #7f7f7f; text-decoration-color: #7f7f7f\">          </span>\n",
       "<span style=\"color: #7fbfbf; text-decoration-color: #7fbfbf\">                    </span>         <span style=\"color: #008000; text-decoration-color: #008000\">'model.visual.conv1.weight'</span>, <span style=\"color: #008000; text-decoration-color: #008000\">'model.visual.ln_pre.weight'</span>,                  <span style=\"color: #7f7f7f; text-decoration-color: #7f7f7f\">          </span>\n",
       "<span style=\"color: #7fbfbf; text-decoration-color: #7fbfbf\">                    </span>         <span style=\"color: #008000; text-decoration-color: #008000\">'model.visual.ln_pre.bias'</span>, <span style=\"color: #008000; text-decoration-color: #008000\">'model.visual.resblocks.0.ln_1.weight'</span>,         <span style=\"color: #7f7f7f; text-decoration-color: #7f7f7f\">          </span>\n",
       "<span style=\"color: #7fbfbf; text-decoration-color: #7fbfbf\">                    </span>         <span style=\"color: #008000; text-decoration-color: #008000\">'model.visual.resblocks.0.ln_1.bias'</span>,                                       <span style=\"color: #7f7f7f; text-decoration-color: #7f7f7f\">          </span>\n",
       "<span style=\"color: #7fbfbf; text-decoration-color: #7fbfbf\">                    </span>         <span style=\"color: #008000; text-decoration-color: #008000\">'model.visual.resblocks.0.attn.in_proj_weight'</span>,                             <span style=\"color: #7f7f7f; text-decoration-color: #7f7f7f\">          </span>\n",
       "<span style=\"color: #7fbfbf; text-decoration-color: #7fbfbf\">                    </span>         <span style=\"color: #008000; text-decoration-color: #008000\">'model.visual.resblocks.0.attn.in_proj_bias'</span>,                               <span style=\"color: #7f7f7f; text-decoration-color: #7f7f7f\">          </span>\n",
       "<span style=\"color: #7fbfbf; text-decoration-color: #7fbfbf\">                    </span>         <span style=\"color: #008000; text-decoration-color: #008000\">'model.visual.resblocks.0.attn.out_proj.weight'</span>,                            <span style=\"color: #7f7f7f; text-decoration-color: #7f7f7f\">          </span>\n",
       "<span style=\"color: #7fbfbf; text-decoration-color: #7fbfbf\">                    </span>         <span style=\"color: #008000; text-decoration-color: #008000\">'model.visual.resblocks.0.attn.out_proj.bias'</span>,                              <span style=\"color: #7f7f7f; text-decoration-color: #7f7f7f\">          </span>\n",
       "<span style=\"color: #7fbfbf; text-decoration-color: #7fbfbf\">                    </span>         <span style=\"color: #008000; text-decoration-color: #008000\">'model.visual.resblocks.0.ln_2.weight'</span>,                                     <span style=\"color: #7f7f7f; text-decoration-color: #7f7f7f\">          </span>\n",
       "<span style=\"color: #7fbfbf; text-decoration-color: #7fbfbf\">                    </span>         <span style=\"color: #008000; text-decoration-color: #008000\">'model.visual.resblocks.0.ln_2.bias'</span>,                                       <span style=\"color: #7f7f7f; text-decoration-color: #7f7f7f\">          </span>\n",
       "<span style=\"color: #7fbfbf; text-decoration-color: #7fbfbf\">                    </span>         <span style=\"color: #008000; text-decoration-color: #008000\">'model.visual.resblocks.0.mlp.c_fc.weight'</span>,                                 <span style=\"color: #7f7f7f; text-decoration-color: #7f7f7f\">          </span>\n",
       "<span style=\"color: #7fbfbf; text-decoration-color: #7fbfbf\">                    </span>         <span style=\"color: #008000; text-decoration-color: #008000\">'model.visual.resblocks.0.mlp.c_fc.bias'</span>,                                   <span style=\"color: #7f7f7f; text-decoration-color: #7f7f7f\">          </span>\n",
       "<span style=\"color: #7fbfbf; text-decoration-color: #7fbfbf\">                    </span>         <span style=\"color: #008000; text-decoration-color: #008000\">'model.visual.resblocks.0.mlp.c_proj.weight'</span>,                               <span style=\"color: #7f7f7f; text-decoration-color: #7f7f7f\">          </span>\n",
       "<span style=\"color: #7fbfbf; text-decoration-color: #7fbfbf\">                    </span>         <span style=\"color: #008000; text-decoration-color: #008000\">'model.visual.resblocks.0.mlp.c_proj.bias'</span>,                                 <span style=\"color: #7f7f7f; text-decoration-color: #7f7f7f\">          </span>\n",
       "<span style=\"color: #7fbfbf; text-decoration-color: #7fbfbf\">                    </span>         <span style=\"color: #008000; text-decoration-color: #008000\">'model.visual.resblocks.1.ln_1.weight'</span>,                                     <span style=\"color: #7f7f7f; text-decoration-color: #7f7f7f\">          </span>\n",
       "<span style=\"color: #7fbfbf; text-decoration-color: #7fbfbf\">                    </span>         <span style=\"color: #008000; text-decoration-color: #008000\">'model.visual.resblocks.1.ln_1.bias'</span>,                                       <span style=\"color: #7f7f7f; text-decoration-color: #7f7f7f\">          </span>\n",
       "<span style=\"color: #7fbfbf; text-decoration-color: #7fbfbf\">                    </span>         <span style=\"color: #008000; text-decoration-color: #008000\">'model.visual.resblocks.1.attn.in_proj_weight'</span>,                             <span style=\"color: #7f7f7f; text-decoration-color: #7f7f7f\">          </span>\n",
       "<span style=\"color: #7fbfbf; text-decoration-color: #7fbfbf\">                    </span>         <span style=\"color: #008000; text-decoration-color: #008000\">'model.visual.resblocks.1.attn.in_proj_bias'</span>,                               <span style=\"color: #7f7f7f; text-decoration-color: #7f7f7f\">          </span>\n",
       "<span style=\"color: #7fbfbf; text-decoration-color: #7fbfbf\">                    </span>         <span style=\"color: #008000; text-decoration-color: #008000\">'model.visual.resblocks.1.attn.out_proj.weight'</span>,                            <span style=\"color: #7f7f7f; text-decoration-color: #7f7f7f\">          </span>\n",
       "<span style=\"color: #7fbfbf; text-decoration-color: #7fbfbf\">                    </span>         <span style=\"color: #008000; text-decoration-color: #008000\">'model.visual.resblocks.1.attn.out_proj.bias'</span>,                              <span style=\"color: #7f7f7f; text-decoration-color: #7f7f7f\">          </span>\n",
       "<span style=\"color: #7fbfbf; text-decoration-color: #7fbfbf\">                    </span>         <span style=\"color: #008000; text-decoration-color: #008000\">'model.visual.resblocks.1.ln_2.weight'</span>,                                     <span style=\"color: #7f7f7f; text-decoration-color: #7f7f7f\">          </span>\n",
       "<span style=\"color: #7fbfbf; text-decoration-color: #7fbfbf\">                    </span>         <span style=\"color: #008000; text-decoration-color: #008000\">'model.visual.resblocks.1.ln_2.bias'</span>,                                       <span style=\"color: #7f7f7f; text-decoration-color: #7f7f7f\">          </span>\n",
       "<span style=\"color: #7fbfbf; text-decoration-color: #7fbfbf\">                    </span>         <span style=\"color: #008000; text-decoration-color: #008000\">'model.visual.resblocks.1.mlp.c_fc.weight'</span>,                                 <span style=\"color: #7f7f7f; text-decoration-color: #7f7f7f\">          </span>\n",
       "<span style=\"color: #7fbfbf; text-decoration-color: #7fbfbf\">                    </span>         <span style=\"color: #008000; text-decoration-color: #008000\">'model.visual.resblocks.1.mlp.c_fc.bias'</span>,                                   <span style=\"color: #7f7f7f; text-decoration-color: #7f7f7f\">          </span>\n",
       "<span style=\"color: #7fbfbf; text-decoration-color: #7fbfbf\">                    </span>         <span style=\"color: #008000; text-decoration-color: #008000\">'model.visual.resblocks.1.mlp.c_proj.weight'</span>,                               <span style=\"color: #7f7f7f; text-decoration-color: #7f7f7f\">          </span>\n",
       "<span style=\"color: #7fbfbf; text-decoration-color: #7fbfbf\">                    </span>         <span style=\"color: #008000; text-decoration-color: #008000\">'model.visual.resblocks.1.mlp.c_proj.bias'</span>,                                 <span style=\"color: #7f7f7f; text-decoration-color: #7f7f7f\">          </span>\n",
       "<span style=\"color: #7fbfbf; text-decoration-color: #7fbfbf\">                    </span>         <span style=\"color: #008000; text-decoration-color: #008000\">'model.visual.resblocks.2.ln_1.weight'</span>,                                     <span style=\"color: #7f7f7f; text-decoration-color: #7f7f7f\">          </span>\n",
       "<span style=\"color: #7fbfbf; text-decoration-color: #7fbfbf\">                    </span>         <span style=\"color: #008000; text-decoration-color: #008000\">'model.visual.resblocks.2.ln_1.bias'</span>,                                       <span style=\"color: #7f7f7f; text-decoration-color: #7f7f7f\">          </span>\n",
       "<span style=\"color: #7fbfbf; text-decoration-color: #7fbfbf\">                    </span>         <span style=\"color: #008000; text-decoration-color: #008000\">'model.visual.resblocks.2.attn.in_proj_weight'</span>,                             <span style=\"color: #7f7f7f; text-decoration-color: #7f7f7f\">          </span>\n",
       "<span style=\"color: #7fbfbf; text-decoration-color: #7fbfbf\">                    </span>         <span style=\"color: #008000; text-decoration-color: #008000\">'model.visual.resblocks.2.attn.in_proj_bias'</span>,                               <span style=\"color: #7f7f7f; text-decoration-color: #7f7f7f\">          </span>\n",
       "<span style=\"color: #7fbfbf; text-decoration-color: #7fbfbf\">                    </span>         <span style=\"color: #008000; text-decoration-color: #008000\">'model.visual.resblocks.2.attn.out_proj.weight'</span>,                            <span style=\"color: #7f7f7f; text-decoration-color: #7f7f7f\">          </span>\n",
       "<span style=\"color: #7fbfbf; text-decoration-color: #7fbfbf\">                    </span>         <span style=\"color: #008000; text-decoration-color: #008000\">'model.visual.resblocks.2.attn.out_proj.bias'</span>,                              <span style=\"color: #7f7f7f; text-decoration-color: #7f7f7f\">          </span>\n",
       "<span style=\"color: #7fbfbf; text-decoration-color: #7fbfbf\">                    </span>         <span style=\"color: #008000; text-decoration-color: #008000\">'model.visual.resblocks.2.ln_2.weight'</span>,                                     <span style=\"color: #7f7f7f; text-decoration-color: #7f7f7f\">          </span>\n",
       "<span style=\"color: #7fbfbf; text-decoration-color: #7fbfbf\">                    </span>         <span style=\"color: #008000; text-decoration-color: #008000\">'model.visual.resblocks.2.ln_2.bias'</span>,                                       <span style=\"color: #7f7f7f; text-decoration-color: #7f7f7f\">          </span>\n",
       "<span style=\"color: #7fbfbf; text-decoration-color: #7fbfbf\">                    </span>         <span style=\"color: #008000; text-decoration-color: #008000\">'model.visual.resblocks.2.mlp.c_fc.weight'</span>,                                 <span style=\"color: #7f7f7f; text-decoration-color: #7f7f7f\">          </span>\n",
       "<span style=\"color: #7fbfbf; text-decoration-color: #7fbfbf\">                    </span>         <span style=\"color: #008000; text-decoration-color: #008000\">'model.visual.resblocks.2.mlp.c_fc.bias'</span>,                                   <span style=\"color: #7f7f7f; text-decoration-color: #7f7f7f\">          </span>\n",
       "<span style=\"color: #7fbfbf; text-decoration-color: #7fbfbf\">                    </span>         <span style=\"color: #008000; text-decoration-color: #008000\">'model.visual.resblocks.2.mlp.c_proj.weight'</span>,                               <span style=\"color: #7f7f7f; text-decoration-color: #7f7f7f\">          </span>\n",
       "<span style=\"color: #7fbfbf; text-decoration-color: #7fbfbf\">                    </span>         <span style=\"color: #008000; text-decoration-color: #008000\">'model.visual.resblocks.2.mlp.c_proj.bias'</span>,                                 <span style=\"color: #7f7f7f; text-decoration-color: #7f7f7f\">          </span>\n",
       "<span style=\"color: #7fbfbf; text-decoration-color: #7fbfbf\">                    </span>         <span style=\"color: #008000; text-decoration-color: #008000\">'model.visual.resblocks.3.ln_1.weight'</span>,                                     <span style=\"color: #7f7f7f; text-decoration-color: #7f7f7f\">          </span>\n",
       "<span style=\"color: #7fbfbf; text-decoration-color: #7fbfbf\">                    </span>         <span style=\"color: #008000; text-decoration-color: #008000\">'model.visual.resblocks.3.ln_1.bias'</span>,                                       <span style=\"color: #7f7f7f; text-decoration-color: #7f7f7f\">          </span>\n",
       "<span style=\"color: #7fbfbf; text-decoration-color: #7fbfbf\">                    </span>         <span style=\"color: #008000; text-decoration-color: #008000\">'model.visual.resblocks.3.attn.in_proj_weight'</span>,                             <span style=\"color: #7f7f7f; text-decoration-color: #7f7f7f\">          </span>\n",
       "<span style=\"color: #7fbfbf; text-decoration-color: #7fbfbf\">                    </span>         <span style=\"color: #008000; text-decoration-color: #008000\">'model.visual.resblocks.3.attn.in_proj_bias'</span>,                               <span style=\"color: #7f7f7f; text-decoration-color: #7f7f7f\">          </span>\n",
       "<span style=\"color: #7fbfbf; text-decoration-color: #7fbfbf\">                    </span>         <span style=\"color: #008000; text-decoration-color: #008000\">'model.visual.resblocks.3.attn.out_proj.weight'</span>,                            <span style=\"color: #7f7f7f; text-decoration-color: #7f7f7f\">          </span>\n",
       "<span style=\"color: #7fbfbf; text-decoration-color: #7fbfbf\">                    </span>         <span style=\"color: #008000; text-decoration-color: #008000\">'model.visual.resblocks.3.attn.out_proj.bias'</span>,                              <span style=\"color: #7f7f7f; text-decoration-color: #7f7f7f\">          </span>\n",
       "<span style=\"color: #7fbfbf; text-decoration-color: #7fbfbf\">                    </span>         <span style=\"color: #008000; text-decoration-color: #008000\">'model.visual.resblocks.3.ln_2.weight'</span>,                                     <span style=\"color: #7f7f7f; text-decoration-color: #7f7f7f\">          </span>\n",
       "<span style=\"color: #7fbfbf; text-decoration-color: #7fbfbf\">                    </span>         <span style=\"color: #008000; text-decoration-color: #008000\">'model.visual.resblocks.3.ln_2.bias'</span>,                                       <span style=\"color: #7f7f7f; text-decoration-color: #7f7f7f\">          </span>\n",
       "<span style=\"color: #7fbfbf; text-decoration-color: #7fbfbf\">                    </span>         <span style=\"color: #008000; text-decoration-color: #008000\">'model.visual.resblocks.3.mlp.c_fc.weight'</span>,                                 <span style=\"color: #7f7f7f; text-decoration-color: #7f7f7f\">          </span>\n",
       "<span style=\"color: #7fbfbf; text-decoration-color: #7fbfbf\">                    </span>         <span style=\"color: #008000; text-decoration-color: #008000\">'model.visual.resblocks.3.mlp.c_fc.bias'</span>,                                   <span style=\"color: #7f7f7f; text-decoration-color: #7f7f7f\">          </span>\n",
       "<span style=\"color: #7fbfbf; text-decoration-color: #7fbfbf\">                    </span>         <span style=\"color: #008000; text-decoration-color: #008000\">'model.visual.resblocks.3.mlp.c_proj.weight'</span>,                               <span style=\"color: #7f7f7f; text-decoration-color: #7f7f7f\">          </span>\n",
       "<span style=\"color: #7fbfbf; text-decoration-color: #7fbfbf\">                    </span>         <span style=\"color: #008000; text-decoration-color: #008000\">'model.visual.resblocks.3.mlp.c_proj.bias'</span>,                                 <span style=\"color: #7f7f7f; text-decoration-color: #7f7f7f\">          </span>\n",
       "<span style=\"color: #7fbfbf; text-decoration-color: #7fbfbf\">                    </span>         <span style=\"color: #008000; text-decoration-color: #008000\">'model.visual.resblocks.4.ln_1.weight'</span>,                                     <span style=\"color: #7f7f7f; text-decoration-color: #7f7f7f\">          </span>\n",
       "<span style=\"color: #7fbfbf; text-decoration-color: #7fbfbf\">                    </span>         <span style=\"color: #008000; text-decoration-color: #008000\">'model.visual.resblocks.4.ln_1.bias'</span>,                                       <span style=\"color: #7f7f7f; text-decoration-color: #7f7f7f\">          </span>\n",
       "<span style=\"color: #7fbfbf; text-decoration-color: #7fbfbf\">                    </span>         <span style=\"color: #008000; text-decoration-color: #008000\">'model.visual.resblocks.4.attn.in_proj_weight'</span>,                             <span style=\"color: #7f7f7f; text-decoration-color: #7f7f7f\">          </span>\n",
       "<span style=\"color: #7fbfbf; text-decoration-color: #7fbfbf\">                    </span>         <span style=\"color: #008000; text-decoration-color: #008000\">'model.visual.resblocks.4.attn.in_proj_bias'</span>,                               <span style=\"color: #7f7f7f; text-decoration-color: #7f7f7f\">          </span>\n",
       "<span style=\"color: #7fbfbf; text-decoration-color: #7fbfbf\">                    </span>         <span style=\"color: #008000; text-decoration-color: #008000\">'model.visual.resblocks.4.attn.out_proj.weight'</span>,                            <span style=\"color: #7f7f7f; text-decoration-color: #7f7f7f\">          </span>\n",
       "<span style=\"color: #7fbfbf; text-decoration-color: #7fbfbf\">                    </span>         <span style=\"color: #008000; text-decoration-color: #008000\">'model.visual.resblocks.4.attn.out_proj.bias'</span>,                              <span style=\"color: #7f7f7f; text-decoration-color: #7f7f7f\">          </span>\n",
       "<span style=\"color: #7fbfbf; text-decoration-color: #7fbfbf\">                    </span>         <span style=\"color: #008000; text-decoration-color: #008000\">'model.visual.resblocks.4.ln_2.weight'</span>,                                     <span style=\"color: #7f7f7f; text-decoration-color: #7f7f7f\">          </span>\n",
       "<span style=\"color: #7fbfbf; text-decoration-color: #7fbfbf\">                    </span>         <span style=\"color: #008000; text-decoration-color: #008000\">'model.visual.resblocks.4.ln_2.bias'</span>,                                       <span style=\"color: #7f7f7f; text-decoration-color: #7f7f7f\">          </span>\n",
       "<span style=\"color: #7fbfbf; text-decoration-color: #7fbfbf\">                    </span>         <span style=\"color: #008000; text-decoration-color: #008000\">'model.visual.resblocks.4.mlp.c_fc.weight'</span>,                                 <span style=\"color: #7f7f7f; text-decoration-color: #7f7f7f\">          </span>\n",
       "<span style=\"color: #7fbfbf; text-decoration-color: #7fbfbf\">                    </span>         <span style=\"color: #008000; text-decoration-color: #008000\">'model.visual.resblocks.4.mlp.c_fc.bias'</span>,                                   <span style=\"color: #7f7f7f; text-decoration-color: #7f7f7f\">          </span>\n",
       "<span style=\"color: #7fbfbf; text-decoration-color: #7fbfbf\">                    </span>         <span style=\"color: #008000; text-decoration-color: #008000\">'model.visual.resblocks.4.mlp.c_proj.weight'</span>,                               <span style=\"color: #7f7f7f; text-decoration-color: #7f7f7f\">          </span>\n",
       "<span style=\"color: #7fbfbf; text-decoration-color: #7fbfbf\">                    </span>         <span style=\"color: #008000; text-decoration-color: #008000\">'model.visual.resblocks.4.mlp.c_proj.bias'</span>,                                 <span style=\"color: #7f7f7f; text-decoration-color: #7f7f7f\">          </span>\n",
       "<span style=\"color: #7fbfbf; text-decoration-color: #7fbfbf\">                    </span>         <span style=\"color: #008000; text-decoration-color: #008000\">'model.visual.resblocks.5.ln_1.weight'</span>,                                     <span style=\"color: #7f7f7f; text-decoration-color: #7f7f7f\">          </span>\n",
       "<span style=\"color: #7fbfbf; text-decoration-color: #7fbfbf\">                    </span>         <span style=\"color: #008000; text-decoration-color: #008000\">'model.visual.resblocks.5.ln_1.bias'</span>,                                       <span style=\"color: #7f7f7f; text-decoration-color: #7f7f7f\">          </span>\n",
       "<span style=\"color: #7fbfbf; text-decoration-color: #7fbfbf\">                    </span>         <span style=\"color: #008000; text-decoration-color: #008000\">'model.visual.resblocks.5.attn.in_proj_weight'</span>,                             <span style=\"color: #7f7f7f; text-decoration-color: #7f7f7f\">          </span>\n",
       "<span style=\"color: #7fbfbf; text-decoration-color: #7fbfbf\">                    </span>         <span style=\"color: #008000; text-decoration-color: #008000\">'model.visual.resblocks.5.attn.in_proj_bias'</span>,                               <span style=\"color: #7f7f7f; text-decoration-color: #7f7f7f\">          </span>\n",
       "<span style=\"color: #7fbfbf; text-decoration-color: #7fbfbf\">                    </span>         <span style=\"color: #008000; text-decoration-color: #008000\">'model.visual.resblocks.5.attn.out_proj.weight'</span>,                            <span style=\"color: #7f7f7f; text-decoration-color: #7f7f7f\">          </span>\n",
       "<span style=\"color: #7fbfbf; text-decoration-color: #7fbfbf\">                    </span>         <span style=\"color: #008000; text-decoration-color: #008000\">'model.visual.resblocks.5.attn.out_proj.bias'</span>,                              <span style=\"color: #7f7f7f; text-decoration-color: #7f7f7f\">          </span>\n",
       "<span style=\"color: #7fbfbf; text-decoration-color: #7fbfbf\">                    </span>         <span style=\"color: #008000; text-decoration-color: #008000\">'model.visual.resblocks.5.ln_2.weight'</span>,                                     <span style=\"color: #7f7f7f; text-decoration-color: #7f7f7f\">          </span>\n",
       "<span style=\"color: #7fbfbf; text-decoration-color: #7fbfbf\">                    </span>         <span style=\"color: #008000; text-decoration-color: #008000\">'model.visual.resblocks.5.ln_2.bias'</span>,                                       <span style=\"color: #7f7f7f; text-decoration-color: #7f7f7f\">          </span>\n",
       "<span style=\"color: #7fbfbf; text-decoration-color: #7fbfbf\">                    </span>         <span style=\"color: #008000; text-decoration-color: #008000\">'model.visual.resblocks.5.mlp.c_fc.weight'</span>,                                 <span style=\"color: #7f7f7f; text-decoration-color: #7f7f7f\">          </span>\n",
       "<span style=\"color: #7fbfbf; text-decoration-color: #7fbfbf\">                    </span>         <span style=\"color: #008000; text-decoration-color: #008000\">'model.visual.resblocks.5.mlp.c_fc.bias'</span>,                                   <span style=\"color: #7f7f7f; text-decoration-color: #7f7f7f\">          </span>\n",
       "<span style=\"color: #7fbfbf; text-decoration-color: #7fbfbf\">                    </span>         <span style=\"color: #008000; text-decoration-color: #008000\">'model.visual.resblocks.5.mlp.c_proj.weight'</span>,                               <span style=\"color: #7f7f7f; text-decoration-color: #7f7f7f\">          </span>\n",
       "<span style=\"color: #7fbfbf; text-decoration-color: #7fbfbf\">                    </span>         <span style=\"color: #008000; text-decoration-color: #008000\">'model.visual.resblocks.5.mlp.c_proj.bias'</span>,                                 <span style=\"color: #7f7f7f; text-decoration-color: #7f7f7f\">          </span>\n",
       "<span style=\"color: #7fbfbf; text-decoration-color: #7fbfbf\">                    </span>         <span style=\"color: #008000; text-decoration-color: #008000\">'model.visual.resblocks.6.ln_1.weight'</span>,                                     <span style=\"color: #7f7f7f; text-decoration-color: #7f7f7f\">          </span>\n",
       "<span style=\"color: #7fbfbf; text-decoration-color: #7fbfbf\">                    </span>         <span style=\"color: #008000; text-decoration-color: #008000\">'model.visual.resblocks.6.ln_1.bias'</span>,                                       <span style=\"color: #7f7f7f; text-decoration-color: #7f7f7f\">          </span>\n",
       "<span style=\"color: #7fbfbf; text-decoration-color: #7fbfbf\">                    </span>         <span style=\"color: #008000; text-decoration-color: #008000\">'model.visual.resblocks.6.attn.in_proj_weight'</span>,                             <span style=\"color: #7f7f7f; text-decoration-color: #7f7f7f\">          </span>\n",
       "<span style=\"color: #7fbfbf; text-decoration-color: #7fbfbf\">                    </span>         <span style=\"color: #008000; text-decoration-color: #008000\">'model.visual.resblocks.6.attn.in_proj_bias'</span>,                               <span style=\"color: #7f7f7f; text-decoration-color: #7f7f7f\">          </span>\n",
       "<span style=\"color: #7fbfbf; text-decoration-color: #7fbfbf\">                    </span>         <span style=\"color: #008000; text-decoration-color: #008000\">'model.visual.resblocks.6.attn.out_proj.weight'</span>,                            <span style=\"color: #7f7f7f; text-decoration-color: #7f7f7f\">          </span>\n",
       "<span style=\"color: #7fbfbf; text-decoration-color: #7fbfbf\">                    </span>         <span style=\"color: #008000; text-decoration-color: #008000\">'model.visual.resblocks.6.attn.out_proj.bias'</span>,                              <span style=\"color: #7f7f7f; text-decoration-color: #7f7f7f\">          </span>\n",
       "<span style=\"color: #7fbfbf; text-decoration-color: #7fbfbf\">                    </span>         <span style=\"color: #008000; text-decoration-color: #008000\">'model.visual.resblocks.6.ln_2.weight'</span>,                                     <span style=\"color: #7f7f7f; text-decoration-color: #7f7f7f\">          </span>\n",
       "<span style=\"color: #7fbfbf; text-decoration-color: #7fbfbf\">                    </span>         <span style=\"color: #008000; text-decoration-color: #008000\">'model.visual.resblocks.6.ln_2.bias'</span>,                                       <span style=\"color: #7f7f7f; text-decoration-color: #7f7f7f\">          </span>\n",
       "<span style=\"color: #7fbfbf; text-decoration-color: #7fbfbf\">                    </span>         <span style=\"color: #008000; text-decoration-color: #008000\">'model.visual.resblocks.6.mlp.c_fc.weight'</span>,                                 <span style=\"color: #7f7f7f; text-decoration-color: #7f7f7f\">          </span>\n",
       "<span style=\"color: #7fbfbf; text-decoration-color: #7fbfbf\">                    </span>         <span style=\"color: #008000; text-decoration-color: #008000\">'model.visual.resblocks.6.mlp.c_fc.bias'</span>,                                   <span style=\"color: #7f7f7f; text-decoration-color: #7f7f7f\">          </span>\n",
       "<span style=\"color: #7fbfbf; text-decoration-color: #7fbfbf\">                    </span>         <span style=\"color: #008000; text-decoration-color: #008000\">'model.visual.resblocks.6.mlp.c_proj.weight'</span>,                               <span style=\"color: #7f7f7f; text-decoration-color: #7f7f7f\">          </span>\n",
       "<span style=\"color: #7fbfbf; text-decoration-color: #7fbfbf\">                    </span>         <span style=\"color: #008000; text-decoration-color: #008000\">'model.visual.resblocks.6.mlp.c_proj.bias'</span>,                                 <span style=\"color: #7f7f7f; text-decoration-color: #7f7f7f\">          </span>\n",
       "<span style=\"color: #7fbfbf; text-decoration-color: #7fbfbf\">                    </span>         <span style=\"color: #008000; text-decoration-color: #008000\">'model.visual.resblocks.7.ln_1.weight'</span>,                                     <span style=\"color: #7f7f7f; text-decoration-color: #7f7f7f\">          </span>\n",
       "<span style=\"color: #7fbfbf; text-decoration-color: #7fbfbf\">                    </span>         <span style=\"color: #008000; text-decoration-color: #008000\">'model.visual.resblocks.7.ln_1.bias'</span>,                                       <span style=\"color: #7f7f7f; text-decoration-color: #7f7f7f\">          </span>\n",
       "<span style=\"color: #7fbfbf; text-decoration-color: #7fbfbf\">                    </span>         <span style=\"color: #008000; text-decoration-color: #008000\">'model.visual.resblocks.7.attn.in_proj_weight'</span>,                             <span style=\"color: #7f7f7f; text-decoration-color: #7f7f7f\">          </span>\n",
       "<span style=\"color: #7fbfbf; text-decoration-color: #7fbfbf\">                    </span>         <span style=\"color: #008000; text-decoration-color: #008000\">'model.visual.resblocks.7.attn.in_proj_bias'</span>,                               <span style=\"color: #7f7f7f; text-decoration-color: #7f7f7f\">          </span>\n",
       "<span style=\"color: #7fbfbf; text-decoration-color: #7fbfbf\">                    </span>         <span style=\"color: #008000; text-decoration-color: #008000\">'model.visual.resblocks.7.attn.out_proj.weight'</span>,                            <span style=\"color: #7f7f7f; text-decoration-color: #7f7f7f\">          </span>\n",
       "<span style=\"color: #7fbfbf; text-decoration-color: #7fbfbf\">                    </span>         <span style=\"color: #008000; text-decoration-color: #008000\">'model.visual.resblocks.7.attn.out_proj.bias'</span>,                              <span style=\"color: #7f7f7f; text-decoration-color: #7f7f7f\">          </span>\n",
       "<span style=\"color: #7fbfbf; text-decoration-color: #7fbfbf\">                    </span>         <span style=\"color: #008000; text-decoration-color: #008000\">'model.visual.resblocks.7.ln_2.weight'</span>,                                     <span style=\"color: #7f7f7f; text-decoration-color: #7f7f7f\">          </span>\n",
       "<span style=\"color: #7fbfbf; text-decoration-color: #7fbfbf\">                    </span>         <span style=\"color: #008000; text-decoration-color: #008000\">'model.visual.resblocks.7.ln_2.bias'</span>,                                       <span style=\"color: #7f7f7f; text-decoration-color: #7f7f7f\">          </span>\n",
       "<span style=\"color: #7fbfbf; text-decoration-color: #7fbfbf\">                    </span>         <span style=\"color: #008000; text-decoration-color: #008000\">'model.visual.resblocks.7.mlp.c_fc.weight'</span>,                                 <span style=\"color: #7f7f7f; text-decoration-color: #7f7f7f\">          </span>\n",
       "<span style=\"color: #7fbfbf; text-decoration-color: #7fbfbf\">                    </span>         <span style=\"color: #008000; text-decoration-color: #008000\">'model.visual.resblocks.7.mlp.c_fc.bias'</span>,                                   <span style=\"color: #7f7f7f; text-decoration-color: #7f7f7f\">          </span>\n",
       "<span style=\"color: #7fbfbf; text-decoration-color: #7fbfbf\">                    </span>         <span style=\"color: #008000; text-decoration-color: #008000\">'model.visual.resblocks.7.mlp.c_proj.weight'</span>,                               <span style=\"color: #7f7f7f; text-decoration-color: #7f7f7f\">          </span>\n",
       "<span style=\"color: #7fbfbf; text-decoration-color: #7fbfbf\">                    </span>         <span style=\"color: #008000; text-decoration-color: #008000\">'model.visual.resblocks.7.mlp.c_proj.bias'</span>,                                 <span style=\"color: #7f7f7f; text-decoration-color: #7f7f7f\">          </span>\n",
       "<span style=\"color: #7fbfbf; text-decoration-color: #7fbfbf\">                    </span>         <span style=\"color: #008000; text-decoration-color: #008000\">'model.visual.resblocks.8.ln_1.weight'</span>,                                     <span style=\"color: #7f7f7f; text-decoration-color: #7f7f7f\">          </span>\n",
       "<span style=\"color: #7fbfbf; text-decoration-color: #7fbfbf\">                    </span>         <span style=\"color: #008000; text-decoration-color: #008000\">'model.visual.resblocks.8.ln_1.bias'</span>,                                       <span style=\"color: #7f7f7f; text-decoration-color: #7f7f7f\">          </span>\n",
       "<span style=\"color: #7fbfbf; text-decoration-color: #7fbfbf\">                    </span>         <span style=\"color: #008000; text-decoration-color: #008000\">'model.visual.resblocks.8.attn.in_proj_weight'</span>,                             <span style=\"color: #7f7f7f; text-decoration-color: #7f7f7f\">          </span>\n",
       "<span style=\"color: #7fbfbf; text-decoration-color: #7fbfbf\">                    </span>         <span style=\"color: #008000; text-decoration-color: #008000\">'model.visual.resblocks.8.attn.in_proj_bias'</span>,                               <span style=\"color: #7f7f7f; text-decoration-color: #7f7f7f\">          </span>\n",
       "<span style=\"color: #7fbfbf; text-decoration-color: #7fbfbf\">                    </span>         <span style=\"color: #008000; text-decoration-color: #008000\">'model.visual.resblocks.8.attn.out_proj.weight'</span>,                            <span style=\"color: #7f7f7f; text-decoration-color: #7f7f7f\">          </span>\n",
       "<span style=\"color: #7fbfbf; text-decoration-color: #7fbfbf\">                    </span>         <span style=\"color: #008000; text-decoration-color: #008000\">'model.visual.resblocks.8.attn.out_proj.bias'</span>,                              <span style=\"color: #7f7f7f; text-decoration-color: #7f7f7f\">          </span>\n",
       "<span style=\"color: #7fbfbf; text-decoration-color: #7fbfbf\">                    </span>         <span style=\"color: #008000; text-decoration-color: #008000\">'model.visual.resblocks.8.ln_2.weight'</span>,                                     <span style=\"color: #7f7f7f; text-decoration-color: #7f7f7f\">          </span>\n",
       "<span style=\"color: #7fbfbf; text-decoration-color: #7fbfbf\">                    </span>         <span style=\"color: #008000; text-decoration-color: #008000\">'model.visual.resblocks.8.ln_2.bias'</span>,                                       <span style=\"color: #7f7f7f; text-decoration-color: #7f7f7f\">          </span>\n",
       "<span style=\"color: #7fbfbf; text-decoration-color: #7fbfbf\">                    </span>         <span style=\"color: #008000; text-decoration-color: #008000\">'model.visual.resblocks.8.mlp.c_fc.weight'</span>,                                 <span style=\"color: #7f7f7f; text-decoration-color: #7f7f7f\">          </span>\n",
       "<span style=\"color: #7fbfbf; text-decoration-color: #7fbfbf\">                    </span>         <span style=\"color: #008000; text-decoration-color: #008000\">'model.visual.resblocks.8.mlp.c_fc.bias'</span>,                                   <span style=\"color: #7f7f7f; text-decoration-color: #7f7f7f\">          </span>\n",
       "<span style=\"color: #7fbfbf; text-decoration-color: #7fbfbf\">                    </span>         <span style=\"color: #008000; text-decoration-color: #008000\">'model.visual.resblocks.8.mlp.c_proj.weight'</span>,                               <span style=\"color: #7f7f7f; text-decoration-color: #7f7f7f\">          </span>\n",
       "<span style=\"color: #7fbfbf; text-decoration-color: #7fbfbf\">                    </span>         <span style=\"color: #008000; text-decoration-color: #008000\">'model.visual.resblocks.8.mlp.c_proj.bias'</span>,                                 <span style=\"color: #7f7f7f; text-decoration-color: #7f7f7f\">          </span>\n",
       "<span style=\"color: #7fbfbf; text-decoration-color: #7fbfbf\">                    </span>         <span style=\"color: #008000; text-decoration-color: #008000\">'model.visual.resblocks.9.ln_1.weight'</span>,                                     <span style=\"color: #7f7f7f; text-decoration-color: #7f7f7f\">          </span>\n",
       "<span style=\"color: #7fbfbf; text-decoration-color: #7fbfbf\">                    </span>         <span style=\"color: #008000; text-decoration-color: #008000\">'model.visual.resblocks.9.ln_1.bias'</span>,                                       <span style=\"color: #7f7f7f; text-decoration-color: #7f7f7f\">          </span>\n",
       "<span style=\"color: #7fbfbf; text-decoration-color: #7fbfbf\">                    </span>         <span style=\"color: #008000; text-decoration-color: #008000\">'model.visual.resblocks.9.attn.in_proj_weight'</span>,                             <span style=\"color: #7f7f7f; text-decoration-color: #7f7f7f\">          </span>\n",
       "<span style=\"color: #7fbfbf; text-decoration-color: #7fbfbf\">                    </span>         <span style=\"color: #008000; text-decoration-color: #008000\">'model.visual.resblocks.9.attn.in_proj_bias'</span>,                               <span style=\"color: #7f7f7f; text-decoration-color: #7f7f7f\">          </span>\n",
       "<span style=\"color: #7fbfbf; text-decoration-color: #7fbfbf\">                    </span>         <span style=\"color: #008000; text-decoration-color: #008000\">'model.visual.resblocks.9.attn.out_proj.weight'</span>,                            <span style=\"color: #7f7f7f; text-decoration-color: #7f7f7f\">          </span>\n",
       "<span style=\"color: #7fbfbf; text-decoration-color: #7fbfbf\">                    </span>         <span style=\"color: #008000; text-decoration-color: #008000\">'model.visual.resblocks.9.attn.out_proj.bias'</span>,                              <span style=\"color: #7f7f7f; text-decoration-color: #7f7f7f\">          </span>\n",
       "<span style=\"color: #7fbfbf; text-decoration-color: #7fbfbf\">                    </span>         <span style=\"color: #008000; text-decoration-color: #008000\">'model.visual.resblocks.9.ln_2.weight'</span>,                                     <span style=\"color: #7f7f7f; text-decoration-color: #7f7f7f\">          </span>\n",
       "<span style=\"color: #7fbfbf; text-decoration-color: #7fbfbf\">                    </span>         <span style=\"color: #008000; text-decoration-color: #008000\">'model.visual.resblocks.9.ln_2.bias'</span>,                                       <span style=\"color: #7f7f7f; text-decoration-color: #7f7f7f\">          </span>\n",
       "<span style=\"color: #7fbfbf; text-decoration-color: #7fbfbf\">                    </span>         <span style=\"color: #008000; text-decoration-color: #008000\">'model.visual.resblocks.9.mlp.c_fc.weight'</span>,                                 <span style=\"color: #7f7f7f; text-decoration-color: #7f7f7f\">          </span>\n",
       "<span style=\"color: #7fbfbf; text-decoration-color: #7fbfbf\">                    </span>         <span style=\"color: #008000; text-decoration-color: #008000\">'model.visual.resblocks.9.mlp.c_fc.bias'</span>,                                   <span style=\"color: #7f7f7f; text-decoration-color: #7f7f7f\">          </span>\n",
       "<span style=\"color: #7fbfbf; text-decoration-color: #7fbfbf\">                    </span>         <span style=\"color: #008000; text-decoration-color: #008000\">'model.visual.resblocks.9.mlp.c_proj.weight'</span>,                               <span style=\"color: #7f7f7f; text-decoration-color: #7f7f7f\">          </span>\n",
       "<span style=\"color: #7fbfbf; text-decoration-color: #7fbfbf\">                    </span>         <span style=\"color: #008000; text-decoration-color: #008000\">'model.visual.resblocks.9.mlp.c_proj.bias'</span>,                                 <span style=\"color: #7f7f7f; text-decoration-color: #7f7f7f\">          </span>\n",
       "<span style=\"color: #7fbfbf; text-decoration-color: #7fbfbf\">                    </span>         <span style=\"color: #008000; text-decoration-color: #008000\">'model.visual.resblocks.10.ln_1.weight'</span>,                                    <span style=\"color: #7f7f7f; text-decoration-color: #7f7f7f\">          </span>\n",
       "<span style=\"color: #7fbfbf; text-decoration-color: #7fbfbf\">                    </span>         <span style=\"color: #008000; text-decoration-color: #008000\">'model.visual.resblocks.10.ln_1.bias'</span>,                                      <span style=\"color: #7f7f7f; text-decoration-color: #7f7f7f\">          </span>\n",
       "<span style=\"color: #7fbfbf; text-decoration-color: #7fbfbf\">                    </span>         <span style=\"color: #008000; text-decoration-color: #008000\">'model.visual.resblocks.10.attn.in_proj_weight'</span>,                            <span style=\"color: #7f7f7f; text-decoration-color: #7f7f7f\">          </span>\n",
       "<span style=\"color: #7fbfbf; text-decoration-color: #7fbfbf\">                    </span>         <span style=\"color: #008000; text-decoration-color: #008000\">'model.visual.resblocks.10.attn.in_proj_bias'</span>,                              <span style=\"color: #7f7f7f; text-decoration-color: #7f7f7f\">          </span>\n",
       "<span style=\"color: #7fbfbf; text-decoration-color: #7fbfbf\">                    </span>         <span style=\"color: #008000; text-decoration-color: #008000\">'model.visual.resblocks.10.attn.out_proj.weight'</span>,                           <span style=\"color: #7f7f7f; text-decoration-color: #7f7f7f\">          </span>\n",
       "<span style=\"color: #7fbfbf; text-decoration-color: #7fbfbf\">                    </span>         <span style=\"color: #008000; text-decoration-color: #008000\">'model.visual.resblocks.10.attn.out_proj.bias'</span>,                             <span style=\"color: #7f7f7f; text-decoration-color: #7f7f7f\">          </span>\n",
       "<span style=\"color: #7fbfbf; text-decoration-color: #7fbfbf\">                    </span>         <span style=\"color: #008000; text-decoration-color: #008000\">'model.visual.resblocks.10.ln_2.weight'</span>,                                    <span style=\"color: #7f7f7f; text-decoration-color: #7f7f7f\">          </span>\n",
       "<span style=\"color: #7fbfbf; text-decoration-color: #7fbfbf\">                    </span>         <span style=\"color: #008000; text-decoration-color: #008000\">'model.visual.resblocks.10.ln_2.bias'</span>,                                      <span style=\"color: #7f7f7f; text-decoration-color: #7f7f7f\">          </span>\n",
       "<span style=\"color: #7fbfbf; text-decoration-color: #7fbfbf\">                    </span>         <span style=\"color: #008000; text-decoration-color: #008000\">'model.visual.resblocks.10.mlp.c_fc.weight'</span>,                                <span style=\"color: #7f7f7f; text-decoration-color: #7f7f7f\">          </span>\n",
       "<span style=\"color: #7fbfbf; text-decoration-color: #7fbfbf\">                    </span>         <span style=\"color: #008000; text-decoration-color: #008000\">'model.visual.resblocks.10.mlp.c_fc.bias'</span>,                                  <span style=\"color: #7f7f7f; text-decoration-color: #7f7f7f\">          </span>\n",
       "<span style=\"color: #7fbfbf; text-decoration-color: #7fbfbf\">                    </span>         <span style=\"color: #008000; text-decoration-color: #008000\">'model.visual.resblocks.10.mlp.c_proj.weight'</span>,                              <span style=\"color: #7f7f7f; text-decoration-color: #7f7f7f\">          </span>\n",
       "<span style=\"color: #7fbfbf; text-decoration-color: #7fbfbf\">                    </span>         <span style=\"color: #008000; text-decoration-color: #008000\">'model.visual.resblocks.10.mlp.c_proj.bias'</span>,                                <span style=\"color: #7f7f7f; text-decoration-color: #7f7f7f\">          </span>\n",
       "<span style=\"color: #7fbfbf; text-decoration-color: #7fbfbf\">                    </span>         <span style=\"color: #008000; text-decoration-color: #008000\">'model.visual.resblocks.11.ln_1.weight'</span>,                                    <span style=\"color: #7f7f7f; text-decoration-color: #7f7f7f\">          </span>\n",
       "<span style=\"color: #7fbfbf; text-decoration-color: #7fbfbf\">                    </span>         <span style=\"color: #008000; text-decoration-color: #008000\">'model.visual.resblocks.11.ln_1.bias'</span>,                                      <span style=\"color: #7f7f7f; text-decoration-color: #7f7f7f\">          </span>\n",
       "<span style=\"color: #7fbfbf; text-decoration-color: #7fbfbf\">                    </span>         <span style=\"color: #008000; text-decoration-color: #008000\">'model.visual.resblocks.11.attn.in_proj_weight'</span>,                            <span style=\"color: #7f7f7f; text-decoration-color: #7f7f7f\">          </span>\n",
       "<span style=\"color: #7fbfbf; text-decoration-color: #7fbfbf\">                    </span>         <span style=\"color: #008000; text-decoration-color: #008000\">'model.visual.resblocks.11.attn.in_proj_bias'</span>,                              <span style=\"color: #7f7f7f; text-decoration-color: #7f7f7f\">          </span>\n",
       "<span style=\"color: #7fbfbf; text-decoration-color: #7fbfbf\">                    </span>         <span style=\"color: #008000; text-decoration-color: #008000\">'model.visual.resblocks.11.attn.out_proj.weight'</span>,                           <span style=\"color: #7f7f7f; text-decoration-color: #7f7f7f\">          </span>\n",
       "<span style=\"color: #7fbfbf; text-decoration-color: #7fbfbf\">                    </span>         <span style=\"color: #008000; text-decoration-color: #008000\">'model.visual.resblocks.11.attn.out_proj.bias'</span>,                             <span style=\"color: #7f7f7f; text-decoration-color: #7f7f7f\">          </span>\n",
       "<span style=\"color: #7fbfbf; text-decoration-color: #7fbfbf\">                    </span>         <span style=\"color: #008000; text-decoration-color: #008000\">'model.visual.resblocks.11.ln_2.weight'</span>,                                    <span style=\"color: #7f7f7f; text-decoration-color: #7f7f7f\">          </span>\n",
       "<span style=\"color: #7fbfbf; text-decoration-color: #7fbfbf\">                    </span>         <span style=\"color: #008000; text-decoration-color: #008000\">'model.visual.resblocks.11.ln_2.bias'</span>,                                      <span style=\"color: #7f7f7f; text-decoration-color: #7f7f7f\">          </span>\n",
       "<span style=\"color: #7fbfbf; text-decoration-color: #7fbfbf\">                    </span>         <span style=\"color: #008000; text-decoration-color: #008000\">'model.visual.resblocks.11.mlp.c_fc.weight'</span>,                                <span style=\"color: #7f7f7f; text-decoration-color: #7f7f7f\">          </span>\n",
       "<span style=\"color: #7fbfbf; text-decoration-color: #7fbfbf\">                    </span>         <span style=\"color: #008000; text-decoration-color: #008000\">'model.visual.resblocks.11.mlp.c_fc.bias'</span>,                                  <span style=\"color: #7f7f7f; text-decoration-color: #7f7f7f\">          </span>\n",
       "<span style=\"color: #7fbfbf; text-decoration-color: #7fbfbf\">                    </span>         <span style=\"color: #008000; text-decoration-color: #008000\">'model.visual.resblocks.11.mlp.c_proj.weight'</span>,                              <span style=\"color: #7f7f7f; text-decoration-color: #7f7f7f\">          </span>\n",
       "<span style=\"color: #7fbfbf; text-decoration-color: #7fbfbf\">                    </span>         <span style=\"color: #008000; text-decoration-color: #008000\">'model.visual.resblocks.11.mlp.c_proj.bias'</span>, <span style=\"color: #008000; text-decoration-color: #008000\">'model.visual.ln_post.weight'</span>, <span style=\"color: #7f7f7f; text-decoration-color: #7f7f7f\">          </span>\n",
       "<span style=\"color: #7fbfbf; text-decoration-color: #7fbfbf\">                    </span>         <span style=\"color: #008000; text-decoration-color: #008000\">'model.visual.ln_post.bias'</span>, <span style=\"color: #008000; text-decoration-color: #008000\">'model.token_embedding.weight'</span>,                <span style=\"color: #7f7f7f; text-decoration-color: #7f7f7f\">          </span>\n",
       "<span style=\"color: #7fbfbf; text-decoration-color: #7fbfbf\">                    </span>         <span style=\"color: #008000; text-decoration-color: #008000\">'model.ln_final.weight'</span>, <span style=\"color: #008000; text-decoration-color: #008000\">'model.ln_final.bias'</span><span style=\"font-weight: bold\">])</span>                            <span style=\"color: #7f7f7f; text-decoration-color: #7f7f7f\">          </span>\n",
       "</pre>\n"
      ],
      "text/plain": [
       "\u001b[2;36m                   \u001b[0m\u001b[2;36m \u001b[0m\u001b[34mINFO    \u001b[0m \u001b[1;35mdict_keys\u001b[0m\u001b[1m(\u001b[0m\u001b[1m[\u001b[0m\u001b[32m'model.positional_embedding'\u001b[0m, \u001b[32m'model.text_projection'\u001b[0m,           \u001b]8;id=635746;file:///tmp/ipykernel_2722254/874827296.py\u001b\\\u001b[2m__main__\u001b[0m\u001b]8;;\u001b\\\u001b[2m:\u001b[0m\u001b]8;id=306508;file:///tmp/ipykernel_2722254/874827296.py#1\u001b\\\u001b[2m1\u001b[0m\u001b]8;;\u001b\\\n",
       "\u001b[2;36m                    \u001b[0m         \u001b[32m'model.logit_scale'\u001b[0m, \u001b[32m'model.visual.class_embedding'\u001b[0m,                        \u001b[2m          \u001b[0m\n",
       "\u001b[2;36m                    \u001b[0m         \u001b[32m'model.visual.positional_embedding'\u001b[0m, \u001b[32m'model.visual.proj'\u001b[0m,                   \u001b[2m          \u001b[0m\n",
       "\u001b[2;36m                    \u001b[0m         \u001b[32m'model.visual.conv1.weight'\u001b[0m, \u001b[32m'model.visual.ln_pre.weight'\u001b[0m,                  \u001b[2m          \u001b[0m\n",
       "\u001b[2;36m                    \u001b[0m         \u001b[32m'model.visual.ln_pre.bias'\u001b[0m, \u001b[32m'model.visual.resblocks.0.ln_1.weight'\u001b[0m,         \u001b[2m          \u001b[0m\n",
       "\u001b[2;36m                    \u001b[0m         \u001b[32m'model.visual.resblocks.0.ln_1.bias'\u001b[0m,                                       \u001b[2m          \u001b[0m\n",
       "\u001b[2;36m                    \u001b[0m         \u001b[32m'model.visual.resblocks.0.attn.in_proj_weight'\u001b[0m,                             \u001b[2m          \u001b[0m\n",
       "\u001b[2;36m                    \u001b[0m         \u001b[32m'model.visual.resblocks.0.attn.in_proj_bias'\u001b[0m,                               \u001b[2m          \u001b[0m\n",
       "\u001b[2;36m                    \u001b[0m         \u001b[32m'model.visual.resblocks.0.attn.out_proj.weight'\u001b[0m,                            \u001b[2m          \u001b[0m\n",
       "\u001b[2;36m                    \u001b[0m         \u001b[32m'model.visual.resblocks.0.attn.out_proj.bias'\u001b[0m,                              \u001b[2m          \u001b[0m\n",
       "\u001b[2;36m                    \u001b[0m         \u001b[32m'model.visual.resblocks.0.ln_2.weight'\u001b[0m,                                     \u001b[2m          \u001b[0m\n",
       "\u001b[2;36m                    \u001b[0m         \u001b[32m'model.visual.resblocks.0.ln_2.bias'\u001b[0m,                                       \u001b[2m          \u001b[0m\n",
       "\u001b[2;36m                    \u001b[0m         \u001b[32m'model.visual.resblocks.0.mlp.c_fc.weight'\u001b[0m,                                 \u001b[2m          \u001b[0m\n",
       "\u001b[2;36m                    \u001b[0m         \u001b[32m'model.visual.resblocks.0.mlp.c_fc.bias'\u001b[0m,                                   \u001b[2m          \u001b[0m\n",
       "\u001b[2;36m                    \u001b[0m         \u001b[32m'model.visual.resblocks.0.mlp.c_proj.weight'\u001b[0m,                               \u001b[2m          \u001b[0m\n",
       "\u001b[2;36m                    \u001b[0m         \u001b[32m'model.visual.resblocks.0.mlp.c_proj.bias'\u001b[0m,                                 \u001b[2m          \u001b[0m\n",
       "\u001b[2;36m                    \u001b[0m         \u001b[32m'model.visual.resblocks.1.ln_1.weight'\u001b[0m,                                     \u001b[2m          \u001b[0m\n",
       "\u001b[2;36m                    \u001b[0m         \u001b[32m'model.visual.resblocks.1.ln_1.bias'\u001b[0m,                                       \u001b[2m          \u001b[0m\n",
       "\u001b[2;36m                    \u001b[0m         \u001b[32m'model.visual.resblocks.1.attn.in_proj_weight'\u001b[0m,                             \u001b[2m          \u001b[0m\n",
       "\u001b[2;36m                    \u001b[0m         \u001b[32m'model.visual.resblocks.1.attn.in_proj_bias'\u001b[0m,                               \u001b[2m          \u001b[0m\n",
       "\u001b[2;36m                    \u001b[0m         \u001b[32m'model.visual.resblocks.1.attn.out_proj.weight'\u001b[0m,                            \u001b[2m          \u001b[0m\n",
       "\u001b[2;36m                    \u001b[0m         \u001b[32m'model.visual.resblocks.1.attn.out_proj.bias'\u001b[0m,                              \u001b[2m          \u001b[0m\n",
       "\u001b[2;36m                    \u001b[0m         \u001b[32m'model.visual.resblocks.1.ln_2.weight'\u001b[0m,                                     \u001b[2m          \u001b[0m\n",
       "\u001b[2;36m                    \u001b[0m         \u001b[32m'model.visual.resblocks.1.ln_2.bias'\u001b[0m,                                       \u001b[2m          \u001b[0m\n",
       "\u001b[2;36m                    \u001b[0m         \u001b[32m'model.visual.resblocks.1.mlp.c_fc.weight'\u001b[0m,                                 \u001b[2m          \u001b[0m\n",
       "\u001b[2;36m                    \u001b[0m         \u001b[32m'model.visual.resblocks.1.mlp.c_fc.bias'\u001b[0m,                                   \u001b[2m          \u001b[0m\n",
       "\u001b[2;36m                    \u001b[0m         \u001b[32m'model.visual.resblocks.1.mlp.c_proj.weight'\u001b[0m,                               \u001b[2m          \u001b[0m\n",
       "\u001b[2;36m                    \u001b[0m         \u001b[32m'model.visual.resblocks.1.mlp.c_proj.bias'\u001b[0m,                                 \u001b[2m          \u001b[0m\n",
       "\u001b[2;36m                    \u001b[0m         \u001b[32m'model.visual.resblocks.2.ln_1.weight'\u001b[0m,                                     \u001b[2m          \u001b[0m\n",
       "\u001b[2;36m                    \u001b[0m         \u001b[32m'model.visual.resblocks.2.ln_1.bias'\u001b[0m,                                       \u001b[2m          \u001b[0m\n",
       "\u001b[2;36m                    \u001b[0m         \u001b[32m'model.visual.resblocks.2.attn.in_proj_weight'\u001b[0m,                             \u001b[2m          \u001b[0m\n",
       "\u001b[2;36m                    \u001b[0m         \u001b[32m'model.visual.resblocks.2.attn.in_proj_bias'\u001b[0m,                               \u001b[2m          \u001b[0m\n",
       "\u001b[2;36m                    \u001b[0m         \u001b[32m'model.visual.resblocks.2.attn.out_proj.weight'\u001b[0m,                            \u001b[2m          \u001b[0m\n",
       "\u001b[2;36m                    \u001b[0m         \u001b[32m'model.visual.resblocks.2.attn.out_proj.bias'\u001b[0m,                              \u001b[2m          \u001b[0m\n",
       "\u001b[2;36m                    \u001b[0m         \u001b[32m'model.visual.resblocks.2.ln_2.weight'\u001b[0m,                                     \u001b[2m          \u001b[0m\n",
       "\u001b[2;36m                    \u001b[0m         \u001b[32m'model.visual.resblocks.2.ln_2.bias'\u001b[0m,                                       \u001b[2m          \u001b[0m\n",
       "\u001b[2;36m                    \u001b[0m         \u001b[32m'model.visual.resblocks.2.mlp.c_fc.weight'\u001b[0m,                                 \u001b[2m          \u001b[0m\n",
       "\u001b[2;36m                    \u001b[0m         \u001b[32m'model.visual.resblocks.2.mlp.c_fc.bias'\u001b[0m,                                   \u001b[2m          \u001b[0m\n",
       "\u001b[2;36m                    \u001b[0m         \u001b[32m'model.visual.resblocks.2.mlp.c_proj.weight'\u001b[0m,                               \u001b[2m          \u001b[0m\n",
       "\u001b[2;36m                    \u001b[0m         \u001b[32m'model.visual.resblocks.2.mlp.c_proj.bias'\u001b[0m,                                 \u001b[2m          \u001b[0m\n",
       "\u001b[2;36m                    \u001b[0m         \u001b[32m'model.visual.resblocks.3.ln_1.weight'\u001b[0m,                                     \u001b[2m          \u001b[0m\n",
       "\u001b[2;36m                    \u001b[0m         \u001b[32m'model.visual.resblocks.3.ln_1.bias'\u001b[0m,                                       \u001b[2m          \u001b[0m\n",
       "\u001b[2;36m                    \u001b[0m         \u001b[32m'model.visual.resblocks.3.attn.in_proj_weight'\u001b[0m,                             \u001b[2m          \u001b[0m\n",
       "\u001b[2;36m                    \u001b[0m         \u001b[32m'model.visual.resblocks.3.attn.in_proj_bias'\u001b[0m,                               \u001b[2m          \u001b[0m\n",
       "\u001b[2;36m                    \u001b[0m         \u001b[32m'model.visual.resblocks.3.attn.out_proj.weight'\u001b[0m,                            \u001b[2m          \u001b[0m\n",
       "\u001b[2;36m                    \u001b[0m         \u001b[32m'model.visual.resblocks.3.attn.out_proj.bias'\u001b[0m,                              \u001b[2m          \u001b[0m\n",
       "\u001b[2;36m                    \u001b[0m         \u001b[32m'model.visual.resblocks.3.ln_2.weight'\u001b[0m,                                     \u001b[2m          \u001b[0m\n",
       "\u001b[2;36m                    \u001b[0m         \u001b[32m'model.visual.resblocks.3.ln_2.bias'\u001b[0m,                                       \u001b[2m          \u001b[0m\n",
       "\u001b[2;36m                    \u001b[0m         \u001b[32m'model.visual.resblocks.3.mlp.c_fc.weight'\u001b[0m,                                 \u001b[2m          \u001b[0m\n",
       "\u001b[2;36m                    \u001b[0m         \u001b[32m'model.visual.resblocks.3.mlp.c_fc.bias'\u001b[0m,                                   \u001b[2m          \u001b[0m\n",
       "\u001b[2;36m                    \u001b[0m         \u001b[32m'model.visual.resblocks.3.mlp.c_proj.weight'\u001b[0m,                               \u001b[2m          \u001b[0m\n",
       "\u001b[2;36m                    \u001b[0m         \u001b[32m'model.visual.resblocks.3.mlp.c_proj.bias'\u001b[0m,                                 \u001b[2m          \u001b[0m\n",
       "\u001b[2;36m                    \u001b[0m         \u001b[32m'model.visual.resblocks.4.ln_1.weight'\u001b[0m,                                     \u001b[2m          \u001b[0m\n",
       "\u001b[2;36m                    \u001b[0m         \u001b[32m'model.visual.resblocks.4.ln_1.bias'\u001b[0m,                                       \u001b[2m          \u001b[0m\n",
       "\u001b[2;36m                    \u001b[0m         \u001b[32m'model.visual.resblocks.4.attn.in_proj_weight'\u001b[0m,                             \u001b[2m          \u001b[0m\n",
       "\u001b[2;36m                    \u001b[0m         \u001b[32m'model.visual.resblocks.4.attn.in_proj_bias'\u001b[0m,                               \u001b[2m          \u001b[0m\n",
       "\u001b[2;36m                    \u001b[0m         \u001b[32m'model.visual.resblocks.4.attn.out_proj.weight'\u001b[0m,                            \u001b[2m          \u001b[0m\n",
       "\u001b[2;36m                    \u001b[0m         \u001b[32m'model.visual.resblocks.4.attn.out_proj.bias'\u001b[0m,                              \u001b[2m          \u001b[0m\n",
       "\u001b[2;36m                    \u001b[0m         \u001b[32m'model.visual.resblocks.4.ln_2.weight'\u001b[0m,                                     \u001b[2m          \u001b[0m\n",
       "\u001b[2;36m                    \u001b[0m         \u001b[32m'model.visual.resblocks.4.ln_2.bias'\u001b[0m,                                       \u001b[2m          \u001b[0m\n",
       "\u001b[2;36m                    \u001b[0m         \u001b[32m'model.visual.resblocks.4.mlp.c_fc.weight'\u001b[0m,                                 \u001b[2m          \u001b[0m\n",
       "\u001b[2;36m                    \u001b[0m         \u001b[32m'model.visual.resblocks.4.mlp.c_fc.bias'\u001b[0m,                                   \u001b[2m          \u001b[0m\n",
       "\u001b[2;36m                    \u001b[0m         \u001b[32m'model.visual.resblocks.4.mlp.c_proj.weight'\u001b[0m,                               \u001b[2m          \u001b[0m\n",
       "\u001b[2;36m                    \u001b[0m         \u001b[32m'model.visual.resblocks.4.mlp.c_proj.bias'\u001b[0m,                                 \u001b[2m          \u001b[0m\n",
       "\u001b[2;36m                    \u001b[0m         \u001b[32m'model.visual.resblocks.5.ln_1.weight'\u001b[0m,                                     \u001b[2m          \u001b[0m\n",
       "\u001b[2;36m                    \u001b[0m         \u001b[32m'model.visual.resblocks.5.ln_1.bias'\u001b[0m,                                       \u001b[2m          \u001b[0m\n",
       "\u001b[2;36m                    \u001b[0m         \u001b[32m'model.visual.resblocks.5.attn.in_proj_weight'\u001b[0m,                             \u001b[2m          \u001b[0m\n",
       "\u001b[2;36m                    \u001b[0m         \u001b[32m'model.visual.resblocks.5.attn.in_proj_bias'\u001b[0m,                               \u001b[2m          \u001b[0m\n",
       "\u001b[2;36m                    \u001b[0m         \u001b[32m'model.visual.resblocks.5.attn.out_proj.weight'\u001b[0m,                            \u001b[2m          \u001b[0m\n",
       "\u001b[2;36m                    \u001b[0m         \u001b[32m'model.visual.resblocks.5.attn.out_proj.bias'\u001b[0m,                              \u001b[2m          \u001b[0m\n",
       "\u001b[2;36m                    \u001b[0m         \u001b[32m'model.visual.resblocks.5.ln_2.weight'\u001b[0m,                                     \u001b[2m          \u001b[0m\n",
       "\u001b[2;36m                    \u001b[0m         \u001b[32m'model.visual.resblocks.5.ln_2.bias'\u001b[0m,                                       \u001b[2m          \u001b[0m\n",
       "\u001b[2;36m                    \u001b[0m         \u001b[32m'model.visual.resblocks.5.mlp.c_fc.weight'\u001b[0m,                                 \u001b[2m          \u001b[0m\n",
       "\u001b[2;36m                    \u001b[0m         \u001b[32m'model.visual.resblocks.5.mlp.c_fc.bias'\u001b[0m,                                   \u001b[2m          \u001b[0m\n",
       "\u001b[2;36m                    \u001b[0m         \u001b[32m'model.visual.resblocks.5.mlp.c_proj.weight'\u001b[0m,                               \u001b[2m          \u001b[0m\n",
       "\u001b[2;36m                    \u001b[0m         \u001b[32m'model.visual.resblocks.5.mlp.c_proj.bias'\u001b[0m,                                 \u001b[2m          \u001b[0m\n",
       "\u001b[2;36m                    \u001b[0m         \u001b[32m'model.visual.resblocks.6.ln_1.weight'\u001b[0m,                                     \u001b[2m          \u001b[0m\n",
       "\u001b[2;36m                    \u001b[0m         \u001b[32m'model.visual.resblocks.6.ln_1.bias'\u001b[0m,                                       \u001b[2m          \u001b[0m\n",
       "\u001b[2;36m                    \u001b[0m         \u001b[32m'model.visual.resblocks.6.attn.in_proj_weight'\u001b[0m,                             \u001b[2m          \u001b[0m\n",
       "\u001b[2;36m                    \u001b[0m         \u001b[32m'model.visual.resblocks.6.attn.in_proj_bias'\u001b[0m,                               \u001b[2m          \u001b[0m\n",
       "\u001b[2;36m                    \u001b[0m         \u001b[32m'model.visual.resblocks.6.attn.out_proj.weight'\u001b[0m,                            \u001b[2m          \u001b[0m\n",
       "\u001b[2;36m                    \u001b[0m         \u001b[32m'model.visual.resblocks.6.attn.out_proj.bias'\u001b[0m,                              \u001b[2m          \u001b[0m\n",
       "\u001b[2;36m                    \u001b[0m         \u001b[32m'model.visual.resblocks.6.ln_2.weight'\u001b[0m,                                     \u001b[2m          \u001b[0m\n",
       "\u001b[2;36m                    \u001b[0m         \u001b[32m'model.visual.resblocks.6.ln_2.bias'\u001b[0m,                                       \u001b[2m          \u001b[0m\n",
       "\u001b[2;36m                    \u001b[0m         \u001b[32m'model.visual.resblocks.6.mlp.c_fc.weight'\u001b[0m,                                 \u001b[2m          \u001b[0m\n",
       "\u001b[2;36m                    \u001b[0m         \u001b[32m'model.visual.resblocks.6.mlp.c_fc.bias'\u001b[0m,                                   \u001b[2m          \u001b[0m\n",
       "\u001b[2;36m                    \u001b[0m         \u001b[32m'model.visual.resblocks.6.mlp.c_proj.weight'\u001b[0m,                               \u001b[2m          \u001b[0m\n",
       "\u001b[2;36m                    \u001b[0m         \u001b[32m'model.visual.resblocks.6.mlp.c_proj.bias'\u001b[0m,                                 \u001b[2m          \u001b[0m\n",
       "\u001b[2;36m                    \u001b[0m         \u001b[32m'model.visual.resblocks.7.ln_1.weight'\u001b[0m,                                     \u001b[2m          \u001b[0m\n",
       "\u001b[2;36m                    \u001b[0m         \u001b[32m'model.visual.resblocks.7.ln_1.bias'\u001b[0m,                                       \u001b[2m          \u001b[0m\n",
       "\u001b[2;36m                    \u001b[0m         \u001b[32m'model.visual.resblocks.7.attn.in_proj_weight'\u001b[0m,                             \u001b[2m          \u001b[0m\n",
       "\u001b[2;36m                    \u001b[0m         \u001b[32m'model.visual.resblocks.7.attn.in_proj_bias'\u001b[0m,                               \u001b[2m          \u001b[0m\n",
       "\u001b[2;36m                    \u001b[0m         \u001b[32m'model.visual.resblocks.7.attn.out_proj.weight'\u001b[0m,                            \u001b[2m          \u001b[0m\n",
       "\u001b[2;36m                    \u001b[0m         \u001b[32m'model.visual.resblocks.7.attn.out_proj.bias'\u001b[0m,                              \u001b[2m          \u001b[0m\n",
       "\u001b[2;36m                    \u001b[0m         \u001b[32m'model.visual.resblocks.7.ln_2.weight'\u001b[0m,                                     \u001b[2m          \u001b[0m\n",
       "\u001b[2;36m                    \u001b[0m         \u001b[32m'model.visual.resblocks.7.ln_2.bias'\u001b[0m,                                       \u001b[2m          \u001b[0m\n",
       "\u001b[2;36m                    \u001b[0m         \u001b[32m'model.visual.resblocks.7.mlp.c_fc.weight'\u001b[0m,                                 \u001b[2m          \u001b[0m\n",
       "\u001b[2;36m                    \u001b[0m         \u001b[32m'model.visual.resblocks.7.mlp.c_fc.bias'\u001b[0m,                                   \u001b[2m          \u001b[0m\n",
       "\u001b[2;36m                    \u001b[0m         \u001b[32m'model.visual.resblocks.7.mlp.c_proj.weight'\u001b[0m,                               \u001b[2m          \u001b[0m\n",
       "\u001b[2;36m                    \u001b[0m         \u001b[32m'model.visual.resblocks.7.mlp.c_proj.bias'\u001b[0m,                                 \u001b[2m          \u001b[0m\n",
       "\u001b[2;36m                    \u001b[0m         \u001b[32m'model.visual.resblocks.8.ln_1.weight'\u001b[0m,                                     \u001b[2m          \u001b[0m\n",
       "\u001b[2;36m                    \u001b[0m         \u001b[32m'model.visual.resblocks.8.ln_1.bias'\u001b[0m,                                       \u001b[2m          \u001b[0m\n",
       "\u001b[2;36m                    \u001b[0m         \u001b[32m'model.visual.resblocks.8.attn.in_proj_weight'\u001b[0m,                             \u001b[2m          \u001b[0m\n",
       "\u001b[2;36m                    \u001b[0m         \u001b[32m'model.visual.resblocks.8.attn.in_proj_bias'\u001b[0m,                               \u001b[2m          \u001b[0m\n",
       "\u001b[2;36m                    \u001b[0m         \u001b[32m'model.visual.resblocks.8.attn.out_proj.weight'\u001b[0m,                            \u001b[2m          \u001b[0m\n",
       "\u001b[2;36m                    \u001b[0m         \u001b[32m'model.visual.resblocks.8.attn.out_proj.bias'\u001b[0m,                              \u001b[2m          \u001b[0m\n",
       "\u001b[2;36m                    \u001b[0m         \u001b[32m'model.visual.resblocks.8.ln_2.weight'\u001b[0m,                                     \u001b[2m          \u001b[0m\n",
       "\u001b[2;36m                    \u001b[0m         \u001b[32m'model.visual.resblocks.8.ln_2.bias'\u001b[0m,                                       \u001b[2m          \u001b[0m\n",
       "\u001b[2;36m                    \u001b[0m         \u001b[32m'model.visual.resblocks.8.mlp.c_fc.weight'\u001b[0m,                                 \u001b[2m          \u001b[0m\n",
       "\u001b[2;36m                    \u001b[0m         \u001b[32m'model.visual.resblocks.8.mlp.c_fc.bias'\u001b[0m,                                   \u001b[2m          \u001b[0m\n",
       "\u001b[2;36m                    \u001b[0m         \u001b[32m'model.visual.resblocks.8.mlp.c_proj.weight'\u001b[0m,                               \u001b[2m          \u001b[0m\n",
       "\u001b[2;36m                    \u001b[0m         \u001b[32m'model.visual.resblocks.8.mlp.c_proj.bias'\u001b[0m,                                 \u001b[2m          \u001b[0m\n",
       "\u001b[2;36m                    \u001b[0m         \u001b[32m'model.visual.resblocks.9.ln_1.weight'\u001b[0m,                                     \u001b[2m          \u001b[0m\n",
       "\u001b[2;36m                    \u001b[0m         \u001b[32m'model.visual.resblocks.9.ln_1.bias'\u001b[0m,                                       \u001b[2m          \u001b[0m\n",
       "\u001b[2;36m                    \u001b[0m         \u001b[32m'model.visual.resblocks.9.attn.in_proj_weight'\u001b[0m,                             \u001b[2m          \u001b[0m\n",
       "\u001b[2;36m                    \u001b[0m         \u001b[32m'model.visual.resblocks.9.attn.in_proj_bias'\u001b[0m,                               \u001b[2m          \u001b[0m\n",
       "\u001b[2;36m                    \u001b[0m         \u001b[32m'model.visual.resblocks.9.attn.out_proj.weight'\u001b[0m,                            \u001b[2m          \u001b[0m\n",
       "\u001b[2;36m                    \u001b[0m         \u001b[32m'model.visual.resblocks.9.attn.out_proj.bias'\u001b[0m,                              \u001b[2m          \u001b[0m\n",
       "\u001b[2;36m                    \u001b[0m         \u001b[32m'model.visual.resblocks.9.ln_2.weight'\u001b[0m,                                     \u001b[2m          \u001b[0m\n",
       "\u001b[2;36m                    \u001b[0m         \u001b[32m'model.visual.resblocks.9.ln_2.bias'\u001b[0m,                                       \u001b[2m          \u001b[0m\n",
       "\u001b[2;36m                    \u001b[0m         \u001b[32m'model.visual.resblocks.9.mlp.c_fc.weight'\u001b[0m,                                 \u001b[2m          \u001b[0m\n",
       "\u001b[2;36m                    \u001b[0m         \u001b[32m'model.visual.resblocks.9.mlp.c_fc.bias'\u001b[0m,                                   \u001b[2m          \u001b[0m\n",
       "\u001b[2;36m                    \u001b[0m         \u001b[32m'model.visual.resblocks.9.mlp.c_proj.weight'\u001b[0m,                               \u001b[2m          \u001b[0m\n",
       "\u001b[2;36m                    \u001b[0m         \u001b[32m'model.visual.resblocks.9.mlp.c_proj.bias'\u001b[0m,                                 \u001b[2m          \u001b[0m\n",
       "\u001b[2;36m                    \u001b[0m         \u001b[32m'model.visual.resblocks.10.ln_1.weight'\u001b[0m,                                    \u001b[2m          \u001b[0m\n",
       "\u001b[2;36m                    \u001b[0m         \u001b[32m'model.visual.resblocks.10.ln_1.bias'\u001b[0m,                                      \u001b[2m          \u001b[0m\n",
       "\u001b[2;36m                    \u001b[0m         \u001b[32m'model.visual.resblocks.10.attn.in_proj_weight'\u001b[0m,                            \u001b[2m          \u001b[0m\n",
       "\u001b[2;36m                    \u001b[0m         \u001b[32m'model.visual.resblocks.10.attn.in_proj_bias'\u001b[0m,                              \u001b[2m          \u001b[0m\n",
       "\u001b[2;36m                    \u001b[0m         \u001b[32m'model.visual.resblocks.10.attn.out_proj.weight'\u001b[0m,                           \u001b[2m          \u001b[0m\n",
       "\u001b[2;36m                    \u001b[0m         \u001b[32m'model.visual.resblocks.10.attn.out_proj.bias'\u001b[0m,                             \u001b[2m          \u001b[0m\n",
       "\u001b[2;36m                    \u001b[0m         \u001b[32m'model.visual.resblocks.10.ln_2.weight'\u001b[0m,                                    \u001b[2m          \u001b[0m\n",
       "\u001b[2;36m                    \u001b[0m         \u001b[32m'model.visual.resblocks.10.ln_2.bias'\u001b[0m,                                      \u001b[2m          \u001b[0m\n",
       "\u001b[2;36m                    \u001b[0m         \u001b[32m'model.visual.resblocks.10.mlp.c_fc.weight'\u001b[0m,                                \u001b[2m          \u001b[0m\n",
       "\u001b[2;36m                    \u001b[0m         \u001b[32m'model.visual.resblocks.10.mlp.c_fc.bias'\u001b[0m,                                  \u001b[2m          \u001b[0m\n",
       "\u001b[2;36m                    \u001b[0m         \u001b[32m'model.visual.resblocks.10.mlp.c_proj.weight'\u001b[0m,                              \u001b[2m          \u001b[0m\n",
       "\u001b[2;36m                    \u001b[0m         \u001b[32m'model.visual.resblocks.10.mlp.c_proj.bias'\u001b[0m,                                \u001b[2m          \u001b[0m\n",
       "\u001b[2;36m                    \u001b[0m         \u001b[32m'model.visual.resblocks.11.ln_1.weight'\u001b[0m,                                    \u001b[2m          \u001b[0m\n",
       "\u001b[2;36m                    \u001b[0m         \u001b[32m'model.visual.resblocks.11.ln_1.bias'\u001b[0m,                                      \u001b[2m          \u001b[0m\n",
       "\u001b[2;36m                    \u001b[0m         \u001b[32m'model.visual.resblocks.11.attn.in_proj_weight'\u001b[0m,                            \u001b[2m          \u001b[0m\n",
       "\u001b[2;36m                    \u001b[0m         \u001b[32m'model.visual.resblocks.11.attn.in_proj_bias'\u001b[0m,                              \u001b[2m          \u001b[0m\n",
       "\u001b[2;36m                    \u001b[0m         \u001b[32m'model.visual.resblocks.11.attn.out_proj.weight'\u001b[0m,                           \u001b[2m          \u001b[0m\n",
       "\u001b[2;36m                    \u001b[0m         \u001b[32m'model.visual.resblocks.11.attn.out_proj.bias'\u001b[0m,                             \u001b[2m          \u001b[0m\n",
       "\u001b[2;36m                    \u001b[0m         \u001b[32m'model.visual.resblocks.11.ln_2.weight'\u001b[0m,                                    \u001b[2m          \u001b[0m\n",
       "\u001b[2;36m                    \u001b[0m         \u001b[32m'model.visual.resblocks.11.ln_2.bias'\u001b[0m,                                      \u001b[2m          \u001b[0m\n",
       "\u001b[2;36m                    \u001b[0m         \u001b[32m'model.visual.resblocks.11.mlp.c_fc.weight'\u001b[0m,                                \u001b[2m          \u001b[0m\n",
       "\u001b[2;36m                    \u001b[0m         \u001b[32m'model.visual.resblocks.11.mlp.c_fc.bias'\u001b[0m,                                  \u001b[2m          \u001b[0m\n",
       "\u001b[2;36m                    \u001b[0m         \u001b[32m'model.visual.resblocks.11.mlp.c_proj.weight'\u001b[0m,                              \u001b[2m          \u001b[0m\n",
       "\u001b[2;36m                    \u001b[0m         \u001b[32m'model.visual.resblocks.11.mlp.c_proj.bias'\u001b[0m, \u001b[32m'model.visual.ln_post.weight'\u001b[0m, \u001b[2m          \u001b[0m\n",
       "\u001b[2;36m                    \u001b[0m         \u001b[32m'model.visual.ln_post.bias'\u001b[0m, \u001b[32m'model.token_embedding.weight'\u001b[0m,                \u001b[2m          \u001b[0m\n",
       "\u001b[2;36m                    \u001b[0m         \u001b[32m'model.ln_final.weight'\u001b[0m, \u001b[32m'model.ln_final.bias'\u001b[0m\u001b[1m]\u001b[0m\u001b[1m)\u001b[0m                            \u001b[2m          \u001b[0m\n"
      ]
     },
     "metadata": {},
     "output_type": "display_data"
    }
   ],
   "source": [
    "pylogger.info(svd_dicts['FER2013'].keys())"
   ]
  },
  {
   "cell_type": "code",
   "execution_count": 20,
   "metadata": {},
   "outputs": [
    {
     "data": {
      "text/html": [
       "<pre style=\"white-space:pre;overflow-x:auto;line-height:normal;font-family:Menlo,'DejaVu Sans Mono',consolas,'Courier New',monospace\"><span style=\"color: #7fbfbf; text-decoration-color: #7fbfbf\">                    </span><span style=\"color: #000080; text-decoration-color: #000080\">INFO    </span> model.visual.resblocks.<span style=\"color: #008080; text-decoration-color: #008080; font-weight: bold\">0.</span>attn.in_proj_weight                                <a href=\"file:///tmp/ipykernel_2722254/1763672109.py\" target=\"_blank\"><span style=\"color: #7f7f7f; text-decoration-color: #7f7f7f\">__main__</span></a><span style=\"color: #7f7f7f; text-decoration-color: #7f7f7f\">:</span><a href=\"file:///tmp/ipykernel_2722254/1763672109.py#3\" target=\"_blank\"><span style=\"color: #7f7f7f; text-decoration-color: #7f7f7f\">3</span></a>\n",
       "</pre>\n"
      ],
      "text/plain": [
       "\u001b[2;36m                   \u001b[0m\u001b[2;36m \u001b[0m\u001b[34mINFO    \u001b[0m model.visual.resblocks.\u001b[1;36m0.\u001b[0mattn.in_proj_weight                                \u001b]8;id=7579;file:///tmp/ipykernel_2722254/1763672109.py\u001b\\\u001b[2m__main__\u001b[0m\u001b]8;;\u001b\\\u001b[2m:\u001b[0m\u001b]8;id=702953;file:///tmp/ipykernel_2722254/1763672109.py#3\u001b\\\u001b[2m3\u001b[0m\u001b]8;;\u001b\\\n"
      ]
     },
     "metadata": {},
     "output_type": "display_data"
    },
    {
     "data": {
      "text/html": [
       "<pre style=\"white-space:pre;overflow-x:auto;line-height:normal;font-family:Menlo,'DejaVu Sans Mono',consolas,'Courier New',monospace\"><span style=\"color: #7fbfbf; text-decoration-color: #7fbfbf\">                    </span><span style=\"color: #000080; text-decoration-color: #000080\">INFO    </span> model.visual.resblocks.<span style=\"color: #008080; text-decoration-color: #008080; font-weight: bold\">0.</span>mlp.c_fc.weight                                    <a href=\"file:///tmp/ipykernel_2722254/1763672109.py\" target=\"_blank\"><span style=\"color: #7f7f7f; text-decoration-color: #7f7f7f\">__main__</span></a><span style=\"color: #7f7f7f; text-decoration-color: #7f7f7f\">:</span><a href=\"file:///tmp/ipykernel_2722254/1763672109.py#3\" target=\"_blank\"><span style=\"color: #7f7f7f; text-decoration-color: #7f7f7f\">3</span></a>\n",
       "</pre>\n"
      ],
      "text/plain": [
       "\u001b[2;36m                   \u001b[0m\u001b[2;36m \u001b[0m\u001b[34mINFO    \u001b[0m model.visual.resblocks.\u001b[1;36m0.\u001b[0mmlp.c_fc.weight                                    \u001b]8;id=740280;file:///tmp/ipykernel_2722254/1763672109.py\u001b\\\u001b[2m__main__\u001b[0m\u001b]8;;\u001b\\\u001b[2m:\u001b[0m\u001b]8;id=461447;file:///tmp/ipykernel_2722254/1763672109.py#3\u001b\\\u001b[2m3\u001b[0m\u001b]8;;\u001b\\\n"
      ]
     },
     "metadata": {},
     "output_type": "display_data"
    },
    {
     "data": {
      "text/html": [
       "<pre style=\"white-space:pre;overflow-x:auto;line-height:normal;font-family:Menlo,'DejaVu Sans Mono',consolas,'Courier New',monospace\"><span style=\"color: #7fbfbf; text-decoration-color: #7fbfbf\">                    </span><span style=\"color: #000080; text-decoration-color: #000080\">INFO    </span> model.visual.resblocks.<span style=\"color: #008080; text-decoration-color: #008080; font-weight: bold\">1.</span>attn.in_proj_weight                                <a href=\"file:///tmp/ipykernel_2722254/1763672109.py\" target=\"_blank\"><span style=\"color: #7f7f7f; text-decoration-color: #7f7f7f\">__main__</span></a><span style=\"color: #7f7f7f; text-decoration-color: #7f7f7f\">:</span><a href=\"file:///tmp/ipykernel_2722254/1763672109.py#3\" target=\"_blank\"><span style=\"color: #7f7f7f; text-decoration-color: #7f7f7f\">3</span></a>\n",
       "</pre>\n"
      ],
      "text/plain": [
       "\u001b[2;36m                   \u001b[0m\u001b[2;36m \u001b[0m\u001b[34mINFO    \u001b[0m model.visual.resblocks.\u001b[1;36m1.\u001b[0mattn.in_proj_weight                                \u001b]8;id=360332;file:///tmp/ipykernel_2722254/1763672109.py\u001b\\\u001b[2m__main__\u001b[0m\u001b]8;;\u001b\\\u001b[2m:\u001b[0m\u001b]8;id=980932;file:///tmp/ipykernel_2722254/1763672109.py#3\u001b\\\u001b[2m3\u001b[0m\u001b]8;;\u001b\\\n"
      ]
     },
     "metadata": {},
     "output_type": "display_data"
    },
    {
     "data": {
      "text/html": [
       "<pre style=\"white-space:pre;overflow-x:auto;line-height:normal;font-family:Menlo,'DejaVu Sans Mono',consolas,'Courier New',monospace\"><span style=\"color: #7fbfbf; text-decoration-color: #7fbfbf\">                    </span><span style=\"color: #000080; text-decoration-color: #000080\">INFO    </span> model.visual.resblocks.<span style=\"color: #008080; text-decoration-color: #008080; font-weight: bold\">1.</span>mlp.c_fc.weight                                    <a href=\"file:///tmp/ipykernel_2722254/1763672109.py\" target=\"_blank\"><span style=\"color: #7f7f7f; text-decoration-color: #7f7f7f\">__main__</span></a><span style=\"color: #7f7f7f; text-decoration-color: #7f7f7f\">:</span><a href=\"file:///tmp/ipykernel_2722254/1763672109.py#3\" target=\"_blank\"><span style=\"color: #7f7f7f; text-decoration-color: #7f7f7f\">3</span></a>\n",
       "</pre>\n"
      ],
      "text/plain": [
       "\u001b[2;36m                   \u001b[0m\u001b[2;36m \u001b[0m\u001b[34mINFO    \u001b[0m model.visual.resblocks.\u001b[1;36m1.\u001b[0mmlp.c_fc.weight                                    \u001b]8;id=722744;file:///tmp/ipykernel_2722254/1763672109.py\u001b\\\u001b[2m__main__\u001b[0m\u001b]8;;\u001b\\\u001b[2m:\u001b[0m\u001b]8;id=984499;file:///tmp/ipykernel_2722254/1763672109.py#3\u001b\\\u001b[2m3\u001b[0m\u001b]8;;\u001b\\\n"
      ]
     },
     "metadata": {},
     "output_type": "display_data"
    },
    {
     "data": {
      "text/html": [
       "<pre style=\"white-space:pre;overflow-x:auto;line-height:normal;font-family:Menlo,'DejaVu Sans Mono',consolas,'Courier New',monospace\"><span style=\"color: #7fbfbf; text-decoration-color: #7fbfbf\">                    </span><span style=\"color: #000080; text-decoration-color: #000080\">INFO    </span> model.visual.resblocks.<span style=\"color: #008080; text-decoration-color: #008080; font-weight: bold\">2.</span>attn.in_proj_weight                                <a href=\"file:///tmp/ipykernel_2722254/1763672109.py\" target=\"_blank\"><span style=\"color: #7f7f7f; text-decoration-color: #7f7f7f\">__main__</span></a><span style=\"color: #7f7f7f; text-decoration-color: #7f7f7f\">:</span><a href=\"file:///tmp/ipykernel_2722254/1763672109.py#3\" target=\"_blank\"><span style=\"color: #7f7f7f; text-decoration-color: #7f7f7f\">3</span></a>\n",
       "</pre>\n"
      ],
      "text/plain": [
       "\u001b[2;36m                   \u001b[0m\u001b[2;36m \u001b[0m\u001b[34mINFO    \u001b[0m model.visual.resblocks.\u001b[1;36m2.\u001b[0mattn.in_proj_weight                                \u001b]8;id=423405;file:///tmp/ipykernel_2722254/1763672109.py\u001b\\\u001b[2m__main__\u001b[0m\u001b]8;;\u001b\\\u001b[2m:\u001b[0m\u001b]8;id=733641;file:///tmp/ipykernel_2722254/1763672109.py#3\u001b\\\u001b[2m3\u001b[0m\u001b]8;;\u001b\\\n"
      ]
     },
     "metadata": {},
     "output_type": "display_data"
    },
    {
     "data": {
      "text/html": [
       "<pre style=\"white-space:pre;overflow-x:auto;line-height:normal;font-family:Menlo,'DejaVu Sans Mono',consolas,'Courier New',monospace\"><span style=\"color: #7fbfbf; text-decoration-color: #7fbfbf\">                    </span><span style=\"color: #000080; text-decoration-color: #000080\">INFO    </span> model.visual.resblocks.<span style=\"color: #008080; text-decoration-color: #008080; font-weight: bold\">2.</span>mlp.c_fc.weight                                    <a href=\"file:///tmp/ipykernel_2722254/1763672109.py\" target=\"_blank\"><span style=\"color: #7f7f7f; text-decoration-color: #7f7f7f\">__main__</span></a><span style=\"color: #7f7f7f; text-decoration-color: #7f7f7f\">:</span><a href=\"file:///tmp/ipykernel_2722254/1763672109.py#3\" target=\"_blank\"><span style=\"color: #7f7f7f; text-decoration-color: #7f7f7f\">3</span></a>\n",
       "</pre>\n"
      ],
      "text/plain": [
       "\u001b[2;36m                   \u001b[0m\u001b[2;36m \u001b[0m\u001b[34mINFO    \u001b[0m model.visual.resblocks.\u001b[1;36m2.\u001b[0mmlp.c_fc.weight                                    \u001b]8;id=532646;file:///tmp/ipykernel_2722254/1763672109.py\u001b\\\u001b[2m__main__\u001b[0m\u001b]8;;\u001b\\\u001b[2m:\u001b[0m\u001b]8;id=393353;file:///tmp/ipykernel_2722254/1763672109.py#3\u001b\\\u001b[2m3\u001b[0m\u001b]8;;\u001b\\\n"
      ]
     },
     "metadata": {},
     "output_type": "display_data"
    },
    {
     "data": {
      "text/html": [
       "<pre style=\"white-space:pre;overflow-x:auto;line-height:normal;font-family:Menlo,'DejaVu Sans Mono',consolas,'Courier New',monospace\"><span style=\"color: #7fbfbf; text-decoration-color: #7fbfbf\">                    </span><span style=\"color: #000080; text-decoration-color: #000080\">INFO    </span> model.visual.resblocks.<span style=\"color: #008080; text-decoration-color: #008080; font-weight: bold\">3.</span>attn.in_proj_weight                                <a href=\"file:///tmp/ipykernel_2722254/1763672109.py\" target=\"_blank\"><span style=\"color: #7f7f7f; text-decoration-color: #7f7f7f\">__main__</span></a><span style=\"color: #7f7f7f; text-decoration-color: #7f7f7f\">:</span><a href=\"file:///tmp/ipykernel_2722254/1763672109.py#3\" target=\"_blank\"><span style=\"color: #7f7f7f; text-decoration-color: #7f7f7f\">3</span></a>\n",
       "</pre>\n"
      ],
      "text/plain": [
       "\u001b[2;36m                   \u001b[0m\u001b[2;36m \u001b[0m\u001b[34mINFO    \u001b[0m model.visual.resblocks.\u001b[1;36m3.\u001b[0mattn.in_proj_weight                                \u001b]8;id=279501;file:///tmp/ipykernel_2722254/1763672109.py\u001b\\\u001b[2m__main__\u001b[0m\u001b]8;;\u001b\\\u001b[2m:\u001b[0m\u001b]8;id=522847;file:///tmp/ipykernel_2722254/1763672109.py#3\u001b\\\u001b[2m3\u001b[0m\u001b]8;;\u001b\\\n"
      ]
     },
     "metadata": {},
     "output_type": "display_data"
    },
    {
     "data": {
      "text/html": [
       "<pre style=\"white-space:pre;overflow-x:auto;line-height:normal;font-family:Menlo,'DejaVu Sans Mono',consolas,'Courier New',monospace\"><span style=\"color: #7fbfbf; text-decoration-color: #7fbfbf\">                    </span><span style=\"color: #000080; text-decoration-color: #000080\">INFO    </span> model.visual.resblocks.<span style=\"color: #008080; text-decoration-color: #008080; font-weight: bold\">3.</span>mlp.c_fc.weight                                    <a href=\"file:///tmp/ipykernel_2722254/1763672109.py\" target=\"_blank\"><span style=\"color: #7f7f7f; text-decoration-color: #7f7f7f\">__main__</span></a><span style=\"color: #7f7f7f; text-decoration-color: #7f7f7f\">:</span><a href=\"file:///tmp/ipykernel_2722254/1763672109.py#3\" target=\"_blank\"><span style=\"color: #7f7f7f; text-decoration-color: #7f7f7f\">3</span></a>\n",
       "</pre>\n"
      ],
      "text/plain": [
       "\u001b[2;36m                   \u001b[0m\u001b[2;36m \u001b[0m\u001b[34mINFO    \u001b[0m model.visual.resblocks.\u001b[1;36m3.\u001b[0mmlp.c_fc.weight                                    \u001b]8;id=34987;file:///tmp/ipykernel_2722254/1763672109.py\u001b\\\u001b[2m__main__\u001b[0m\u001b]8;;\u001b\\\u001b[2m:\u001b[0m\u001b]8;id=681825;file:///tmp/ipykernel_2722254/1763672109.py#3\u001b\\\u001b[2m3\u001b[0m\u001b]8;;\u001b\\\n"
      ]
     },
     "metadata": {},
     "output_type": "display_data"
    },
    {
     "data": {
      "text/html": [
       "<pre style=\"white-space:pre;overflow-x:auto;line-height:normal;font-family:Menlo,'DejaVu Sans Mono',consolas,'Courier New',monospace\"><span style=\"color: #7fbfbf; text-decoration-color: #7fbfbf\">                    </span><span style=\"color: #000080; text-decoration-color: #000080\">INFO    </span> model.visual.resblocks.<span style=\"color: #008080; text-decoration-color: #008080; font-weight: bold\">4.</span>attn.in_proj_weight                                <a href=\"file:///tmp/ipykernel_2722254/1763672109.py\" target=\"_blank\"><span style=\"color: #7f7f7f; text-decoration-color: #7f7f7f\">__main__</span></a><span style=\"color: #7f7f7f; text-decoration-color: #7f7f7f\">:</span><a href=\"file:///tmp/ipykernel_2722254/1763672109.py#3\" target=\"_blank\"><span style=\"color: #7f7f7f; text-decoration-color: #7f7f7f\">3</span></a>\n",
       "</pre>\n"
      ],
      "text/plain": [
       "\u001b[2;36m                   \u001b[0m\u001b[2;36m \u001b[0m\u001b[34mINFO    \u001b[0m model.visual.resblocks.\u001b[1;36m4.\u001b[0mattn.in_proj_weight                                \u001b]8;id=17333;file:///tmp/ipykernel_2722254/1763672109.py\u001b\\\u001b[2m__main__\u001b[0m\u001b]8;;\u001b\\\u001b[2m:\u001b[0m\u001b]8;id=832366;file:///tmp/ipykernel_2722254/1763672109.py#3\u001b\\\u001b[2m3\u001b[0m\u001b]8;;\u001b\\\n"
      ]
     },
     "metadata": {},
     "output_type": "display_data"
    },
    {
     "data": {
      "text/html": [
       "<pre style=\"white-space:pre;overflow-x:auto;line-height:normal;font-family:Menlo,'DejaVu Sans Mono',consolas,'Courier New',monospace\"><span style=\"color: #7fbfbf; text-decoration-color: #7fbfbf\">                    </span><span style=\"color: #000080; text-decoration-color: #000080\">INFO    </span> model.visual.resblocks.<span style=\"color: #008080; text-decoration-color: #008080; font-weight: bold\">4.</span>mlp.c_fc.weight                                    <a href=\"file:///tmp/ipykernel_2722254/1763672109.py\" target=\"_blank\"><span style=\"color: #7f7f7f; text-decoration-color: #7f7f7f\">__main__</span></a><span style=\"color: #7f7f7f; text-decoration-color: #7f7f7f\">:</span><a href=\"file:///tmp/ipykernel_2722254/1763672109.py#3\" target=\"_blank\"><span style=\"color: #7f7f7f; text-decoration-color: #7f7f7f\">3</span></a>\n",
       "</pre>\n"
      ],
      "text/plain": [
       "\u001b[2;36m                   \u001b[0m\u001b[2;36m \u001b[0m\u001b[34mINFO    \u001b[0m model.visual.resblocks.\u001b[1;36m4.\u001b[0mmlp.c_fc.weight                                    \u001b]8;id=684225;file:///tmp/ipykernel_2722254/1763672109.py\u001b\\\u001b[2m__main__\u001b[0m\u001b]8;;\u001b\\\u001b[2m:\u001b[0m\u001b]8;id=755763;file:///tmp/ipykernel_2722254/1763672109.py#3\u001b\\\u001b[2m3\u001b[0m\u001b]8;;\u001b\\\n"
      ]
     },
     "metadata": {},
     "output_type": "display_data"
    },
    {
     "data": {
      "text/html": [
       "<pre style=\"white-space:pre;overflow-x:auto;line-height:normal;font-family:Menlo,'DejaVu Sans Mono',consolas,'Courier New',monospace\"><span style=\"color: #7fbfbf; text-decoration-color: #7fbfbf\">                    </span><span style=\"color: #000080; text-decoration-color: #000080\">INFO    </span> model.visual.resblocks.<span style=\"color: #008080; text-decoration-color: #008080; font-weight: bold\">5.</span>attn.in_proj_weight                                <a href=\"file:///tmp/ipykernel_2722254/1763672109.py\" target=\"_blank\"><span style=\"color: #7f7f7f; text-decoration-color: #7f7f7f\">__main__</span></a><span style=\"color: #7f7f7f; text-decoration-color: #7f7f7f\">:</span><a href=\"file:///tmp/ipykernel_2722254/1763672109.py#3\" target=\"_blank\"><span style=\"color: #7f7f7f; text-decoration-color: #7f7f7f\">3</span></a>\n",
       "</pre>\n"
      ],
      "text/plain": [
       "\u001b[2;36m                   \u001b[0m\u001b[2;36m \u001b[0m\u001b[34mINFO    \u001b[0m model.visual.resblocks.\u001b[1;36m5.\u001b[0mattn.in_proj_weight                                \u001b]8;id=689737;file:///tmp/ipykernel_2722254/1763672109.py\u001b\\\u001b[2m__main__\u001b[0m\u001b]8;;\u001b\\\u001b[2m:\u001b[0m\u001b]8;id=989136;file:///tmp/ipykernel_2722254/1763672109.py#3\u001b\\\u001b[2m3\u001b[0m\u001b]8;;\u001b\\\n"
      ]
     },
     "metadata": {},
     "output_type": "display_data"
    },
    {
     "data": {
      "text/html": [
       "<pre style=\"white-space:pre;overflow-x:auto;line-height:normal;font-family:Menlo,'DejaVu Sans Mono',consolas,'Courier New',monospace\"><span style=\"color: #7fbfbf; text-decoration-color: #7fbfbf\">                    </span><span style=\"color: #000080; text-decoration-color: #000080\">INFO    </span> model.visual.resblocks.<span style=\"color: #008080; text-decoration-color: #008080; font-weight: bold\">5.</span>mlp.c_fc.weight                                    <a href=\"file:///tmp/ipykernel_2722254/1763672109.py\" target=\"_blank\"><span style=\"color: #7f7f7f; text-decoration-color: #7f7f7f\">__main__</span></a><span style=\"color: #7f7f7f; text-decoration-color: #7f7f7f\">:</span><a href=\"file:///tmp/ipykernel_2722254/1763672109.py#3\" target=\"_blank\"><span style=\"color: #7f7f7f; text-decoration-color: #7f7f7f\">3</span></a>\n",
       "</pre>\n"
      ],
      "text/plain": [
       "\u001b[2;36m                   \u001b[0m\u001b[2;36m \u001b[0m\u001b[34mINFO    \u001b[0m model.visual.resblocks.\u001b[1;36m5.\u001b[0mmlp.c_fc.weight                                    \u001b]8;id=529599;file:///tmp/ipykernel_2722254/1763672109.py\u001b\\\u001b[2m__main__\u001b[0m\u001b]8;;\u001b\\\u001b[2m:\u001b[0m\u001b]8;id=500584;file:///tmp/ipykernel_2722254/1763672109.py#3\u001b\\\u001b[2m3\u001b[0m\u001b]8;;\u001b\\\n"
      ]
     },
     "metadata": {},
     "output_type": "display_data"
    },
    {
     "data": {
      "text/html": [
       "<pre style=\"white-space:pre;overflow-x:auto;line-height:normal;font-family:Menlo,'DejaVu Sans Mono',consolas,'Courier New',monospace\"><span style=\"color: #7fbfbf; text-decoration-color: #7fbfbf\">                    </span><span style=\"color: #000080; text-decoration-color: #000080\">INFO    </span> model.visual.resblocks.<span style=\"color: #008080; text-decoration-color: #008080; font-weight: bold\">6.</span>attn.in_proj_weight                                <a href=\"file:///tmp/ipykernel_2722254/1763672109.py\" target=\"_blank\"><span style=\"color: #7f7f7f; text-decoration-color: #7f7f7f\">__main__</span></a><span style=\"color: #7f7f7f; text-decoration-color: #7f7f7f\">:</span><a href=\"file:///tmp/ipykernel_2722254/1763672109.py#3\" target=\"_blank\"><span style=\"color: #7f7f7f; text-decoration-color: #7f7f7f\">3</span></a>\n",
       "</pre>\n"
      ],
      "text/plain": [
       "\u001b[2;36m                   \u001b[0m\u001b[2;36m \u001b[0m\u001b[34mINFO    \u001b[0m model.visual.resblocks.\u001b[1;36m6.\u001b[0mattn.in_proj_weight                                \u001b]8;id=44464;file:///tmp/ipykernel_2722254/1763672109.py\u001b\\\u001b[2m__main__\u001b[0m\u001b]8;;\u001b\\\u001b[2m:\u001b[0m\u001b]8;id=459035;file:///tmp/ipykernel_2722254/1763672109.py#3\u001b\\\u001b[2m3\u001b[0m\u001b]8;;\u001b\\\n"
      ]
     },
     "metadata": {},
     "output_type": "display_data"
    },
    {
     "data": {
      "text/html": [
       "<pre style=\"white-space:pre;overflow-x:auto;line-height:normal;font-family:Menlo,'DejaVu Sans Mono',consolas,'Courier New',monospace\"><span style=\"color: #7fbfbf; text-decoration-color: #7fbfbf\">                    </span><span style=\"color: #000080; text-decoration-color: #000080\">INFO    </span> model.visual.resblocks.<span style=\"color: #008080; text-decoration-color: #008080; font-weight: bold\">6.</span>mlp.c_fc.weight                                    <a href=\"file:///tmp/ipykernel_2722254/1763672109.py\" target=\"_blank\"><span style=\"color: #7f7f7f; text-decoration-color: #7f7f7f\">__main__</span></a><span style=\"color: #7f7f7f; text-decoration-color: #7f7f7f\">:</span><a href=\"file:///tmp/ipykernel_2722254/1763672109.py#3\" target=\"_blank\"><span style=\"color: #7f7f7f; text-decoration-color: #7f7f7f\">3</span></a>\n",
       "</pre>\n"
      ],
      "text/plain": [
       "\u001b[2;36m                   \u001b[0m\u001b[2;36m \u001b[0m\u001b[34mINFO    \u001b[0m model.visual.resblocks.\u001b[1;36m6.\u001b[0mmlp.c_fc.weight                                    \u001b]8;id=410665;file:///tmp/ipykernel_2722254/1763672109.py\u001b\\\u001b[2m__main__\u001b[0m\u001b]8;;\u001b\\\u001b[2m:\u001b[0m\u001b]8;id=70894;file:///tmp/ipykernel_2722254/1763672109.py#3\u001b\\\u001b[2m3\u001b[0m\u001b]8;;\u001b\\\n"
      ]
     },
     "metadata": {},
     "output_type": "display_data"
    },
    {
     "data": {
      "text/html": [
       "<pre style=\"white-space:pre;overflow-x:auto;line-height:normal;font-family:Menlo,'DejaVu Sans Mono',consolas,'Courier New',monospace\"><span style=\"color: #7fbfbf; text-decoration-color: #7fbfbf\">                    </span><span style=\"color: #000080; text-decoration-color: #000080\">INFO    </span> model.visual.resblocks.<span style=\"color: #008080; text-decoration-color: #008080; font-weight: bold\">7.</span>attn.in_proj_weight                                <a href=\"file:///tmp/ipykernel_2722254/1763672109.py\" target=\"_blank\"><span style=\"color: #7f7f7f; text-decoration-color: #7f7f7f\">__main__</span></a><span style=\"color: #7f7f7f; text-decoration-color: #7f7f7f\">:</span><a href=\"file:///tmp/ipykernel_2722254/1763672109.py#3\" target=\"_blank\"><span style=\"color: #7f7f7f; text-decoration-color: #7f7f7f\">3</span></a>\n",
       "</pre>\n"
      ],
      "text/plain": [
       "\u001b[2;36m                   \u001b[0m\u001b[2;36m \u001b[0m\u001b[34mINFO    \u001b[0m model.visual.resblocks.\u001b[1;36m7.\u001b[0mattn.in_proj_weight                                \u001b]8;id=912640;file:///tmp/ipykernel_2722254/1763672109.py\u001b\\\u001b[2m__main__\u001b[0m\u001b]8;;\u001b\\\u001b[2m:\u001b[0m\u001b]8;id=776335;file:///tmp/ipykernel_2722254/1763672109.py#3\u001b\\\u001b[2m3\u001b[0m\u001b]8;;\u001b\\\n"
      ]
     },
     "metadata": {},
     "output_type": "display_data"
    },
    {
     "data": {
      "text/html": [
       "<pre style=\"white-space:pre;overflow-x:auto;line-height:normal;font-family:Menlo,'DejaVu Sans Mono',consolas,'Courier New',monospace\"><span style=\"color: #7fbfbf; text-decoration-color: #7fbfbf\">                    </span><span style=\"color: #000080; text-decoration-color: #000080\">INFO    </span> model.visual.resblocks.<span style=\"color: #008080; text-decoration-color: #008080; font-weight: bold\">7.</span>mlp.c_fc.weight                                    <a href=\"file:///tmp/ipykernel_2722254/1763672109.py\" target=\"_blank\"><span style=\"color: #7f7f7f; text-decoration-color: #7f7f7f\">__main__</span></a><span style=\"color: #7f7f7f; text-decoration-color: #7f7f7f\">:</span><a href=\"file:///tmp/ipykernel_2722254/1763672109.py#3\" target=\"_blank\"><span style=\"color: #7f7f7f; text-decoration-color: #7f7f7f\">3</span></a>\n",
       "</pre>\n"
      ],
      "text/plain": [
       "\u001b[2;36m                   \u001b[0m\u001b[2;36m \u001b[0m\u001b[34mINFO    \u001b[0m model.visual.resblocks.\u001b[1;36m7.\u001b[0mmlp.c_fc.weight                                    \u001b]8;id=622397;file:///tmp/ipykernel_2722254/1763672109.py\u001b\\\u001b[2m__main__\u001b[0m\u001b]8;;\u001b\\\u001b[2m:\u001b[0m\u001b]8;id=952928;file:///tmp/ipykernel_2722254/1763672109.py#3\u001b\\\u001b[2m3\u001b[0m\u001b]8;;\u001b\\\n"
      ]
     },
     "metadata": {},
     "output_type": "display_data"
    },
    {
     "data": {
      "text/html": [
       "<pre style=\"white-space:pre;overflow-x:auto;line-height:normal;font-family:Menlo,'DejaVu Sans Mono',consolas,'Courier New',monospace\"><span style=\"color: #7fbfbf; text-decoration-color: #7fbfbf\">                    </span><span style=\"color: #000080; text-decoration-color: #000080\">INFO    </span> model.visual.resblocks.<span style=\"color: #008080; text-decoration-color: #008080; font-weight: bold\">8.</span>attn.in_proj_weight                                <a href=\"file:///tmp/ipykernel_2722254/1763672109.py\" target=\"_blank\"><span style=\"color: #7f7f7f; text-decoration-color: #7f7f7f\">__main__</span></a><span style=\"color: #7f7f7f; text-decoration-color: #7f7f7f\">:</span><a href=\"file:///tmp/ipykernel_2722254/1763672109.py#3\" target=\"_blank\"><span style=\"color: #7f7f7f; text-decoration-color: #7f7f7f\">3</span></a>\n",
       "</pre>\n"
      ],
      "text/plain": [
       "\u001b[2;36m                   \u001b[0m\u001b[2;36m \u001b[0m\u001b[34mINFO    \u001b[0m model.visual.resblocks.\u001b[1;36m8.\u001b[0mattn.in_proj_weight                                \u001b]8;id=616691;file:///tmp/ipykernel_2722254/1763672109.py\u001b\\\u001b[2m__main__\u001b[0m\u001b]8;;\u001b\\\u001b[2m:\u001b[0m\u001b]8;id=797924;file:///tmp/ipykernel_2722254/1763672109.py#3\u001b\\\u001b[2m3\u001b[0m\u001b]8;;\u001b\\\n"
      ]
     },
     "metadata": {},
     "output_type": "display_data"
    },
    {
     "data": {
      "text/html": [
       "<pre style=\"white-space:pre;overflow-x:auto;line-height:normal;font-family:Menlo,'DejaVu Sans Mono',consolas,'Courier New',monospace\"><span style=\"color: #7fbfbf; text-decoration-color: #7fbfbf\">                    </span><span style=\"color: #000080; text-decoration-color: #000080\">INFO    </span> model.visual.resblocks.<span style=\"color: #008080; text-decoration-color: #008080; font-weight: bold\">8.</span>mlp.c_fc.weight                                    <a href=\"file:///tmp/ipykernel_2722254/1763672109.py\" target=\"_blank\"><span style=\"color: #7f7f7f; text-decoration-color: #7f7f7f\">__main__</span></a><span style=\"color: #7f7f7f; text-decoration-color: #7f7f7f\">:</span><a href=\"file:///tmp/ipykernel_2722254/1763672109.py#3\" target=\"_blank\"><span style=\"color: #7f7f7f; text-decoration-color: #7f7f7f\">3</span></a>\n",
       "</pre>\n"
      ],
      "text/plain": [
       "\u001b[2;36m                   \u001b[0m\u001b[2;36m \u001b[0m\u001b[34mINFO    \u001b[0m model.visual.resblocks.\u001b[1;36m8.\u001b[0mmlp.c_fc.weight                                    \u001b]8;id=698396;file:///tmp/ipykernel_2722254/1763672109.py\u001b\\\u001b[2m__main__\u001b[0m\u001b]8;;\u001b\\\u001b[2m:\u001b[0m\u001b]8;id=381032;file:///tmp/ipykernel_2722254/1763672109.py#3\u001b\\\u001b[2m3\u001b[0m\u001b]8;;\u001b\\\n"
      ]
     },
     "metadata": {},
     "output_type": "display_data"
    },
    {
     "data": {
      "text/html": [
       "<pre style=\"white-space:pre;overflow-x:auto;line-height:normal;font-family:Menlo,'DejaVu Sans Mono',consolas,'Courier New',monospace\"><span style=\"color: #7fbfbf; text-decoration-color: #7fbfbf\">                    </span><span style=\"color: #000080; text-decoration-color: #000080\">INFO    </span> model.visual.resblocks.<span style=\"color: #008080; text-decoration-color: #008080; font-weight: bold\">9.</span>attn.in_proj_weight                                <a href=\"file:///tmp/ipykernel_2722254/1763672109.py\" target=\"_blank\"><span style=\"color: #7f7f7f; text-decoration-color: #7f7f7f\">__main__</span></a><span style=\"color: #7f7f7f; text-decoration-color: #7f7f7f\">:</span><a href=\"file:///tmp/ipykernel_2722254/1763672109.py#3\" target=\"_blank\"><span style=\"color: #7f7f7f; text-decoration-color: #7f7f7f\">3</span></a>\n",
       "</pre>\n"
      ],
      "text/plain": [
       "\u001b[2;36m                   \u001b[0m\u001b[2;36m \u001b[0m\u001b[34mINFO    \u001b[0m model.visual.resblocks.\u001b[1;36m9.\u001b[0mattn.in_proj_weight                                \u001b]8;id=213855;file:///tmp/ipykernel_2722254/1763672109.py\u001b\\\u001b[2m__main__\u001b[0m\u001b]8;;\u001b\\\u001b[2m:\u001b[0m\u001b]8;id=961134;file:///tmp/ipykernel_2722254/1763672109.py#3\u001b\\\u001b[2m3\u001b[0m\u001b]8;;\u001b\\\n"
      ]
     },
     "metadata": {},
     "output_type": "display_data"
    },
    {
     "data": {
      "text/html": [
       "<pre style=\"white-space:pre;overflow-x:auto;line-height:normal;font-family:Menlo,'DejaVu Sans Mono',consolas,'Courier New',monospace\"><span style=\"color: #7fbfbf; text-decoration-color: #7fbfbf\">                    </span><span style=\"color: #000080; text-decoration-color: #000080\">INFO    </span> model.visual.resblocks.<span style=\"color: #008080; text-decoration-color: #008080; font-weight: bold\">9.</span>mlp.c_fc.weight                                    <a href=\"file:///tmp/ipykernel_2722254/1763672109.py\" target=\"_blank\"><span style=\"color: #7f7f7f; text-decoration-color: #7f7f7f\">__main__</span></a><span style=\"color: #7f7f7f; text-decoration-color: #7f7f7f\">:</span><a href=\"file:///tmp/ipykernel_2722254/1763672109.py#3\" target=\"_blank\"><span style=\"color: #7f7f7f; text-decoration-color: #7f7f7f\">3</span></a>\n",
       "</pre>\n"
      ],
      "text/plain": [
       "\u001b[2;36m                   \u001b[0m\u001b[2;36m \u001b[0m\u001b[34mINFO    \u001b[0m model.visual.resblocks.\u001b[1;36m9.\u001b[0mmlp.c_fc.weight                                    \u001b]8;id=136919;file:///tmp/ipykernel_2722254/1763672109.py\u001b\\\u001b[2m__main__\u001b[0m\u001b]8;;\u001b\\\u001b[2m:\u001b[0m\u001b]8;id=31073;file:///tmp/ipykernel_2722254/1763672109.py#3\u001b\\\u001b[2m3\u001b[0m\u001b]8;;\u001b\\\n"
      ]
     },
     "metadata": {},
     "output_type": "display_data"
    },
    {
     "data": {
      "text/html": [
       "<pre style=\"white-space:pre;overflow-x:auto;line-height:normal;font-family:Menlo,'DejaVu Sans Mono',consolas,'Courier New',monospace\"><span style=\"color: #7fbfbf; text-decoration-color: #7fbfbf\">                    </span><span style=\"color: #000080; text-decoration-color: #000080\">INFO    </span> model.visual.resblocks.<span style=\"color: #008080; text-decoration-color: #008080; font-weight: bold\">10.</span>attn.in_proj_weight                               <a href=\"file:///tmp/ipykernel_2722254/1763672109.py\" target=\"_blank\"><span style=\"color: #7f7f7f; text-decoration-color: #7f7f7f\">__main__</span></a><span style=\"color: #7f7f7f; text-decoration-color: #7f7f7f\">:</span><a href=\"file:///tmp/ipykernel_2722254/1763672109.py#3\" target=\"_blank\"><span style=\"color: #7f7f7f; text-decoration-color: #7f7f7f\">3</span></a>\n",
       "</pre>\n"
      ],
      "text/plain": [
       "\u001b[2;36m                   \u001b[0m\u001b[2;36m \u001b[0m\u001b[34mINFO    \u001b[0m model.visual.resblocks.\u001b[1;36m10.\u001b[0mattn.in_proj_weight                               \u001b]8;id=314808;file:///tmp/ipykernel_2722254/1763672109.py\u001b\\\u001b[2m__main__\u001b[0m\u001b]8;;\u001b\\\u001b[2m:\u001b[0m\u001b]8;id=919315;file:///tmp/ipykernel_2722254/1763672109.py#3\u001b\\\u001b[2m3\u001b[0m\u001b]8;;\u001b\\\n"
      ]
     },
     "metadata": {},
     "output_type": "display_data"
    },
    {
     "data": {
      "text/html": [
       "<pre style=\"white-space:pre;overflow-x:auto;line-height:normal;font-family:Menlo,'DejaVu Sans Mono',consolas,'Courier New',monospace\"><span style=\"color: #7fbfbf; text-decoration-color: #7fbfbf\">                    </span><span style=\"color: #000080; text-decoration-color: #000080\">INFO    </span> model.visual.resblocks.<span style=\"color: #008080; text-decoration-color: #008080; font-weight: bold\">10.</span>mlp.c_fc.weight                                   <a href=\"file:///tmp/ipykernel_2722254/1763672109.py\" target=\"_blank\"><span style=\"color: #7f7f7f; text-decoration-color: #7f7f7f\">__main__</span></a><span style=\"color: #7f7f7f; text-decoration-color: #7f7f7f\">:</span><a href=\"file:///tmp/ipykernel_2722254/1763672109.py#3\" target=\"_blank\"><span style=\"color: #7f7f7f; text-decoration-color: #7f7f7f\">3</span></a>\n",
       "</pre>\n"
      ],
      "text/plain": [
       "\u001b[2;36m                   \u001b[0m\u001b[2;36m \u001b[0m\u001b[34mINFO    \u001b[0m model.visual.resblocks.\u001b[1;36m10.\u001b[0mmlp.c_fc.weight                                   \u001b]8;id=225199;file:///tmp/ipykernel_2722254/1763672109.py\u001b\\\u001b[2m__main__\u001b[0m\u001b]8;;\u001b\\\u001b[2m:\u001b[0m\u001b]8;id=888015;file:///tmp/ipykernel_2722254/1763672109.py#3\u001b\\\u001b[2m3\u001b[0m\u001b]8;;\u001b\\\n"
      ]
     },
     "metadata": {},
     "output_type": "display_data"
    },
    {
     "data": {
      "text/html": [
       "<pre style=\"white-space:pre;overflow-x:auto;line-height:normal;font-family:Menlo,'DejaVu Sans Mono',consolas,'Courier New',monospace\"><span style=\"color: #7fbfbf; text-decoration-color: #7fbfbf\">                    </span><span style=\"color: #000080; text-decoration-color: #000080\">INFO    </span> model.visual.resblocks.<span style=\"color: #008080; text-decoration-color: #008080; font-weight: bold\">11.</span>attn.in_proj_weight                               <a href=\"file:///tmp/ipykernel_2722254/1763672109.py\" target=\"_blank\"><span style=\"color: #7f7f7f; text-decoration-color: #7f7f7f\">__main__</span></a><span style=\"color: #7f7f7f; text-decoration-color: #7f7f7f\">:</span><a href=\"file:///tmp/ipykernel_2722254/1763672109.py#3\" target=\"_blank\"><span style=\"color: #7f7f7f; text-decoration-color: #7f7f7f\">3</span></a>\n",
       "</pre>\n"
      ],
      "text/plain": [
       "\u001b[2;36m                   \u001b[0m\u001b[2;36m \u001b[0m\u001b[34mINFO    \u001b[0m model.visual.resblocks.\u001b[1;36m11.\u001b[0mattn.in_proj_weight                               \u001b]8;id=210486;file:///tmp/ipykernel_2722254/1763672109.py\u001b\\\u001b[2m__main__\u001b[0m\u001b]8;;\u001b\\\u001b[2m:\u001b[0m\u001b]8;id=631791;file:///tmp/ipykernel_2722254/1763672109.py#3\u001b\\\u001b[2m3\u001b[0m\u001b]8;;\u001b\\\n"
      ]
     },
     "metadata": {},
     "output_type": "display_data"
    },
    {
     "data": {
      "text/html": [
       "<pre style=\"white-space:pre;overflow-x:auto;line-height:normal;font-family:Menlo,'DejaVu Sans Mono',consolas,'Courier New',monospace\"><span style=\"color: #7fbfbf; text-decoration-color: #7fbfbf\">                    </span><span style=\"color: #000080; text-decoration-color: #000080\">INFO    </span> model.visual.resblocks.<span style=\"color: #008080; text-decoration-color: #008080; font-weight: bold\">11.</span>mlp.c_fc.weight                                   <a href=\"file:///tmp/ipykernel_2722254/1763672109.py\" target=\"_blank\"><span style=\"color: #7f7f7f; text-decoration-color: #7f7f7f\">__main__</span></a><span style=\"color: #7f7f7f; text-decoration-color: #7f7f7f\">:</span><a href=\"file:///tmp/ipykernel_2722254/1763672109.py#3\" target=\"_blank\"><span style=\"color: #7f7f7f; text-decoration-color: #7f7f7f\">3</span></a>\n",
       "</pre>\n"
      ],
      "text/plain": [
       "\u001b[2;36m                   \u001b[0m\u001b[2;36m \u001b[0m\u001b[34mINFO    \u001b[0m model.visual.resblocks.\u001b[1;36m11.\u001b[0mmlp.c_fc.weight                                   \u001b]8;id=160350;file:///tmp/ipykernel_2722254/1763672109.py\u001b\\\u001b[2m__main__\u001b[0m\u001b]8;;\u001b\\\u001b[2m:\u001b[0m\u001b]8;id=871630;file:///tmp/ipykernel_2722254/1763672109.py#3\u001b\\\u001b[2m3\u001b[0m\u001b]8;;\u001b\\\n"
      ]
     },
     "metadata": {},
     "output_type": "display_data"
    }
   ],
   "source": [
    "for key in svd_dicts['FER2013'].keys():\n",
    "    if is_supported_layer_svd(key):\n",
    "        pylogger.info(key)\n"
   ]
  },
  {
   "cell_type": "markdown",
   "metadata": {},
   "source": [
    "## Optimisation"
   ]
  },
  {
   "cell_type": "code",
   "execution_count": 21,
   "metadata": {},
   "outputs": [],
   "source": [
    "def format_parameters(\n",
    "    parameters: Dict[str, Dict[str, Dict[str, torch.Tensor]]],\n",
    "    train: bool,\n",
    "    device: torch.device\n",
    ") -> Tuple[Dict[str, Dict[str, torch.Tensor]], Dict[str, int]]:\n",
    "    tasks = list(parameters.keys())\n",
    "    layers = parameters[tasks[0]].keys()\n",
    "    state: Dict[str, Dict[str, torch.Tensor]] = {}\n",
    "    for layer in layers:\n",
    "        if not is_supported_layer_svd(layer):\n",
    "            continue\n",
    "        u_list, s_list, v_list = [], [], []\n",
    "        for task in tasks:\n",
    "            svd = parameters[task][layer]\n",
    "            u_list.append(svd['u'])\n",
    "            s_list.append(svd['s'])\n",
    "            v_list.append(svd['v'])\n",
    "\n",
    "        u = torch.stack(u_list).to(device)\n",
    "        s = torch.stack(s_list).to(device)\n",
    "        v = torch.stack(v_list).to(device)\n",
    "\n",
    "        state[layer] = {\n",
    "            'u': nn.Parameter(u.clone().detach(), requires_grad=train),\n",
    "            's': nn.Parameter(s.clone().detach(), requires_grad=train),\n",
    "            'v': nn.Parameter(v.clone().detach(), requires_grad=train),\n",
    "        }\n",
    "    idx_map = {get_dataset_label(task): i for i, task in enumerate(tasks)}\n",
    "    return state, idx_map\n",
    "\n",
    "class LayerOptimProblem:\n",
    "    def __init__(\n",
    "        self,\n",
    "        cfg,\n",
    "        parameters: Dict[str, Dict[str, Dict[str, torch.Tensor]]],\n",
    "        dataset,\n",
    "        device,\n",
    "    ) -> None:\n",
    "        self.device = device\n",
    "        self.params, self.idx_map = format_parameters(parameters, train=True, device=self.device)\n",
    "        self.original, _         = format_parameters(parameters, train=False, device=self.device)\n",
    "        for layer in self.params:\n",
    "            for name in ('u','s','v'):\n",
    "                self.params[layer][name]     = self.params[layer][name].to(self.device)\n",
    "                self.original[layer][name]   = self.original[layer][name].to(self.device).detach()\n",
    "        self.dataset = dataset\n",
    "        optim_params = []\n",
    "        for layer_state in self.params.values():\n",
    "            optim_params += [\n",
    "                layer_state['u'],\n",
    "                layer_state['s'],\n",
    "                layer_state['v'],\n",
    "            ]\n",
    "        self.optimizer = instantiate(cfg.optim, params=optim_params)\n",
    "\n",
    "    def _reconstruct(self, layer_params: Dict[str, torch.Tensor]) -> torch.Tensor:\n",
    "        u = layer_params['u']\n",
    "        s = torch.diag_embed(layer_params['s'])\n",
    "        vT = layer_params['v']\n",
    "        return torch.einsum('tir,trr,trm->tim', u, s, vT)\n",
    "\n",
    "    def _recon_diff_loss(self, layer: str) -> torch.Tensor:\n",
    "        '''\n",
    "        it's the part of the loss corresponding to: \n",
    "        \\sum_t\\lVert U_t^l-U_t^{l'}\\rVert_2 + \\lVert \\Sigma_t^l-\\Sigma_t^{l'}\\rVert_2 + \\lVert V_t^l-V_t^{l'}\\rVert_2\n",
    "        i.e. the distance from the original parameters\n",
    "\n",
    "        we use this term to avoid sampling out of distribution weights\n",
    "        '''\n",
    "        delta       = self.params[layer]\n",
    "        delta_prime = self.original[layer]\n",
    "        return (\n",
    "            torch.norm(delta['u'] - delta_prime['u']) +\n",
    "            torch.norm(delta['s'] - delta_prime['s']) +\n",
    "            torch.norm(delta['v'] - delta_prime['v'])\n",
    "        )\n",
    "\n",
    "    def _interference_loss(self, layer: str, x: torch.Tensor, t_x: torch.Tensor) -> torch.Tensor:\n",
    "        '''\n",
    "        It's the part of the loss corresponding to:\n",
    "        \\sum_{x^{l-1}\\in \\mathcal{D}', t_x \\neq t}\\lVert(U_t^{l'}\\Sigma_t^{l'} (V_t^{l'})^T)x^{l-1} \\rVert_2 \n",
    "        i.e. is the magnitude of the output of the models not corresponding to the \"correct one\"\n",
    "\n",
    "        we use this term to shrink out the infterference\n",
    "        '''\n",
    "        delta = self._reconstruct(self.params[layer]) # t, output, embedding\n",
    "        y = torch.einsum('tod,bpd->tbpo', delta, x) # t, output, embedding @ batch, patch, embedding\n",
    "        norms = torch.norm(y, dim=-1)\n",
    "        norms = norms.sum(dim=-1)       \n",
    "        T = norms.size(0)\n",
    "        task_indices = torch.tensor([self.idx_map[int(label)] for label in t_x.tolist()], device=self.device)\n",
    "\n",
    "        # only where the task index doesn't coincide with the label\n",
    "        mask = torch.arange(T, device=self.device).unsqueeze(1) != task_indices.unsqueeze(0)\n",
    "        return norms[mask].mean()\n",
    "\n",
    "    def _signal_loss(self, layer: str, x: torch.Tensor, t_x: torch.Tensor) -> torch.Tensor:\n",
    "        '''\n",
    "        It's the part of the loss corresponding to:\n",
    "        \\sum_{x^{l-1}\\in \\mathcal{D}', t_x = t} \\lVert ((U_t^l\\Sigma_t^l (V_t^l)^T)- (U_t^{l'}\\Sigma_t^{l'} (V_t^{l'})^T)x^{l-1})\\rVert_2\n",
    "        i.e. is the difference between the deltas of the tasks corresponding to the label of x times x\n",
    "\n",
    "        it is a term we use to avoid shrking also the signal of finetuned when optimising\n",
    "        '''\n",
    "        delta_prime = self._reconstruct(self.params[layer])\n",
    "        delta = self._reconstruct(self.original[layer])\n",
    "        diff  = delta_prime - delta\n",
    "        y = torch.einsum('tod,bpd->tbpo', diff, x)\n",
    "        norms = torch.norm(y, dim=-1)\n",
    "        norms = norms.sum(dim=-1)  \n",
    "        T = norms.size(0)\n",
    "        task_indices = torch.tensor([self.idx_map[int(label)] for label in t_x.tolist()], device=self.device)\n",
    "\n",
    "        # only where the task index coincide with the label\n",
    "        mask = torch.arange(T, device=self.device).unsqueeze(1) == task_indices.unsqueeze(0)\n",
    "        return norms[mask].mean()\n",
    "        \n",
    "\n",
    "    def fit(\n",
    "        self,\n",
    "        max_epochs: int = 1,\n",
    "        tol: float = 1e-4\n",
    "    ) -> None:\n",
    "        for epoch in range(1, max_epochs + 1):\n",
    "            total_loss = 0.0\n",
    "\n",
    "            \n",
    "            layer_bar = tqdm(\n",
    "                self.params,\n",
    "                desc=f\"Epoch {epoch}\",\n",
    "                unit=\"layer\",\n",
    "                position=0,\n",
    "                leave=False,\n",
    "                dynamic_ncols=True\n",
    "            )\n",
    "            for layer in layer_bar:\n",
    "                layer_bar.set_description(f\"Epoch {epoch} | Layer {layer}\")\n",
    "\n",
    "                dataloader = DataLoader(\n",
    "                    self.dataset[svd_key_to_router_key(layer)],\n",
    "                    shuffle=True,\n",
    "                    batch_size=32 # TODO: remove this hard coding\n",
    "                )\n",
    "\n",
    "                batch_bar = tqdm(\n",
    "                    dataloader,\n",
    "                    desc=\"  Batch\",\n",
    "                    unit=\"batch\",\n",
    "                    position=0,\n",
    "                    leave=True,\n",
    "                    dynamic_ncols=True\n",
    "                )\n",
    "                for x, t_x in batch_bar:\n",
    "                    x, t_x = x.to(self.device), t_x.to(self.device)\n",
    "\n",
    "                    self.optimizer.zero_grad()\n",
    "\n",
    "                    l_diff = self._recon_diff_loss(layer)\n",
    "                    l_int  = self._interference_loss(layer, x, t_x)\n",
    "                    l_sig  = self._signal_loss(layer, x, t_x)\n",
    "                    batch_loss = l_diff + l_int + l_sig\n",
    "                    batch_loss.backward()\n",
    "                    self.optimizer.step()\n",
    "\n",
    "                    total_loss += batch_loss.item()\n",
    "\n",
    "                    batch_bar.set_postfix({\n",
    "                        \"l_diff\": f\"{l_diff.item():.4f}\",\n",
    "                        \"l_int\":  f\"{l_int.item():.4f}\",\n",
    "                        \"l_sig\":  f\"{l_sig.item():.4f}\",\n",
    "                        \"loss\":   f\"{batch_loss.item():.4f}\"\n",
    "                    })\n",
    "\n",
    "                layer_bar.set_postfix(last_loss=f\"{batch_loss.item():.4f}\")\n",
    "\n",
    "            avg_loss = total_loss / len(dataloader)\n",
    "            pylogger.info(\n",
    "                f\"Epoch {epoch:3d} — Avg Loss: {avg_loss:.4f} \"\n",
    "                f\"-- l_recon: {l_diff.item():.4f} \"\n",
    "                f\"-- l_sig:   {l_sig.item():.4f} \"\n",
    "                f\"-- l_int:   {l_int.item():.4f}\"\n",
    "            )\n",
    "            if avg_loss < tol:\n",
    "                break"
   ]
  },
  {
   "cell_type": "code",
   "execution_count": 22,
   "metadata": {},
   "outputs": [],
   "source": [
    "problem = LayerOptimProblem(cfg, svd_dicts, data, 'cuda')"
   ]
  },
  {
   "cell_type": "code",
   "execution_count": 23,
   "metadata": {},
   "outputs": [
    {
     "name": "stderr",
     "output_type": "stream",
     "text": [
      "  Batch:   0%|          | 0/30 [00:00<?, ?batch/s]roj_weight:   0%|          | 0/24 [00:00<?, ?layer/s]"
     ]
    },
    {
     "name": "stderr",
     "output_type": "stream",
     "text": [
      "  Batch: 100%|██████████| 30/30 [00:27<00:00,  1.11batch/s, l_diff=0.0918, l_int=30.7587, l_sig=0.4506, loss=31.3011]\n",
      "  Batch: 100%|██████████| 30/30 [00:26<00:00,  1.12batch/s, l_diff=0.1545, l_int=75.9984, l_sig=5.0002, loss=81.1530]=31.3011]    \n",
      "  Batch: 100%|██████████| 30/30 [00:26<00:00,  1.12batch/s, l_diff=0.0670, l_int=36.2059, l_sig=0.4009, loss=36.6738]loss=81.1530]\n",
      "  Batch: 100%|██████████| 30/30 [00:26<00:00,  1.13batch/s, l_diff=0.0630, l_int=40.9813, l_sig=0.7233, loss=41.7675]=36.6738]    \n",
      "  Batch: 100%|██████████| 30/30 [00:27<00:00,  1.09batch/s, l_diff=0.0636, l_int=39.0460, l_sig=0.6694, loss=39.7790]loss=41.7675]\n",
      "  Batch: 100%|██████████| 30/30 [00:27<00:00,  1.09batch/s, l_diff=0.0607, l_int=39.7140, l_sig=0.5769, loss=40.3516]=39.7790]    \n",
      "  Batch: 100%|██████████| 30/30 [00:26<00:00,  1.11batch/s, l_diff=0.0521, l_int=43.0162, l_sig=0.7610, loss=43.8293]loss=40.3516]\n",
      "  Batch: 100%|██████████| 30/30 [00:27<00:00,  1.11batch/s, l_diff=0.0776, l_int=50.4042, l_sig=1.7572, loss=52.2389]=43.8293]    \n",
      "  Batch: 100%|██████████| 30/30 [00:27<00:00,  1.09batch/s, l_diff=0.0420, l_int=46.3645, l_sig=0.4526, loss=46.8591]loss=52.2389]\n",
      "  Batch: 100%|██████████| 30/30 [00:27<00:00,  1.11batch/s, l_diff=0.0618, l_int=50.2173, l_sig=0.7801, loss=51.0591]=46.8591]    \n",
      "  Batch: 100%|██████████| 30/30 [00:27<00:00,  1.10batch/s, l_diff=0.0398, l_int=44.3446, l_sig=0.3528, loss=44.7372]_loss=51.0591]\n",
      "  Batch: 100%|██████████| 30/30 [00:27<00:00,  1.08batch/s, l_diff=0.1013, l_int=54.3834, l_sig=1.2877, loss=55.7723]s=44.7372]    \n",
      "  Batch: 100%|██████████| 30/30 [00:27<00:00,  1.10batch/s, l_diff=0.0400, l_int=37.1849, l_sig=0.4030, loss=37.6279]_loss=55.7723]\n",
      "  Batch: 100%|██████████| 30/30 [00:26<00:00,  1.13batch/s, l_diff=0.1274, l_int=53.6770, l_sig=1.3818, loss=55.1862]s=37.6279]    \n",
      "  Batch: 100%|██████████| 30/30 [00:25<00:00,  1.18batch/s, l_diff=0.0390, l_int=33.5199, l_sig=0.4539, loss=34.0128]_loss=55.1862]\n",
      "  Batch: 100%|██████████| 30/30 [00:25<00:00,  1.17batch/s, l_diff=0.1641, l_int=58.0138, l_sig=2.5660, loss=60.7439]s=34.0128]    \n",
      "  Batch: 100%|██████████| 30/30 [00:26<00:00,  1.14batch/s, l_diff=0.0425, l_int=30.4329, l_sig=0.4712, loss=30.9466]_loss=60.7439]\n",
      "  Batch: 100%|██████████| 30/30 [00:25<00:00,  1.16batch/s, l_diff=0.2736, l_int=96.3431, l_sig=4.6949, loss=101.3117] 30.9466]    \n",
      "  Batch: 100%|██████████| 30/30 [00:25<00:00,  1.16batch/s, l_diff=0.0537, l_int=33.4139, l_sig=0.6893, loss=34.1569]_loss=101.3117]\n",
      "  Batch: 100%|██████████| 30/30 [00:25<00:00,  1.18batch/s, l_diff=0.4660, l_int=190.5772, l_sig=26.7786, loss=217.8218]4.1569]     \n",
      "  Batch: 100%|██████████| 30/30 [00:25<00:00,  1.16batch/s, l_diff=0.0651, l_int=34.9089, l_sig=0.8540, loss=35.8280]t_loss=217.8218]\n",
      "  Batch: 100%|██████████| 30/30 [00:25<00:00,  1.16batch/s, l_diff=0.4086, l_int=187.1768, l_sig=13.2629, loss=200.8484]35.8280]     \n",
      "  Batch: 100%|██████████| 30/30 [00:26<00:00,  1.13batch/s, l_diff=0.0646, l_int=39.0770, l_sig=0.8519, loss=39.9935]t_loss=200.8484]\n",
      "  Batch: 100%|██████████| 30/30 [00:26<00:00,  1.12batch/s, l_diff=0.1800, l_int=47.4240, l_sig=4.2415, loss=51.8455]ss=39.9935]     \n",
      "                                                                                                                                \r"
     ]
    },
    {
     "data": {
      "text/html": [
       "<pre style=\"white-space:pre;overflow-x:auto;line-height:normal;font-family:Menlo,'DejaVu Sans Mono',consolas,'Courier New',monospace\"><span style=\"color: #7fbfbf; text-decoration-color: #7fbfbf\">2025-04-28 09:53:23 </span><span style=\"color: #000080; text-decoration-color: #000080\">INFO    </span> Epoch   <span style=\"color: #008080; text-decoration-color: #008080; font-weight: bold\">1</span> — Avg Loss: <span style=\"color: #008080; text-decoration-color: #008080; font-weight: bold\">1565.5155</span> -- l_recon: <span style=\"color: #008080; text-decoration-color: #008080; font-weight: bold\">0.1800</span> -- l_sig:   <span style=\"color: #008080; text-decoration-color: #008080; font-weight: bold\">4.2415</span> --  <a href=\"file:///tmp/ipykernel_2722254/1103528832.py\" target=\"_blank\"><span style=\"color: #7f7f7f; text-decoration-color: #7f7f7f\">__main__</span></a><span style=\"color: #7f7f7f; text-decoration-color: #7f7f7f\">:</span><a href=\"file:///tmp/ipykernel_2722254/1103528832.py#177\" target=\"_blank\"><span style=\"color: #7f7f7f; text-decoration-color: #7f7f7f\">177</span></a>\n",
       "<span style=\"color: #7fbfbf; text-decoration-color: #7fbfbf\">                    </span>         l_int:   <span style=\"color: #008080; text-decoration-color: #008080; font-weight: bold\">47.4240</span>                                                          <span style=\"color: #7f7f7f; text-decoration-color: #7f7f7f\">            </span>\n",
       "</pre>\n"
      ],
      "text/plain": [
       "\u001b[2;36m2025-04-28 09:53:23\u001b[0m\u001b[2;36m \u001b[0m\u001b[34mINFO    \u001b[0m Epoch   \u001b[1;36m1\u001b[0m — Avg Loss: \u001b[1;36m1565.5155\u001b[0m -- l_recon: \u001b[1;36m0.1800\u001b[0m -- l_sig:   \u001b[1;36m4.2415\u001b[0m --  \u001b]8;id=550460;file:///tmp/ipykernel_2722254/1103528832.py\u001b\\\u001b[2m__main__\u001b[0m\u001b]8;;\u001b\\\u001b[2m:\u001b[0m\u001b]8;id=915688;file:///tmp/ipykernel_2722254/1103528832.py#177\u001b\\\u001b[2m177\u001b[0m\u001b]8;;\u001b\\\n",
       "\u001b[2;36m                    \u001b[0m         l_int:   \u001b[1;36m47.4240\u001b[0m                                                          \u001b[2m            \u001b[0m\n"
      ]
     },
     "metadata": {},
     "output_type": "display_data"
    }
   ],
   "source": [
    "problem.fit()"
   ]
  },
  {
   "cell_type": "markdown",
   "metadata": {},
   "source": [
    "## Apply to pretrained"
   ]
  },
  {
   "cell_type": "code",
   "execution_count": 30,
   "metadata": {},
   "outputs": [
    {
     "data": {
      "text/plain": [
       "dict_keys(['model.visual.resblocks.0.attn.in_proj_weight', 'model.visual.resblocks.0.mlp.c_fc.weight', 'model.visual.resblocks.1.attn.in_proj_weight', 'model.visual.resblocks.1.mlp.c_fc.weight', 'model.visual.resblocks.2.attn.in_proj_weight', 'model.visual.resblocks.2.mlp.c_fc.weight', 'model.visual.resblocks.3.attn.in_proj_weight', 'model.visual.resblocks.3.mlp.c_fc.weight', 'model.visual.resblocks.4.attn.in_proj_weight', 'model.visual.resblocks.4.mlp.c_fc.weight', 'model.visual.resblocks.5.attn.in_proj_weight', 'model.visual.resblocks.5.mlp.c_fc.weight', 'model.visual.resblocks.6.attn.in_proj_weight', 'model.visual.resblocks.6.mlp.c_fc.weight', 'model.visual.resblocks.7.attn.in_proj_weight', 'model.visual.resblocks.7.mlp.c_fc.weight', 'model.visual.resblocks.8.attn.in_proj_weight', 'model.visual.resblocks.8.mlp.c_fc.weight', 'model.visual.resblocks.9.attn.in_proj_weight', 'model.visual.resblocks.9.mlp.c_fc.weight', 'model.visual.resblocks.10.attn.in_proj_weight', 'model.visual.resblocks.10.mlp.c_fc.weight', 'model.visual.resblocks.11.attn.in_proj_weight', 'model.visual.resblocks.11.mlp.c_fc.weight'])"
      ]
     },
     "execution_count": 30,
     "metadata": {},
     "output_type": "execute_result"
    }
   ],
   "source": [
    "problem.params.keys()"
   ]
  },
  {
   "cell_type": "code",
   "execution_count": 39,
   "metadata": {},
   "outputs": [
    {
     "data": {
      "text/html": [
       "<pre style=\"white-space:pre;overflow-x:auto;line-height:normal;font-family:Menlo,'DejaVu Sans Mono',consolas,'Courier New',monospace\"><span style=\"color: #7fbfbf; text-decoration-color: #7fbfbf\">2025-04-28 10:07:24 </span><span style=\"color: #000080; text-decoration-color: #000080\">INFO    </span> Loading ViT-B-<span style=\"color: #008080; text-decoration-color: #008080; font-weight: bold\">32</span> pre-trained weights.                          <a href=\"file:///root/mass/src/mass/modules/encoder.py\" target=\"_blank\"><span style=\"color: #7f7f7f; text-decoration-color: #7f7f7f\">mass.modules.encoder</span></a><span style=\"color: #7f7f7f; text-decoration-color: #7f7f7f\">:</span><a href=\"file:///root/mass/src/mass/modules/encoder.py#24\" target=\"_blank\"><span style=\"color: #7f7f7f; text-decoration-color: #7f7f7f\">24</span></a>\n",
       "</pre>\n"
      ],
      "text/plain": [
       "\u001b[2;36m2025-04-28 10:07:24\u001b[0m\u001b[2;36m \u001b[0m\u001b[34mINFO    \u001b[0m Loading ViT-B-\u001b[1;36m32\u001b[0m pre-trained weights.                          \u001b]8;id=604041;file:///root/mass/src/mass/modules/encoder.py\u001b\\\u001b[2mmass.modules.encoder\u001b[0m\u001b]8;;\u001b\\\u001b[2m:\u001b[0m\u001b]8;id=679279;file:///root/mass/src/mass/modules/encoder.py#24\u001b\\\u001b[2m24\u001b[0m\u001b]8;;\u001b\\\n"
      ]
     },
     "metadata": {},
     "output_type": "display_data"
    },
    {
     "data": {
      "text/html": [
       "<pre style=\"white-space:pre;overflow-x:auto;line-height:normal;font-family:Menlo,'DejaVu Sans Mono',consolas,'Courier New',monospace\"><span style=\"color: #7fbfbf; text-decoration-color: #7fbfbf\">                    </span><span style=\"color: #000080; text-decoration-color: #000080\">INFO    </span> Loading pretrained ViT-B-<span style=\"color: #008080; text-decoration-color: #008080; font-weight: bold\">32</span> from OpenAI.                                       <a href=\"file:///root/mass/.venv/lib/python3.11/site-packages/open_clip/factory.py\" target=\"_blank\"><span style=\"color: #7f7f7f; text-decoration-color: #7f7f7f\">root</span></a><span style=\"color: #7f7f7f; text-decoration-color: #7f7f7f\">:</span><a href=\"file:///root/mass/.venv/lib/python3.11/site-packages/open_clip/factory.py#82\" target=\"_blank\"><span style=\"color: #7f7f7f; text-decoration-color: #7f7f7f\">82</span></a>\n",
       "</pre>\n"
      ],
      "text/plain": [
       "\u001b[2;36m                   \u001b[0m\u001b[2;36m \u001b[0m\u001b[34mINFO    \u001b[0m Loading pretrained ViT-B-\u001b[1;36m32\u001b[0m from OpenAI.                                       \u001b]8;id=154532;file:///root/mass/.venv/lib/python3.11/site-packages/open_clip/factory.py\u001b\\\u001b[2mroot\u001b[0m\u001b]8;;\u001b\\\u001b[2m:\u001b[0m\u001b]8;id=478347;file:///root/mass/.venv/lib/python3.11/site-packages/open_clip/factory.py#82\u001b\\\u001b[2m82\u001b[0m\u001b]8;;\u001b\\\n"
      ]
     },
     "metadata": {},
     "output_type": "display_data"
    },
    {
     "data": {
      "text/html": [
       "<pre style=\"white-space:pre;overflow-x:auto;line-height:normal;font-family:Menlo,'DejaVu Sans Mono',consolas,'Courier New',monospace\"><span style=\"color: #7fbfbf; text-decoration-color: #7fbfbf\">2025-04-28 10:07:35 </span><span style=\"color: #000080; text-decoration-color: #000080\">INFO    </span> Removing text transformer from the model.                      <a href=\"file:///root/mass/src/mass/modules/encoder.py\" target=\"_blank\"><span style=\"color: #7f7f7f; text-decoration-color: #7f7f7f\">mass.modules.encoder</span></a><span style=\"color: #7f7f7f; text-decoration-color: #7f7f7f\">:</span><a href=\"file:///root/mass/src/mass/modules/encoder.py#40\" target=\"_blank\"><span style=\"color: #7f7f7f; text-decoration-color: #7f7f7f\">40</span></a>\n",
       "</pre>\n"
      ],
      "text/plain": [
       "\u001b[2;36m2025-04-28 10:07:35\u001b[0m\u001b[2;36m \u001b[0m\u001b[34mINFO    \u001b[0m Removing text transformer from the model.                      \u001b]8;id=311198;file:///root/mass/src/mass/modules/encoder.py\u001b\\\u001b[2mmass.modules.encoder\u001b[0m\u001b]8;;\u001b\\\u001b[2m:\u001b[0m\u001b]8;id=919663;file:///root/mass/src/mass/modules/encoder.py#40\u001b\\\u001b[2m40\u001b[0m\u001b]8;;\u001b\\\n"
      ]
     },
     "metadata": {},
     "output_type": "display_data"
    },
    {
     "data": {
      "text/plain": [
       "<All keys matched successfully>"
      ]
     },
     "execution_count": 39,
     "metadata": {},
     "output_type": "execute_result"
    }
   ],
   "source": [
    "\n",
    "def merge_parameters(zeroshot, problem: LayerOptimProblem) -> Dict[str, torch.Tensor]:\n",
    "    def _reconstruct(layer_params: Dict[str, torch.Tensor]) -> torch.Tensor:\n",
    "        u = layer_params['u']                                  # [T, O, R]\n",
    "        s = torch.diag_embed(layer_params['s'])               # [T, R, R]\n",
    "        vT = layer_params['v']                                # [T, I, R]\n",
    "        return torch.einsum('tor,trr,tri->toi', u, s, vT)\n",
    "\n",
    "    new_state = copy.deepcopy(zeroshot.state_dict())\n",
    "\n",
    "    for layer_key, layer_params in problem.params.items():\n",
    "        if add_transformer_key(layer_key) not in new_state:\n",
    "            pylogger.warning(f\"Skipping layer {layer_key}\")\n",
    "        delta_t = _reconstruct(layer_params)    # [T, out, in]\n",
    "        delta   = delta_t.sum(dim=0)            # [out, in]\n",
    "\n",
    "        delta = delta.to(new_state[add_transformer_key(layer_key)].device).type_as(new_state[add_transformer_key(layer_key)])\n",
    "        new_state[add_transformer_key(layer_key)] = new_state[add_transformer_key(layer_key)] + delta\n",
    "\n",
    "    return new_state\n",
    "\n",
    "            \n",
    "    \n",
    "\n",
    "merged_vector = merge_parameters(zeroshot_encoder, problem)\n",
    "\n",
    "merged_encoder: ImageEncoder = instantiate(\n",
    "    cfg.nn.module.encoder\n",
    ")  # the second pass backbone\n",
    "\n",
    "merged_encoder.load_state_dict(merged_vector, strict=False)\n"
   ]
  },
  {
   "cell_type": "markdown",
   "metadata": {},
   "source": [
    "## Evaluation"
   ]
  },
  {
   "cell_type": "code",
   "execution_count": 40,
   "metadata": {},
   "outputs": [],
   "source": [
    "def evaluate(model, dataset_name, preprocess_fn):\n",
    "\n",
    "    dataset = get_dataset(\n",
    "        dataset_name,\n",
    "        preprocess_fn=preprocess_fn,\n",
    "        location=cfg.nn.data.data_path,\n",
    "        batch_size=cfg.nn.data.batch_size.train,\n",
    "    )\n",
    "\n",
    "    trainer = pl.Trainer(\n",
    "        **cfg.train.trainer,\n",
    "    )\n",
    "\n",
    "    pylogger.error(\"For now evaluation supported only on val-set\")\n",
    "\n",
    "    pylogger.info(f\"Evaluating on the {dataset_name} test set!\")\n",
    "    test_results = trainer.test(model=model, dataloaders=dataset.test_loader)\n",
    "\n",
    "    return test_results[0][\"acc/test\"]"
   ]
  },
  {
   "cell_type": "code",
   "execution_count": 41,
   "metadata": {},
   "outputs": [
    {
     "name": "stdout",
     "output_type": "stream",
     "text": [
      "Loading classification head from ../checkpoints/ViT-B-32/head_FER2013.pt\n"
     ]
    },
    {
     "name": "stderr",
     "output_type": "stream",
     "text": [
      "/root/mass/.venv/lib/python3.11/site-packages/pytorch_lightning/utilities/parsing.py:197: UserWarning: Attribute 'encoder' is an instance of `nn.Module` and is already saved during checkpointing. It is recommended to ignore them using `self.save_hyperparameters(ignore=['encoder'])`.\n",
      "  rank_zero_warn(\n",
      "/root/mass/.venv/lib/python3.11/site-packages/pytorch_lightning/utilities/parsing.py:197: UserWarning: Attribute 'classifier' is an instance of `nn.Module` and is already saved during checkpointing. It is recommended to ignore them using `self.save_hyperparameters(ignore=['classifier'])`.\n",
      "  rank_zero_warn(\n",
      "INFO: GPU available: True (cuda), used: True\n"
     ]
    },
    {
     "name": "stdout",
     "output_type": "stream",
     "text": [
      "Loading training dataset from ../data/fer-2013/train...\n",
      "Loading test dataset from ../data/fer-2013/test...\n"
     ]
    },
    {
     "data": {
      "text/html": [
       "<pre style=\"white-space:pre;overflow-x:auto;line-height:normal;font-family:Menlo,'DejaVu Sans Mono',consolas,'Courier New',monospace\"><span style=\"color: #7fbfbf; text-decoration-color: #7fbfbf\">2025-04-28 10:07:47 </span><span style=\"color: #000080; text-decoration-color: #000080\">INFO    </span> GPU available: <span style=\"color: #00ff00; text-decoration-color: #00ff00; font-style: italic\">True</span> <span style=\"font-weight: bold\">(</span>cuda<span style=\"font-weight: bold\">)</span>, used: <span style=\"color: #00ff00; text-decoration-color: #00ff00; font-style: italic\">True</span>        <a href=\"file:///root/mass/.venv/lib/python3.11/site-packages/lightning_utilities/core/rank_zero.py\" target=\"_blank\"><span style=\"color: #7f7f7f; text-decoration-color: #7f7f7f\">lightning.pytorch.utilities.rank_zero</span></a><span style=\"color: #7f7f7f; text-decoration-color: #7f7f7f\">:</span><a href=\"file:///root/mass/.venv/lib/python3.11/site-packages/lightning_utilities/core/rank_zero.py#63\" target=\"_blank\"><span style=\"color: #7f7f7f; text-decoration-color: #7f7f7f\">63</span></a>\n",
       "</pre>\n"
      ],
      "text/plain": [
       "\u001b[2;36m2025-04-28 10:07:47\u001b[0m\u001b[2;36m \u001b[0m\u001b[34mINFO    \u001b[0m GPU available: \u001b[3;92mTrue\u001b[0m \u001b[1m(\u001b[0mcuda\u001b[1m)\u001b[0m, used: \u001b[3;92mTrue\u001b[0m        \u001b]8;id=593889;file:///root/mass/.venv/lib/python3.11/site-packages/lightning_utilities/core/rank_zero.py\u001b\\\u001b[2mlightning.pytorch.utilities.rank_zero\u001b[0m\u001b]8;;\u001b\\\u001b[2m:\u001b[0m\u001b]8;id=751016;file:///root/mass/.venv/lib/python3.11/site-packages/lightning_utilities/core/rank_zero.py#63\u001b\\\u001b[2m63\u001b[0m\u001b]8;;\u001b\\\n"
      ]
     },
     "metadata": {},
     "output_type": "display_data"
    },
    {
     "name": "stderr",
     "output_type": "stream",
     "text": [
      "INFO: TPU available: False, using: 0 TPU cores\n"
     ]
    },
    {
     "data": {
      "text/html": [
       "<pre style=\"white-space:pre;overflow-x:auto;line-height:normal;font-family:Menlo,'DejaVu Sans Mono',consolas,'Courier New',monospace\"><span style=\"color: #7fbfbf; text-decoration-color: #7fbfbf\">                    </span><span style=\"color: #000080; text-decoration-color: #000080\">INFO    </span> TPU available: <span style=\"color: #ff0000; text-decoration-color: #ff0000; font-style: italic\">False</span>, using: <span style=\"color: #008080; text-decoration-color: #008080; font-weight: bold\">0</span> TPU cores      <a href=\"file:///root/mass/.venv/lib/python3.11/site-packages/lightning_utilities/core/rank_zero.py\" target=\"_blank\"><span style=\"color: #7f7f7f; text-decoration-color: #7f7f7f\">lightning.pytorch.utilities.rank_zero</span></a><span style=\"color: #7f7f7f; text-decoration-color: #7f7f7f\">:</span><a href=\"file:///root/mass/.venv/lib/python3.11/site-packages/lightning_utilities/core/rank_zero.py#63\" target=\"_blank\"><span style=\"color: #7f7f7f; text-decoration-color: #7f7f7f\">63</span></a>\n",
       "</pre>\n"
      ],
      "text/plain": [
       "\u001b[2;36m                   \u001b[0m\u001b[2;36m \u001b[0m\u001b[34mINFO    \u001b[0m TPU available: \u001b[3;91mFalse\u001b[0m, using: \u001b[1;36m0\u001b[0m TPU cores      \u001b]8;id=217601;file:///root/mass/.venv/lib/python3.11/site-packages/lightning_utilities/core/rank_zero.py\u001b\\\u001b[2mlightning.pytorch.utilities.rank_zero\u001b[0m\u001b]8;;\u001b\\\u001b[2m:\u001b[0m\u001b]8;id=900238;file:///root/mass/.venv/lib/python3.11/site-packages/lightning_utilities/core/rank_zero.py#63\u001b\\\u001b[2m63\u001b[0m\u001b]8;;\u001b\\\n"
      ]
     },
     "metadata": {},
     "output_type": "display_data"
    },
    {
     "name": "stderr",
     "output_type": "stream",
     "text": [
      "INFO: IPU available: False, using: 0 IPUs\n"
     ]
    },
    {
     "data": {
      "text/html": [
       "<pre style=\"white-space:pre;overflow-x:auto;line-height:normal;font-family:Menlo,'DejaVu Sans Mono',consolas,'Courier New',monospace\"><span style=\"color: #7fbfbf; text-decoration-color: #7fbfbf\">                    </span><span style=\"color: #000080; text-decoration-color: #000080\">INFO    </span> IPU available: <span style=\"color: #ff0000; text-decoration-color: #ff0000; font-style: italic\">False</span>, using: <span style=\"color: #008080; text-decoration-color: #008080; font-weight: bold\">0</span> IPUs           <a href=\"file:///root/mass/.venv/lib/python3.11/site-packages/lightning_utilities/core/rank_zero.py\" target=\"_blank\"><span style=\"color: #7f7f7f; text-decoration-color: #7f7f7f\">lightning.pytorch.utilities.rank_zero</span></a><span style=\"color: #7f7f7f; text-decoration-color: #7f7f7f\">:</span><a href=\"file:///root/mass/.venv/lib/python3.11/site-packages/lightning_utilities/core/rank_zero.py#63\" target=\"_blank\"><span style=\"color: #7f7f7f; text-decoration-color: #7f7f7f\">63</span></a>\n",
       "</pre>\n"
      ],
      "text/plain": [
       "\u001b[2;36m                   \u001b[0m\u001b[2;36m \u001b[0m\u001b[34mINFO    \u001b[0m IPU available: \u001b[3;91mFalse\u001b[0m, using: \u001b[1;36m0\u001b[0m IPUs           \u001b]8;id=860488;file:///root/mass/.venv/lib/python3.11/site-packages/lightning_utilities/core/rank_zero.py\u001b\\\u001b[2mlightning.pytorch.utilities.rank_zero\u001b[0m\u001b]8;;\u001b\\\u001b[2m:\u001b[0m\u001b]8;id=806765;file:///root/mass/.venv/lib/python3.11/site-packages/lightning_utilities/core/rank_zero.py#63\u001b\\\u001b[2m63\u001b[0m\u001b]8;;\u001b\\\n"
      ]
     },
     "metadata": {},
     "output_type": "display_data"
    },
    {
     "name": "stderr",
     "output_type": "stream",
     "text": [
      "INFO: HPU available: False, using: 0 HPUs\n"
     ]
    },
    {
     "data": {
      "text/html": [
       "<pre style=\"white-space:pre;overflow-x:auto;line-height:normal;font-family:Menlo,'DejaVu Sans Mono',consolas,'Courier New',monospace\"><span style=\"color: #7fbfbf; text-decoration-color: #7fbfbf\">                    </span><span style=\"color: #000080; text-decoration-color: #000080\">INFO    </span> HPU available: <span style=\"color: #ff0000; text-decoration-color: #ff0000; font-style: italic\">False</span>, using: <span style=\"color: #008080; text-decoration-color: #008080; font-weight: bold\">0</span> HPUs           <a href=\"file:///root/mass/.venv/lib/python3.11/site-packages/lightning_utilities/core/rank_zero.py\" target=\"_blank\"><span style=\"color: #7f7f7f; text-decoration-color: #7f7f7f\">lightning.pytorch.utilities.rank_zero</span></a><span style=\"color: #7f7f7f; text-decoration-color: #7f7f7f\">:</span><a href=\"file:///root/mass/.venv/lib/python3.11/site-packages/lightning_utilities/core/rank_zero.py#63\" target=\"_blank\"><span style=\"color: #7f7f7f; text-decoration-color: #7f7f7f\">63</span></a>\n",
       "</pre>\n"
      ],
      "text/plain": [
       "\u001b[2;36m                   \u001b[0m\u001b[2;36m \u001b[0m\u001b[34mINFO    \u001b[0m HPU available: \u001b[3;91mFalse\u001b[0m, using: \u001b[1;36m0\u001b[0m HPUs           \u001b]8;id=293821;file:///root/mass/.venv/lib/python3.11/site-packages/lightning_utilities/core/rank_zero.py\u001b\\\u001b[2mlightning.pytorch.utilities.rank_zero\u001b[0m\u001b]8;;\u001b\\\u001b[2m:\u001b[0m\u001b]8;id=327706;file:///root/mass/.venv/lib/python3.11/site-packages/lightning_utilities/core/rank_zero.py#63\u001b\\\u001b[2m63\u001b[0m\u001b]8;;\u001b\\\n"
      ]
     },
     "metadata": {},
     "output_type": "display_data"
    },
    {
     "name": "stderr",
     "output_type": "stream",
     "text": [
      "/root/mass/.venv/lib/python3.11/site-packages/pytorch_lightning/trainer/connectors/logger_connector/logger_connector.py:67: UserWarning: Starting from v1.9.0, `tensorboardX` has been removed as a dependency of the `pytorch_lightning` package, due to potential conflicts with other packages in the ML ecosystem. For this reason, `logger=True` will use `CSVLogger` as the default logger, unless the `tensorboard` or `tensorboardX` packages are found. Please `pip install lightning[extra]` or one of them to enable TensorBoard support by default\n",
      "  warning_cache.warn(\n",
      "INFO: `Trainer(val_check_interval=1.0)` was configured so validation will run at the end of the training epoch..\n"
     ]
    },
    {
     "data": {
      "text/html": [
       "<pre style=\"white-space:pre;overflow-x:auto;line-height:normal;font-family:Menlo,'DejaVu Sans Mono',consolas,'Courier New',monospace\"><span style=\"color: #7fbfbf; text-decoration-color: #7fbfbf\">                    </span><span style=\"color: #000080; text-decoration-color: #000080\">INFO    </span> `<span style=\"color: #800080; text-decoration-color: #800080; font-weight: bold\">Trainer</span><span style=\"font-weight: bold\">(</span><span style=\"color: #808000; text-decoration-color: #808000\">val_check_interval</span>=<span style=\"color: #008080; text-decoration-color: #008080; font-weight: bold\">1.0</span><span style=\"font-weight: bold\">)</span>` was         <a href=\"file:///root/mass/.venv/lib/python3.11/site-packages/lightning_utilities/core/rank_zero.py\" target=\"_blank\"><span style=\"color: #7f7f7f; text-decoration-color: #7f7f7f\">lightning.pytorch.utilities.rank_zero</span></a><span style=\"color: #7f7f7f; text-decoration-color: #7f7f7f\">:</span><a href=\"file:///root/mass/.venv/lib/python3.11/site-packages/lightning_utilities/core/rank_zero.py#63\" target=\"_blank\"><span style=\"color: #7f7f7f; text-decoration-color: #7f7f7f\">63</span></a>\n",
       "<span style=\"color: #7fbfbf; text-decoration-color: #7fbfbf\">                    </span>         configured so validation will run at the end  <span style=\"color: #7f7f7f; text-decoration-color: #7f7f7f\">                                        </span>\n",
       "<span style=\"color: #7fbfbf; text-decoration-color: #7fbfbf\">                    </span>         of the training epoch..                       <span style=\"color: #7f7f7f; text-decoration-color: #7f7f7f\">                                        </span>\n",
       "</pre>\n"
      ],
      "text/plain": [
       "\u001b[2;36m                   \u001b[0m\u001b[2;36m \u001b[0m\u001b[34mINFO    \u001b[0m `\u001b[1;35mTrainer\u001b[0m\u001b[1m(\u001b[0m\u001b[33mval_check_interval\u001b[0m=\u001b[1;36m1\u001b[0m\u001b[1;36m.0\u001b[0m\u001b[1m)\u001b[0m` was         \u001b]8;id=524936;file:///root/mass/.venv/lib/python3.11/site-packages/lightning_utilities/core/rank_zero.py\u001b\\\u001b[2mlightning.pytorch.utilities.rank_zero\u001b[0m\u001b]8;;\u001b\\\u001b[2m:\u001b[0m\u001b]8;id=657743;file:///root/mass/.venv/lib/python3.11/site-packages/lightning_utilities/core/rank_zero.py#63\u001b\\\u001b[2m63\u001b[0m\u001b]8;;\u001b\\\n",
       "\u001b[2;36m                    \u001b[0m         configured so validation will run at the end  \u001b[2m                                        \u001b[0m\n",
       "\u001b[2;36m                    \u001b[0m         of the training epoch..                       \u001b[2m                                        \u001b[0m\n"
      ]
     },
     "metadata": {},
     "output_type": "display_data"
    },
    {
     "data": {
      "text/html": [
       "<pre style=\"white-space:pre;overflow-x:auto;line-height:normal;font-family:Menlo,'DejaVu Sans Mono',consolas,'Courier New',monospace\"><span style=\"color: #7fbfbf; text-decoration-color: #7fbfbf\">                    </span><span style=\"color: #800000; text-decoration-color: #800000; font-weight: bold\">ERROR   </span> For now evaluation supported only on val-set                               <a href=\"file:///tmp/ipykernel_2722254/714905877.py\" target=\"_blank\"><span style=\"color: #7f7f7f; text-decoration-color: #7f7f7f\">__main__</span></a><span style=\"color: #7f7f7f; text-decoration-color: #7f7f7f\">:</span><a href=\"file:///tmp/ipykernel_2722254/714905877.py#14\" target=\"_blank\"><span style=\"color: #7f7f7f; text-decoration-color: #7f7f7f\">14</span></a>\n",
       "</pre>\n"
      ],
      "text/plain": [
       "\u001b[2;36m                   \u001b[0m\u001b[2;36m \u001b[0m\u001b[1;31mERROR   \u001b[0m For now evaluation supported only on val-set                               \u001b]8;id=315455;file:///tmp/ipykernel_2722254/714905877.py\u001b\\\u001b[2m__main__\u001b[0m\u001b]8;;\u001b\\\u001b[2m:\u001b[0m\u001b]8;id=649215;file:///tmp/ipykernel_2722254/714905877.py#14\u001b\\\u001b[2m14\u001b[0m\u001b]8;;\u001b\\\n"
      ]
     },
     "metadata": {},
     "output_type": "display_data"
    },
    {
     "data": {
      "text/html": [
       "<pre style=\"white-space:pre;overflow-x:auto;line-height:normal;font-family:Menlo,'DejaVu Sans Mono',consolas,'Courier New',monospace\"><span style=\"color: #7fbfbf; text-decoration-color: #7fbfbf\">                    </span><span style=\"color: #000080; text-decoration-color: #000080\">INFO    </span> Evaluating on the FER2013 test set!                                        <a href=\"file:///tmp/ipykernel_2722254/714905877.py\" target=\"_blank\"><span style=\"color: #7f7f7f; text-decoration-color: #7f7f7f\">__main__</span></a><span style=\"color: #7f7f7f; text-decoration-color: #7f7f7f\">:</span><a href=\"file:///tmp/ipykernel_2722254/714905877.py#16\" target=\"_blank\"><span style=\"color: #7f7f7f; text-decoration-color: #7f7f7f\">16</span></a>\n",
       "</pre>\n"
      ],
      "text/plain": [
       "\u001b[2;36m                   \u001b[0m\u001b[2;36m \u001b[0m\u001b[34mINFO    \u001b[0m Evaluating on the FER2013 test set!                                        \u001b]8;id=302545;file:///tmp/ipykernel_2722254/714905877.py\u001b\\\u001b[2m__main__\u001b[0m\u001b]8;;\u001b\\\u001b[2m:\u001b[0m\u001b]8;id=885948;file:///tmp/ipykernel_2722254/714905877.py#16\u001b\\\u001b[2m16\u001b[0m\u001b]8;;\u001b\\\n"
      ]
     },
     "metadata": {},
     "output_type": "display_data"
    },
    {
     "name": "stderr",
     "output_type": "stream",
     "text": [
      "Missing logger folder: /root/mass/notebooks/lightning_logs\n",
      "LOCAL_RANK: 0 - CUDA_VISIBLE_DEVICES: [0]\n",
      "/root/mass/.venv/lib/python3.11/site-packages/pytorch_lightning/trainer/connectors/data_connector.py:430: PossibleUserWarning: The dataloader, test_dataloader, does not have many workers which may be a bottleneck. Consider increasing the value of the `num_workers` argument` (try 8 which is the number of cpus on this machine) in the `DataLoader` init to improve performance.\n",
      "  rank_zero_warn(\n"
     ]
    },
    {
     "name": "stdout",
     "output_type": "stream",
     "text": [
      "Testing DataLoader 0: 100%|██████████| 225/225 [00:11<00:00, 20.29it/s]\n"
     ]
    },
    {
     "data": {
      "text/html": [
       "<pre style=\"white-space:pre;overflow-x:auto;line-height:normal;font-family:Menlo,'DejaVu Sans Mono',consolas,'Courier New',monospace\">┏━━━━━━━━━━━━━━━━━━━━━━━━━━━┳━━━━━━━━━━━━━━━━━━━━━━━━━━━┓\n",
       "┃<span style=\"font-weight: bold\">   Runningstage.testing    </span>┃<span style=\"font-weight: bold\">                           </span>┃\n",
       "┃<span style=\"font-weight: bold\">          metric           </span>┃<span style=\"font-weight: bold\">       DataLoader 0        </span>┃\n",
       "┡━━━━━━━━━━━━━━━━━━━━━━━━━━━╇━━━━━━━━━━━━━━━━━━━━━━━━━━━┩\n",
       "│<span style=\"color: #008080; text-decoration-color: #008080\">         acc/test          </span>│<span style=\"color: #800080; text-decoration-color: #800080\">    0.5564224123954773     </span>│\n",
       "│<span style=\"color: #008080; text-decoration-color: #008080\">         loss/test         </span>│<span style=\"color: #800080; text-decoration-color: #800080\">    1.1833215951919556     </span>│\n",
       "└───────────────────────────┴───────────────────────────┘\n",
       "</pre>\n"
      ],
      "text/plain": [
       "┏━━━━━━━━━━━━━━━━━━━━━━━━━━━┳━━━━━━━━━━━━━━━━━━━━━━━━━━━┓\n",
       "┃\u001b[1m \u001b[0m\u001b[1m  Runningstage.testing   \u001b[0m\u001b[1m \u001b[0m┃\u001b[1m                           \u001b[0m┃\n",
       "┃\u001b[1m \u001b[0m\u001b[1m         metric          \u001b[0m\u001b[1m \u001b[0m┃\u001b[1m \u001b[0m\u001b[1m      DataLoader 0       \u001b[0m\u001b[1m \u001b[0m┃\n",
       "┡━━━━━━━━━━━━━━━━━━━━━━━━━━━╇━━━━━━━━━━━━━━━━━━━━━━━━━━━┩\n",
       "│\u001b[36m \u001b[0m\u001b[36m        acc/test         \u001b[0m\u001b[36m \u001b[0m│\u001b[35m \u001b[0m\u001b[35m   0.5564224123954773    \u001b[0m\u001b[35m \u001b[0m│\n",
       "│\u001b[36m \u001b[0m\u001b[36m        loss/test        \u001b[0m\u001b[36m \u001b[0m│\u001b[35m \u001b[0m\u001b[35m   1.1833215951919556    \u001b[0m\u001b[35m \u001b[0m│\n",
       "└───────────────────────────┴───────────────────────────┘\n"
      ]
     },
     "metadata": {},
     "output_type": "display_data"
    },
    {
     "name": "stdout",
     "output_type": "stream",
     "text": [
      "Loading classification head from ../checkpoints/ViT-B-32/head_RESISC45.pt\n"
     ]
    },
    {
     "name": "stderr",
     "output_type": "stream",
     "text": [
      "INFO: GPU available: True (cuda), used: True\n"
     ]
    },
    {
     "data": {
      "text/html": [
       "<pre style=\"white-space:pre;overflow-x:auto;line-height:normal;font-family:Menlo,'DejaVu Sans Mono',consolas,'Courier New',monospace\"><span style=\"color: #7fbfbf; text-decoration-color: #7fbfbf\">2025-04-28 10:08:04 </span><span style=\"color: #000080; text-decoration-color: #000080\">INFO    </span> GPU available: <span style=\"color: #00ff00; text-decoration-color: #00ff00; font-style: italic\">True</span> <span style=\"font-weight: bold\">(</span>cuda<span style=\"font-weight: bold\">)</span>, used: <span style=\"color: #00ff00; text-decoration-color: #00ff00; font-style: italic\">True</span>        <a href=\"file:///root/mass/.venv/lib/python3.11/site-packages/lightning_utilities/core/rank_zero.py\" target=\"_blank\"><span style=\"color: #7f7f7f; text-decoration-color: #7f7f7f\">lightning.pytorch.utilities.rank_zero</span></a><span style=\"color: #7f7f7f; text-decoration-color: #7f7f7f\">:</span><a href=\"file:///root/mass/.venv/lib/python3.11/site-packages/lightning_utilities/core/rank_zero.py#63\" target=\"_blank\"><span style=\"color: #7f7f7f; text-decoration-color: #7f7f7f\">63</span></a>\n",
       "</pre>\n"
      ],
      "text/plain": [
       "\u001b[2;36m2025-04-28 10:08:04\u001b[0m\u001b[2;36m \u001b[0m\u001b[34mINFO    \u001b[0m GPU available: \u001b[3;92mTrue\u001b[0m \u001b[1m(\u001b[0mcuda\u001b[1m)\u001b[0m, used: \u001b[3;92mTrue\u001b[0m        \u001b]8;id=712011;file:///root/mass/.venv/lib/python3.11/site-packages/lightning_utilities/core/rank_zero.py\u001b\\\u001b[2mlightning.pytorch.utilities.rank_zero\u001b[0m\u001b]8;;\u001b\\\u001b[2m:\u001b[0m\u001b]8;id=273774;file:///root/mass/.venv/lib/python3.11/site-packages/lightning_utilities/core/rank_zero.py#63\u001b\\\u001b[2m63\u001b[0m\u001b]8;;\u001b\\\n"
      ]
     },
     "metadata": {},
     "output_type": "display_data"
    },
    {
     "name": "stderr",
     "output_type": "stream",
     "text": [
      "INFO: TPU available: False, using: 0 TPU cores\n"
     ]
    },
    {
     "data": {
      "text/html": [
       "<pre style=\"white-space:pre;overflow-x:auto;line-height:normal;font-family:Menlo,'DejaVu Sans Mono',consolas,'Courier New',monospace\"><span style=\"color: #7fbfbf; text-decoration-color: #7fbfbf\">                    </span><span style=\"color: #000080; text-decoration-color: #000080\">INFO    </span> TPU available: <span style=\"color: #ff0000; text-decoration-color: #ff0000; font-style: italic\">False</span>, using: <span style=\"color: #008080; text-decoration-color: #008080; font-weight: bold\">0</span> TPU cores      <a href=\"file:///root/mass/.venv/lib/python3.11/site-packages/lightning_utilities/core/rank_zero.py\" target=\"_blank\"><span style=\"color: #7f7f7f; text-decoration-color: #7f7f7f\">lightning.pytorch.utilities.rank_zero</span></a><span style=\"color: #7f7f7f; text-decoration-color: #7f7f7f\">:</span><a href=\"file:///root/mass/.venv/lib/python3.11/site-packages/lightning_utilities/core/rank_zero.py#63\" target=\"_blank\"><span style=\"color: #7f7f7f; text-decoration-color: #7f7f7f\">63</span></a>\n",
       "</pre>\n"
      ],
      "text/plain": [
       "\u001b[2;36m                   \u001b[0m\u001b[2;36m \u001b[0m\u001b[34mINFO    \u001b[0m TPU available: \u001b[3;91mFalse\u001b[0m, using: \u001b[1;36m0\u001b[0m TPU cores      \u001b]8;id=248427;file:///root/mass/.venv/lib/python3.11/site-packages/lightning_utilities/core/rank_zero.py\u001b\\\u001b[2mlightning.pytorch.utilities.rank_zero\u001b[0m\u001b]8;;\u001b\\\u001b[2m:\u001b[0m\u001b]8;id=946474;file:///root/mass/.venv/lib/python3.11/site-packages/lightning_utilities/core/rank_zero.py#63\u001b\\\u001b[2m63\u001b[0m\u001b]8;;\u001b\\\n"
      ]
     },
     "metadata": {},
     "output_type": "display_data"
    },
    {
     "name": "stderr",
     "output_type": "stream",
     "text": [
      "INFO: IPU available: False, using: 0 IPUs\n"
     ]
    },
    {
     "data": {
      "text/html": [
       "<pre style=\"white-space:pre;overflow-x:auto;line-height:normal;font-family:Menlo,'DejaVu Sans Mono',consolas,'Courier New',monospace\"><span style=\"color: #7fbfbf; text-decoration-color: #7fbfbf\">                    </span><span style=\"color: #000080; text-decoration-color: #000080\">INFO    </span> IPU available: <span style=\"color: #ff0000; text-decoration-color: #ff0000; font-style: italic\">False</span>, using: <span style=\"color: #008080; text-decoration-color: #008080; font-weight: bold\">0</span> IPUs           <a href=\"file:///root/mass/.venv/lib/python3.11/site-packages/lightning_utilities/core/rank_zero.py\" target=\"_blank\"><span style=\"color: #7f7f7f; text-decoration-color: #7f7f7f\">lightning.pytorch.utilities.rank_zero</span></a><span style=\"color: #7f7f7f; text-decoration-color: #7f7f7f\">:</span><a href=\"file:///root/mass/.venv/lib/python3.11/site-packages/lightning_utilities/core/rank_zero.py#63\" target=\"_blank\"><span style=\"color: #7f7f7f; text-decoration-color: #7f7f7f\">63</span></a>\n",
       "</pre>\n"
      ],
      "text/plain": [
       "\u001b[2;36m                   \u001b[0m\u001b[2;36m \u001b[0m\u001b[34mINFO    \u001b[0m IPU available: \u001b[3;91mFalse\u001b[0m, using: \u001b[1;36m0\u001b[0m IPUs           \u001b]8;id=777645;file:///root/mass/.venv/lib/python3.11/site-packages/lightning_utilities/core/rank_zero.py\u001b\\\u001b[2mlightning.pytorch.utilities.rank_zero\u001b[0m\u001b]8;;\u001b\\\u001b[2m:\u001b[0m\u001b]8;id=184454;file:///root/mass/.venv/lib/python3.11/site-packages/lightning_utilities/core/rank_zero.py#63\u001b\\\u001b[2m63\u001b[0m\u001b]8;;\u001b\\\n"
      ]
     },
     "metadata": {},
     "output_type": "display_data"
    },
    {
     "name": "stderr",
     "output_type": "stream",
     "text": [
      "INFO: HPU available: False, using: 0 HPUs\n"
     ]
    },
    {
     "data": {
      "text/html": [
       "<pre style=\"white-space:pre;overflow-x:auto;line-height:normal;font-family:Menlo,'DejaVu Sans Mono',consolas,'Courier New',monospace\"><span style=\"color: #7fbfbf; text-decoration-color: #7fbfbf\">                    </span><span style=\"color: #000080; text-decoration-color: #000080\">INFO    </span> HPU available: <span style=\"color: #ff0000; text-decoration-color: #ff0000; font-style: italic\">False</span>, using: <span style=\"color: #008080; text-decoration-color: #008080; font-weight: bold\">0</span> HPUs           <a href=\"file:///root/mass/.venv/lib/python3.11/site-packages/lightning_utilities/core/rank_zero.py\" target=\"_blank\"><span style=\"color: #7f7f7f; text-decoration-color: #7f7f7f\">lightning.pytorch.utilities.rank_zero</span></a><span style=\"color: #7f7f7f; text-decoration-color: #7f7f7f\">:</span><a href=\"file:///root/mass/.venv/lib/python3.11/site-packages/lightning_utilities/core/rank_zero.py#63\" target=\"_blank\"><span style=\"color: #7f7f7f; text-decoration-color: #7f7f7f\">63</span></a>\n",
       "</pre>\n"
      ],
      "text/plain": [
       "\u001b[2;36m                   \u001b[0m\u001b[2;36m \u001b[0m\u001b[34mINFO    \u001b[0m HPU available: \u001b[3;91mFalse\u001b[0m, using: \u001b[1;36m0\u001b[0m HPUs           \u001b]8;id=594579;file:///root/mass/.venv/lib/python3.11/site-packages/lightning_utilities/core/rank_zero.py\u001b\\\u001b[2mlightning.pytorch.utilities.rank_zero\u001b[0m\u001b]8;;\u001b\\\u001b[2m:\u001b[0m\u001b]8;id=542188;file:///root/mass/.venv/lib/python3.11/site-packages/lightning_utilities/core/rank_zero.py#63\u001b\\\u001b[2m63\u001b[0m\u001b]8;;\u001b\\\n"
      ]
     },
     "metadata": {},
     "output_type": "display_data"
    },
    {
     "name": "stderr",
     "output_type": "stream",
     "text": [
      "INFO: `Trainer(val_check_interval=1.0)` was configured so validation will run at the end of the training epoch..\n"
     ]
    },
    {
     "data": {
      "text/html": [
       "<pre style=\"white-space:pre;overflow-x:auto;line-height:normal;font-family:Menlo,'DejaVu Sans Mono',consolas,'Courier New',monospace\"><span style=\"color: #7fbfbf; text-decoration-color: #7fbfbf\">                    </span><span style=\"color: #000080; text-decoration-color: #000080\">INFO    </span> `<span style=\"color: #800080; text-decoration-color: #800080; font-weight: bold\">Trainer</span><span style=\"font-weight: bold\">(</span><span style=\"color: #808000; text-decoration-color: #808000\">val_check_interval</span>=<span style=\"color: #008080; text-decoration-color: #008080; font-weight: bold\">1.0</span><span style=\"font-weight: bold\">)</span>` was         <a href=\"file:///root/mass/.venv/lib/python3.11/site-packages/lightning_utilities/core/rank_zero.py\" target=\"_blank\"><span style=\"color: #7f7f7f; text-decoration-color: #7f7f7f\">lightning.pytorch.utilities.rank_zero</span></a><span style=\"color: #7f7f7f; text-decoration-color: #7f7f7f\">:</span><a href=\"file:///root/mass/.venv/lib/python3.11/site-packages/lightning_utilities/core/rank_zero.py#63\" target=\"_blank\"><span style=\"color: #7f7f7f; text-decoration-color: #7f7f7f\">63</span></a>\n",
       "<span style=\"color: #7fbfbf; text-decoration-color: #7fbfbf\">                    </span>         configured so validation will run at the end  <span style=\"color: #7f7f7f; text-decoration-color: #7f7f7f\">                                        </span>\n",
       "<span style=\"color: #7fbfbf; text-decoration-color: #7fbfbf\">                    </span>         of the training epoch..                       <span style=\"color: #7f7f7f; text-decoration-color: #7f7f7f\">                                        </span>\n",
       "</pre>\n"
      ],
      "text/plain": [
       "\u001b[2;36m                   \u001b[0m\u001b[2;36m \u001b[0m\u001b[34mINFO    \u001b[0m `\u001b[1;35mTrainer\u001b[0m\u001b[1m(\u001b[0m\u001b[33mval_check_interval\u001b[0m=\u001b[1;36m1\u001b[0m\u001b[1;36m.0\u001b[0m\u001b[1m)\u001b[0m` was         \u001b]8;id=408585;file:///root/mass/.venv/lib/python3.11/site-packages/lightning_utilities/core/rank_zero.py\u001b\\\u001b[2mlightning.pytorch.utilities.rank_zero\u001b[0m\u001b]8;;\u001b\\\u001b[2m:\u001b[0m\u001b]8;id=492490;file:///root/mass/.venv/lib/python3.11/site-packages/lightning_utilities/core/rank_zero.py#63\u001b\\\u001b[2m63\u001b[0m\u001b]8;;\u001b\\\n",
       "\u001b[2;36m                    \u001b[0m         configured so validation will run at the end  \u001b[2m                                        \u001b[0m\n",
       "\u001b[2;36m                    \u001b[0m         of the training epoch..                       \u001b[2m                                        \u001b[0m\n"
      ]
     },
     "metadata": {},
     "output_type": "display_data"
    },
    {
     "data": {
      "text/html": [
       "<pre style=\"white-space:pre;overflow-x:auto;line-height:normal;font-family:Menlo,'DejaVu Sans Mono',consolas,'Courier New',monospace\"><span style=\"color: #7fbfbf; text-decoration-color: #7fbfbf\">                    </span><span style=\"color: #800000; text-decoration-color: #800000; font-weight: bold\">ERROR   </span> For now evaluation supported only on val-set                               <a href=\"file:///tmp/ipykernel_2722254/714905877.py\" target=\"_blank\"><span style=\"color: #7f7f7f; text-decoration-color: #7f7f7f\">__main__</span></a><span style=\"color: #7f7f7f; text-decoration-color: #7f7f7f\">:</span><a href=\"file:///tmp/ipykernel_2722254/714905877.py#14\" target=\"_blank\"><span style=\"color: #7f7f7f; text-decoration-color: #7f7f7f\">14</span></a>\n",
       "</pre>\n"
      ],
      "text/plain": [
       "\u001b[2;36m                   \u001b[0m\u001b[2;36m \u001b[0m\u001b[1;31mERROR   \u001b[0m For now evaluation supported only on val-set                               \u001b]8;id=922799;file:///tmp/ipykernel_2722254/714905877.py\u001b\\\u001b[2m__main__\u001b[0m\u001b]8;;\u001b\\\u001b[2m:\u001b[0m\u001b]8;id=717375;file:///tmp/ipykernel_2722254/714905877.py#14\u001b\\\u001b[2m14\u001b[0m\u001b]8;;\u001b\\\n"
      ]
     },
     "metadata": {},
     "output_type": "display_data"
    },
    {
     "data": {
      "text/html": [
       "<pre style=\"white-space:pre;overflow-x:auto;line-height:normal;font-family:Menlo,'DejaVu Sans Mono',consolas,'Courier New',monospace\"><span style=\"color: #7fbfbf; text-decoration-color: #7fbfbf\">                    </span><span style=\"color: #000080; text-decoration-color: #000080\">INFO    </span> Evaluating on the RESISC45 test set!                                       <a href=\"file:///tmp/ipykernel_2722254/714905877.py\" target=\"_blank\"><span style=\"color: #7f7f7f; text-decoration-color: #7f7f7f\">__main__</span></a><span style=\"color: #7f7f7f; text-decoration-color: #7f7f7f\">:</span><a href=\"file:///tmp/ipykernel_2722254/714905877.py#16\" target=\"_blank\"><span style=\"color: #7f7f7f; text-decoration-color: #7f7f7f\">16</span></a>\n",
       "</pre>\n"
      ],
      "text/plain": [
       "\u001b[2;36m                   \u001b[0m\u001b[2;36m \u001b[0m\u001b[34mINFO    \u001b[0m Evaluating on the RESISC45 test set!                                       \u001b]8;id=719197;file:///tmp/ipykernel_2722254/714905877.py\u001b\\\u001b[2m__main__\u001b[0m\u001b]8;;\u001b\\\u001b[2m:\u001b[0m\u001b]8;id=680123;file:///tmp/ipykernel_2722254/714905877.py#16\u001b\\\u001b[2m16\u001b[0m\u001b]8;;\u001b\\\n"
      ]
     },
     "metadata": {},
     "output_type": "display_data"
    },
    {
     "name": "stderr",
     "output_type": "stream",
     "text": [
      "LOCAL_RANK: 0 - CUDA_VISIBLE_DEVICES: [0]\n"
     ]
    },
    {
     "name": "stdout",
     "output_type": "stream",
     "text": [
      "Testing DataLoader 0: 100%|██████████| 197/197 [00:18<00:00, 10.57it/s]\n"
     ]
    },
    {
     "data": {
      "text/html": [
       "<pre style=\"white-space:pre;overflow-x:auto;line-height:normal;font-family:Menlo,'DejaVu Sans Mono',consolas,'Courier New',monospace\">┏━━━━━━━━━━━━━━━━━━━━━━━━━━━┳━━━━━━━━━━━━━━━━━━━━━━━━━━━┓\n",
       "┃<span style=\"font-weight: bold\">   Runningstage.testing    </span>┃<span style=\"font-weight: bold\">                           </span>┃\n",
       "┃<span style=\"font-weight: bold\">          metric           </span>┃<span style=\"font-weight: bold\">       DataLoader 0        </span>┃\n",
       "┡━━━━━━━━━━━━━━━━━━━━━━━━━━━╇━━━━━━━━━━━━━━━━━━━━━━━━━━━┩\n",
       "│<span style=\"color: #008080; text-decoration-color: #008080\">         acc/test          </span>│<span style=\"color: #800080; text-decoration-color: #800080\">    0.8966666460037231     </span>│\n",
       "│<span style=\"color: #008080; text-decoration-color: #008080\">         loss/test         </span>│<span style=\"color: #800080; text-decoration-color: #800080\">    0.3424960970878601     </span>│\n",
       "└───────────────────────────┴───────────────────────────┘\n",
       "</pre>\n"
      ],
      "text/plain": [
       "┏━━━━━━━━━━━━━━━━━━━━━━━━━━━┳━━━━━━━━━━━━━━━━━━━━━━━━━━━┓\n",
       "┃\u001b[1m \u001b[0m\u001b[1m  Runningstage.testing   \u001b[0m\u001b[1m \u001b[0m┃\u001b[1m                           \u001b[0m┃\n",
       "┃\u001b[1m \u001b[0m\u001b[1m         metric          \u001b[0m\u001b[1m \u001b[0m┃\u001b[1m \u001b[0m\u001b[1m      DataLoader 0       \u001b[0m\u001b[1m \u001b[0m┃\n",
       "┡━━━━━━━━━━━━━━━━━━━━━━━━━━━╇━━━━━━━━━━━━━━━━━━━━━━━━━━━┩\n",
       "│\u001b[36m \u001b[0m\u001b[36m        acc/test         \u001b[0m\u001b[36m \u001b[0m│\u001b[35m \u001b[0m\u001b[35m   0.8966666460037231    \u001b[0m\u001b[35m \u001b[0m│\n",
       "│\u001b[36m \u001b[0m\u001b[36m        loss/test        \u001b[0m\u001b[36m \u001b[0m│\u001b[35m \u001b[0m\u001b[35m   0.3424960970878601    \u001b[0m\u001b[35m \u001b[0m│\n",
       "└───────────────────────────┴───────────────────────────┘\n"
      ]
     },
     "metadata": {},
     "output_type": "display_data"
    },
    {
     "name": "stdout",
     "output_type": "stream",
     "text": [
      "Loading classification head from ../checkpoints/ViT-B-32/head_MNIST.pt\n"
     ]
    },
    {
     "name": "stderr",
     "output_type": "stream",
     "text": [
      "INFO: GPU available: True (cuda), used: True\n"
     ]
    },
    {
     "data": {
      "text/html": [
       "<pre style=\"white-space:pre;overflow-x:auto;line-height:normal;font-family:Menlo,'DejaVu Sans Mono',consolas,'Courier New',monospace\"><span style=\"color: #7fbfbf; text-decoration-color: #7fbfbf\">2025-04-28 10:08:27 </span><span style=\"color: #000080; text-decoration-color: #000080\">INFO    </span> GPU available: <span style=\"color: #00ff00; text-decoration-color: #00ff00; font-style: italic\">True</span> <span style=\"font-weight: bold\">(</span>cuda<span style=\"font-weight: bold\">)</span>, used: <span style=\"color: #00ff00; text-decoration-color: #00ff00; font-style: italic\">True</span>        <a href=\"file:///root/mass/.venv/lib/python3.11/site-packages/lightning_utilities/core/rank_zero.py\" target=\"_blank\"><span style=\"color: #7f7f7f; text-decoration-color: #7f7f7f\">lightning.pytorch.utilities.rank_zero</span></a><span style=\"color: #7f7f7f; text-decoration-color: #7f7f7f\">:</span><a href=\"file:///root/mass/.venv/lib/python3.11/site-packages/lightning_utilities/core/rank_zero.py#63\" target=\"_blank\"><span style=\"color: #7f7f7f; text-decoration-color: #7f7f7f\">63</span></a>\n",
       "</pre>\n"
      ],
      "text/plain": [
       "\u001b[2;36m2025-04-28 10:08:27\u001b[0m\u001b[2;36m \u001b[0m\u001b[34mINFO    \u001b[0m GPU available: \u001b[3;92mTrue\u001b[0m \u001b[1m(\u001b[0mcuda\u001b[1m)\u001b[0m, used: \u001b[3;92mTrue\u001b[0m        \u001b]8;id=173842;file:///root/mass/.venv/lib/python3.11/site-packages/lightning_utilities/core/rank_zero.py\u001b\\\u001b[2mlightning.pytorch.utilities.rank_zero\u001b[0m\u001b]8;;\u001b\\\u001b[2m:\u001b[0m\u001b]8;id=629957;file:///root/mass/.venv/lib/python3.11/site-packages/lightning_utilities/core/rank_zero.py#63\u001b\\\u001b[2m63\u001b[0m\u001b]8;;\u001b\\\n"
      ]
     },
     "metadata": {},
     "output_type": "display_data"
    },
    {
     "name": "stderr",
     "output_type": "stream",
     "text": [
      "INFO: TPU available: False, using: 0 TPU cores\n"
     ]
    },
    {
     "data": {
      "text/html": [
       "<pre style=\"white-space:pre;overflow-x:auto;line-height:normal;font-family:Menlo,'DejaVu Sans Mono',consolas,'Courier New',monospace\"><span style=\"color: #7fbfbf; text-decoration-color: #7fbfbf\">                    </span><span style=\"color: #000080; text-decoration-color: #000080\">INFO    </span> TPU available: <span style=\"color: #ff0000; text-decoration-color: #ff0000; font-style: italic\">False</span>, using: <span style=\"color: #008080; text-decoration-color: #008080; font-weight: bold\">0</span> TPU cores      <a href=\"file:///root/mass/.venv/lib/python3.11/site-packages/lightning_utilities/core/rank_zero.py\" target=\"_blank\"><span style=\"color: #7f7f7f; text-decoration-color: #7f7f7f\">lightning.pytorch.utilities.rank_zero</span></a><span style=\"color: #7f7f7f; text-decoration-color: #7f7f7f\">:</span><a href=\"file:///root/mass/.venv/lib/python3.11/site-packages/lightning_utilities/core/rank_zero.py#63\" target=\"_blank\"><span style=\"color: #7f7f7f; text-decoration-color: #7f7f7f\">63</span></a>\n",
       "</pre>\n"
      ],
      "text/plain": [
       "\u001b[2;36m                   \u001b[0m\u001b[2;36m \u001b[0m\u001b[34mINFO    \u001b[0m TPU available: \u001b[3;91mFalse\u001b[0m, using: \u001b[1;36m0\u001b[0m TPU cores      \u001b]8;id=499069;file:///root/mass/.venv/lib/python3.11/site-packages/lightning_utilities/core/rank_zero.py\u001b\\\u001b[2mlightning.pytorch.utilities.rank_zero\u001b[0m\u001b]8;;\u001b\\\u001b[2m:\u001b[0m\u001b]8;id=534784;file:///root/mass/.venv/lib/python3.11/site-packages/lightning_utilities/core/rank_zero.py#63\u001b\\\u001b[2m63\u001b[0m\u001b]8;;\u001b\\\n"
      ]
     },
     "metadata": {},
     "output_type": "display_data"
    },
    {
     "name": "stderr",
     "output_type": "stream",
     "text": [
      "INFO: IPU available: False, using: 0 IPUs\n"
     ]
    },
    {
     "data": {
      "text/html": [
       "<pre style=\"white-space:pre;overflow-x:auto;line-height:normal;font-family:Menlo,'DejaVu Sans Mono',consolas,'Courier New',monospace\"><span style=\"color: #7fbfbf; text-decoration-color: #7fbfbf\">                    </span><span style=\"color: #000080; text-decoration-color: #000080\">INFO    </span> IPU available: <span style=\"color: #ff0000; text-decoration-color: #ff0000; font-style: italic\">False</span>, using: <span style=\"color: #008080; text-decoration-color: #008080; font-weight: bold\">0</span> IPUs           <a href=\"file:///root/mass/.venv/lib/python3.11/site-packages/lightning_utilities/core/rank_zero.py\" target=\"_blank\"><span style=\"color: #7f7f7f; text-decoration-color: #7f7f7f\">lightning.pytorch.utilities.rank_zero</span></a><span style=\"color: #7f7f7f; text-decoration-color: #7f7f7f\">:</span><a href=\"file:///root/mass/.venv/lib/python3.11/site-packages/lightning_utilities/core/rank_zero.py#63\" target=\"_blank\"><span style=\"color: #7f7f7f; text-decoration-color: #7f7f7f\">63</span></a>\n",
       "</pre>\n"
      ],
      "text/plain": [
       "\u001b[2;36m                   \u001b[0m\u001b[2;36m \u001b[0m\u001b[34mINFO    \u001b[0m IPU available: \u001b[3;91mFalse\u001b[0m, using: \u001b[1;36m0\u001b[0m IPUs           \u001b]8;id=597126;file:///root/mass/.venv/lib/python3.11/site-packages/lightning_utilities/core/rank_zero.py\u001b\\\u001b[2mlightning.pytorch.utilities.rank_zero\u001b[0m\u001b]8;;\u001b\\\u001b[2m:\u001b[0m\u001b]8;id=98857;file:///root/mass/.venv/lib/python3.11/site-packages/lightning_utilities/core/rank_zero.py#63\u001b\\\u001b[2m63\u001b[0m\u001b]8;;\u001b\\\n"
      ]
     },
     "metadata": {},
     "output_type": "display_data"
    },
    {
     "name": "stderr",
     "output_type": "stream",
     "text": [
      "INFO: HPU available: False, using: 0 HPUs\n"
     ]
    },
    {
     "data": {
      "text/html": [
       "<pre style=\"white-space:pre;overflow-x:auto;line-height:normal;font-family:Menlo,'DejaVu Sans Mono',consolas,'Courier New',monospace\"><span style=\"color: #7fbfbf; text-decoration-color: #7fbfbf\">                    </span><span style=\"color: #000080; text-decoration-color: #000080\">INFO    </span> HPU available: <span style=\"color: #ff0000; text-decoration-color: #ff0000; font-style: italic\">False</span>, using: <span style=\"color: #008080; text-decoration-color: #008080; font-weight: bold\">0</span> HPUs           <a href=\"file:///root/mass/.venv/lib/python3.11/site-packages/lightning_utilities/core/rank_zero.py\" target=\"_blank\"><span style=\"color: #7f7f7f; text-decoration-color: #7f7f7f\">lightning.pytorch.utilities.rank_zero</span></a><span style=\"color: #7f7f7f; text-decoration-color: #7f7f7f\">:</span><a href=\"file:///root/mass/.venv/lib/python3.11/site-packages/lightning_utilities/core/rank_zero.py#63\" target=\"_blank\"><span style=\"color: #7f7f7f; text-decoration-color: #7f7f7f\">63</span></a>\n",
       "</pre>\n"
      ],
      "text/plain": [
       "\u001b[2;36m                   \u001b[0m\u001b[2;36m \u001b[0m\u001b[34mINFO    \u001b[0m HPU available: \u001b[3;91mFalse\u001b[0m, using: \u001b[1;36m0\u001b[0m HPUs           \u001b]8;id=122573;file:///root/mass/.venv/lib/python3.11/site-packages/lightning_utilities/core/rank_zero.py\u001b\\\u001b[2mlightning.pytorch.utilities.rank_zero\u001b[0m\u001b]8;;\u001b\\\u001b[2m:\u001b[0m\u001b]8;id=27255;file:///root/mass/.venv/lib/python3.11/site-packages/lightning_utilities/core/rank_zero.py#63\u001b\\\u001b[2m63\u001b[0m\u001b]8;;\u001b\\\n"
      ]
     },
     "metadata": {},
     "output_type": "display_data"
    },
    {
     "name": "stderr",
     "output_type": "stream",
     "text": [
      "INFO: `Trainer(val_check_interval=1.0)` was configured so validation will run at the end of the training epoch..\n"
     ]
    },
    {
     "data": {
      "text/html": [
       "<pre style=\"white-space:pre;overflow-x:auto;line-height:normal;font-family:Menlo,'DejaVu Sans Mono',consolas,'Courier New',monospace\"><span style=\"color: #7fbfbf; text-decoration-color: #7fbfbf\">                    </span><span style=\"color: #000080; text-decoration-color: #000080\">INFO    </span> `<span style=\"color: #800080; text-decoration-color: #800080; font-weight: bold\">Trainer</span><span style=\"font-weight: bold\">(</span><span style=\"color: #808000; text-decoration-color: #808000\">val_check_interval</span>=<span style=\"color: #008080; text-decoration-color: #008080; font-weight: bold\">1.0</span><span style=\"font-weight: bold\">)</span>` was         <a href=\"file:///root/mass/.venv/lib/python3.11/site-packages/lightning_utilities/core/rank_zero.py\" target=\"_blank\"><span style=\"color: #7f7f7f; text-decoration-color: #7f7f7f\">lightning.pytorch.utilities.rank_zero</span></a><span style=\"color: #7f7f7f; text-decoration-color: #7f7f7f\">:</span><a href=\"file:///root/mass/.venv/lib/python3.11/site-packages/lightning_utilities/core/rank_zero.py#63\" target=\"_blank\"><span style=\"color: #7f7f7f; text-decoration-color: #7f7f7f\">63</span></a>\n",
       "<span style=\"color: #7fbfbf; text-decoration-color: #7fbfbf\">                    </span>         configured so validation will run at the end  <span style=\"color: #7f7f7f; text-decoration-color: #7f7f7f\">                                        </span>\n",
       "<span style=\"color: #7fbfbf; text-decoration-color: #7fbfbf\">                    </span>         of the training epoch..                       <span style=\"color: #7f7f7f; text-decoration-color: #7f7f7f\">                                        </span>\n",
       "</pre>\n"
      ],
      "text/plain": [
       "\u001b[2;36m                   \u001b[0m\u001b[2;36m \u001b[0m\u001b[34mINFO    \u001b[0m `\u001b[1;35mTrainer\u001b[0m\u001b[1m(\u001b[0m\u001b[33mval_check_interval\u001b[0m=\u001b[1;36m1\u001b[0m\u001b[1;36m.0\u001b[0m\u001b[1m)\u001b[0m` was         \u001b]8;id=508;file:///root/mass/.venv/lib/python3.11/site-packages/lightning_utilities/core/rank_zero.py\u001b\\\u001b[2mlightning.pytorch.utilities.rank_zero\u001b[0m\u001b]8;;\u001b\\\u001b[2m:\u001b[0m\u001b]8;id=522266;file:///root/mass/.venv/lib/python3.11/site-packages/lightning_utilities/core/rank_zero.py#63\u001b\\\u001b[2m63\u001b[0m\u001b]8;;\u001b\\\n",
       "\u001b[2;36m                    \u001b[0m         configured so validation will run at the end  \u001b[2m                                        \u001b[0m\n",
       "\u001b[2;36m                    \u001b[0m         of the training epoch..                       \u001b[2m                                        \u001b[0m\n"
      ]
     },
     "metadata": {},
     "output_type": "display_data"
    },
    {
     "data": {
      "text/html": [
       "<pre style=\"white-space:pre;overflow-x:auto;line-height:normal;font-family:Menlo,'DejaVu Sans Mono',consolas,'Courier New',monospace\"><span style=\"color: #7fbfbf; text-decoration-color: #7fbfbf\">                    </span><span style=\"color: #800000; text-decoration-color: #800000; font-weight: bold\">ERROR   </span> For now evaluation supported only on val-set                               <a href=\"file:///tmp/ipykernel_2722254/714905877.py\" target=\"_blank\"><span style=\"color: #7f7f7f; text-decoration-color: #7f7f7f\">__main__</span></a><span style=\"color: #7f7f7f; text-decoration-color: #7f7f7f\">:</span><a href=\"file:///tmp/ipykernel_2722254/714905877.py#14\" target=\"_blank\"><span style=\"color: #7f7f7f; text-decoration-color: #7f7f7f\">14</span></a>\n",
       "</pre>\n"
      ],
      "text/plain": [
       "\u001b[2;36m                   \u001b[0m\u001b[2;36m \u001b[0m\u001b[1;31mERROR   \u001b[0m For now evaluation supported only on val-set                               \u001b]8;id=230672;file:///tmp/ipykernel_2722254/714905877.py\u001b\\\u001b[2m__main__\u001b[0m\u001b]8;;\u001b\\\u001b[2m:\u001b[0m\u001b]8;id=366456;file:///tmp/ipykernel_2722254/714905877.py#14\u001b\\\u001b[2m14\u001b[0m\u001b]8;;\u001b\\\n"
      ]
     },
     "metadata": {},
     "output_type": "display_data"
    },
    {
     "data": {
      "text/html": [
       "<pre style=\"white-space:pre;overflow-x:auto;line-height:normal;font-family:Menlo,'DejaVu Sans Mono',consolas,'Courier New',monospace\"><span style=\"color: #7fbfbf; text-decoration-color: #7fbfbf\">                    </span><span style=\"color: #000080; text-decoration-color: #000080\">INFO    </span> Evaluating on the MNIST test set!                                          <a href=\"file:///tmp/ipykernel_2722254/714905877.py\" target=\"_blank\"><span style=\"color: #7f7f7f; text-decoration-color: #7f7f7f\">__main__</span></a><span style=\"color: #7f7f7f; text-decoration-color: #7f7f7f\">:</span><a href=\"file:///tmp/ipykernel_2722254/714905877.py#16\" target=\"_blank\"><span style=\"color: #7f7f7f; text-decoration-color: #7f7f7f\">16</span></a>\n",
       "</pre>\n"
      ],
      "text/plain": [
       "\u001b[2;36m                   \u001b[0m\u001b[2;36m \u001b[0m\u001b[34mINFO    \u001b[0m Evaluating on the MNIST test set!                                          \u001b]8;id=700106;file:///tmp/ipykernel_2722254/714905877.py\u001b\\\u001b[2m__main__\u001b[0m\u001b]8;;\u001b\\\u001b[2m:\u001b[0m\u001b]8;id=361034;file:///tmp/ipykernel_2722254/714905877.py#16\u001b\\\u001b[2m16\u001b[0m\u001b]8;;\u001b\\\n"
      ]
     },
     "metadata": {},
     "output_type": "display_data"
    },
    {
     "name": "stderr",
     "output_type": "stream",
     "text": [
      "LOCAL_RANK: 0 - CUDA_VISIBLE_DEVICES: [0]\n"
     ]
    },
    {
     "name": "stdout",
     "output_type": "stream",
     "text": [
      "Testing DataLoader 0: 100%|██████████| 313/313 [00:12<00:00, 25.60it/s]\n"
     ]
    },
    {
     "data": {
      "text/html": [
       "<pre style=\"white-space:pre;overflow-x:auto;line-height:normal;font-family:Menlo,'DejaVu Sans Mono',consolas,'Courier New',monospace\">┏━━━━━━━━━━━━━━━━━━━━━━━━━━━┳━━━━━━━━━━━━━━━━━━━━━━━━━━━┓\n",
       "┃<span style=\"font-weight: bold\">   Runningstage.testing    </span>┃<span style=\"font-weight: bold\">                           </span>┃\n",
       "┃<span style=\"font-weight: bold\">          metric           </span>┃<span style=\"font-weight: bold\">       DataLoader 0        </span>┃\n",
       "┡━━━━━━━━━━━━━━━━━━━━━━━━━━━╇━━━━━━━━━━━━━━━━━━━━━━━━━━━┩\n",
       "│<span style=\"color: #008080; text-decoration-color: #008080\">         acc/test          </span>│<span style=\"color: #800080; text-decoration-color: #800080\">     0.991100013256073     </span>│\n",
       "│<span style=\"color: #008080; text-decoration-color: #008080\">         loss/test         </span>│<span style=\"color: #800080; text-decoration-color: #800080\">   0.061617180705070496    </span>│\n",
       "└───────────────────────────┴───────────────────────────┘\n",
       "</pre>\n"
      ],
      "text/plain": [
       "┏━━━━━━━━━━━━━━━━━━━━━━━━━━━┳━━━━━━━━━━━━━━━━━━━━━━━━━━━┓\n",
       "┃\u001b[1m \u001b[0m\u001b[1m  Runningstage.testing   \u001b[0m\u001b[1m \u001b[0m┃\u001b[1m                           \u001b[0m┃\n",
       "┃\u001b[1m \u001b[0m\u001b[1m         metric          \u001b[0m\u001b[1m \u001b[0m┃\u001b[1m \u001b[0m\u001b[1m      DataLoader 0       \u001b[0m\u001b[1m \u001b[0m┃\n",
       "┡━━━━━━━━━━━━━━━━━━━━━━━━━━━╇━━━━━━━━━━━━━━━━━━━━━━━━━━━┩\n",
       "│\u001b[36m \u001b[0m\u001b[36m        acc/test         \u001b[0m\u001b[36m \u001b[0m│\u001b[35m \u001b[0m\u001b[35m    0.991100013256073    \u001b[0m\u001b[35m \u001b[0m│\n",
       "│\u001b[36m \u001b[0m\u001b[36m        loss/test        \u001b[0m\u001b[36m \u001b[0m│\u001b[35m \u001b[0m\u001b[35m  0.061617180705070496   \u001b[0m\u001b[35m \u001b[0m│\n",
       "└───────────────────────────┴───────────────────────────┘\n"
      ]
     },
     "metadata": {},
     "output_type": "display_data"
    }
   ],
   "source": [
    "for dataset in cfg.task_vectors.to_apply:\n",
    "\n",
    "    model = ImageClassifier(\n",
    "            encoder=merged_encoder,\n",
    "            x_key='x',\n",
    "            y_key='y',\n",
    "            classifier=get_classification_head(\n",
    "                cfg.nn.module.encoder.model_name,\n",
    "                dataset,\n",
    "                cfg.nn.data.data_path,\n",
    "                cfg.misc.ckpt_path,\n",
    "                cache_dir=cfg.misc.cache_dir,\n",
    "                openclip_cachedir=cfg.misc.openclip_cachedir,\n",
    "            ),\n",
    "        )\n",
    "    \n",
    "    evaluate(model, dataset, zeroshot_encoder.val_preprocess)\n"
   ]
  },
  {
   "cell_type": "code",
   "execution_count": null,
   "metadata": {},
   "outputs": [],
   "source": []
  }
 ],
 "metadata": {
  "kernelspec": {
   "display_name": ".venv",
   "language": "python",
   "name": "python3"
  },
  "language_info": {
   "codemirror_mode": {
    "name": "ipython",
    "version": 3
   },
   "file_extension": ".py",
   "mimetype": "text/x-python",
   "name": "python",
   "nbconvert_exporter": "python",
   "pygments_lexer": "ipython3",
   "version": "3.11.8"
  }
 },
 "nbformat": 4,
 "nbformat_minor": 2
}
