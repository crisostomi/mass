{
 "cells": [
  {
   "cell_type": "code",
   "execution_count": null,
   "id": "3c0123f8",
   "metadata": {},
   "outputs": [],
   "source": [
    "from mass.utils.io_utils import load_model_from_disk\n",
    "\n",
    "\n",
    "zeroshot_encoder_statedict = load_model_from_disk(cfg.misc.pretrained_checkpoint)"
   ]
  }
 ],
 "metadata": {
  "kernelspec": {
   "display_name": ".venv",
   "language": "python",
   "name": "python3"
  },
  "language_info": {
   "name": "python",
   "version": "3.11.8"
  }
 },
 "nbformat": 4,
 "nbformat_minor": 5
}
