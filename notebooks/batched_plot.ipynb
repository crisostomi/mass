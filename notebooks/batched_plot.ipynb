{
 "cells": [
  {
   "cell_type": "markdown",
   "metadata": {},
   "source": [
    "## Imports"
   ]
  },
  {
   "cell_type": "code",
   "execution_count": 1,
   "metadata": {},
   "outputs": [
    {
     "name": "stderr",
     "output_type": "stream",
     "text": [
      "/media/donato/Extra-storage/Code/model-merging/task-vector-playground-tsvmr/.venv/lib/python3.11/site-packages/tqdm/auto.py:21: TqdmWarning: IProgress not found. Please update jupyter and ipywidgets. See https://ipywidgets.readthedocs.io/en/stable/user_install.html\n",
      "  from .autonotebook import tqdm as notebook_tqdm\n"
     ]
    }
   ],
   "source": [
    "import wandb\n",
    "import logging\n",
    "from tqdm import tqdm\n",
    "from wandb.sdk.wandb_run import Run\n",
    "import numpy as np\n",
    "import pandas as pd\n",
    "import plotly.express as px\n",
    "import numpy as np\n",
    "import plotly.graph_objs as go\n",
    "import seaborn as sns\n",
    "import matplotlib.pyplot as plt\n",
    "from nn_core.common import PROJECT_ROOT\n",
    "import json"
   ]
  },
  {
   "cell_type": "code",
   "execution_count": 22,
   "metadata": {},
   "outputs": [
    {
     "data": {
      "text/plain": [
       "{'blue': '#335c67',\n",
       " 'white': '#fff3b0',\n",
       " 'yellow': '#e09f3e',\n",
       " 'red': '#9e2a2b',\n",
       " 'dark red': '#540b0e',\n",
       " 'green': '#81b29a'}"
      ]
     },
     "execution_count": 22,
     "metadata": {},
     "output_type": "execute_result"
    }
   ],
   "source": [
    "from mass.utils.plots import Palette\n",
    "\n",
    "plt.rcParams.update(\n",
    "    {\n",
    "        \"text.usetex\": True,\n",
    "        \"font.family\": \"serif\",\n",
    "        \"axes.titlesize\": 24,        # Larger axes/title fonts\n",
    "        \"axes.labelsize\": 24,\n",
    "        \"xtick.labelsize\": 24,\n",
    "        \"ytick.labelsize\": 20,\n",
    "        \"legend.fontsize\": 24,\n",
    "    }\n",
    ")\n",
    "sns.set_context(\"talk\")\n",
    "\n",
    "cmap_name = \"coolwarm_r\"\n",
    "\n",
    "palette = Palette(f\"{PROJECT_ROOT}/misc/palette.json\", map_path=f\"{PROJECT_ROOT}/misc/palette_map.json\")\n",
    "palette"
   ]
  },
  {
   "cell_type": "code",
   "execution_count": 5,
   "metadata": {},
   "outputs": [],
   "source": [
    "with open('plot_data/ViT-B-32.json') as f:\n",
    "    results = json.load(f)"
   ]
  },
  {
   "cell_type": "code",
   "execution_count": 8,
   "metadata": {},
   "outputs": [],
   "source": [
    "results = {\n",
    "    \"ViT-B-32\": {\n",
    "        '8': 1.00,\n",
    "        '14': 0.995,\n",
    "        '20': 0.967\n",
    "    },\n",
    "    \"ViT-B-16\": {\n",
    "        '8': 0.996,\n",
    "        '14': 0.988,\n",
    "        '20': 0.987\n",
    "    },\n",
    "    \"ViT-L-14\": {\n",
    "        '8': 1,\n",
    "        '14': 1,\n",
    "        '20': 1\n",
    "    }\n",
    "}"
   ]
  },
  {
   "cell_type": "markdown",
   "metadata": {},
   "source": [
    "## Plot"
   ]
  },
  {
   "cell_type": "code",
   "execution_count": 83,
   "metadata": {},
   "outputs": [
    {
     "data": {
      "image/png": "[encoded data removed]",
      "text/plain": [
       "<Figure size 600x600 with 1 Axes>"
      ]
     },
     "metadata": {},
     "output_type": "display_data"
    }
   ],
   "source": [
    "import numpy as np\n",
    "import matplotlib.pyplot as plt\n",
    "import seaborn as sns\n",
    "\n",
    "# Provided results dictionary\n",
    "results = {\n",
    "    \"B-32\": {'8': 1.00, '14': 0.995, '20': 0.967},\n",
    "    \"B-16\": {'8': 0.996, '14': 0.988, '20': 0.987},\n",
    "    \"L-14\": {'8': 1, '14': 1, '20': 1}\n",
    "}\n",
    "bar_height = 0.25\n",
    "\n",
    "models = list(results.keys())                       # e.g., ['ViT-B-32', 'ViT-B-16', 'ViT-L-14']\n",
    "tasks = list(next(iter(results.values())).keys())    # e.g., ['8', '14', '20']\n",
    "\n",
    "results_by_task_number = {\n",
    "    task: [results[model][task] for model in models]\n",
    "    for task in tasks\n",
    "}\n",
    "\n",
    "y = np.arange(3)  # the label locations\n",
    "\n",
    "fig, ax = plt.subplots(figsize=(6, 6))\n",
    "\n",
    "# Use vertical offsets to separate the three bars per group\n",
    "rects1 = ax.barh(y + bar_height, results_by_task_number['8'], bar_height,\n",
    "                 label='$n=8$', color=palette[\"blue\"])\n",
    "rects2 = ax.barh(y, results_by_task_number['14'], bar_height,\n",
    "                 label='$n=14$', color=palette[\"white\"])\n",
    "rects3 = ax.barh(y - bar_height, results_by_task_number['20'], bar_height,\n",
    "                 label='$n=20$', color=palette[\"yellow\"])\n",
    "\n",
    "ax.set_xlabel('Normalized accuracy')\n",
    "ax.set_yticks(y)\n",
    "ax.set_yticklabels(models)\n",
    "ax.legend()\n",
    "\n",
    "ax.bar_label(rects1, label_type='center')\n",
    "ax.bar_label(rects2, label_type='center')\n",
    "ax.bar_label(rects3, label_type='center')\n",
    "\n",
    "# move legend underneath\n",
    "\n",
    "plt.legend(loc='upper center', bbox_to_anchor=(0.5, -0.2), ncol=3, frameon=False)\n",
    "\n",
    "ax.set_xticks([0.8, 0.85, 0.9, 0.95, 1.0])\n",
    "ax.set_xlim(0.8, 1.0)\n",
    "\n",
    "sns.despine(ax=ax, offset=10, trim=True)\n",
    "plt.tight_layout()\n",
    "plt.savefig(\"figures/batched_performance.pdf\", bbox_inches='tight')\n",
    "plt.show()\n"
   ]
  },
  {
   "cell_type": "code",
   "execution_count": null,
   "metadata": {},
   "outputs": [],
   "source": []
  }
 ],
 "metadata": {
  "kernelspec": {
   "display_name": ".venv",
   "language": "python",
   "name": "python3"
  },
  "language_info": {
   "codemirror_mode": {
    "name": "ipython",
    "version": 3
   },
   "file_extension": ".py",
   "mimetype": "text/x-python",
   "name": "python",
   "nbconvert_exporter": "python",
   "pygments_lexer": "ipython3",
   "version": "3.11.8"
  }
 },
 "nbformat": 4,
 "nbformat_minor": 2
}
