{
 "cells": [
  {
   "cell_type": "markdown",
   "id": "82e17300",
   "metadata": {},
   "source": [
    "## Imports"
   ]
  },
  {
   "cell_type": "code",
   "execution_count": 32,
   "id": "32339c18",
   "metadata": {},
   "outputs": [],
   "source": [
    "import wandb\n",
    "import logging\n",
    "from tqdm import tqdm\n",
    "from wandb.sdk.wandb_run import Run\n",
    "import numpy as np\n",
    "import pandas as pd\n",
    "import plotly.express as px\n",
    "import numpy as np\n",
    "import plotly.graph_objs as go\n",
    "import seaborn as sns\n",
    "import matplotlib.pyplot as plt\n",
    "from nn_core.common import PROJECT_ROOT\n",
    "import json"
   ]
  },
  {
   "cell_type": "markdown",
   "id": "586b0798",
   "metadata": {},
   "source": [
    "## Configuration"
   ]
  },
  {
   "cell_type": "code",
   "execution_count": 33,
   "id": "4c72620a",
   "metadata": {},
   "outputs": [
    {
     "data": {
      "text/plain": [
       "{'blue': '#335c67',\n",
       " 'white': '#fff3b0',\n",
       " 'yellow': '#e09f3e',\n",
       " 'red': '#9e2a2b',\n",
       " 'dark red': '#540b0e',\n",
       " 'green': '#81b29a'}"
      ]
     },
     "execution_count": 33,
     "metadata": {},
     "output_type": "execute_result"
    }
   ],
   "source": [
    "from mass.utils.plots import Palette\n",
    "\n",
    "plt.rcParams.update(\n",
    "    {\n",
    "        \"text.usetex\": True,\n",
    "        \"font.family\": \"serif\",\n",
    "        \"axes.titlesize\": 24,        # Larger axes/title fonts\n",
    "        \"axes.labelsize\": 24,\n",
    "        \"xtick.labelsize\": 24,\n",
    "        \"ytick.labelsize\": 20,\n",
    "        \"legend.fontsize\": 24,\n",
    "    }\n",
    ")\n",
    "sns.set_context(\"talk\")\n",
    "\n",
    "cmap_name = \"coolwarm_r\"\n",
    "\n",
    "palette = Palette(f\"{PROJECT_ROOT}/misc/palette.json\", map_path=f\"{PROJECT_ROOT}/misc/palette_map.json\")\n",
    "palette"
   ]
  },
  {
   "cell_type": "markdown",
   "id": "b345230f",
   "metadata": {},
   "source": [
    "## Get runs"
   ]
  },
  {
   "cell_type": "code",
   "execution_count": 34,
   "id": "d5ad0ffc",
   "metadata": {},
   "outputs": [],
   "source": [
    "api = wandb.Api()\n",
    "entity, project = \"gladia\", \"task-vectors-playground\"  # set to your entity and project"
   ]
  },
  {
   "cell_type": "code",
   "execution_count": 35,
   "id": "b4bd557f",
   "metadata": {},
   "outputs": [],
   "source": [
    "def get_runs(entity, project, positive_tags, negative_tags):\n",
    "    filters_pos_tags = {\"$and\": [{\"tags\": {\"$eq\": pos_tag}} for pos_tag in positive_tags]}\n",
    "    filters_neg_tags = {}\n",
    "\n",
    "    print(filters_pos_tags)\n",
    "    filters = {**filters_pos_tags, **filters_neg_tags}\n",
    "    runs = api.runs(entity + \"/\" + project, filters=filters)\n",
    "\n",
    "    print(f\"There are {len(runs)} runs respecting these conditions.\")\n",
    "    return runs"
   ]
  },
  {
   "cell_type": "code",
   "execution_count": 36,
   "id": "0e007123",
   "metadata": {},
   "outputs": [],
   "source": [
    "datasets =  ['Cars', 'DTD', 'EuroSAT', 'GTSRB', 'MNIST', 'RESISC45', 'SUN397', 'SVHN', 'CIFAR100', 'STL10', 'Flowers102', 'OxfordIIITPet', 'PCAM', 'FER2013', 'EMNIST', 'CIFAR10', 'Food101', 'FashionMNIST', 'RenderedSST2', 'KMNIST']"
   ]
  },
  {
   "cell_type": "markdown",
   "id": "273efe68",
   "metadata": {},
   "source": [
    "## Sweeping over Top-K "
   ]
  },
  {
   "cell_type": "code",
   "execution_count": 37,
   "id": "dddf329e",
   "metadata": {},
   "outputs": [
    {
     "name": "stdout",
     "output_type": "stream",
     "text": [
      "{'$and': [{'tags': {'$eq': 'sweep_over_topk'}}]}\n",
      "There are 10 runs respecting these conditions.\n"
     ]
    }
   ],
   "source": [
    "runs = get_runs(entity, project, positive_tags=['sweep_over_topk'], negative_tags=[])"
   ]
  },
  {
   "cell_type": "code",
   "execution_count": 38,
   "id": "ff1b9b17",
   "metadata": {},
   "outputs": [],
   "source": [
    "topk_results = {}\n",
    "\n",
    "for run in runs:\n",
    "\n",
    "    col_name = f\"normalized_acc/test/avg\"\n",
    "    norm_acc = run.history(keys=[col_name]).iloc[-1][col_name]\n",
    "\n",
    "    top_k = run.config['nn/module/router/max_num_tasks_to_select']\n",
    "\n",
    "    topk_results[top_k] = topk_results[top_k] = norm_acc"
   ]
  },
  {
   "cell_type": "code",
   "execution_count": 39,
   "id": "39bd1f2d",
   "metadata": {},
   "outputs": [
    {
     "data": {
      "text/plain": [
       "{16: 0.9582511931657791,\n",
       " 14: 0.9582490980625152,\n",
       " 12: 0.9582490980625152,\n",
       " 10: 0.9583146959543228,\n",
       " 8: 0.9583136886358261,\n",
       " 6: 0.9581779211759567,\n",
       " 4: 0.9582511931657791,\n",
       " 3: 0.9581855952739715,\n",
       " 2: 0.958938479423523,\n",
       " 1: 0.9442167475819587}"
      ]
     },
     "execution_count": 39,
     "metadata": {},
     "output_type": "execute_result"
    }
   ],
   "source": [
    "topk_results"
   ]
  },
  {
   "cell_type": "code",
   "execution_count": 40,
   "id": "73097614",
   "metadata": {},
   "outputs": [
    {
     "data": {
      "image/png": "[encoded data removed]",
      "text/plain": [
       "<Figure size 1000x300 with 1 Axes>"
      ]
     },
     "metadata": {},
     "output_type": "display_data"
    }
   ],
   "source": [
    "x_labels = topk_results.keys()\n",
    "y_labels = topk_results.values()\n",
    "\n",
    "plt.figure(figsize=(10, 3))\n",
    "plt.plot(x_labels, y_labels, marker='o', color=palette[\"blue\"], label=\"Top-K Accuracy\")\n",
    "plt.xlabel(\"Top-$K$\")\n",
    "plt.ylabel(\"Accuracy\")\n",
    "plt.gca().spines['top'].set_visible(False)\n",
    "plt.gca().spines['right'].set_visible(False)\n",
    "plt.gca().spines['left'].set_linewidth(0.5)\n",
    "plt.gca().spines['bottom'].set_linewidth(0.5)\n",
    "plt.gca().xaxis.set_tick_params(width=0.5)\n",
    "plt.gca().yaxis.set_tick_params(width=0.5)\n",
    "plt.grid()\n",
    "plt.tight_layout()\n"
   ]
  },
  {
   "cell_type": "markdown",
   "id": "f99b5fe9",
   "metadata": {},
   "source": [
    "### Sweeping over routing threshold"
   ]
  },
  {
   "cell_type": "code",
   "execution_count": 41,
   "id": "4f7e1d70",
   "metadata": {},
   "outputs": [
    {
     "name": "stdout",
     "output_type": "stream",
     "text": [
      "{'$and': [{'tags': {'$eq': 'sweep_over_threshold'}}]}\n",
      "There are 11 runs respecting these conditions.\n"
     ]
    }
   ],
   "source": [
    "runs = get_runs(entity, project, positive_tags=['sweep_over_threshold'], negative_tags=[])"
   ]
  },
  {
   "cell_type": "code",
   "execution_count": 42,
   "id": "bde952b4",
   "metadata": {},
   "outputs": [
    {
     "name": "stderr",
     "output_type": "stream",
     "text": [
      "  9%|▉         | 1/11 [00:00<00:02,  4.57it/s]"
     ]
    },
    {
     "name": "stdout",
     "output_type": "stream",
     "text": [
      "Run 3qx1y7cd does not have the expected column normalized_acc/test/avg.\n"
     ]
    },
    {
     "name": "stderr",
     "output_type": "stream",
     "text": [
      "100%|██████████| 11/11 [00:04<00:00,  2.74it/s]\n"
     ]
    }
   ],
   "source": [
    "run_by_model = {}\n",
    "\n",
    "threshold_results = {}\n",
    "\n",
    "for run in tqdm(runs):\n",
    "\n",
    "    try:\n",
    "        col_name = f\"normalized_acc/test/avg\"\n",
    "        norm_acc = run.history(keys=[col_name]).iloc[-1][col_name]\n",
    "\n",
    "        top_k = run.config['nn/module/router/threshold']\n",
    "\n",
    "        threshold_results[top_k] = norm_acc\n",
    "    \n",
    "    except:\n",
    "        print(f\"Run {run.id} does not have the expected column {col_name}.\")\n",
    "        continue"
   ]
  },
  {
   "cell_type": "code",
   "execution_count": 43,
   "id": "1f010435",
   "metadata": {},
   "outputs": [
    {
     "name": "stdout",
     "output_type": "stream",
     "text": [
      "{0.05: 0.8973067853599787, 0.9: 0.9461365953087807, 0.8: 0.9461365953087807, 0.7: 0.9461365953087807, 0.6: 0.9461365953087807, 0.5: 0.9461365953087807, 0.4: 0.9460679784417152, 0.3: 0.9466387696564198, 0.2: 0.9581855952739715, 0.1: 0.9469290804117918}\n"
     ]
    }
   ],
   "source": [
    "print(threshold_results)"
   ]
  },
  {
   "cell_type": "code",
   "execution_count": 44,
   "id": "8cbb206e",
   "metadata": {},
   "outputs": [],
   "source": [
    "x_labels = threshold_results.keys()\n",
    "y_labels = threshold_results.values()"
   ]
  },
  {
   "cell_type": "code",
   "execution_count": 45,
   "id": "7a816396",
   "metadata": {},
   "outputs": [
    {
     "data": {
      "text/plain": [
       "dict_keys([0.05, 0.9, 0.8, 0.7, 0.6, 0.5, 0.4, 0.3, 0.2, 0.1])"
      ]
     },
     "execution_count": 45,
     "metadata": {},
     "output_type": "execute_result"
    }
   ],
   "source": [
    "x_labels"
   ]
  },
  {
   "cell_type": "code",
   "execution_count": 46,
   "id": "702a1ccf",
   "metadata": {},
   "outputs": [],
   "source": [
    "sorted_indices = np.argsort(list(x_labels))\n",
    "x_labels = [list(x_labels)[i] for i in sorted_indices]\n",
    "y_labels = [list(y_labels)[i] for i in sorted_indices]"
   ]
  },
  {
   "cell_type": "code",
   "execution_count": 47,
   "id": "5ec1bc1e",
   "metadata": {},
   "outputs": [
    {
     "data": {
      "image/png": "[encoded data removed]",
      "text/plain": [
       "<Figure size 1000x300 with 1 Axes>"
      ]
     },
     "metadata": {},
     "output_type": "display_data"
    }
   ],
   "source": [
    "plt.figure(figsize=(10, 3))\n",
    "plt.plot(x_labels, y_labels, marker='o', color=palette[\"blue\"], label=\"Top-K Accuracy\")\n",
    "\n",
    "plt.xlabel(\"Routing Threshold\")\n",
    "plt.ylabel(\"Accuracy\")\n",
    "plt.gca().spines['top'].set_visible(False)\n",
    "plt.gca().spines['right'].set_visible(False)\n",
    "plt.gca().spines['left'].set_linewidth(0.5)\n",
    "plt.gca().spines['bottom'].set_linewidth(0.5)\n",
    "plt.gca().xaxis.set_tick_params(width=0.5)\n",
    "plt.gca().yaxis.set_tick_params(width=0.5)\n",
    "plt.grid()\n",
    "plt.tight_layout()\n",
    "plt.show()"
   ]
  },
  {
   "cell_type": "markdown",
   "id": "6f523bf6",
   "metadata": {},
   "source": [
    "### Sweeping over similarity threshold"
   ]
  },
  {
   "cell_type": "code",
   "execution_count": 48,
   "id": "099de4ee",
   "metadata": {},
   "outputs": [
    {
     "name": "stdout",
     "output_type": "stream",
     "text": [
      "{'$and': [{'tags': {'$eq': 'sweep_over_sim_threshold'}}]}\n",
      "There are 9 runs respecting these conditions.\n"
     ]
    }
   ],
   "source": [
    "runs = get_runs(entity, project, positive_tags=['sweep_over_sim_threshold'], negative_tags=[])"
   ]
  },
  {
   "cell_type": "code",
   "execution_count": 49,
   "id": "a53a7771",
   "metadata": {},
   "outputs": [
    {
     "name": "stderr",
     "output_type": "stream",
     "text": [
      "100%|██████████| 9/9 [00:03<00:00,  2.27it/s]\n"
     ]
    }
   ],
   "source": [
    "run_by_model = {}\n",
    "\n",
    "sim_results = {}\n",
    "\n",
    "for run in tqdm(runs):\n",
    "\n",
    "    try:\n",
    "        col_name = f\"normalized_acc/test/avg\"\n",
    "        norm_acc = run.history(keys=[col_name]).iloc[-1][col_name]\n",
    "\n",
    "        top_k = run.config['similarity_threshold']\n",
    "\n",
    "        sim_results[top_k] = norm_acc\n",
    "    \n",
    "    except:\n",
    "        print(f\"Run {run.id} does not have the expected column {col_name}.\")\n",
    "        continue"
   ]
  },
  {
   "cell_type": "code",
   "execution_count": 50,
   "id": "021dc10b",
   "metadata": {},
   "outputs": [
    {
     "data": {
      "image/png": "[encoded data removed]",
      "text/plain": [
       "<Figure size 1000x300 with 1 Axes>"
      ]
     },
     "metadata": {},
     "output_type": "display_data"
    }
   ],
   "source": [
    "plt.figure(figsize=(10, 3))\n",
    "plt.plot(sim_results.keys(), sim_results.values(), marker='o', color=palette[\"blue\"], label=\"Top-K Accuracy\")\n",
    "plt.xlabel(\"Similarity Threshold\")\n",
    "plt.ylabel(\"Accuracy\")\n",
    "\n",
    "plt.gca().spines['top'].set_visible(False)\n",
    "plt.gca().spines['right'].set_visible(False)\n",
    "plt.gca().spines['left'].set_linewidth(0.5)\n",
    "plt.gca().spines['bottom'].set_linewidth(0.5)\n",
    "plt.gca().xaxis.set_tick_params(width=0.5)\n",
    "plt.gca().yaxis.set_tick_params(width=0.5)\n",
    "plt.xticks(rotation=45)\n",
    "plt.grid()\n",
    "plt.tight_layout()\n",
    "plt.show()\n"
   ]
  },
  {
   "cell_type": "code",
   "execution_count": null,
   "id": "64e0e36a",
   "metadata": {},
   "outputs": [],
   "source": []
  }
 ],
 "metadata": {
  "kernelspec": {
   "display_name": ".venv",
   "language": "python",
   "name": "python3"
  },
  "language_info": {
   "codemirror_mode": {
    "name": "ipython",
    "version": 3
   },
   "file_extension": ".py",
   "mimetype": "text/x-python",
   "name": "python",
   "nbconvert_exporter": "python",
   "pygments_lexer": "ipython3",
   "version": "3.11.8"
  }
 },
 "nbformat": 4,
 "nbformat_minor": 5
}
